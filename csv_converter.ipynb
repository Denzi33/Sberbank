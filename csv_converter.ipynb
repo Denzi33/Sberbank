{
 "cells": [
  {
   "cell_type": "markdown",
   "id": "b7a7b5fe",
   "metadata": {},
   "source": [
    "# Файл преобразователь файлов `.csv` формата в `.gzip`"
   ]
  },
  {
   "cell_type": "markdown",
   "id": "bb2cd108",
   "metadata": {},
   "source": [
    "**_______________________________________________________________________________________________________________________________**"
   ]
  },
  {
   "cell_type": "markdown",
   "id": "765789d0",
   "metadata": {},
   "source": [
    "**Загрузим всё необходимое: зависимости, сущности и модули:**"
   ]
  },
  {
   "cell_type": "code",
   "execution_count": 1,
   "id": "11c65d69",
   "metadata": {
    "ExecuteTime": {
     "end_time": "2024-08-01T21:15:57.629755Z",
     "start_time": "2024-08-01T21:15:54.280355Z"
    }
   },
   "outputs": [],
   "source": [
    "%run preset.py"
   ]
  },
  {
   "cell_type": "markdown",
   "id": "7458cadd",
   "metadata": {},
   "source": []
  },
  {
   "cell_type": "code",
   "execution_count": 4,
   "id": "4eae60ab",
   "metadata": {
    "ExecuteTime": {
     "end_time": "2024-08-01T21:21:29.706777Z",
     "start_time": "2024-08-01T21:18:51.037720Z"
    }
   },
   "outputs": [
    {
     "data": {
      "text/plain": [
       "[None,\n",
       " None,\n",
       " None,\n",
       " None,\n",
       " None,\n",
       " None,\n",
       " None,\n",
       " None,\n",
       " None,\n",
       " None,\n",
       " None,\n",
       " None,\n",
       " None,\n",
       " None]"
      ]
     },
     "execution_count": 4,
     "metadata": {},
     "output_type": "execute_result"
    }
   ],
   "source": [
    "[pd.read_csv(data_url + f\"{year}.csv\").to_parquet(data_url + f\"{year}.gzip\") for year in range(2011, 2025)];"
   ]
  },
  {
   "cell_type": "code",
   "execution_count": null,
   "id": "3d227be9",
   "metadata": {},
   "outputs": [],
   "source": []
  }
 ],
 "metadata": {
  "kernelspec": {
   "display_name": "Python 3 (ipykernel)",
   "language": "python",
   "name": "python3"
  },
  "language_info": {
   "codemirror_mode": {
    "name": "ipython",
    "version": 3
   },
   "file_extension": ".py",
   "mimetype": "text/x-python",
   "name": "python",
   "nbconvert_exporter": "python",
   "pygments_lexer": "ipython3",
   "version": "3.11.5"
  },
  "toc": {
   "base_numbering": 1,
   "nav_menu": {},
   "number_sections": true,
   "sideBar": true,
   "skip_h1_title": false,
   "title_cell": "Table of Contents",
   "title_sidebar": "Contents",
   "toc_cell": false,
   "toc_position": {},
   "toc_section_display": true,
   "toc_window_display": false
  }
 },
 "nbformat": 4,
 "nbformat_minor": 5
}

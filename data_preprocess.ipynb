{
 "cells": [
  {
   "cell_type": "markdown",
   "id": "d4ea03dc",
   "metadata": {},
   "source": [
    "# Предобработка данных"
   ]
  },
  {
   "cell_type": "markdown",
   "id": "a4944437",
   "metadata": {},
   "source": [
    "**_______________________________________________________________________________________________________________________________**"
   ]
  },
  {
   "cell_type": "markdown",
   "id": "1bbbee4c",
   "metadata": {},
   "source": [
    "**Загрузим всё необходимое: зависимости, сущности и модули:**"
   ]
  },
  {
   "cell_type": "code",
   "execution_count": 1,
   "id": "22b74ca7",
   "metadata": {
    "ExecuteTime": {
     "end_time": "2024-08-01T17:16:18.529765Z",
     "start_time": "2024-08-01T17:16:16.084013Z"
    }
   },
   "outputs": [],
   "source": [
    "%run preset.py"
   ]
  },
  {
   "cell_type": "markdown",
   "id": "4b9cc72c",
   "metadata": {},
   "source": [
    "---------------------------------------------------------------------------------------------------------------------------"
   ]
  },
  {
   "cell_type": "markdown",
   "id": "87b6d938",
   "metadata": {},
   "source": [
    "**Настройка текущий тетрадки (notebook):**"
   ]
  },
  {
   "cell_type": "code",
   "execution_count": 2,
   "id": "2f301321",
   "metadata": {
    "ExecuteTime": {
     "end_time": "2024-08-01T17:16:18.534086Z",
     "start_time": "2024-08-01T17:16:18.531074Z"
    }
   },
   "outputs": [],
   "source": [
    "# Установка количества отображаемых строк:\n",
    "pd.set_option(\"display.max_rows\", 75)\n",
    "\n",
    "# Установка количества отображаемых столбцов:\n",
    "pd.set_option(\"display.max_columns\", 25)\n",
    "\n",
    "# Установка ограничения на количество отображаемых символов записи:\n",
    "pd.set_option(\"display.max_colwidth\", 45)"
   ]
  },
  {
   "cell_type": "markdown",
   "id": "705b97e7",
   "metadata": {},
   "source": [
    "---------------------------------------------------------------------------------------------------------------------------"
   ]
  },
  {
   "cell_type": "markdown",
   "id": "23f370de",
   "metadata": {},
   "source": [
    "**Создание списка названий файлов с данными:**"
   ]
  },
  {
   "cell_type": "code",
   "execution_count": 3,
   "id": "3f103153",
   "metadata": {
    "ExecuteTime": {
     "end_time": "2024-08-01T17:16:18.538486Z",
     "start_time": "2024-08-01T17:16:18.535728Z"
    }
   },
   "outputs": [],
   "source": [
    "file_names = [data_url + f\"{year}.csv\" for year in range(2011, 2025)]"
   ]
  },
  {
   "cell_type": "markdown",
   "id": "d60bb46b",
   "metadata": {},
   "source": [
    "**Проверка сгенерированных названий файлов:**"
   ]
  },
  {
   "cell_type": "code",
   "execution_count": 4,
   "id": "49c8ef83",
   "metadata": {
    "ExecuteTime": {
     "end_time": "2024-08-01T17:16:18.544383Z",
     "start_time": "2024-08-01T17:16:18.540011Z"
    },
    "scrolled": true
   },
   "outputs": [
    {
     "name": "stdout",
     "output_type": "stream",
     "text": [
      "parsed_data/2011.csv\n",
      "parsed_data/2012.csv\n",
      "parsed_data/2013.csv\n",
      "parsed_data/2014.csv\n",
      "parsed_data/2015.csv\n",
      "parsed_data/2016.csv\n",
      "parsed_data/2017.csv\n",
      "parsed_data/2018.csv\n",
      "parsed_data/2019.csv\n",
      "parsed_data/2020.csv\n",
      "parsed_data/2021.csv\n",
      "parsed_data/2022.csv\n",
      "parsed_data/2023.csv\n",
      "parsed_data/2024.csv\n"
     ]
    }
   ],
   "source": [
    "print(*file_names, sep='\\n')"
   ]
  },
  {
   "cell_type": "markdown",
   "id": "9ddf2d53",
   "metadata": {},
   "source": [
    "---------------------------------------------------------------------------------------------------------------------------"
   ]
  },
  {
   "cell_type": "markdown",
   "id": "719f5f10",
   "metadata": {},
   "source": [
    "**Выгрузка данных в список dataframe-ов:**"
   ]
  },
  {
   "cell_type": "code",
   "execution_count": 5,
   "id": "7bd3e04b",
   "metadata": {
    "ExecuteTime": {
     "end_time": "2024-08-01T17:18:30.711771Z",
     "start_time": "2024-08-01T17:16:18.545391Z"
    }
   },
   "outputs": [],
   "source": [
    "dataframes = [pd.read_csv(\n",
    "                          file_name,  # Название файла для выгрузки данных\n",
    "                          low_memory=False,  # Допуск наличиz сложных структур данных в файле\n",
    "                          on_bad_lines=\"skip\",  # Пропуск строк, которые невозможно обработать\n",
    "                          encoding_errors=\"replace\"  # Замена нераспознанных символов\n",
    "                         ) for file_name in file_names]"
   ]
  },
  {
   "cell_type": "markdown",
   "id": "ac4b07d9",
   "metadata": {},
   "source": [
    "**Объединение dataframe-ов в один:**"
   ]
  },
  {
   "cell_type": "code",
   "execution_count": 6,
   "id": "2a804c86",
   "metadata": {
    "ExecuteTime": {
     "end_time": "2024-08-01T17:18:32.029412Z",
     "start_time": "2024-08-01T17:18:30.713191Z"
    }
   },
   "outputs": [],
   "source": [
    "df = pd.concat(dataframes, axis=0)"
   ]
  },
  {
   "cell_type": "markdown",
   "id": "93e61e65",
   "metadata": {},
   "source": [
    "---------------------------------------------------------------------------------------------------------------------------"
   ]
  },
  {
   "cell_type": "markdown",
   "id": "f43b0988",
   "metadata": {},
   "source": [
    "**Обзор dataframe-а:**"
   ]
  },
  {
   "cell_type": "code",
   "execution_count": 7,
   "id": "2f8b3c5c",
   "metadata": {
    "ExecuteTime": {
     "end_time": "2024-08-01T17:18:32.051532Z",
     "start_time": "2024-08-01T17:18:32.030894Z"
    },
    "scrolled": true
   },
   "outputs": [
    {
     "data": {
      "text/html": [
       "<div>\n",
       "<style scoped>\n",
       "    .dataframe tbody tr th:only-of-type {\n",
       "        vertical-align: middle;\n",
       "    }\n",
       "\n",
       "    .dataframe tbody tr th {\n",
       "        vertical-align: top;\n",
       "    }\n",
       "\n",
       "    .dataframe thead th {\n",
       "        text-align: right;\n",
       "    }\n",
       "</style>\n",
       "<table border=\"1\" class=\"dataframe\">\n",
       "  <thead>\n",
       "    <tr style=\"text-align: right;\">\n",
       "      <th></th>\n",
       "      <th>Unnamed: 0</th>\n",
       "      <th>$id</th>\n",
       "      <th>Id</th>\n",
       "      <th>Name</th>\n",
       "      <th>ParentPowerSystemId</th>\n",
       "      <th>PowerSystemId</th>\n",
       "      <th>SubjectId</th>\n",
       "      <th>Disabled</th>\n",
       "      <th>SvgPaths</th>\n",
       "      <th>Top</th>\n",
       "      <th>Bottom</th>\n",
       "      <th>Left</th>\n",
       "      <th>Right</th>\n",
       "      <th>IBR_PlannedConsumption</th>\n",
       "      <th>IBR_ActualConsumption</th>\n",
       "      <th>IBR_PlannedGeneration</th>\n",
       "      <th>IBR_ActualGeneration</th>\n",
       "      <th>IBR_AveragePrice</th>\n",
       "      <th>VSVGO_AveragePrice</th>\n",
       "      <th>VSVGO_Consumption</th>\n",
       "      <th>Selected</th>\n",
       "      <th>InfoCoordinates</th>\n",
       "      <th>Datetime</th>\n",
       "    </tr>\n",
       "  </thead>\n",
       "  <tbody>\n",
       "    <tr>\n",
       "      <th>0</th>\n",
       "      <td>0</td>\n",
       "      <td>21</td>\n",
       "      <td>530000_14</td>\n",
       "      <td>Белгородская область</td>\n",
       "      <td>530000</td>\n",
       "      <td>530000</td>\n",
       "      <td>14</td>\n",
       "      <td>False</td>\n",
       "      <td>['M0 0 M24 237 L25 236 L24 235 L23 233 L2...</td>\n",
       "      <td>233</td>\n",
       "      <td>292</td>\n",
       "      <td>16</td>\n",
       "      <td>67</td>\n",
       "      <td>1 722 МВт*ч</td>\n",
       "      <td>1 592 МВт*ч</td>\n",
       "      <td>121 МВт*ч</td>\n",
       "      <td>122 МВт*ч</td>\n",
       "      <td>-</td>\n",
       "      <td>-</td>\n",
       "      <td>-</td>\n",
       "      <td>False</td>\n",
       "      <td>{'X': 0, 'Y': 0}</td>\n",
       "      <td>2011-01-01 00:00:00</td>\n",
       "    </tr>\n",
       "    <tr>\n",
       "      <th>1</th>\n",
       "      <td>1</td>\n",
       "      <td>22</td>\n",
       "      <td>530000_15</td>\n",
       "      <td>Брянская область</td>\n",
       "      <td>530000</td>\n",
       "      <td>530000</td>\n",
       "      <td>15</td>\n",
       "      <td>False</td>\n",
       "      <td>['M0 0 M53 154 L52 153 L53 152 L53 152 L5...</td>\n",
       "      <td>147</td>\n",
       "      <td>205</td>\n",
       "      <td>0</td>\n",
       "      <td>58</td>\n",
       "      <td>-</td>\n",
       "      <td>514 МВт*ч</td>\n",
       "      <td>-</td>\n",
       "      <td>27 МВт*ч</td>\n",
       "      <td>-</td>\n",
       "      <td>-</td>\n",
       "      <td>-</td>\n",
       "      <td>False</td>\n",
       "      <td>{'X': 0, 'Y': 0}</td>\n",
       "      <td>2011-01-01 00:00:00</td>\n",
       "    </tr>\n",
       "    <tr>\n",
       "      <th>2</th>\n",
       "      <td>2</td>\n",
       "      <td>23</td>\n",
       "      <td>530000_17</td>\n",
       "      <td>Владимирская область</td>\n",
       "      <td>530000</td>\n",
       "      <td>530000</td>\n",
       "      <td>17</td>\n",
       "      <td>False</td>\n",
       "      <td>['M0 0 M169 141 L167 141 L165 142 L164 14...</td>\n",
       "      <td>123</td>\n",
       "      <td>184</td>\n",
       "      <td>140</td>\n",
       "      <td>193</td>\n",
       "      <td>785 МВт*ч</td>\n",
       "      <td>806 МВт*ч</td>\n",
       "      <td>344 МВт*ч</td>\n",
       "      <td>342 МВт*ч</td>\n",
       "      <td>-</td>\n",
       "      <td>-</td>\n",
       "      <td>-</td>\n",
       "      <td>False</td>\n",
       "      <td>{'X': 0, 'Y': 0}</td>\n",
       "      <td>2011-01-01 00:00:00</td>\n",
       "    </tr>\n",
       "  </tbody>\n",
       "</table>\n",
       "</div>"
      ],
      "text/plain": [
       "   Unnamed: 0  $id         Id                  Name  ParentPowerSystemId  \\\n",
       "0           0   21  530000_14  Белгородская область               530000   \n",
       "1           1   22  530000_15      Брянская область               530000   \n",
       "2           2   23  530000_17  Владимирская область               530000   \n",
       "\n",
       "   PowerSystemId  SubjectId  Disabled  \\\n",
       "0         530000         14     False   \n",
       "1         530000         15     False   \n",
       "2         530000         17     False   \n",
       "\n",
       "                                       SvgPaths  Top  Bottom  Left  Right  \\\n",
       "0  ['M0 0 M24 237 L25 236 L24 235 L23 233 L2...  233     292    16     67   \n",
       "1  ['M0 0 M53 154 L52 153 L53 152 L53 152 L5...  147     205     0     58   \n",
       "2  ['M0 0 M169 141 L167 141 L165 142 L164 14...  123     184   140    193   \n",
       "\n",
       "  IBR_PlannedConsumption IBR_ActualConsumption IBR_PlannedGeneration  \\\n",
       "0            1 722 МВт*ч           1 592 МВт*ч             121 МВт*ч   \n",
       "1                      -             514 МВт*ч                     -   \n",
       "2              785 МВт*ч             806 МВт*ч             344 МВт*ч   \n",
       "\n",
       "  IBR_ActualGeneration IBR_AveragePrice VSVGO_AveragePrice VSVGO_Consumption  \\\n",
       "0            122 МВт*ч                -                  -                 -   \n",
       "1             27 МВт*ч                -                  -                 -   \n",
       "2            342 МВт*ч                -                  -                 -   \n",
       "\n",
       "   Selected   InfoCoordinates             Datetime  \n",
       "0     False  {'X': 0, 'Y': 0}  2011-01-01 00:00:00  \n",
       "1     False  {'X': 0, 'Y': 0}  2011-01-01 00:00:00  \n",
       "2     False  {'X': 0, 'Y': 0}  2011-01-01 00:00:00  "
      ]
     },
     "execution_count": 7,
     "metadata": {},
     "output_type": "execute_result"
    }
   ],
   "source": [
    "df.head(3)"
   ]
  },
  {
   "cell_type": "markdown",
   "id": "68d323af",
   "metadata": {},
   "source": [
    "**Информация о dataframe-е:**"
   ]
  },
  {
   "cell_type": "code",
   "execution_count": 8,
   "id": "507015f3",
   "metadata": {
    "ExecuteTime": {
     "end_time": "2024-08-01T17:18:32.062170Z",
     "start_time": "2024-08-01T17:18:32.054053Z"
    },
    "scrolled": true
   },
   "outputs": [
    {
     "name": "stdout",
     "output_type": "stream",
     "text": [
      "<class 'pandas.core.frame.DataFrame'>\n",
      "Int64Index: 8685450 entries, 0 to 356249\n",
      "Data columns (total 23 columns):\n",
      " #   Column                  Dtype \n",
      "---  ------                  ----- \n",
      " 0   Unnamed: 0              int64 \n",
      " 1   $id                     int64 \n",
      " 2   Id                      object\n",
      " 3   Name                    object\n",
      " 4   ParentPowerSystemId     int64 \n",
      " 5   PowerSystemId           int64 \n",
      " 6   SubjectId               int64 \n",
      " 7   Disabled                bool  \n",
      " 8   SvgPaths                object\n",
      " 9   Top                     int64 \n",
      " 10  Bottom                  int64 \n",
      " 11  Left                    int64 \n",
      " 12  Right                   int64 \n",
      " 13  IBR_PlannedConsumption  object\n",
      " 14  IBR_ActualConsumption   object\n",
      " 15  IBR_PlannedGeneration   object\n",
      " 16  IBR_ActualGeneration    object\n",
      " 17  IBR_AveragePrice        object\n",
      " 18  VSVGO_AveragePrice      object\n",
      " 19  VSVGO_Consumption       object\n",
      " 20  Selected                bool  \n",
      " 21  InfoCoordinates         object\n",
      " 22  Datetime                object\n",
      "dtypes: bool(2), int64(9), object(12)\n",
      "memory usage: 1.4+ GB\n"
     ]
    }
   ],
   "source": [
    "df.info()"
   ]
  },
  {
   "cell_type": "markdown",
   "id": "84e9a0c8",
   "metadata": {},
   "source": [
    "---------------------------------------------------------------------------------------------------------------------------"
   ]
  },
  {
   "cell_type": "markdown",
   "id": "560bb85c",
   "metadata": {},
   "source": [
    "**Колонки dataframe-а:**"
   ]
  },
  {
   "cell_type": "code",
   "execution_count": 9,
   "id": "d8aee270",
   "metadata": {
    "ExecuteTime": {
     "end_time": "2024-08-01T17:18:32.067037Z",
     "start_time": "2024-08-01T17:18:32.063646Z"
    },
    "scrolled": true
   },
   "outputs": [
    {
     "name": "stdout",
     "output_type": "stream",
     "text": [
      "Unnamed: 0\n",
      "$id\n",
      "Id\n",
      "Name\n",
      "ParentPowerSystemId\n",
      "PowerSystemId\n",
      "SubjectId\n",
      "Disabled\n",
      "SvgPaths\n",
      "Top\n",
      "Bottom\n",
      "Left\n",
      "Right\n",
      "IBR_PlannedConsumption\n",
      "IBR_ActualConsumption\n",
      "IBR_PlannedGeneration\n",
      "IBR_ActualGeneration\n",
      "IBR_AveragePrice\n",
      "VSVGO_AveragePrice\n",
      "VSVGO_Consumption\n",
      "Selected\n",
      "InfoCoordinates\n",
      "Datetime\n"
     ]
    }
   ],
   "source": [
    "print(*df.columns, sep='\\n')"
   ]
  },
  {
   "cell_type": "markdown",
   "id": "fcf82de7",
   "metadata": {},
   "source": [
    "**Обзор значений признаков dataframe-а:**"
   ]
  },
  {
   "cell_type": "markdown",
   "id": "e73e156b",
   "metadata": {},
   "source": [
    "**Признак `Unnamed: 0`.**\n",
    "\n",
    "**В дальнейшем признак не используется, поэтому отдельной обработки данный признак не требует, так как будет удалён.**\n",
    "\n",
    "**Исправление ошибок в данных по этому признаку затруднительно.**"
   ]
  },
  {
   "cell_type": "markdown",
   "id": "98e8ed9b",
   "metadata": {},
   "source": [
    "---------------------------------------------------------------------------------------------------------------------------"
   ]
  },
  {
   "cell_type": "markdown",
   "id": "94af0667",
   "metadata": {},
   "source": [
    "**Признак `$id`.** \n",
    "\n",
    "**В дальнейшем признак не используется, однако по нему (признаку) можно исправить ошибки в данных при наличии последних.**"
   ]
  },
  {
   "cell_type": "code",
   "execution_count": 10,
   "id": "6ec4ba33",
   "metadata": {
    "ExecuteTime": {
     "end_time": "2024-08-01T17:18:32.124303Z",
     "start_time": "2024-08-01T17:18:32.068532Z"
    },
    "scrolled": true
   },
   "outputs": [
    {
     "data": {
      "text/plain": [
       "31    115806\n",
       "34    115806\n",
       "35    115806\n",
       "Name: $id, dtype: int64"
      ]
     },
     "execution_count": 10,
     "metadata": {},
     "output_type": "execute_result"
    }
   ],
   "source": [
    "df[\"$id\"].value_counts().tail(3)"
   ]
  },
  {
   "cell_type": "markdown",
   "id": "6d8189ba",
   "metadata": {},
   "source": [
    "**Все значения корректны.**"
   ]
  },
  {
   "cell_type": "markdown",
   "id": "091c61ae",
   "metadata": {},
   "source": [
    "---------------------------------------------------------------------------------------------------------------------------"
   ]
  },
  {
   "cell_type": "markdown",
   "id": "c7e7105c",
   "metadata": {},
   "source": [
    "**Признак `Id`:**\n",
    "\n",
    "**В дальнейшем признак не используется, однако по нему (признаку) можно исправить ошибки в данных при наличии последних.**"
   ]
  },
  {
   "cell_type": "code",
   "execution_count": 11,
   "id": "f177af04",
   "metadata": {
    "ExecuteTime": {
     "end_time": "2024-08-01T17:18:32.516244Z",
     "start_time": "2024-08-01T17:18:32.125790Z"
    },
    "scrolled": true
   },
   "outputs": [
    {
     "data": {
      "text/plain": [
       "540000_8     115806\n",
       "540000_5     115806\n",
       "840000_87    115806\n",
       "Name: Id, dtype: int64"
      ]
     },
     "execution_count": 11,
     "metadata": {},
     "output_type": "execute_result"
    }
   ],
   "source": [
    "df[\"Id\"].value_counts().tail(3)"
   ]
  },
  {
   "cell_type": "markdown",
   "id": "ab04e1a8",
   "metadata": {},
   "source": [
    "**Все значения корректны.**"
   ]
  },
  {
   "cell_type": "markdown",
   "id": "1d960dc2",
   "metadata": {},
   "source": [
    "---------------------------------------------------------------------------------------------------------------------------"
   ]
  },
  {
   "cell_type": "markdown",
   "id": "53aec875",
   "metadata": {},
   "source": [
    "**Признак `Name`:**\n",
    "\n",
    "**Данный признак является ключевым, так что требует отдельной обработки при наличии ошибок.**"
   ]
  },
  {
   "cell_type": "code",
   "execution_count": 12,
   "id": "46a478fd",
   "metadata": {
    "ExecuteTime": {
     "end_time": "2024-08-01T17:18:32.927844Z",
     "start_time": "2024-08-01T17:18:32.517509Z"
    },
    "scrolled": true
   },
   "outputs": [
    {
     "data": {
      "text/plain": [
       "ОЭР Хабаровского края    115806\n",
       "Приморский край          115806\n",
       "Республика Коми          115806\n",
       "Name: Name, dtype: int64"
      ]
     },
     "execution_count": 12,
     "metadata": {},
     "output_type": "execute_result"
    }
   ],
   "source": [
    "df[\"Name\"].value_counts().tail(3)"
   ]
  },
  {
   "cell_type": "markdown",
   "id": "ca2e4d3f",
   "metadata": {},
   "source": [
    "**Все значения корректны.**"
   ]
  },
  {
   "cell_type": "markdown",
   "id": "668a74d4",
   "metadata": {},
   "source": [
    "---------------------------------------------------------------------------------------------------------------------------"
   ]
  },
  {
   "cell_type": "markdown",
   "id": "9096c6ec",
   "metadata": {},
   "source": [
    "**Признак `ParentPowerSystemId`:**\n",
    "\n",
    "**В дальнейшем признак не используется, однако по нему (признаку) можно исправить ошибки в данных при наличии последних.**"
   ]
  },
  {
   "cell_type": "code",
   "execution_count": 13,
   "id": "ad1fc5a0",
   "metadata": {
    "ExecuteTime": {
     "end_time": "2024-08-01T17:18:32.979865Z",
     "start_time": "2024-08-01T17:18:32.929014Z"
    },
    "scrolled": false
   },
   "outputs": [
    {
     "data": {
      "text/plain": [
       "630000    1042254\n",
       "840000     926448\n",
       "540000     810642\n",
       "Name: ParentPowerSystemId, dtype: int64"
      ]
     },
     "execution_count": 13,
     "metadata": {},
     "output_type": "execute_result"
    }
   ],
   "source": [
    "df[\"ParentPowerSystemId\"].value_counts().tail(3)"
   ]
  },
  {
   "cell_type": "markdown",
   "id": "7c783850",
   "metadata": {},
   "source": [
    "**Все значения корректны.**"
   ]
  },
  {
   "cell_type": "markdown",
   "id": "39216271",
   "metadata": {},
   "source": [
    "---------------------------------------------------------------------------------------------------------------------------"
   ]
  },
  {
   "cell_type": "markdown",
   "id": "fa4e1569",
   "metadata": {
    "ExecuteTime": {
     "end_time": "2024-07-26T06:54:59.169740Z",
     "start_time": "2024-07-26T06:54:59.159528Z"
    }
   },
   "source": [
    "**Признак `PowerSystemId`:**\n",
    "\n",
    "**В дальнейшем признак не используется, однако по нему (признаку) можно исправить ошибки в данных при наличии последних.**"
   ]
  },
  {
   "cell_type": "code",
   "execution_count": 14,
   "id": "c1300736",
   "metadata": {
    "ExecuteTime": {
     "end_time": "2024-08-01T17:18:33.025350Z",
     "start_time": "2024-08-01T17:18:32.980869Z"
    },
    "scrolled": true
   },
   "outputs": [
    {
     "data": {
      "text/plain": [
       "630000    1042254\n",
       "840000     926448\n",
       "540000     810642\n",
       "Name: PowerSystemId, dtype: int64"
      ]
     },
     "execution_count": 14,
     "metadata": {},
     "output_type": "execute_result"
    }
   ],
   "source": [
    "df[\"PowerSystemId\"].value_counts().tail(3)"
   ]
  },
  {
   "cell_type": "markdown",
   "id": "2db3477c",
   "metadata": {},
   "source": [
    "**Все значения корректны.**"
   ]
  },
  {
   "cell_type": "markdown",
   "id": "b3d1d1db",
   "metadata": {},
   "source": [
    "---------------------------------------------------------------------------------------------------------------------------"
   ]
  },
  {
   "cell_type": "markdown",
   "id": "45894607",
   "metadata": {},
   "source": [
    "**Признак `SubjectId`:**\n",
    "\n",
    "**В дальнейшем признак не используется, однако по нему (признаку) можно исправить ошибки в данных при наличии последних.**"
   ]
  },
  {
   "cell_type": "code",
   "execution_count": 15,
   "id": "536d13c7",
   "metadata": {
    "ExecuteTime": {
     "end_time": "2024-08-01T17:18:33.082842Z",
     "start_time": "2024-08-01T17:18:33.026377Z"
    }
   },
   "outputs": [
    {
     "data": {
      "text/plain": [
       "8     115806\n",
       "5     115806\n",
       "87    115806\n",
       "Name: SubjectId, dtype: int64"
      ]
     },
     "execution_count": 15,
     "metadata": {},
     "output_type": "execute_result"
    }
   ],
   "source": [
    "df[\"SubjectId\"].value_counts().tail(3)"
   ]
  },
  {
   "cell_type": "markdown",
   "id": "e526396e",
   "metadata": {},
   "source": [
    "**Все значения корректны.**"
   ]
  },
  {
   "cell_type": "markdown",
   "id": "60601d7b",
   "metadata": {},
   "source": [
    "---------------------------------------------------------------------------------------------------------------------------"
   ]
  },
  {
   "cell_type": "markdown",
   "id": "b75310b9",
   "metadata": {},
   "source": [
    "**Признак `Disabled`:**\n",
    "\n",
    "**В дальнейшем признак не используется, однако по нему (признаку) можно исправить ошибки в данных при наличии последних.**"
   ]
  },
  {
   "cell_type": "code",
   "execution_count": 16,
   "id": "5cc9acac",
   "metadata": {
    "ExecuteTime": {
     "end_time": "2024-08-01T17:18:33.133562Z",
     "start_time": "2024-08-01T17:18:33.083857Z"
    },
    "scrolled": true
   },
   "outputs": [
    {
     "data": {
      "text/plain": [
       "False    8685450\n",
       "Name: Disabled, dtype: int64"
      ]
     },
     "execution_count": 16,
     "metadata": {},
     "output_type": "execute_result"
    }
   ],
   "source": [
    "df[\"Disabled\"].value_counts().tail(3)"
   ]
  },
  {
   "cell_type": "markdown",
   "id": "e010f767",
   "metadata": {},
   "source": [
    "**Все значения корректны.**"
   ]
  },
  {
   "cell_type": "markdown",
   "id": "965191be",
   "metadata": {},
   "source": [
    "---------------------------------------------------------------------------------------------------------------------------"
   ]
  },
  {
   "cell_type": "markdown",
   "id": "d1c3a024",
   "metadata": {
    "ExecuteTime": {
     "end_time": "2024-07-26T07:30:13.874925Z",
     "start_time": "2024-07-26T07:30:13.870706Z"
    }
   },
   "source": [
    "**Признак `SvgPaths`:**\n",
    "\n",
    "**В дальнейшем признак не используется, поэтому отдельной обработки данный признак не требует, так как будет удалён.**\n",
    "\n",
    "**Исправление ошибок в данных по этому признаку затруднительно.**"
   ]
  },
  {
   "cell_type": "markdown",
   "id": "1081aeba",
   "metadata": {},
   "source": [
    "---------------------------------------------------------------------------------------------------------------------------"
   ]
  },
  {
   "cell_type": "markdown",
   "id": "0c65e02c",
   "metadata": {
    "ExecuteTime": {
     "end_time": "2024-07-26T07:32:20.378332Z",
     "start_time": "2024-07-26T07:32:20.373728Z"
    }
   },
   "source": [
    "**Признак `Top`:**\n",
    "\n",
    "**В дальнейшем признак не используется, однако по нему (признаку) можно исправить ошибки в данных при наличии последних.**"
   ]
  },
  {
   "cell_type": "code",
   "execution_count": 17,
   "id": "92a45158",
   "metadata": {
    "ExecuteTime": {
     "end_time": "2024-08-01T17:18:33.186138Z",
     "start_time": "2024-08-01T17:18:33.134566Z"
    },
    "scrolled": true
   },
   "outputs": [
    {
     "data": {
      "text/plain": [
       "231    772\n",
       "230    772\n",
       "118      1\n",
       "Name: Top, dtype: int64"
      ]
     },
     "execution_count": 17,
     "metadata": {},
     "output_type": "execute_result"
    }
   ],
   "source": [
    "df[\"Top\"].value_counts().tail(3)"
   ]
  },
  {
   "cell_type": "markdown",
   "id": "ddb179d9",
   "metadata": {},
   "source": [
    "**Обзор редко встречающегося значения признака:**"
   ]
  },
  {
   "cell_type": "code",
   "execution_count": 18,
   "id": "8da0fa5b",
   "metadata": {
    "ExecuteTime": {
     "end_time": "2024-08-01T17:18:34.338145Z",
     "start_time": "2024-08-01T17:18:33.187654Z"
    },
    "scrolled": true
   },
   "outputs": [
    {
     "data": {
      "text/html": [
       "<div>\n",
       "<style scoped>\n",
       "    .dataframe tbody tr th:only-of-type {\n",
       "        vertical-align: middle;\n",
       "    }\n",
       "\n",
       "    .dataframe tbody tr th {\n",
       "        vertical-align: top;\n",
       "    }\n",
       "\n",
       "    .dataframe thead th {\n",
       "        text-align: right;\n",
       "    }\n",
       "</style>\n",
       "<table border=\"1\" class=\"dataframe\">\n",
       "  <thead>\n",
       "    <tr style=\"text-align: right;\">\n",
       "      <th></th>\n",
       "      <th>Unnamed: 0</th>\n",
       "      <th>$id</th>\n",
       "      <th>Id</th>\n",
       "      <th>Name</th>\n",
       "      <th>ParentPowerSystemId</th>\n",
       "      <th>PowerSystemId</th>\n",
       "      <th>SubjectId</th>\n",
       "      <th>Disabled</th>\n",
       "      <th>SvgPaths</th>\n",
       "      <th>Top</th>\n",
       "      <th>Bottom</th>\n",
       "      <th>Left</th>\n",
       "      <th>Right</th>\n",
       "      <th>IBR_PlannedConsumption</th>\n",
       "      <th>IBR_ActualConsumption</th>\n",
       "      <th>IBR_PlannedGeneration</th>\n",
       "      <th>IBR_ActualGeneration</th>\n",
       "      <th>IBR_AveragePrice</th>\n",
       "      <th>VSVGO_AveragePrice</th>\n",
       "      <th>VSVGO_Consumption</th>\n",
       "      <th>Selected</th>\n",
       "      <th>InfoCoordinates</th>\n",
       "      <th>Datetime</th>\n",
       "    </tr>\n",
       "  </thead>\n",
       "  <tbody>\n",
       "    <tr>\n",
       "      <th>418647</th>\n",
       "      <td>418647</td>\n",
       "      <td>17</td>\n",
       "      <td>840000_58</td>\n",
       "      <td>Псковская область</td>\n",
       "      <td>840000</td>\n",
       "      <td>840000</td>\n",
       "      <td>58</td>\n",
       "      <td>False</td>\n",
       "      <td>['M0 0 M93 118 L90 118 L90 118 L89 118 L8...</td>\n",
       "      <td>118</td>\n",
       "      <td>177</td>\n",
       "      <td>68</td>\n",
       "      <td>101</td>\n",
       "      <td>263 МВт*ч</td>\n",
       "      <td>273 МВт*ч</td>\n",
       "      <td>-</td>\n",
       "      <td>-</td>\n",
       "      <td>1 313 руб./МВт*ч</td>\n",
       "      <td>-</td>\n",
       "      <td>-</td>\n",
       "      <td>False</td>\n",
       "      <td>{'X': 0, 'Y': 0}</td>\n",
       "      <td>2019-08-21 13:00:00</td>\n",
       "    </tr>\n",
       "  </tbody>\n",
       "</table>\n",
       "</div>"
      ],
      "text/plain": [
       "        Unnamed: 0  $id         Id               Name  ParentPowerSystemId  \\\n",
       "418647      418647   17  840000_58  Псковская область               840000   \n",
       "\n",
       "        PowerSystemId  SubjectId  Disabled  \\\n",
       "418647         840000         58     False   \n",
       "\n",
       "                                            SvgPaths  Top  Bottom  Left  \\\n",
       "418647  ['M0 0 M93 118 L90 118 L90 118 L89 118 L8...  118     177    68   \n",
       "\n",
       "        Right IBR_PlannedConsumption IBR_ActualConsumption  \\\n",
       "418647    101              263 МВт*ч             273 МВт*ч   \n",
       "\n",
       "       IBR_PlannedGeneration IBR_ActualGeneration  IBR_AveragePrice  \\\n",
       "418647                     -                    -  1 313 руб./МВт*ч   \n",
       "\n",
       "       VSVGO_AveragePrice VSVGO_Consumption  Selected   InfoCoordinates  \\\n",
       "418647                  -                 -     False  {'X': 0, 'Y': 0}   \n",
       "\n",
       "                   Datetime  \n",
       "418647  2019-08-21 13:00:00  "
      ]
     },
     "execution_count": 18,
     "metadata": {},
     "output_type": "execute_result"
    }
   ],
   "source": [
    "df[df[\"Top\"] == 118]"
   ]
  },
  {
   "cell_type": "markdown",
   "id": "8a2261c2",
   "metadata": {},
   "source": [
    "**Выраженных проблем в строке выше найдено не было.**\n",
    "\n",
    "**Все значения корректны.**"
   ]
  },
  {
   "cell_type": "markdown",
   "id": "194e18b9",
   "metadata": {},
   "source": [
    "---------------------------------------------------------------------------------------------------------------------------"
   ]
  },
  {
   "cell_type": "markdown",
   "id": "78aefb23",
   "metadata": {},
   "source": [
    "**Признак `Bottom`:**\n",
    "\n",
    "**В дальнейшем признак не используется, однако по нему (признаку) можно исправить ошибки в данных при наличии последних.**"
   ]
  },
  {
   "cell_type": "code",
   "execution_count": 19,
   "id": "05131499",
   "metadata": {
    "ExecuteTime": {
     "end_time": "2024-08-01T17:18:34.395012Z",
     "start_time": "2024-08-01T17:18:34.339585Z"
    }
   },
   "outputs": [
    {
     "data": {
      "text/plain": [
       "97     772\n",
       "163      1\n",
       "177      1\n",
       "201      1\n",
       "Name: Bottom, dtype: int64"
      ]
     },
     "execution_count": 19,
     "metadata": {},
     "output_type": "execute_result"
    }
   ],
   "source": [
    "df[\"Bottom\"].value_counts().tail(4)"
   ]
  },
  {
   "cell_type": "markdown",
   "id": "4ba20b6d",
   "metadata": {},
   "source": [
    "**Обзор редко встречающихся значений признака:**"
   ]
  },
  {
   "cell_type": "code",
   "execution_count": 20,
   "id": "a6a7112c",
   "metadata": {
    "ExecuteTime": {
     "end_time": "2024-08-01T17:18:34.412202Z",
     "start_time": "2024-08-01T17:18:34.396506Z"
    }
   },
   "outputs": [
    {
     "data": {
      "text/html": [
       "<div>\n",
       "<style scoped>\n",
       "    .dataframe tbody tr th:only-of-type {\n",
       "        vertical-align: middle;\n",
       "    }\n",
       "\n",
       "    .dataframe tbody tr th {\n",
       "        vertical-align: top;\n",
       "    }\n",
       "\n",
       "    .dataframe thead th {\n",
       "        text-align: right;\n",
       "    }\n",
       "</style>\n",
       "<table border=\"1\" class=\"dataframe\">\n",
       "  <thead>\n",
       "    <tr style=\"text-align: right;\">\n",
       "      <th></th>\n",
       "      <th>Unnamed: 0</th>\n",
       "      <th>$id</th>\n",
       "      <th>Id</th>\n",
       "      <th>Name</th>\n",
       "      <th>ParentPowerSystemId</th>\n",
       "      <th>PowerSystemId</th>\n",
       "      <th>SubjectId</th>\n",
       "      <th>Disabled</th>\n",
       "      <th>SvgPaths</th>\n",
       "      <th>Top</th>\n",
       "      <th>Bottom</th>\n",
       "      <th>Left</th>\n",
       "      <th>Right</th>\n",
       "      <th>IBR_PlannedConsumption</th>\n",
       "      <th>IBR_ActualConsumption</th>\n",
       "      <th>IBR_PlannedGeneration</th>\n",
       "      <th>IBR_ActualGeneration</th>\n",
       "      <th>IBR_AveragePrice</th>\n",
       "      <th>VSVGO_AveragePrice</th>\n",
       "      <th>VSVGO_Consumption</th>\n",
       "      <th>Selected</th>\n",
       "      <th>InfoCoordinates</th>\n",
       "      <th>Datetime</th>\n",
       "    </tr>\n",
       "  </thead>\n",
       "  <tbody>\n",
       "    <tr>\n",
       "      <th>418646</th>\n",
       "      <td>418646</td>\n",
       "      <td>16</td>\n",
       "      <td>840000_49</td>\n",
       "      <td>Новгородская область</td>\n",
       "      <td>840000</td>\n",
       "      <td>840000</td>\n",
       "      <td>49</td>\n",
       "      <td>False</td>\n",
       "      <td>['M0 0 M100 135 L99 136 L98 136 L97 136 L...</td>\n",
       "      <td>130</td>\n",
       "      <td>163</td>\n",
       "      <td>91</td>\n",
       "      <td>140</td>\n",
       "      <td>481 МВт*ч</td>\n",
       "      <td>476 МВт*ч</td>\n",
       "      <td>40 МВт*ч</td>\n",
       "      <td>48 МВт*ч</td>\n",
       "      <td>1 075 руб./МВт*ч</td>\n",
       "      <td>-</td>\n",
       "      <td>-</td>\n",
       "      <td>False</td>\n",
       "      <td>{'X': 0, 'Y': 0}</td>\n",
       "      <td>2019-08-21 13:00:00</td>\n",
       "    </tr>\n",
       "  </tbody>\n",
       "</table>\n",
       "</div>"
      ],
      "text/plain": [
       "        Unnamed: 0  $id         Id                  Name  ParentPowerSystemId  \\\n",
       "418646      418646   16  840000_49  Новгородская область               840000   \n",
       "\n",
       "        PowerSystemId  SubjectId  Disabled  \\\n",
       "418646         840000         49     False   \n",
       "\n",
       "                                            SvgPaths  Top  Bottom  Left  \\\n",
       "418646  ['M0 0 M100 135 L99 136 L98 136 L97 136 L...  130     163    91   \n",
       "\n",
       "        Right IBR_PlannedConsumption IBR_ActualConsumption  \\\n",
       "418646    140              481 МВт*ч             476 МВт*ч   \n",
       "\n",
       "       IBR_PlannedGeneration IBR_ActualGeneration  IBR_AveragePrice  \\\n",
       "418646              40 МВт*ч             48 МВт*ч  1 075 руб./МВт*ч   \n",
       "\n",
       "       VSVGO_AveragePrice VSVGO_Consumption  Selected   InfoCoordinates  \\\n",
       "418646                  -                 -     False  {'X': 0, 'Y': 0}   \n",
       "\n",
       "                   Datetime  \n",
       "418646  2019-08-21 13:00:00  "
      ]
     },
     "execution_count": 20,
     "metadata": {},
     "output_type": "execute_result"
    }
   ],
   "source": [
    "df[df[\"Bottom\"] == 163]"
   ]
  },
  {
   "cell_type": "code",
   "execution_count": 21,
   "id": "513642d7",
   "metadata": {
    "ExecuteTime": {
     "end_time": "2024-08-01T17:18:34.431053Z",
     "start_time": "2024-08-01T17:18:34.413594Z"
    }
   },
   "outputs": [
    {
     "data": {
      "text/html": [
       "<div>\n",
       "<style scoped>\n",
       "    .dataframe tbody tr th:only-of-type {\n",
       "        vertical-align: middle;\n",
       "    }\n",
       "\n",
       "    .dataframe tbody tr th {\n",
       "        vertical-align: top;\n",
       "    }\n",
       "\n",
       "    .dataframe thead th {\n",
       "        text-align: right;\n",
       "    }\n",
       "</style>\n",
       "<table border=\"1\" class=\"dataframe\">\n",
       "  <thead>\n",
       "    <tr style=\"text-align: right;\">\n",
       "      <th></th>\n",
       "      <th>Unnamed: 0</th>\n",
       "      <th>$id</th>\n",
       "      <th>Id</th>\n",
       "      <th>Name</th>\n",
       "      <th>ParentPowerSystemId</th>\n",
       "      <th>PowerSystemId</th>\n",
       "      <th>SubjectId</th>\n",
       "      <th>Disabled</th>\n",
       "      <th>SvgPaths</th>\n",
       "      <th>Top</th>\n",
       "      <th>Bottom</th>\n",
       "      <th>Left</th>\n",
       "      <th>Right</th>\n",
       "      <th>IBR_PlannedConsumption</th>\n",
       "      <th>IBR_ActualConsumption</th>\n",
       "      <th>IBR_PlannedGeneration</th>\n",
       "      <th>IBR_ActualGeneration</th>\n",
       "      <th>IBR_AveragePrice</th>\n",
       "      <th>VSVGO_AveragePrice</th>\n",
       "      <th>VSVGO_Consumption</th>\n",
       "      <th>Selected</th>\n",
       "      <th>InfoCoordinates</th>\n",
       "      <th>Datetime</th>\n",
       "    </tr>\n",
       "  </thead>\n",
       "  <tbody>\n",
       "    <tr>\n",
       "      <th>418647</th>\n",
       "      <td>418647</td>\n",
       "      <td>17</td>\n",
       "      <td>840000_58</td>\n",
       "      <td>Псковская область</td>\n",
       "      <td>840000</td>\n",
       "      <td>840000</td>\n",
       "      <td>58</td>\n",
       "      <td>False</td>\n",
       "      <td>['M0 0 M93 118 L90 118 L90 118 L89 118 L8...</td>\n",
       "      <td>118</td>\n",
       "      <td>177</td>\n",
       "      <td>68</td>\n",
       "      <td>101</td>\n",
       "      <td>263 МВт*ч</td>\n",
       "      <td>273 МВт*ч</td>\n",
       "      <td>-</td>\n",
       "      <td>-</td>\n",
       "      <td>1 313 руб./МВт*ч</td>\n",
       "      <td>-</td>\n",
       "      <td>-</td>\n",
       "      <td>False</td>\n",
       "      <td>{'X': 0, 'Y': 0}</td>\n",
       "      <td>2019-08-21 13:00:00</td>\n",
       "    </tr>\n",
       "  </tbody>\n",
       "</table>\n",
       "</div>"
      ],
      "text/plain": [
       "        Unnamed: 0  $id         Id               Name  ParentPowerSystemId  \\\n",
       "418647      418647   17  840000_58  Псковская область               840000   \n",
       "\n",
       "        PowerSystemId  SubjectId  Disabled  \\\n",
       "418647         840000         58     False   \n",
       "\n",
       "                                            SvgPaths  Top  Bottom  Left  \\\n",
       "418647  ['M0 0 M93 118 L90 118 L90 118 L89 118 L8...  118     177    68   \n",
       "\n",
       "        Right IBR_PlannedConsumption IBR_ActualConsumption  \\\n",
       "418647    101              263 МВт*ч             273 МВт*ч   \n",
       "\n",
       "       IBR_PlannedGeneration IBR_ActualGeneration  IBR_AveragePrice  \\\n",
       "418647                     -                    -  1 313 руб./МВт*ч   \n",
       "\n",
       "       VSVGO_AveragePrice VSVGO_Consumption  Selected   InfoCoordinates  \\\n",
       "418647                  -                 -     False  {'X': 0, 'Y': 0}   \n",
       "\n",
       "                   Datetime  \n",
       "418647  2019-08-21 13:00:00  "
      ]
     },
     "execution_count": 21,
     "metadata": {},
     "output_type": "execute_result"
    }
   ],
   "source": [
    "df[df[\"Bottom\"] == 177]"
   ]
  },
  {
   "cell_type": "code",
   "execution_count": 22,
   "id": "d04b373c",
   "metadata": {
    "ExecuteTime": {
     "end_time": "2024-08-01T17:18:34.455381Z",
     "start_time": "2024-08-01T17:18:34.432553Z"
    }
   },
   "outputs": [
    {
     "data": {
      "text/html": [
       "<div>\n",
       "<style scoped>\n",
       "    .dataframe tbody tr th:only-of-type {\n",
       "        vertical-align: middle;\n",
       "    }\n",
       "\n",
       "    .dataframe tbody tr th {\n",
       "        vertical-align: top;\n",
       "    }\n",
       "\n",
       "    .dataframe thead th {\n",
       "        text-align: right;\n",
       "    }\n",
       "</style>\n",
       "<table border=\"1\" class=\"dataframe\">\n",
       "  <thead>\n",
       "    <tr style=\"text-align: right;\">\n",
       "      <th></th>\n",
       "      <th>Unnamed: 0</th>\n",
       "      <th>$id</th>\n",
       "      <th>Id</th>\n",
       "      <th>Name</th>\n",
       "      <th>ParentPowerSystemId</th>\n",
       "      <th>PowerSystemId</th>\n",
       "      <th>SubjectId</th>\n",
       "      <th>Disabled</th>\n",
       "      <th>SvgPaths</th>\n",
       "      <th>Top</th>\n",
       "      <th>Bottom</th>\n",
       "      <th>Left</th>\n",
       "      <th>Right</th>\n",
       "      <th>IBR_PlannedConsumption</th>\n",
       "      <th>IBR_ActualConsumption</th>\n",
       "      <th>IBR_PlannedGeneration</th>\n",
       "      <th>IBR_ActualGeneration</th>\n",
       "      <th>IBR_AveragePrice</th>\n",
       "      <th>VSVGO_AveragePrice</th>\n",
       "      <th>VSVGO_Consumption</th>\n",
       "      <th>Selected</th>\n",
       "      <th>InfoCoordinates</th>\n",
       "      <th>Datetime</th>\n",
       "    </tr>\n",
       "  </thead>\n",
       "  <tbody>\n",
       "    <tr>\n",
       "      <th>418649</th>\n",
       "      <td>418649</td>\n",
       "      <td>19</td>\n",
       "      <td>840000_87</td>\n",
       "      <td>Республика Коми</td>\n",
       "      <td>840000</td>\n",
       "      <td>840000</td>\n",
       "      <td>87</td>\n",
       "      <td>False</td>\n",
       "      <td>['M0 0 M298 99 L292 101 L273 103 L269 113...</td>\n",
       "      <td>99</td>\n",
       "      <td>201</td>\n",
       "      <td>226</td>\n",
       "      <td>378</td>\n",
       "      <td>887 МВт*ч</td>\n",
       "      <td>900 МВт*ч</td>\n",
       "      <td>903 МВт*ч</td>\n",
       "      <td>894 МВт*ч</td>\n",
       "      <td>-</td>\n",
       "      <td>-</td>\n",
       "      <td>-</td>\n",
       "      <td>False</td>\n",
       "      <td>{'X': 0, 'Y': 0}</td>\n",
       "      <td>2019-08-21 13:00:00</td>\n",
       "    </tr>\n",
       "  </tbody>\n",
       "</table>\n",
       "</div>"
      ],
      "text/plain": [
       "        Unnamed: 0  $id         Id             Name  ParentPowerSystemId  \\\n",
       "418649      418649   19  840000_87  Республика Коми               840000   \n",
       "\n",
       "        PowerSystemId  SubjectId  Disabled  \\\n",
       "418649         840000         87     False   \n",
       "\n",
       "                                            SvgPaths  Top  Bottom  Left  \\\n",
       "418649  ['M0 0 M298 99 L292 101 L273 103 L269 113...   99     201   226   \n",
       "\n",
       "        Right IBR_PlannedConsumption IBR_ActualConsumption  \\\n",
       "418649    378              887 МВт*ч             900 МВт*ч   \n",
       "\n",
       "       IBR_PlannedGeneration IBR_ActualGeneration IBR_AveragePrice  \\\n",
       "418649             903 МВт*ч            894 МВт*ч                -   \n",
       "\n",
       "       VSVGO_AveragePrice VSVGO_Consumption  Selected   InfoCoordinates  \\\n",
       "418649                  -                 -     False  {'X': 0, 'Y': 0}   \n",
       "\n",
       "                   Datetime  \n",
       "418649  2019-08-21 13:00:00  "
      ]
     },
     "execution_count": 22,
     "metadata": {},
     "output_type": "execute_result"
    }
   ],
   "source": [
    "df[df[\"Bottom\"] == 201]"
   ]
  },
  {
   "cell_type": "markdown",
   "id": "c5a2c3b8",
   "metadata": {},
   "source": [
    "**Выраженных проблем в строках выше найдено не было.**\n",
    "\n",
    "**Все значения корректны.**"
   ]
  },
  {
   "cell_type": "markdown",
   "id": "e53a2de3",
   "metadata": {},
   "source": [
    "---------------------------------------------------------------------------------------------------------------------------"
   ]
  },
  {
   "cell_type": "markdown",
   "id": "2418e094",
   "metadata": {},
   "source": [
    "**Признак `Left`:**\n",
    "\n",
    "**В дальнейшем признак не используется, однако по нему (признаку) можно исправить ошибки в данных при наличии последних.**"
   ]
  },
  {
   "cell_type": "code",
   "execution_count": 23,
   "id": "2a4170cd",
   "metadata": {
    "ExecuteTime": {
     "end_time": "2024-08-01T17:18:34.533922Z",
     "start_time": "2024-08-01T17:18:34.459786Z"
    }
   },
   "outputs": [
    {
     "data": {
      "text/plain": [
       "128    36\n",
       "43      2\n",
       "150     1\n",
       "Name: Left, dtype: int64"
      ]
     },
     "execution_count": 23,
     "metadata": {},
     "output_type": "execute_result"
    }
   ],
   "source": [
    "df[\"Left\"].value_counts().tail(3)"
   ]
  },
  {
   "cell_type": "markdown",
   "id": "815109cf",
   "metadata": {},
   "source": [
    "**Обзор редко встречающихся значений признака:**"
   ]
  },
  {
   "cell_type": "code",
   "execution_count": 24,
   "id": "0ec9e075",
   "metadata": {
    "ExecuteTime": {
     "end_time": "2024-08-01T17:18:34.559363Z",
     "start_time": "2024-08-01T17:18:34.535868Z"
    }
   },
   "outputs": [
    {
     "data": {
      "text/html": [
       "<div>\n",
       "<style scoped>\n",
       "    .dataframe tbody tr th:only-of-type {\n",
       "        vertical-align: middle;\n",
       "    }\n",
       "\n",
       "    .dataframe tbody tr th {\n",
       "        vertical-align: top;\n",
       "    }\n",
       "\n",
       "    .dataframe thead th {\n",
       "        text-align: right;\n",
       "    }\n",
       "</style>\n",
       "<table border=\"1\" class=\"dataframe\">\n",
       "  <thead>\n",
       "    <tr style=\"text-align: right;\">\n",
       "      <th></th>\n",
       "      <th>Unnamed: 0</th>\n",
       "      <th>$id</th>\n",
       "      <th>Id</th>\n",
       "      <th>Name</th>\n",
       "      <th>ParentPowerSystemId</th>\n",
       "      <th>PowerSystemId</th>\n",
       "      <th>SubjectId</th>\n",
       "      <th>Disabled</th>\n",
       "      <th>SvgPaths</th>\n",
       "      <th>Top</th>\n",
       "      <th>Bottom</th>\n",
       "      <th>Left</th>\n",
       "      <th>Right</th>\n",
       "      <th>IBR_PlannedConsumption</th>\n",
       "      <th>IBR_ActualConsumption</th>\n",
       "      <th>IBR_PlannedGeneration</th>\n",
       "      <th>IBR_ActualGeneration</th>\n",
       "      <th>IBR_AveragePrice</th>\n",
       "      <th>VSVGO_AveragePrice</th>\n",
       "      <th>VSVGO_Consumption</th>\n",
       "      <th>Selected</th>\n",
       "      <th>InfoCoordinates</th>\n",
       "      <th>Datetime</th>\n",
       "    </tr>\n",
       "  </thead>\n",
       "  <tbody>\n",
       "    <tr>\n",
       "      <th>173728</th>\n",
       "      <td>173728</td>\n",
       "      <td>20</td>\n",
       "      <td>550000_3</td>\n",
       "      <td>Краснодарский край</td>\n",
       "      <td>550000</td>\n",
       "      <td>550000</td>\n",
       "      <td>3</td>\n",
       "      <td>False</td>\n",
       "      <td>['M0 0 M97 90 L96 90 L95 92 L92 89 L90 90...</td>\n",
       "      <td>76</td>\n",
       "      <td>184</td>\n",
       "      <td>43</td>\n",
       "      <td>112</td>\n",
       "      <td>2 919 МВт*ч</td>\n",
       "      <td>2 953 МВт*ч</td>\n",
       "      <td>1 427 МВт*ч</td>\n",
       "      <td>1 425 МВт*ч</td>\n",
       "      <td>-</td>\n",
       "      <td>-</td>\n",
       "      <td>-</td>\n",
       "      <td>False</td>\n",
       "      <td>{'X': 0, 'Y': 0}</td>\n",
       "      <td>2015-04-07 12:00:00</td>\n",
       "    </tr>\n",
       "    <tr>\n",
       "      <th>208378</th>\n",
       "      <td>208378</td>\n",
       "      <td>20</td>\n",
       "      <td>550000_3</td>\n",
       "      <td>Краснодарский край</td>\n",
       "      <td>550000</td>\n",
       "      <td>550000</td>\n",
       "      <td>3</td>\n",
       "      <td>False</td>\n",
       "      <td>['M0 0 M97 90 L96 90 L95 92 L92 89 L90 90...</td>\n",
       "      <td>76</td>\n",
       "      <td>184</td>\n",
       "      <td>43</td>\n",
       "      <td>112</td>\n",
       "      <td>2 631 МВт*ч</td>\n",
       "      <td>2 518 МВт*ч</td>\n",
       "      <td>1 204 МВт*ч</td>\n",
       "      <td>1 191 МВт*ч</td>\n",
       "      <td>-</td>\n",
       "      <td>-</td>\n",
       "      <td>-</td>\n",
       "      <td>False</td>\n",
       "      <td>{'X': 0, 'Y': 0}</td>\n",
       "      <td>2015-04-26 18:00:00</td>\n",
       "    </tr>\n",
       "  </tbody>\n",
       "</table>\n",
       "</div>"
      ],
      "text/plain": [
       "        Unnamed: 0  $id        Id                Name  ParentPowerSystemId  \\\n",
       "173728      173728   20  550000_3  Краснодарский край               550000   \n",
       "208378      208378   20  550000_3  Краснодарский край               550000   \n",
       "\n",
       "        PowerSystemId  SubjectId  Disabled  \\\n",
       "173728         550000          3     False   \n",
       "208378         550000          3     False   \n",
       "\n",
       "                                            SvgPaths  Top  Bottom  Left  \\\n",
       "173728  ['M0 0 M97 90 L96 90 L95 92 L92 89 L90 90...   76     184    43   \n",
       "208378  ['M0 0 M97 90 L96 90 L95 92 L92 89 L90 90...   76     184    43   \n",
       "\n",
       "        Right IBR_PlannedConsumption IBR_ActualConsumption  \\\n",
       "173728    112            2 919 МВт*ч           2 953 МВт*ч   \n",
       "208378    112            2 631 МВт*ч           2 518 МВт*ч   \n",
       "\n",
       "       IBR_PlannedGeneration IBR_ActualGeneration IBR_AveragePrice  \\\n",
       "173728           1 427 МВт*ч          1 425 МВт*ч                -   \n",
       "208378           1 204 МВт*ч          1 191 МВт*ч                -   \n",
       "\n",
       "       VSVGO_AveragePrice VSVGO_Consumption  Selected   InfoCoordinates  \\\n",
       "173728                  -                 -     False  {'X': 0, 'Y': 0}   \n",
       "208378                  -                 -     False  {'X': 0, 'Y': 0}   \n",
       "\n",
       "                   Datetime  \n",
       "173728  2015-04-07 12:00:00  \n",
       "208378  2015-04-26 18:00:00  "
      ]
     },
     "execution_count": 24,
     "metadata": {},
     "output_type": "execute_result"
    }
   ],
   "source": [
    "df[df[\"Left\"] == 43]"
   ]
  },
  {
   "cell_type": "code",
   "execution_count": 25,
   "id": "819305d0",
   "metadata": {
    "ExecuteTime": {
     "end_time": "2024-08-01T17:18:34.579305Z",
     "start_time": "2024-08-01T17:18:34.560746Z"
    }
   },
   "outputs": [
    {
     "data": {
      "text/html": [
       "<div>\n",
       "<style scoped>\n",
       "    .dataframe tbody tr th:only-of-type {\n",
       "        vertical-align: middle;\n",
       "    }\n",
       "\n",
       "    .dataframe tbody tr th {\n",
       "        vertical-align: top;\n",
       "    }\n",
       "\n",
       "    .dataframe thead th {\n",
       "        text-align: right;\n",
       "    }\n",
       "</style>\n",
       "<table border=\"1\" class=\"dataframe\">\n",
       "  <thead>\n",
       "    <tr style=\"text-align: right;\">\n",
       "      <th></th>\n",
       "      <th>Unnamed: 0</th>\n",
       "      <th>$id</th>\n",
       "      <th>Id</th>\n",
       "      <th>Name</th>\n",
       "      <th>ParentPowerSystemId</th>\n",
       "      <th>PowerSystemId</th>\n",
       "      <th>SubjectId</th>\n",
       "      <th>Disabled</th>\n",
       "      <th>SvgPaths</th>\n",
       "      <th>Top</th>\n",
       "      <th>Bottom</th>\n",
       "      <th>Left</th>\n",
       "      <th>Right</th>\n",
       "      <th>IBR_PlannedConsumption</th>\n",
       "      <th>IBR_ActualConsumption</th>\n",
       "      <th>IBR_PlannedGeneration</th>\n",
       "      <th>IBR_ActualGeneration</th>\n",
       "      <th>IBR_AveragePrice</th>\n",
       "      <th>VSVGO_AveragePrice</th>\n",
       "      <th>VSVGO_Consumption</th>\n",
       "      <th>Selected</th>\n",
       "      <th>InfoCoordinates</th>\n",
       "      <th>Datetime</th>\n",
       "    </tr>\n",
       "  </thead>\n",
       "  <tbody>\n",
       "    <tr>\n",
       "      <th>483343</th>\n",
       "      <td>483343</td>\n",
       "      <td>17</td>\n",
       "      <td>600000_88</td>\n",
       "      <td>Республика Марий Эл</td>\n",
       "      <td>600000</td>\n",
       "      <td>600000</td>\n",
       "      <td>88</td>\n",
       "      <td>False</td>\n",
       "      <td>['M0 0 M167 50 L166 50 L165 50 L163 49 L1...</td>\n",
       "      <td>49</td>\n",
       "      <td>104</td>\n",
       "      <td>150</td>\n",
       "      <td>228</td>\n",
       "      <td>363 МВт*ч</td>\n",
       "      <td>356 МВт*ч</td>\n",
       "      <td>99 МВт*ч</td>\n",
       "      <td>99 МВт*ч</td>\n",
       "      <td>1 233 руб./МВт*ч</td>\n",
       "      <td>-</td>\n",
       "      <td>-</td>\n",
       "      <td>False</td>\n",
       "      <td>{'X': 0, 'Y': 0}</td>\n",
       "      <td>2019-09-26 12:00:00</td>\n",
       "    </tr>\n",
       "  </tbody>\n",
       "</table>\n",
       "</div>"
      ],
      "text/plain": [
       "        Unnamed: 0  $id         Id                 Name  ParentPowerSystemId  \\\n",
       "483343      483343   17  600000_88  Республика Марий Эл               600000   \n",
       "\n",
       "        PowerSystemId  SubjectId  Disabled  \\\n",
       "483343         600000         88     False   \n",
       "\n",
       "                                            SvgPaths  Top  Bottom  Left  \\\n",
       "483343  ['M0 0 M167 50 L166 50 L165 50 L163 49 L1...   49     104   150   \n",
       "\n",
       "        Right IBR_PlannedConsumption IBR_ActualConsumption  \\\n",
       "483343    228              363 МВт*ч             356 МВт*ч   \n",
       "\n",
       "       IBR_PlannedGeneration IBR_ActualGeneration  IBR_AveragePrice  \\\n",
       "483343              99 МВт*ч             99 МВт*ч  1 233 руб./МВт*ч   \n",
       "\n",
       "       VSVGO_AveragePrice VSVGO_Consumption  Selected   InfoCoordinates  \\\n",
       "483343                  -                 -     False  {'X': 0, 'Y': 0}   \n",
       "\n",
       "                   Datetime  \n",
       "483343  2019-09-26 12:00:00  "
      ]
     },
     "execution_count": 25,
     "metadata": {},
     "output_type": "execute_result"
    }
   ],
   "source": [
    "df[df[\"Left\"] == 150]"
   ]
  },
  {
   "cell_type": "markdown",
   "id": "48c05bc2",
   "metadata": {},
   "source": [
    "**Выраженных проблем в строках выше найдено не было.**\n",
    "\n",
    "**Все значения корректны.**"
   ]
  },
  {
   "cell_type": "markdown",
   "id": "e8bbec73",
   "metadata": {},
   "source": [
    "---------------------------------------------------------------------------------------------------------------------------"
   ]
  },
  {
   "cell_type": "markdown",
   "id": "d5030ae7",
   "metadata": {},
   "source": [
    "**Признак `Right`:**\n",
    "\n",
    "**В дальнейшем признак не используется, однако по нему (признаку) можно исправить ошибки в данных при наличии последних.**"
   ]
  },
  {
   "cell_type": "code",
   "execution_count": 26,
   "id": "58fb461c",
   "metadata": {
    "ExecuteTime": {
     "end_time": "2024-08-01T17:18:34.649546Z",
     "start_time": "2024-08-01T17:18:34.580797Z"
    },
    "scrolled": true
   },
   "outputs": [
    {
     "data": {
      "text/plain": [
       "80     14\n",
       "47      4\n",
       "94      4\n",
       "311     4\n",
       "309     3\n",
       "170     2\n",
       "218     2\n",
       "210     1\n",
       "279     1\n",
       "Name: Right, dtype: int64"
      ]
     },
     "execution_count": 26,
     "metadata": {},
     "output_type": "execute_result"
    }
   ],
   "source": [
    "df[\"Right\"].value_counts().tail(9)"
   ]
  },
  {
   "cell_type": "markdown",
   "id": "cd1884b8",
   "metadata": {},
   "source": [
    "**Обзор редко встречающихся значений признака:**"
   ]
  },
  {
   "cell_type": "code",
   "execution_count": 27,
   "id": "bb660a06",
   "metadata": {
    "ExecuteTime": {
     "end_time": "2024-08-01T17:18:34.667816Z",
     "start_time": "2024-08-01T17:18:34.651326Z"
    }
   },
   "outputs": [
    {
     "data": {
      "text/html": [
       "<div>\n",
       "<style scoped>\n",
       "    .dataframe tbody tr th:only-of-type {\n",
       "        vertical-align: middle;\n",
       "    }\n",
       "\n",
       "    .dataframe tbody tr th {\n",
       "        vertical-align: top;\n",
       "    }\n",
       "\n",
       "    .dataframe thead th {\n",
       "        text-align: right;\n",
       "    }\n",
       "</style>\n",
       "<table border=\"1\" class=\"dataframe\">\n",
       "  <thead>\n",
       "    <tr style=\"text-align: right;\">\n",
       "      <th></th>\n",
       "      <th>Unnamed: 0</th>\n",
       "      <th>$id</th>\n",
       "      <th>Id</th>\n",
       "      <th>Name</th>\n",
       "      <th>ParentPowerSystemId</th>\n",
       "      <th>PowerSystemId</th>\n",
       "      <th>SubjectId</th>\n",
       "      <th>Disabled</th>\n",
       "      <th>SvgPaths</th>\n",
       "      <th>Top</th>\n",
       "      <th>Bottom</th>\n",
       "      <th>Left</th>\n",
       "      <th>Right</th>\n",
       "      <th>IBR_PlannedConsumption</th>\n",
       "      <th>IBR_ActualConsumption</th>\n",
       "      <th>IBR_PlannedGeneration</th>\n",
       "      <th>IBR_ActualGeneration</th>\n",
       "      <th>IBR_AveragePrice</th>\n",
       "      <th>VSVGO_AveragePrice</th>\n",
       "      <th>VSVGO_Consumption</th>\n",
       "      <th>Selected</th>\n",
       "      <th>InfoCoordinates</th>\n",
       "      <th>Datetime</th>\n",
       "    </tr>\n",
       "  </thead>\n",
       "  <tbody>\n",
       "    <tr>\n",
       "      <th>174254</th>\n",
       "      <td>174254</td>\n",
       "      <td>21</td>\n",
       "      <td>550000_35</td>\n",
       "      <td>Республика Крым</td>\n",
       "      <td>550000</td>\n",
       "      <td>550000</td>\n",
       "      <td>35</td>\n",
       "      <td>False</td>\n",
       "      <td>['M0 0 M41 96 L40 98 L40 98 L40 99 L39 98...</td>\n",
       "      <td>29</td>\n",
       "      <td>99</td>\n",
       "      <td>0</td>\n",
       "      <td>47</td>\n",
       "      <td>-</td>\n",
       "      <td>-</td>\n",
       "      <td>-</td>\n",
       "      <td>-</td>\n",
       "      <td>-</td>\n",
       "      <td>-</td>\n",
       "      <td>-</td>\n",
       "      <td>False</td>\n",
       "      <td>{'X': 0, 'Y': 0}</td>\n",
       "      <td>2015-04-07 19:00:00</td>\n",
       "    </tr>\n",
       "    <tr>\n",
       "      <th>208379</th>\n",
       "      <td>208379</td>\n",
       "      <td>21</td>\n",
       "      <td>550000_35</td>\n",
       "      <td>Республика Крым</td>\n",
       "      <td>550000</td>\n",
       "      <td>550000</td>\n",
       "      <td>35</td>\n",
       "      <td>False</td>\n",
       "      <td>['M0 0 M41 96 L40 98 L40 98 L40 99 L39 98...</td>\n",
       "      <td>29</td>\n",
       "      <td>99</td>\n",
       "      <td>0</td>\n",
       "      <td>47</td>\n",
       "      <td>-</td>\n",
       "      <td>-</td>\n",
       "      <td>-</td>\n",
       "      <td>-</td>\n",
       "      <td>-</td>\n",
       "      <td>-</td>\n",
       "      <td>-</td>\n",
       "      <td>False</td>\n",
       "      <td>{'X': 0, 'Y': 0}</td>\n",
       "      <td>2015-04-26 18:00:00</td>\n",
       "    </tr>\n",
       "  </tbody>\n",
       "</table>\n",
       "</div>"
      ],
      "text/plain": [
       "        Unnamed: 0  $id         Id             Name  ParentPowerSystemId  \\\n",
       "174254      174254   21  550000_35  Республика Крым               550000   \n",
       "208379      208379   21  550000_35  Республика Крым               550000   \n",
       "\n",
       "        PowerSystemId  SubjectId  Disabled  \\\n",
       "174254         550000         35     False   \n",
       "208379         550000         35     False   \n",
       "\n",
       "                                            SvgPaths  Top  Bottom  Left  \\\n",
       "174254  ['M0 0 M41 96 L40 98 L40 98 L40 99 L39 98...   29      99     0   \n",
       "208379  ['M0 0 M41 96 L40 98 L40 98 L40 99 L39 98...   29      99     0   \n",
       "\n",
       "        Right IBR_PlannedConsumption IBR_ActualConsumption  \\\n",
       "174254     47                      -                     -   \n",
       "208379     47                      -                     -   \n",
       "\n",
       "       IBR_PlannedGeneration IBR_ActualGeneration IBR_AveragePrice  \\\n",
       "174254                     -                    -                -   \n",
       "208379                     -                    -                -   \n",
       "\n",
       "       VSVGO_AveragePrice VSVGO_Consumption  Selected   InfoCoordinates  \\\n",
       "174254                  -                 -     False  {'X': 0, 'Y': 0}   \n",
       "208379                  -                 -     False  {'X': 0, 'Y': 0}   \n",
       "\n",
       "                   Datetime  \n",
       "174254  2015-04-07 19:00:00  \n",
       "208379  2015-04-26 18:00:00  "
      ]
     },
     "execution_count": 27,
     "metadata": {},
     "output_type": "execute_result"
    }
   ],
   "source": [
    "df[df[\"Right\"] == 47].tail(2)"
   ]
  },
  {
   "cell_type": "code",
   "execution_count": 28,
   "id": "e8e3602b",
   "metadata": {
    "ExecuteTime": {
     "end_time": "2024-08-01T17:18:34.686863Z",
     "start_time": "2024-08-01T17:18:34.669220Z"
    }
   },
   "outputs": [
    {
     "data": {
      "text/html": [
       "<div>\n",
       "<style scoped>\n",
       "    .dataframe tbody tr th:only-of-type {\n",
       "        vertical-align: middle;\n",
       "    }\n",
       "\n",
       "    .dataframe tbody tr th {\n",
       "        vertical-align: top;\n",
       "    }\n",
       "\n",
       "    .dataframe thead th {\n",
       "        text-align: right;\n",
       "    }\n",
       "</style>\n",
       "<table border=\"1\" class=\"dataframe\">\n",
       "  <thead>\n",
       "    <tr style=\"text-align: right;\">\n",
       "      <th></th>\n",
       "      <th>Unnamed: 0</th>\n",
       "      <th>$id</th>\n",
       "      <th>Id</th>\n",
       "      <th>Name</th>\n",
       "      <th>ParentPowerSystemId</th>\n",
       "      <th>PowerSystemId</th>\n",
       "      <th>SubjectId</th>\n",
       "      <th>Disabled</th>\n",
       "      <th>SvgPaths</th>\n",
       "      <th>Top</th>\n",
       "      <th>Bottom</th>\n",
       "      <th>Left</th>\n",
       "      <th>Right</th>\n",
       "      <th>IBR_PlannedConsumption</th>\n",
       "      <th>IBR_ActualConsumption</th>\n",
       "      <th>IBR_PlannedGeneration</th>\n",
       "      <th>IBR_ActualGeneration</th>\n",
       "      <th>IBR_AveragePrice</th>\n",
       "      <th>VSVGO_AveragePrice</th>\n",
       "      <th>VSVGO_Consumption</th>\n",
       "      <th>Selected</th>\n",
       "      <th>InfoCoordinates</th>\n",
       "      <th>Datetime</th>\n",
       "    </tr>\n",
       "  </thead>\n",
       "  <tbody>\n",
       "    <tr>\n",
       "      <th>259940</th>\n",
       "      <td>259940</td>\n",
       "      <td>19</td>\n",
       "      <td>630000_80</td>\n",
       "      <td>Республика Башкортостан</td>\n",
       "      <td>630000</td>\n",
       "      <td>630000</td>\n",
       "      <td>80</td>\n",
       "      <td>False</td>\n",
       "      <td>['M0 0 M80 233 L80 234 L80 235 L80 236 L8...</td>\n",
       "      <td>201</td>\n",
       "      <td>286</td>\n",
       "      <td>36</td>\n",
       "      <td>94</td>\n",
       "      <td>2 885 МВт*ч</td>\n",
       "      <td>2 837 МВт*ч</td>\n",
       "      <td>2 042 МВт*ч</td>\n",
       "      <td>2 035 МВт*ч</td>\n",
       "      <td>-</td>\n",
       "      <td>-</td>\n",
       "      <td>-</td>\n",
       "      <td>False</td>\n",
       "      <td>{'X': 0, 'Y': 0}</td>\n",
       "      <td>2014-05-26 12:00:00</td>\n",
       "    </tr>\n",
       "    <tr>\n",
       "      <th>279965</th>\n",
       "      <td>279965</td>\n",
       "      <td>19</td>\n",
       "      <td>630000_80</td>\n",
       "      <td>Республика Башкортостан</td>\n",
       "      <td>630000</td>\n",
       "      <td>630000</td>\n",
       "      <td>80</td>\n",
       "      <td>False</td>\n",
       "      <td>['M0 0 M80 233 L80 234 L80 235 L80 236 L8...</td>\n",
       "      <td>201</td>\n",
       "      <td>286</td>\n",
       "      <td>36</td>\n",
       "      <td>94</td>\n",
       "      <td>2 749 МВт*ч</td>\n",
       "      <td>2 678 МВт*ч</td>\n",
       "      <td>2 094 МВт*ч</td>\n",
       "      <td>2 091 МВт*ч</td>\n",
       "      <td>-</td>\n",
       "      <td>-</td>\n",
       "      <td>-</td>\n",
       "      <td>False</td>\n",
       "      <td>{'X': 0, 'Y': 0}</td>\n",
       "      <td>2014-06-06 17:00:00</td>\n",
       "    </tr>\n",
       "  </tbody>\n",
       "</table>\n",
       "</div>"
      ],
      "text/plain": [
       "        Unnamed: 0  $id         Id                     Name  \\\n",
       "259940      259940   19  630000_80  Республика Башкортостан   \n",
       "279965      279965   19  630000_80  Республика Башкортостан   \n",
       "\n",
       "        ParentPowerSystemId  PowerSystemId  SubjectId  Disabled  \\\n",
       "259940               630000         630000         80     False   \n",
       "279965               630000         630000         80     False   \n",
       "\n",
       "                                            SvgPaths  Top  Bottom  Left  \\\n",
       "259940  ['M0 0 M80 233 L80 234 L80 235 L80 236 L8...  201     286    36   \n",
       "279965  ['M0 0 M80 233 L80 234 L80 235 L80 236 L8...  201     286    36   \n",
       "\n",
       "        Right IBR_PlannedConsumption IBR_ActualConsumption  \\\n",
       "259940     94            2 885 МВт*ч           2 837 МВт*ч   \n",
       "279965     94            2 749 МВт*ч           2 678 МВт*ч   \n",
       "\n",
       "       IBR_PlannedGeneration IBR_ActualGeneration IBR_AveragePrice  \\\n",
       "259940           2 042 МВт*ч          2 035 МВт*ч                -   \n",
       "279965           2 094 МВт*ч          2 091 МВт*ч                -   \n",
       "\n",
       "       VSVGO_AveragePrice VSVGO_Consumption  Selected   InfoCoordinates  \\\n",
       "259940                  -                 -     False  {'X': 0, 'Y': 0}   \n",
       "279965                  -                 -     False  {'X': 0, 'Y': 0}   \n",
       "\n",
       "                   Datetime  \n",
       "259940  2014-05-26 12:00:00  \n",
       "279965  2014-06-06 17:00:00  "
      ]
     },
     "execution_count": 28,
     "metadata": {},
     "output_type": "execute_result"
    }
   ],
   "source": [
    "df[df[\"Right\"] == 94].tail(2)"
   ]
  },
  {
   "cell_type": "code",
   "execution_count": 29,
   "id": "94b985ce",
   "metadata": {
    "ExecuteTime": {
     "end_time": "2024-08-01T17:18:34.705342Z",
     "start_time": "2024-08-01T17:18:34.687869Z"
    }
   },
   "outputs": [
    {
     "data": {
      "text/html": [
       "<div>\n",
       "<style scoped>\n",
       "    .dataframe tbody tr th:only-of-type {\n",
       "        vertical-align: middle;\n",
       "    }\n",
       "\n",
       "    .dataframe tbody tr th {\n",
       "        vertical-align: top;\n",
       "    }\n",
       "\n",
       "    .dataframe thead th {\n",
       "        text-align: right;\n",
       "    }\n",
       "</style>\n",
       "<table border=\"1\" class=\"dataframe\">\n",
       "  <thead>\n",
       "    <tr style=\"text-align: right;\">\n",
       "      <th></th>\n",
       "      <th>Unnamed: 0</th>\n",
       "      <th>$id</th>\n",
       "      <th>Id</th>\n",
       "      <th>Name</th>\n",
       "      <th>ParentPowerSystemId</th>\n",
       "      <th>PowerSystemId</th>\n",
       "      <th>SubjectId</th>\n",
       "      <th>Disabled</th>\n",
       "      <th>SvgPaths</th>\n",
       "      <th>Top</th>\n",
       "      <th>Bottom</th>\n",
       "      <th>Left</th>\n",
       "      <th>Right</th>\n",
       "      <th>IBR_PlannedConsumption</th>\n",
       "      <th>IBR_ActualConsumption</th>\n",
       "      <th>IBR_PlannedGeneration</th>\n",
       "      <th>IBR_ActualGeneration</th>\n",
       "      <th>IBR_AveragePrice</th>\n",
       "      <th>VSVGO_AveragePrice</th>\n",
       "      <th>VSVGO_Consumption</th>\n",
       "      <th>Selected</th>\n",
       "      <th>InfoCoordinates</th>\n",
       "      <th>Datetime</th>\n",
       "    </tr>\n",
       "  </thead>\n",
       "  <tbody>\n",
       "    <tr>\n",
       "      <th>259938</th>\n",
       "      <td>259938</td>\n",
       "      <td>17</td>\n",
       "      <td>630000_71</td>\n",
       "      <td>Тюменская область</td>\n",
       "      <td>630000</td>\n",
       "      <td>630000</td>\n",
       "      <td>71</td>\n",
       "      <td>False</td>\n",
       "      <td>['M0 0 M236 0 L233 2 L233 3 L226 14 L222 ...</td>\n",
       "      <td>0</td>\n",
       "      <td>262</td>\n",
       "      <td>128</td>\n",
       "      <td>311</td>\n",
       "      <td>10 306 МВт*ч</td>\n",
       "      <td>10 275 МВт*ч</td>\n",
       "      <td>11 003 МВт*ч</td>\n",
       "      <td>11 468 МВт*ч</td>\n",
       "      <td>-</td>\n",
       "      <td>-</td>\n",
       "      <td>-</td>\n",
       "      <td>False</td>\n",
       "      <td>{'X': 0, 'Y': 0}</td>\n",
       "      <td>2014-05-26 12:00:00</td>\n",
       "    </tr>\n",
       "    <tr>\n",
       "      <th>279963</th>\n",
       "      <td>279963</td>\n",
       "      <td>17</td>\n",
       "      <td>630000_71</td>\n",
       "      <td>Тюменская область</td>\n",
       "      <td>630000</td>\n",
       "      <td>630000</td>\n",
       "      <td>71</td>\n",
       "      <td>False</td>\n",
       "      <td>['M0 0 M236 0 L233 2 L233 3 L226 14 L222 ...</td>\n",
       "      <td>0</td>\n",
       "      <td>262</td>\n",
       "      <td>128</td>\n",
       "      <td>311</td>\n",
       "      <td>10 075 МВт*ч</td>\n",
       "      <td>10 100 МВт*ч</td>\n",
       "      <td>11 482 МВт*ч</td>\n",
       "      <td>11 495 МВт*ч</td>\n",
       "      <td>-</td>\n",
       "      <td>-</td>\n",
       "      <td>-</td>\n",
       "      <td>False</td>\n",
       "      <td>{'X': 0, 'Y': 0}</td>\n",
       "      <td>2014-06-06 17:00:00</td>\n",
       "    </tr>\n",
       "  </tbody>\n",
       "</table>\n",
       "</div>"
      ],
      "text/plain": [
       "        Unnamed: 0  $id         Id               Name  ParentPowerSystemId  \\\n",
       "259938      259938   17  630000_71  Тюменская область               630000   \n",
       "279963      279963   17  630000_71  Тюменская область               630000   \n",
       "\n",
       "        PowerSystemId  SubjectId  Disabled  \\\n",
       "259938         630000         71     False   \n",
       "279963         630000         71     False   \n",
       "\n",
       "                                            SvgPaths  Top  Bottom  Left  \\\n",
       "259938  ['M0 0 M236 0 L233 2 L233 3 L226 14 L222 ...    0     262   128   \n",
       "279963  ['M0 0 M236 0 L233 2 L233 3 L226 14 L222 ...    0     262   128   \n",
       "\n",
       "        Right IBR_PlannedConsumption IBR_ActualConsumption  \\\n",
       "259938    311           10 306 МВт*ч          10 275 МВт*ч   \n",
       "279963    311           10 075 МВт*ч          10 100 МВт*ч   \n",
       "\n",
       "       IBR_PlannedGeneration IBR_ActualGeneration IBR_AveragePrice  \\\n",
       "259938          11 003 МВт*ч         11 468 МВт*ч                -   \n",
       "279963          11 482 МВт*ч         11 495 МВт*ч                -   \n",
       "\n",
       "       VSVGO_AveragePrice VSVGO_Consumption  Selected   InfoCoordinates  \\\n",
       "259938                  -                 -     False  {'X': 0, 'Y': 0}   \n",
       "279963                  -                 -     False  {'X': 0, 'Y': 0}   \n",
       "\n",
       "                   Datetime  \n",
       "259938  2014-05-26 12:00:00  \n",
       "279963  2014-06-06 17:00:00  "
      ]
     },
     "execution_count": 29,
     "metadata": {},
     "output_type": "execute_result"
    }
   ],
   "source": [
    "df[df[\"Right\"] == 311].tail(2)"
   ]
  },
  {
   "cell_type": "code",
   "execution_count": 30,
   "id": "ca75ada3",
   "metadata": {
    "ExecuteTime": {
     "end_time": "2024-08-01T17:18:34.723753Z",
     "start_time": "2024-08-01T17:18:34.706346Z"
    }
   },
   "outputs": [
    {
     "data": {
      "text/html": [
       "<div>\n",
       "<style scoped>\n",
       "    .dataframe tbody tr th:only-of-type {\n",
       "        vertical-align: middle;\n",
       "    }\n",
       "\n",
       "    .dataframe tbody tr th {\n",
       "        vertical-align: top;\n",
       "    }\n",
       "\n",
       "    .dataframe thead th {\n",
       "        text-align: right;\n",
       "    }\n",
       "</style>\n",
       "<table border=\"1\" class=\"dataframe\">\n",
       "  <thead>\n",
       "    <tr style=\"text-align: right;\">\n",
       "      <th></th>\n",
       "      <th>Unnamed: 0</th>\n",
       "      <th>$id</th>\n",
       "      <th>Id</th>\n",
       "      <th>Name</th>\n",
       "      <th>ParentPowerSystemId</th>\n",
       "      <th>PowerSystemId</th>\n",
       "      <th>SubjectId</th>\n",
       "      <th>Disabled</th>\n",
       "      <th>SvgPaths</th>\n",
       "      <th>Top</th>\n",
       "      <th>Bottom</th>\n",
       "      <th>Left</th>\n",
       "      <th>Right</th>\n",
       "      <th>IBR_PlannedConsumption</th>\n",
       "      <th>IBR_ActualConsumption</th>\n",
       "      <th>IBR_PlannedGeneration</th>\n",
       "      <th>IBR_ActualGeneration</th>\n",
       "      <th>IBR_AveragePrice</th>\n",
       "      <th>VSVGO_AveragePrice</th>\n",
       "      <th>VSVGO_Consumption</th>\n",
       "      <th>Selected</th>\n",
       "      <th>InfoCoordinates</th>\n",
       "      <th>Datetime</th>\n",
       "    </tr>\n",
       "  </thead>\n",
       "  <tbody>\n",
       "    <tr>\n",
       "      <th>362688</th>\n",
       "      <td>362688</td>\n",
       "      <td>17</td>\n",
       "      <td>630000_71</td>\n",
       "      <td>Тюменская область</td>\n",
       "      <td>630000</td>\n",
       "      <td>630000</td>\n",
       "      <td>71</td>\n",
       "      <td>False</td>\n",
       "      <td>['M0 0 M234 0 L231 2 L231 3 L225 14 L221 ...</td>\n",
       "      <td>0</td>\n",
       "      <td>262</td>\n",
       "      <td>128</td>\n",
       "      <td>309</td>\n",
       "      <td>9 398 МВт*ч</td>\n",
       "      <td>9 444 МВт*ч</td>\n",
       "      <td>11 122 МВт*ч</td>\n",
       "      <td>11 121 МВт*ч</td>\n",
       "      <td>1 239 руб./МВт*ч</td>\n",
       "      <td>-</td>\n",
       "      <td>-</td>\n",
       "      <td>False</td>\n",
       "      <td>{'X': 0, 'Y': 0}</td>\n",
       "      <td>2021-07-21 11:00:00</td>\n",
       "    </tr>\n",
       "    <tr>\n",
       "      <th>406488</th>\n",
       "      <td>406488</td>\n",
       "      <td>17</td>\n",
       "      <td>630000_71</td>\n",
       "      <td>Тюменская область</td>\n",
       "      <td>630000</td>\n",
       "      <td>630000</td>\n",
       "      <td>71</td>\n",
       "      <td>False</td>\n",
       "      <td>['M0 0 M234 0 L231 2 L231 3 L225 14 L221 ...</td>\n",
       "      <td>0</td>\n",
       "      <td>262</td>\n",
       "      <td>128</td>\n",
       "      <td>309</td>\n",
       "      <td>9 994 МВт*ч</td>\n",
       "      <td>9 983 МВт*ч</td>\n",
       "      <td>11 429 МВт*ч</td>\n",
       "      <td>11 416 МВт*ч</td>\n",
       "      <td>1 426 руб./МВт*ч</td>\n",
       "      <td>-</td>\n",
       "      <td>-</td>\n",
       "      <td>False</td>\n",
       "      <td>{'X': 0, 'Y': 0}</td>\n",
       "      <td>2022-08-15 10:00:00</td>\n",
       "    </tr>\n",
       "  </tbody>\n",
       "</table>\n",
       "</div>"
      ],
      "text/plain": [
       "        Unnamed: 0  $id         Id               Name  ParentPowerSystemId  \\\n",
       "362688      362688   17  630000_71  Тюменская область               630000   \n",
       "406488      406488   17  630000_71  Тюменская область               630000   \n",
       "\n",
       "        PowerSystemId  SubjectId  Disabled  \\\n",
       "362688         630000         71     False   \n",
       "406488         630000         71     False   \n",
       "\n",
       "                                            SvgPaths  Top  Bottom  Left  \\\n",
       "362688  ['M0 0 M234 0 L231 2 L231 3 L225 14 L221 ...    0     262   128   \n",
       "406488  ['M0 0 M234 0 L231 2 L231 3 L225 14 L221 ...    0     262   128   \n",
       "\n",
       "        Right IBR_PlannedConsumption IBR_ActualConsumption  \\\n",
       "362688    309            9 398 МВт*ч           9 444 МВт*ч   \n",
       "406488    309            9 994 МВт*ч           9 983 МВт*ч   \n",
       "\n",
       "       IBR_PlannedGeneration IBR_ActualGeneration  IBR_AveragePrice  \\\n",
       "362688          11 122 МВт*ч         11 121 МВт*ч  1 239 руб./МВт*ч   \n",
       "406488          11 429 МВт*ч         11 416 МВт*ч  1 426 руб./МВт*ч   \n",
       "\n",
       "       VSVGO_AveragePrice VSVGO_Consumption  Selected   InfoCoordinates  \\\n",
       "362688                  -                 -     False  {'X': 0, 'Y': 0}   \n",
       "406488                  -                 -     False  {'X': 0, 'Y': 0}   \n",
       "\n",
       "                   Datetime  \n",
       "362688  2021-07-21 11:00:00  \n",
       "406488  2022-08-15 10:00:00  "
      ]
     },
     "execution_count": 30,
     "metadata": {},
     "output_type": "execute_result"
    }
   ],
   "source": [
    "df[df[\"Right\"] == 309].tail(2)"
   ]
  },
  {
   "cell_type": "code",
   "execution_count": 31,
   "id": "98b1f99b",
   "metadata": {
    "ExecuteTime": {
     "end_time": "2024-08-01T17:18:34.742342Z",
     "start_time": "2024-08-01T17:18:34.725175Z"
    }
   },
   "outputs": [
    {
     "data": {
      "text/html": [
       "<div>\n",
       "<style scoped>\n",
       "    .dataframe tbody tr th:only-of-type {\n",
       "        vertical-align: middle;\n",
       "    }\n",
       "\n",
       "    .dataframe tbody tr th {\n",
       "        vertical-align: top;\n",
       "    }\n",
       "\n",
       "    .dataframe thead th {\n",
       "        text-align: right;\n",
       "    }\n",
       "</style>\n",
       "<table border=\"1\" class=\"dataframe\">\n",
       "  <thead>\n",
       "    <tr style=\"text-align: right;\">\n",
       "      <th></th>\n",
       "      <th>Unnamed: 0</th>\n",
       "      <th>$id</th>\n",
       "      <th>Id</th>\n",
       "      <th>Name</th>\n",
       "      <th>ParentPowerSystemId</th>\n",
       "      <th>PowerSystemId</th>\n",
       "      <th>SubjectId</th>\n",
       "      <th>Disabled</th>\n",
       "      <th>SvgPaths</th>\n",
       "      <th>Top</th>\n",
       "      <th>Bottom</th>\n",
       "      <th>Left</th>\n",
       "      <th>Right</th>\n",
       "      <th>IBR_PlannedConsumption</th>\n",
       "      <th>IBR_ActualConsumption</th>\n",
       "      <th>IBR_PlannedGeneration</th>\n",
       "      <th>IBR_ActualGeneration</th>\n",
       "      <th>IBR_AveragePrice</th>\n",
       "      <th>VSVGO_AveragePrice</th>\n",
       "      <th>VSVGO_Consumption</th>\n",
       "      <th>Selected</th>\n",
       "      <th>InfoCoordinates</th>\n",
       "      <th>Datetime</th>\n",
       "    </tr>\n",
       "  </thead>\n",
       "  <tbody>\n",
       "    <tr>\n",
       "      <th>441630</th>\n",
       "      <td>441630</td>\n",
       "      <td>22</td>\n",
       "      <td>550000_60</td>\n",
       "      <td>Ростовская область</td>\n",
       "      <td>550000</td>\n",
       "      <td>550000</td>\n",
       "      <td>60</td>\n",
       "      <td>False</td>\n",
       "      <td>['M0 0 M169 30 L168 21 L152 28 L145 24 L1...</td>\n",
       "      <td>21</td>\n",
       "      <td>142</td>\n",
       "      <td>91</td>\n",
       "      <td>170</td>\n",
       "      <td>1 996 МВт*ч</td>\n",
       "      <td>1 985 МВт*ч</td>\n",
       "      <td>3 346 МВт*ч</td>\n",
       "      <td>3 330 МВт*ч</td>\n",
       "      <td>-</td>\n",
       "      <td>-</td>\n",
       "      <td>-</td>\n",
       "      <td>False</td>\n",
       "      <td>{'X': 0, 'Y': 0}</td>\n",
       "      <td>2014-09-05 16:00:00</td>\n",
       "    </tr>\n",
       "    <tr>\n",
       "      <th>174255</th>\n",
       "      <td>174255</td>\n",
       "      <td>22</td>\n",
       "      <td>550000_60</td>\n",
       "      <td>Ростовская область</td>\n",
       "      <td>550000</td>\n",
       "      <td>550000</td>\n",
       "      <td>60</td>\n",
       "      <td>False</td>\n",
       "      <td>['M0 0 M169 30 L168 21 L152 28 L145 24 L1...</td>\n",
       "      <td>21</td>\n",
       "      <td>142</td>\n",
       "      <td>91</td>\n",
       "      <td>170</td>\n",
       "      <td>2 497 МВт*ч</td>\n",
       "      <td>2 521 МВт*ч</td>\n",
       "      <td>4 406 МВт*ч</td>\n",
       "      <td>4 405 МВт*ч</td>\n",
       "      <td>-</td>\n",
       "      <td>-</td>\n",
       "      <td>-</td>\n",
       "      <td>False</td>\n",
       "      <td>{'X': 0, 'Y': 0}</td>\n",
       "      <td>2015-04-07 19:00:00</td>\n",
       "    </tr>\n",
       "  </tbody>\n",
       "</table>\n",
       "</div>"
      ],
      "text/plain": [
       "        Unnamed: 0  $id         Id                Name  ParentPowerSystemId  \\\n",
       "441630      441630   22  550000_60  Ростовская область               550000   \n",
       "174255      174255   22  550000_60  Ростовская область               550000   \n",
       "\n",
       "        PowerSystemId  SubjectId  Disabled  \\\n",
       "441630         550000         60     False   \n",
       "174255         550000         60     False   \n",
       "\n",
       "                                            SvgPaths  Top  Bottom  Left  \\\n",
       "441630  ['M0 0 M169 30 L168 21 L152 28 L145 24 L1...   21     142    91   \n",
       "174255  ['M0 0 M169 30 L168 21 L152 28 L145 24 L1...   21     142    91   \n",
       "\n",
       "        Right IBR_PlannedConsumption IBR_ActualConsumption  \\\n",
       "441630    170            1 996 МВт*ч           1 985 МВт*ч   \n",
       "174255    170            2 497 МВт*ч           2 521 МВт*ч   \n",
       "\n",
       "       IBR_PlannedGeneration IBR_ActualGeneration IBR_AveragePrice  \\\n",
       "441630           3 346 МВт*ч          3 330 МВт*ч                -   \n",
       "174255           4 406 МВт*ч          4 405 МВт*ч                -   \n",
       "\n",
       "       VSVGO_AveragePrice VSVGO_Consumption  Selected   InfoCoordinates  \\\n",
       "441630                  -                 -     False  {'X': 0, 'Y': 0}   \n",
       "174255                  -                 -     False  {'X': 0, 'Y': 0}   \n",
       "\n",
       "                   Datetime  \n",
       "441630  2014-09-05 16:00:00  \n",
       "174255  2015-04-07 19:00:00  "
      ]
     },
     "execution_count": 31,
     "metadata": {},
     "output_type": "execute_result"
    }
   ],
   "source": [
    "df[df[\"Right\"] == 170]"
   ]
  },
  {
   "cell_type": "code",
   "execution_count": 32,
   "id": "38b34f90",
   "metadata": {
    "ExecuteTime": {
     "end_time": "2024-08-01T17:18:34.761322Z",
     "start_time": "2024-08-01T17:18:34.743889Z"
    }
   },
   "outputs": [
    {
     "data": {
      "text/html": [
       "<div>\n",
       "<style scoped>\n",
       "    .dataframe tbody tr th:only-of-type {\n",
       "        vertical-align: middle;\n",
       "    }\n",
       "\n",
       "    .dataframe tbody tr th {\n",
       "        vertical-align: top;\n",
       "    }\n",
       "\n",
       "    .dataframe thead th {\n",
       "        text-align: right;\n",
       "    }\n",
       "</style>\n",
       "<table border=\"1\" class=\"dataframe\">\n",
       "  <thead>\n",
       "    <tr style=\"text-align: right;\">\n",
       "      <th></th>\n",
       "      <th>Unnamed: 0</th>\n",
       "      <th>$id</th>\n",
       "      <th>Id</th>\n",
       "      <th>Name</th>\n",
       "      <th>ParentPowerSystemId</th>\n",
       "      <th>PowerSystemId</th>\n",
       "      <th>SubjectId</th>\n",
       "      <th>Disabled</th>\n",
       "      <th>SvgPaths</th>\n",
       "      <th>Top</th>\n",
       "      <th>Bottom</th>\n",
       "      <th>Left</th>\n",
       "      <th>Right</th>\n",
       "      <th>IBR_PlannedConsumption</th>\n",
       "      <th>IBR_ActualConsumption</th>\n",
       "      <th>IBR_PlannedGeneration</th>\n",
       "      <th>IBR_ActualGeneration</th>\n",
       "      <th>IBR_AveragePrice</th>\n",
       "      <th>VSVGO_AveragePrice</th>\n",
       "      <th>VSVGO_Consumption</th>\n",
       "      <th>Selected</th>\n",
       "      <th>InfoCoordinates</th>\n",
       "      <th>Datetime</th>\n",
       "    </tr>\n",
       "  </thead>\n",
       "  <tbody>\n",
       "    <tr>\n",
       "      <th>441625</th>\n",
       "      <td>441625</td>\n",
       "      <td>17</td>\n",
       "      <td>550000_12</td>\n",
       "      <td>Астраханская область</td>\n",
       "      <td>550000</td>\n",
       "      <td>550000</td>\n",
       "      <td>12</td>\n",
       "      <td>False</td>\n",
       "      <td>['M0 0 M213 133 L210 130 L208 133 L207 12...</td>\n",
       "      <td>91</td>\n",
       "      <td>198</td>\n",
       "      <td>178</td>\n",
       "      <td>218</td>\n",
       "      <td>443 МВт*ч</td>\n",
       "      <td>453 МВт*ч</td>\n",
       "      <td>467 МВт*ч</td>\n",
       "      <td>466 МВт*ч</td>\n",
       "      <td>-</td>\n",
       "      <td>-</td>\n",
       "      <td>-</td>\n",
       "      <td>False</td>\n",
       "      <td>{'X': 0, 'Y': 0}</td>\n",
       "      <td>2014-09-05 16:00:00</td>\n",
       "    </tr>\n",
       "    <tr>\n",
       "      <th>174250</th>\n",
       "      <td>174250</td>\n",
       "      <td>17</td>\n",
       "      <td>550000_12</td>\n",
       "      <td>Астраханская область</td>\n",
       "      <td>550000</td>\n",
       "      <td>550000</td>\n",
       "      <td>12</td>\n",
       "      <td>False</td>\n",
       "      <td>['M0 0 M213 133 L210 130 L208 133 L207 12...</td>\n",
       "      <td>91</td>\n",
       "      <td>198</td>\n",
       "      <td>178</td>\n",
       "      <td>218</td>\n",
       "      <td>531 МВт*ч</td>\n",
       "      <td>541 МВт*ч</td>\n",
       "      <td>495 МВт*ч</td>\n",
       "      <td>494 МВт*ч</td>\n",
       "      <td>-</td>\n",
       "      <td>-</td>\n",
       "      <td>-</td>\n",
       "      <td>False</td>\n",
       "      <td>{'X': 0, 'Y': 0}</td>\n",
       "      <td>2015-04-07 19:00:00</td>\n",
       "    </tr>\n",
       "  </tbody>\n",
       "</table>\n",
       "</div>"
      ],
      "text/plain": [
       "        Unnamed: 0  $id         Id                  Name  ParentPowerSystemId  \\\n",
       "441625      441625   17  550000_12  Астраханская область               550000   \n",
       "174250      174250   17  550000_12  Астраханская область               550000   \n",
       "\n",
       "        PowerSystemId  SubjectId  Disabled  \\\n",
       "441625         550000         12     False   \n",
       "174250         550000         12     False   \n",
       "\n",
       "                                            SvgPaths  Top  Bottom  Left  \\\n",
       "441625  ['M0 0 M213 133 L210 130 L208 133 L207 12...   91     198   178   \n",
       "174250  ['M0 0 M213 133 L210 130 L208 133 L207 12...   91     198   178   \n",
       "\n",
       "        Right IBR_PlannedConsumption IBR_ActualConsumption  \\\n",
       "441625    218              443 МВт*ч             453 МВт*ч   \n",
       "174250    218              531 МВт*ч             541 МВт*ч   \n",
       "\n",
       "       IBR_PlannedGeneration IBR_ActualGeneration IBR_AveragePrice  \\\n",
       "441625             467 МВт*ч            466 МВт*ч                -   \n",
       "174250             495 МВт*ч            494 МВт*ч                -   \n",
       "\n",
       "       VSVGO_AveragePrice VSVGO_Consumption  Selected   InfoCoordinates  \\\n",
       "441625                  -                 -     False  {'X': 0, 'Y': 0}   \n",
       "174250                  -                 -     False  {'X': 0, 'Y': 0}   \n",
       "\n",
       "                   Datetime  \n",
       "441625  2014-09-05 16:00:00  \n",
       "174250  2015-04-07 19:00:00  "
      ]
     },
     "execution_count": 32,
     "metadata": {},
     "output_type": "execute_result"
    }
   ],
   "source": [
    "df[df[\"Right\"] == 218]"
   ]
  },
  {
   "cell_type": "code",
   "execution_count": 33,
   "id": "c066a27e",
   "metadata": {
    "ExecuteTime": {
     "end_time": "2024-08-01T17:18:34.788222Z",
     "start_time": "2024-08-01T17:18:34.762327Z"
    }
   },
   "outputs": [
    {
     "data": {
      "text/html": [
       "<div>\n",
       "<style scoped>\n",
       "    .dataframe tbody tr th:only-of-type {\n",
       "        vertical-align: middle;\n",
       "    }\n",
       "\n",
       "    .dataframe tbody tr th {\n",
       "        vertical-align: top;\n",
       "    }\n",
       "\n",
       "    .dataframe thead th {\n",
       "        text-align: right;\n",
       "    }\n",
       "</style>\n",
       "<table border=\"1\" class=\"dataframe\">\n",
       "  <thead>\n",
       "    <tr style=\"text-align: right;\">\n",
       "      <th></th>\n",
       "      <th>Unnamed: 0</th>\n",
       "      <th>$id</th>\n",
       "      <th>Id</th>\n",
       "      <th>Name</th>\n",
       "      <th>ParentPowerSystemId</th>\n",
       "      <th>PowerSystemId</th>\n",
       "      <th>SubjectId</th>\n",
       "      <th>Disabled</th>\n",
       "      <th>SvgPaths</th>\n",
       "      <th>Top</th>\n",
       "      <th>Bottom</th>\n",
       "      <th>Left</th>\n",
       "      <th>Right</th>\n",
       "      <th>IBR_PlannedConsumption</th>\n",
       "      <th>IBR_ActualConsumption</th>\n",
       "      <th>IBR_PlannedGeneration</th>\n",
       "      <th>IBR_ActualGeneration</th>\n",
       "      <th>IBR_AveragePrice</th>\n",
       "      <th>VSVGO_AveragePrice</th>\n",
       "      <th>VSVGO_Consumption</th>\n",
       "      <th>Selected</th>\n",
       "      <th>InfoCoordinates</th>\n",
       "      <th>Datetime</th>\n",
       "    </tr>\n",
       "  </thead>\n",
       "  <tbody>\n",
       "    <tr>\n",
       "      <th>483338</th>\n",
       "      <td>483338</td>\n",
       "      <td>12</td>\n",
       "      <td>600000_22</td>\n",
       "      <td>Нижегородская область</td>\n",
       "      <td>600000</td>\n",
       "      <td>600000</td>\n",
       "      <td>22</td>\n",
       "      <td>False</td>\n",
       "      <td>['M0 0 M150 76 L151 68 L154 64 L150 60 L1...</td>\n",
       "      <td>0</td>\n",
       "      <td>121</td>\n",
       "      <td>62</td>\n",
       "      <td>210</td>\n",
       "      <td>2 802 МВт*ч</td>\n",
       "      <td>2 868 МВт*ч</td>\n",
       "      <td>1 601 МВт*ч</td>\n",
       "      <td>1 082 МВт*ч</td>\n",
       "      <td>-</td>\n",
       "      <td>-</td>\n",
       "      <td>-</td>\n",
       "      <td>False</td>\n",
       "      <td>{'X': 0, 'Y': 0}</td>\n",
       "      <td>2019-09-26 12:00:00</td>\n",
       "    </tr>\n",
       "  </tbody>\n",
       "</table>\n",
       "</div>"
      ],
      "text/plain": [
       "        Unnamed: 0  $id         Id                   Name  \\\n",
       "483338      483338   12  600000_22  Нижегородская область   \n",
       "\n",
       "        ParentPowerSystemId  PowerSystemId  SubjectId  Disabled  \\\n",
       "483338               600000         600000         22     False   \n",
       "\n",
       "                                            SvgPaths  Top  Bottom  Left  \\\n",
       "483338  ['M0 0 M150 76 L151 68 L154 64 L150 60 L1...    0     121    62   \n",
       "\n",
       "        Right IBR_PlannedConsumption IBR_ActualConsumption  \\\n",
       "483338    210            2 802 МВт*ч           2 868 МВт*ч   \n",
       "\n",
       "       IBR_PlannedGeneration IBR_ActualGeneration IBR_AveragePrice  \\\n",
       "483338           1 601 МВт*ч          1 082 МВт*ч                -   \n",
       "\n",
       "       VSVGO_AveragePrice VSVGO_Consumption  Selected   InfoCoordinates  \\\n",
       "483338                  -                 -     False  {'X': 0, 'Y': 0}   \n",
       "\n",
       "                   Datetime  \n",
       "483338  2019-09-26 12:00:00  "
      ]
     },
     "execution_count": 33,
     "metadata": {},
     "output_type": "execute_result"
    }
   ],
   "source": [
    "df[df[\"Right\"] == 210]"
   ]
  },
  {
   "cell_type": "code",
   "execution_count": 34,
   "id": "0d27117d",
   "metadata": {
    "ExecuteTime": {
     "end_time": "2024-08-01T17:18:34.806165Z",
     "start_time": "2024-08-01T17:18:34.789643Z"
    }
   },
   "outputs": [
    {
     "data": {
      "text/html": [
       "<div>\n",
       "<style scoped>\n",
       "    .dataframe tbody tr th:only-of-type {\n",
       "        vertical-align: middle;\n",
       "    }\n",
       "\n",
       "    .dataframe tbody tr th {\n",
       "        vertical-align: top;\n",
       "    }\n",
       "\n",
       "    .dataframe thead th {\n",
       "        text-align: right;\n",
       "    }\n",
       "</style>\n",
       "<table border=\"1\" class=\"dataframe\">\n",
       "  <thead>\n",
       "    <tr style=\"text-align: right;\">\n",
       "      <th></th>\n",
       "      <th>Unnamed: 0</th>\n",
       "      <th>$id</th>\n",
       "      <th>Id</th>\n",
       "      <th>Name</th>\n",
       "      <th>ParentPowerSystemId</th>\n",
       "      <th>PowerSystemId</th>\n",
       "      <th>SubjectId</th>\n",
       "      <th>Disabled</th>\n",
       "      <th>SvgPaths</th>\n",
       "      <th>Top</th>\n",
       "      <th>Bottom</th>\n",
       "      <th>Left</th>\n",
       "      <th>Right</th>\n",
       "      <th>IBR_PlannedConsumption</th>\n",
       "      <th>IBR_ActualConsumption</th>\n",
       "      <th>IBR_PlannedGeneration</th>\n",
       "      <th>IBR_ActualGeneration</th>\n",
       "      <th>IBR_AveragePrice</th>\n",
       "      <th>VSVGO_AveragePrice</th>\n",
       "      <th>VSVGO_Consumption</th>\n",
       "      <th>Selected</th>\n",
       "      <th>InfoCoordinates</th>\n",
       "      <th>Datetime</th>\n",
       "    </tr>\n",
       "  </thead>\n",
       "  <tbody>\n",
       "    <tr>\n",
       "      <th>483345</th>\n",
       "      <td>483345</td>\n",
       "      <td>19</td>\n",
       "      <td>600000_92</td>\n",
       "      <td>Республика Татарстан (Татарстан)</td>\n",
       "      <td>600000</td>\n",
       "      <td>600000</td>\n",
       "      <td>92</td>\n",
       "      <td>False</td>\n",
       "      <td>['M0 0 M268 143 L265 142 L265 140 L265 13...</td>\n",
       "      <td>91</td>\n",
       "      <td>208</td>\n",
       "      <td>143</td>\n",
       "      <td>279</td>\n",
       "      <td>3 650 МВт*ч</td>\n",
       "      <td>3 617 МВт*ч</td>\n",
       "      <td>3 932 МВт*ч</td>\n",
       "      <td>3 915 МВт*ч</td>\n",
       "      <td>1 201 руб./МВт*ч</td>\n",
       "      <td>-</td>\n",
       "      <td>-</td>\n",
       "      <td>False</td>\n",
       "      <td>{'X': 0, 'Y': 0}</td>\n",
       "      <td>2019-09-26 12:00:00</td>\n",
       "    </tr>\n",
       "  </tbody>\n",
       "</table>\n",
       "</div>"
      ],
      "text/plain": [
       "        Unnamed: 0  $id         Id                              Name  \\\n",
       "483345      483345   19  600000_92  Республика Татарстан (Татарстан)   \n",
       "\n",
       "        ParentPowerSystemId  PowerSystemId  SubjectId  Disabled  \\\n",
       "483345               600000         600000         92     False   \n",
       "\n",
       "                                            SvgPaths  Top  Bottom  Left  \\\n",
       "483345  ['M0 0 M268 143 L265 142 L265 140 L265 13...   91     208   143   \n",
       "\n",
       "        Right IBR_PlannedConsumption IBR_ActualConsumption  \\\n",
       "483345    279            3 650 МВт*ч           3 617 МВт*ч   \n",
       "\n",
       "       IBR_PlannedGeneration IBR_ActualGeneration  IBR_AveragePrice  \\\n",
       "483345           3 932 МВт*ч          3 915 МВт*ч  1 201 руб./МВт*ч   \n",
       "\n",
       "       VSVGO_AveragePrice VSVGO_Consumption  Selected   InfoCoordinates  \\\n",
       "483345                  -                 -     False  {'X': 0, 'Y': 0}   \n",
       "\n",
       "                   Datetime  \n",
       "483345  2019-09-26 12:00:00  "
      ]
     },
     "execution_count": 34,
     "metadata": {},
     "output_type": "execute_result"
    }
   ],
   "source": [
    "df[df[\"Right\"] == 279]"
   ]
  },
  {
   "cell_type": "markdown",
   "id": "570c4070",
   "metadata": {},
   "source": [
    "**Выраженных проблем в строках выше найдено не было.**\n",
    "\n",
    "**Все значения корректны.**"
   ]
  },
  {
   "cell_type": "markdown",
   "id": "103c4fe6",
   "metadata": {},
   "source": [
    "---------------------------------------------------------------------------------------------------------------------------"
   ]
  },
  {
   "cell_type": "markdown",
   "id": "53974c93",
   "metadata": {},
   "source": [
    "**Признак `IBR_PlannedConsumption`.**\n",
    "\n",
    "**В дальнейшем признак не используется, поэтому отдельной обработки данный признак не требует, так как будет удалён.**\n",
    "\n",
    "**Исправление ошибок в данных по этому признаку затруднительно.**"
   ]
  },
  {
   "cell_type": "markdown",
   "id": "63f4f489",
   "metadata": {},
   "source": [
    "---------------------------------------------------------------------------------------------------------------------------"
   ]
  },
  {
   "cell_type": "markdown",
   "id": "a2a1a7b5",
   "metadata": {},
   "source": [
    "**Признак `IBR_ActualConsumption`.**\n",
    "\n",
    "**Ключевой признак, который будет обработан позже.**"
   ]
  },
  {
   "cell_type": "markdown",
   "id": "498aaf0c",
   "metadata": {},
   "source": [
    "---------------------------------------------------------------------------------------------------------------------------"
   ]
  },
  {
   "cell_type": "markdown",
   "id": "2a89be55",
   "metadata": {},
   "source": [
    "**Признак `IBR_PlannedGeneration`.**\n",
    "\n",
    "**В дальнейшем признак не используется, поэтому отдельной обработки данный признак не требует, так как будет удалён.**\n",
    "\n",
    "**Исправление ошибок в данных по этому признаку затруднительно.**"
   ]
  },
  {
   "cell_type": "markdown",
   "id": "f982e250",
   "metadata": {},
   "source": [
    "---------------------------------------------------------------------------------------------------------------------------"
   ]
  },
  {
   "cell_type": "markdown",
   "id": "4c7f9523",
   "metadata": {},
   "source": [
    "**Признак `IBR_ActualGeneration`.**\n",
    "\n",
    "**В дальнейшем признак не используется, поэтому отдельной обработки данный признак не требует, так как будет удалён.**\n",
    "\n",
    "**Исправление ошибок в данных по этому признаку затруднительно.**"
   ]
  },
  {
   "cell_type": "markdown",
   "id": "a68f17e1",
   "metadata": {},
   "source": [
    "---------------------------------------------------------------------------------------------------------------------------"
   ]
  },
  {
   "cell_type": "markdown",
   "id": "b0fed315",
   "metadata": {},
   "source": [
    "**Признак `IBR_AveragePrice`.**\n",
    "\n",
    "**В дальнейшем признак не используется, поэтому отдельной обработки данный признак не требует, так как будет удалён.**\n",
    "\n",
    "**Исправление ошибок в данных по этому признаку затруднительно.**"
   ]
  },
  {
   "cell_type": "markdown",
   "id": "7d2a614d",
   "metadata": {},
   "source": [
    "---------------------------------------------------------------------------------------------------------------------------"
   ]
  },
  {
   "cell_type": "markdown",
   "id": "4adab028",
   "metadata": {},
   "source": [
    "**Признак `VSVGO_AveragePrice`.**\n",
    "\n",
    "**В дальнейшем признак не используется, поэтому отдельной обработки данный признак не требует, так как будет удалён.**\n",
    "\n",
    "**Исправление ошибок в данных по этому признаку затруднительно.**"
   ]
  },
  {
   "cell_type": "markdown",
   "id": "153cc3ca",
   "metadata": {},
   "source": [
    "---------------------------------------------------------------------------------------------------------------------------"
   ]
  },
  {
   "cell_type": "markdown",
   "id": "8fc52904",
   "metadata": {},
   "source": [
    "**Признак `VSVGO_Consumption`.**\n",
    "\n",
    "**В дальнейшем признак не используется, поэтому отдельной обработки данный признак не требует, так как будет удалён.**\n",
    "\n",
    "**Исправление ошибок в данных по этому признаку затруднительно.**"
   ]
  },
  {
   "cell_type": "markdown",
   "id": "61899b08",
   "metadata": {},
   "source": [
    "---------------------------------------------------------------------------------------------------------------------------"
   ]
  },
  {
   "cell_type": "markdown",
   "id": "16a0a4e8",
   "metadata": {},
   "source": [
    "**Признаки `Selected`:**\n",
    "\n",
    "**В дальнейшем признак не используется, однако по нему (признаку) можно исправить ошибки в данных при наличии последних.**"
   ]
  },
  {
   "cell_type": "code",
   "execution_count": 35,
   "id": "fa977fad",
   "metadata": {
    "ExecuteTime": {
     "end_time": "2024-08-01T17:18:34.876057Z",
     "start_time": "2024-08-01T17:18:34.806669Z"
    }
   },
   "outputs": [
    {
     "data": {
      "text/plain": [
       "False    8685450\n",
       "Name: Selected, dtype: int64"
      ]
     },
     "execution_count": 35,
     "metadata": {},
     "output_type": "execute_result"
    }
   ],
   "source": [
    "df[\"Selected\"].value_counts().tail(2)"
   ]
  },
  {
   "cell_type": "markdown",
   "id": "69145112",
   "metadata": {},
   "source": [
    "**Все значения корректны.**"
   ]
  },
  {
   "cell_type": "markdown",
   "id": "7458d106",
   "metadata": {},
   "source": [
    "---------------------------------------------------------------------------------------------------------------------------"
   ]
  },
  {
   "cell_type": "markdown",
   "id": "0d761906",
   "metadata": {},
   "source": [
    "**Признаки `InfoCoordinates`:**\n",
    "\n",
    "**В дальнейшем признак не используется, однако по нему (признаку) можно исправить ошибки в данных при наличии последних.**"
   ]
  },
  {
   "cell_type": "code",
   "execution_count": 36,
   "id": "0290c4f0",
   "metadata": {
    "ExecuteTime": {
     "end_time": "2024-08-01T17:18:35.241021Z",
     "start_time": "2024-08-01T17:18:34.877360Z"
    }
   },
   "outputs": [
    {
     "data": {
      "text/plain": [
       "{'X': 0, 'Y': 0}    8685450\n",
       "Name: InfoCoordinates, dtype: int64"
      ]
     },
     "execution_count": 36,
     "metadata": {},
     "output_type": "execute_result"
    }
   ],
   "source": [
    "df[\"InfoCoordinates\"].value_counts()"
   ]
  },
  {
   "cell_type": "markdown",
   "id": "17d60069",
   "metadata": {},
   "source": [
    "**Все значения корректны.**"
   ]
  },
  {
   "cell_type": "markdown",
   "id": "02be3553",
   "metadata": {},
   "source": [
    "---------------------------------------------------------------------------------------------------------------------------"
   ]
  },
  {
   "cell_type": "markdown",
   "id": "0b978733",
   "metadata": {},
   "source": [
    "**Признак `Datetime`.**\n",
    "\n",
    "**Ключевой признак, который будет обработан позже.**"
   ]
  },
  {
   "cell_type": "markdown",
   "id": "2743505e",
   "metadata": {},
   "source": [
    "---------------------------------------------------------------------------------------------------------------------------"
   ]
  },
  {
   "cell_type": "markdown",
   "id": "a11bd54a",
   "metadata": {},
   "source": [
    "**Отбор ненужных для исследования признаков:**"
   ]
  },
  {
   "cell_type": "code",
   "execution_count": 37,
   "id": "c8b4c307",
   "metadata": {
    "ExecuteTime": {
     "end_time": "2024-08-01T17:18:35.245614Z",
     "start_time": "2024-08-01T17:18:35.242153Z"
    }
   },
   "outputs": [],
   "source": [
    "drop_columns = set(df.columns) - main_columns"
   ]
  },
  {
   "cell_type": "markdown",
   "id": "9386ee00",
   "metadata": {},
   "source": [
    "**Рассмотрим колонки на удаление:**"
   ]
  },
  {
   "cell_type": "code",
   "execution_count": 38,
   "id": "68776118",
   "metadata": {
    "ExecuteTime": {
     "end_time": "2024-08-01T17:18:35.250304Z",
     "start_time": "2024-08-01T17:18:35.246858Z"
    }
   },
   "outputs": [
    {
     "name": "stdout",
     "output_type": "stream",
     "text": [
      "ParentPowerSystemId\n",
      "VSVGO_AveragePrice\n",
      "Selected\n",
      "SubjectId\n",
      "SvgPaths\n",
      "$id\n",
      "PowerSystemId\n",
      "Bottom\n",
      "IBR_PlannedConsumption\n",
      "Top\n",
      "Right\n",
      "Id\n",
      "IBR_PlannedGeneration\n",
      "IBR_ActualGeneration\n",
      "VSVGO_Consumption\n",
      "Unnamed: 0\n",
      "Left\n",
      "InfoCoordinates\n",
      "IBR_AveragePrice\n",
      "Disabled\n"
     ]
    }
   ],
   "source": [
    "print(*drop_columns, sep='\\n')"
   ]
  },
  {
   "cell_type": "markdown",
   "id": "e1a59322",
   "metadata": {},
   "source": [
    "**Удаление ненужных признаков:**"
   ]
  },
  {
   "cell_type": "code",
   "execution_count": 39,
   "id": "b2cc7d5b",
   "metadata": {
    "ExecuteTime": {
     "end_time": "2024-08-01T17:18:35.558154Z",
     "start_time": "2024-08-01T17:18:35.252312Z"
    },
    "scrolled": true
   },
   "outputs": [],
   "source": [
    "df.drop(columns=drop_columns, inplace=True);"
   ]
  },
  {
   "cell_type": "markdown",
   "id": "e7cc0f2d",
   "metadata": {},
   "source": [
    "---------------------------------------------------------------------------------------------------------------------------"
   ]
  },
  {
   "cell_type": "markdown",
   "id": "35059958",
   "metadata": {},
   "source": [
    "**Обновлённый dataframe:**"
   ]
  },
  {
   "cell_type": "code",
   "execution_count": 40,
   "id": "216cecba",
   "metadata": {
    "ExecuteTime": {
     "end_time": "2024-08-01T17:18:35.566371Z",
     "start_time": "2024-08-01T17:18:35.559626Z"
    },
    "scrolled": true
   },
   "outputs": [
    {
     "data": {
      "text/html": [
       "<div>\n",
       "<style scoped>\n",
       "    .dataframe tbody tr th:only-of-type {\n",
       "        vertical-align: middle;\n",
       "    }\n",
       "\n",
       "    .dataframe tbody tr th {\n",
       "        vertical-align: top;\n",
       "    }\n",
       "\n",
       "    .dataframe thead th {\n",
       "        text-align: right;\n",
       "    }\n",
       "</style>\n",
       "<table border=\"1\" class=\"dataframe\">\n",
       "  <thead>\n",
       "    <tr style=\"text-align: right;\">\n",
       "      <th></th>\n",
       "      <th>Name</th>\n",
       "      <th>IBR_ActualConsumption</th>\n",
       "      <th>Datetime</th>\n",
       "    </tr>\n",
       "  </thead>\n",
       "  <tbody>\n",
       "    <tr>\n",
       "      <th>0</th>\n",
       "      <td>Белгородская область</td>\n",
       "      <td>1 592 МВт*ч</td>\n",
       "      <td>2011-01-01 00:00:00</td>\n",
       "    </tr>\n",
       "    <tr>\n",
       "      <th>1</th>\n",
       "      <td>Брянская область</td>\n",
       "      <td>514 МВт*ч</td>\n",
       "      <td>2011-01-01 00:00:00</td>\n",
       "    </tr>\n",
       "    <tr>\n",
       "      <th>2</th>\n",
       "      <td>Владимирская область</td>\n",
       "      <td>806 МВт*ч</td>\n",
       "      <td>2011-01-01 00:00:00</td>\n",
       "    </tr>\n",
       "    <tr>\n",
       "      <th>3</th>\n",
       "      <td>Вологодская область</td>\n",
       "      <td>1 523 МВт*ч</td>\n",
       "      <td>2011-01-01 00:00:00</td>\n",
       "    </tr>\n",
       "    <tr>\n",
       "      <th>4</th>\n",
       "      <td>Воронежская область</td>\n",
       "      <td>1 112 МВт*ч</td>\n",
       "      <td>2011-01-01 00:00:00</td>\n",
       "    </tr>\n",
       "  </tbody>\n",
       "</table>\n",
       "</div>"
      ],
      "text/plain": [
       "                   Name IBR_ActualConsumption             Datetime\n",
       "0  Белгородская область           1 592 МВт*ч  2011-01-01 00:00:00\n",
       "1      Брянская область             514 МВт*ч  2011-01-01 00:00:00\n",
       "2  Владимирская область             806 МВт*ч  2011-01-01 00:00:00\n",
       "3   Вологодская область           1 523 МВт*ч  2011-01-01 00:00:00\n",
       "4   Воронежская область           1 112 МВт*ч  2011-01-01 00:00:00"
      ]
     },
     "execution_count": 40,
     "metadata": {},
     "output_type": "execute_result"
    }
   ],
   "source": [
    "df.head()"
   ]
  },
  {
   "cell_type": "markdown",
   "id": "d049c612",
   "metadata": {},
   "source": [
    "---------------------------------------------------------------------------------------------------------------------------"
   ]
  },
  {
   "cell_type": "markdown",
   "id": "73d0f55f",
   "metadata": {},
   "source": [
    "**Проверка на пропущенные значения (NaN):**"
   ]
  },
  {
   "cell_type": "code",
   "execution_count": 41,
   "id": "98abbc51",
   "metadata": {
    "ExecuteTime": {
     "end_time": "2024-08-01T17:18:35.889199Z",
     "start_time": "2024-08-01T17:18:35.567376Z"
    },
    "scrolled": true
   },
   "outputs": [
    {
     "data": {
      "text/plain": [
       "0"
      ]
     },
     "execution_count": 41,
     "metadata": {},
     "output_type": "execute_result"
    }
   ],
   "source": [
    "df[\"Name\"].isnull().sum()"
   ]
  },
  {
   "cell_type": "code",
   "execution_count": 42,
   "id": "b3cfff45",
   "metadata": {
    "ExecuteTime": {
     "end_time": "2024-08-01T17:18:36.111466Z",
     "start_time": "2024-08-01T17:18:35.890712Z"
    }
   },
   "outputs": [
    {
     "data": {
      "text/plain": [
       "0"
      ]
     },
     "execution_count": 42,
     "metadata": {},
     "output_type": "execute_result"
    }
   ],
   "source": [
    "df[\"IBR_ActualConsumption\"].isnull().sum()"
   ]
  },
  {
   "cell_type": "code",
   "execution_count": 43,
   "id": "a4e286ee",
   "metadata": {
    "ExecuteTime": {
     "end_time": "2024-08-01T17:18:36.312469Z",
     "start_time": "2024-08-01T17:18:36.112795Z"
    }
   },
   "outputs": [
    {
     "data": {
      "text/plain": [
       "0"
      ]
     },
     "execution_count": 43,
     "metadata": {},
     "output_type": "execute_result"
    }
   ],
   "source": [
    "df[\"Datetime\"].isnull().sum()"
   ]
  },
  {
   "cell_type": "markdown",
   "id": "01c118fd",
   "metadata": {},
   "source": [
    "**Явно пропущенных значений нет.**"
   ]
  },
  {
   "cell_type": "markdown",
   "id": "4f91f349",
   "metadata": {},
   "source": [
    "---------------------------------------------------------------------------------------------------------------------------"
   ]
  },
  {
   "cell_type": "markdown",
   "id": "26743d7c",
   "metadata": {},
   "source": [
    "**Переименнуем столбцы для удобства:**"
   ]
  },
  {
   "cell_type": "code",
   "execution_count": 44,
   "id": "7b575ab5",
   "metadata": {
    "ExecuteTime": {
     "end_time": "2024-08-01T17:18:36.317778Z",
     "start_time": "2024-08-01T17:18:36.314481Z"
    }
   },
   "outputs": [],
   "source": [
    "df.rename(columns={\n",
    "                   \"Name\": \"subject_name\",\n",
    "                   \"Datetime\": \"datetime\",\n",
    "                   \"IBR_ActualConsumption\": \"actual_consumption\"\n",
    "                  }, inplace=True)"
   ]
  },
  {
   "cell_type": "markdown",
   "id": "7779bb3d",
   "metadata": {},
   "source": [
    "**Изменённый dataframe:**"
   ]
  },
  {
   "cell_type": "code",
   "execution_count": 45,
   "id": "345db131",
   "metadata": {
    "ExecuteTime": {
     "end_time": "2024-08-01T17:18:36.325316Z",
     "start_time": "2024-08-01T17:18:36.319016Z"
    }
   },
   "outputs": [
    {
     "data": {
      "text/html": [
       "<div>\n",
       "<style scoped>\n",
       "    .dataframe tbody tr th:only-of-type {\n",
       "        vertical-align: middle;\n",
       "    }\n",
       "\n",
       "    .dataframe tbody tr th {\n",
       "        vertical-align: top;\n",
       "    }\n",
       "\n",
       "    .dataframe thead th {\n",
       "        text-align: right;\n",
       "    }\n",
       "</style>\n",
       "<table border=\"1\" class=\"dataframe\">\n",
       "  <thead>\n",
       "    <tr style=\"text-align: right;\">\n",
       "      <th></th>\n",
       "      <th>subject_name</th>\n",
       "      <th>actual_consumption</th>\n",
       "      <th>datetime</th>\n",
       "    </tr>\n",
       "  </thead>\n",
       "  <tbody>\n",
       "    <tr>\n",
       "      <th>0</th>\n",
       "      <td>Белгородская область</td>\n",
       "      <td>1 592 МВт*ч</td>\n",
       "      <td>2011-01-01 00:00:00</td>\n",
       "    </tr>\n",
       "    <tr>\n",
       "      <th>1</th>\n",
       "      <td>Брянская область</td>\n",
       "      <td>514 МВт*ч</td>\n",
       "      <td>2011-01-01 00:00:00</td>\n",
       "    </tr>\n",
       "    <tr>\n",
       "      <th>2</th>\n",
       "      <td>Владимирская область</td>\n",
       "      <td>806 МВт*ч</td>\n",
       "      <td>2011-01-01 00:00:00</td>\n",
       "    </tr>\n",
       "  </tbody>\n",
       "</table>\n",
       "</div>"
      ],
      "text/plain": [
       "           subject_name actual_consumption             datetime\n",
       "0  Белгородская область        1 592 МВт*ч  2011-01-01 00:00:00\n",
       "1      Брянская область          514 МВт*ч  2011-01-01 00:00:00\n",
       "2  Владимирская область          806 МВт*ч  2011-01-01 00:00:00"
      ]
     },
     "execution_count": 45,
     "metadata": {},
     "output_type": "execute_result"
    }
   ],
   "source": [
    "df.head(3)"
   ]
  },
  {
   "cell_type": "markdown",
   "id": "1e108433",
   "metadata": {},
   "source": [
    "---------------------------------------------------------------------------------------------------------------------------"
   ]
  },
  {
   "cell_type": "markdown",
   "id": "9be48c98",
   "metadata": {},
   "source": [
    "**Удаление дубликатов из dataframe-а:**"
   ]
  },
  {
   "cell_type": "code",
   "execution_count": 46,
   "id": "59695ff4",
   "metadata": {
    "ExecuteTime": {
     "end_time": "2024-08-01T17:18:39.405623Z",
     "start_time": "2024-08-01T17:18:36.326807Z"
    }
   },
   "outputs": [],
   "source": [
    "df.drop_duplicates(inplace=True)"
   ]
  },
  {
   "cell_type": "markdown",
   "id": "47184f26",
   "metadata": {},
   "source": [
    "**Обновлённый dataframe:**"
   ]
  },
  {
   "cell_type": "code",
   "execution_count": 47,
   "id": "2e0de112",
   "metadata": {
    "ExecuteTime": {
     "end_time": "2024-08-01T17:18:39.411504Z",
     "start_time": "2024-08-01T17:18:39.406991Z"
    }
   },
   "outputs": [
    {
     "data": {
      "text/plain": [
       "(8685450, 3)"
      ]
     },
     "execution_count": 47,
     "metadata": {},
     "output_type": "execute_result"
    }
   ],
   "source": [
    "df.shape"
   ]
  },
  {
   "cell_type": "markdown",
   "id": "ff440507",
   "metadata": {},
   "source": [
    "---------------------------------------------------------------------------------------------------------------------------"
   ]
  },
  {
   "cell_type": "markdown",
   "id": "ad81320f",
   "metadata": {},
   "source": [
    "**Преобразуем поле `actual_consumption` dataframe-а в целый тип:**"
   ]
  },
  {
   "cell_type": "code",
   "execution_count": 48,
   "id": "0e062caf",
   "metadata": {
    "ExecuteTime": {
     "end_time": "2024-08-01T17:18:46.490046Z",
     "start_time": "2024-08-01T17:18:39.412516Z"
    }
   },
   "outputs": [],
   "source": [
    "df[\"actual_consumption\"] = df[\"actual_consumption\"].apply(to_int)"
   ]
  },
  {
   "cell_type": "markdown",
   "id": "897f0902",
   "metadata": {},
   "source": [
    "**Проверим преобразованные dataframe:**"
   ]
  },
  {
   "cell_type": "code",
   "execution_count": 49,
   "id": "8368f8d1",
   "metadata": {
    "ExecuteTime": {
     "end_time": "2024-08-01T17:18:46.498490Z",
     "start_time": "2024-08-01T17:18:46.491054Z"
    }
   },
   "outputs": [
    {
     "data": {
      "text/html": [
       "<div>\n",
       "<style scoped>\n",
       "    .dataframe tbody tr th:only-of-type {\n",
       "        vertical-align: middle;\n",
       "    }\n",
       "\n",
       "    .dataframe tbody tr th {\n",
       "        vertical-align: top;\n",
       "    }\n",
       "\n",
       "    .dataframe thead th {\n",
       "        text-align: right;\n",
       "    }\n",
       "</style>\n",
       "<table border=\"1\" class=\"dataframe\">\n",
       "  <thead>\n",
       "    <tr style=\"text-align: right;\">\n",
       "      <th></th>\n",
       "      <th>subject_name</th>\n",
       "      <th>actual_consumption</th>\n",
       "      <th>datetime</th>\n",
       "    </tr>\n",
       "  </thead>\n",
       "  <tbody>\n",
       "    <tr>\n",
       "      <th>0</th>\n",
       "      <td>Белгородская область</td>\n",
       "      <td>1592.0</td>\n",
       "      <td>2011-01-01 00:00:00</td>\n",
       "    </tr>\n",
       "    <tr>\n",
       "      <th>1</th>\n",
       "      <td>Брянская область</td>\n",
       "      <td>514.0</td>\n",
       "      <td>2011-01-01 00:00:00</td>\n",
       "    </tr>\n",
       "    <tr>\n",
       "      <th>2</th>\n",
       "      <td>Владимирская область</td>\n",
       "      <td>806.0</td>\n",
       "      <td>2011-01-01 00:00:00</td>\n",
       "    </tr>\n",
       "  </tbody>\n",
       "</table>\n",
       "</div>"
      ],
      "text/plain": [
       "           subject_name  actual_consumption             datetime\n",
       "0  Белгородская область              1592.0  2011-01-01 00:00:00\n",
       "1      Брянская область               514.0  2011-01-01 00:00:00\n",
       "2  Владимирская область               806.0  2011-01-01 00:00:00"
      ]
     },
     "execution_count": 49,
     "metadata": {},
     "output_type": "execute_result"
    }
   ],
   "source": [
    "df.head(3)"
   ]
  },
  {
   "cell_type": "markdown",
   "id": "62ba9c62",
   "metadata": {},
   "source": [
    "---------------------------------------------------------------------------------------------------------------------------"
   ]
  },
  {
   "cell_type": "markdown",
   "id": "78d374e7",
   "metadata": {},
   "source": [
    "**Проверим количество незаполненных строк признака `actual_consumption` после преобразования:**"
   ]
  },
  {
   "cell_type": "code",
   "execution_count": 50,
   "id": "60616271",
   "metadata": {
    "ExecuteTime": {
     "end_time": "2024-08-01T17:18:46.518443Z",
     "start_time": "2024-08-01T17:18:46.499495Z"
    }
   },
   "outputs": [
    {
     "data": {
      "text/plain": [
       "207001"
      ]
     },
     "execution_count": 50,
     "metadata": {},
     "output_type": "execute_result"
    }
   ],
   "source": [
    "df[\"actual_consumption\"].isna().sum()"
   ]
  },
  {
   "cell_type": "markdown",
   "id": "749b0cad",
   "metadata": {},
   "source": [
    "**Имеются незаполненные строки.**\n",
    "\n",
    "**Рассмотрим их отдельно:**"
   ]
  },
  {
   "cell_type": "code",
   "execution_count": 51,
   "id": "4cd6b005",
   "metadata": {
    "ExecuteTime": {
     "end_time": "2024-08-01T17:18:46.553473Z",
     "start_time": "2024-08-01T17:18:46.519451Z"
    },
    "scrolled": true
   },
   "outputs": [
    {
     "data": {
      "text/html": [
       "<div>\n",
       "<style scoped>\n",
       "    .dataframe tbody tr th:only-of-type {\n",
       "        vertical-align: middle;\n",
       "    }\n",
       "\n",
       "    .dataframe tbody tr th {\n",
       "        vertical-align: top;\n",
       "    }\n",
       "\n",
       "    .dataframe thead th {\n",
       "        text-align: right;\n",
       "    }\n",
       "</style>\n",
       "<table border=\"1\" class=\"dataframe\">\n",
       "  <thead>\n",
       "    <tr style=\"text-align: right;\">\n",
       "      <th></th>\n",
       "      <th>subject_name</th>\n",
       "      <th>actual_consumption</th>\n",
       "      <th>datetime</th>\n",
       "    </tr>\n",
       "  </thead>\n",
       "  <tbody>\n",
       "    <tr>\n",
       "      <th>19</th>\n",
       "      <td>Западный энергорайон Якутии</td>\n",
       "      <td>NaN</td>\n",
       "      <td>2011-01-01 00:00:00</td>\n",
       "    </tr>\n",
       "    <tr>\n",
       "      <th>20</th>\n",
       "      <td>Центральный энергорайон Якутии</td>\n",
       "      <td>NaN</td>\n",
       "      <td>2011-01-01 00:00:00</td>\n",
       "    </tr>\n",
       "    <tr>\n",
       "      <th>24</th>\n",
       "      <td>Еврейская автономная область</td>\n",
       "      <td>NaN</td>\n",
       "      <td>2011-01-01 00:00:00</td>\n",
       "    </tr>\n",
       "  </tbody>\n",
       "</table>\n",
       "</div>"
      ],
      "text/plain": [
       "                      subject_name  actual_consumption             datetime\n",
       "19     Западный энергорайон Якутии                 NaN  2011-01-01 00:00:00\n",
       "20  Центральный энергорайон Якутии                 NaN  2011-01-01 00:00:00\n",
       "24    Еврейская автономная область                 NaN  2011-01-01 00:00:00"
      ]
     },
     "execution_count": 51,
     "metadata": {},
     "output_type": "execute_result"
    }
   ],
   "source": [
    "df[df[\"actual_consumption\"].isna()].head(3)"
   ]
  },
  {
   "cell_type": "code",
   "execution_count": 52,
   "id": "d67a83cb",
   "metadata": {
    "ExecuteTime": {
     "end_time": "2024-08-01T17:18:46.585197Z",
     "start_time": "2024-08-01T17:18:46.554926Z"
    },
    "scrolled": true
   },
   "outputs": [
    {
     "data": {
      "text/html": [
       "<div>\n",
       "<style scoped>\n",
       "    .dataframe tbody tr th:only-of-type {\n",
       "        vertical-align: middle;\n",
       "    }\n",
       "\n",
       "    .dataframe tbody tr th {\n",
       "        vertical-align: top;\n",
       "    }\n",
       "\n",
       "    .dataframe thead th {\n",
       "        text-align: right;\n",
       "    }\n",
       "</style>\n",
       "<table border=\"1\" class=\"dataframe\">\n",
       "  <thead>\n",
       "    <tr style=\"text-align: right;\">\n",
       "      <th></th>\n",
       "      <th>subject_name</th>\n",
       "      <th>actual_consumption</th>\n",
       "      <th>datetime</th>\n",
       "    </tr>\n",
       "  </thead>\n",
       "  <tbody>\n",
       "    <tr>\n",
       "      <th>318725</th>\n",
       "      <td>Красноярский край</td>\n",
       "      <td>NaN</td>\n",
       "      <td>2024-06-26 03:00:00</td>\n",
       "    </tr>\n",
       "    <tr>\n",
       "      <th>348476</th>\n",
       "      <td>Волгоградская область</td>\n",
       "      <td>NaN</td>\n",
       "      <td>2024-07-12 17:00:00</td>\n",
       "    </tr>\n",
       "    <tr>\n",
       "      <th>351016</th>\n",
       "      <td>Тульская область</td>\n",
       "      <td>NaN</td>\n",
       "      <td>2024-07-14 03:00:00</td>\n",
       "    </tr>\n",
       "  </tbody>\n",
       "</table>\n",
       "</div>"
      ],
      "text/plain": [
       "                 subject_name  actual_consumption             datetime\n",
       "318725      Красноярский край                 NaN  2024-06-26 03:00:00\n",
       "348476  Волгоградская область                 NaN  2024-07-12 17:00:00\n",
       "351016       Тульская область                 NaN  2024-07-14 03:00:00"
      ]
     },
     "execution_count": 52,
     "metadata": {},
     "output_type": "execute_result"
    }
   ],
   "source": [
    "df[df[\"actual_consumption\"].isna()].tail(3)"
   ]
  },
  {
   "cell_type": "markdown",
   "id": "c22a8650",
   "metadata": {},
   "source": [
    "---------------------------------------------------------------------------------------------------------------------------"
   ]
  },
  {
   "cell_type": "markdown",
   "id": "9c1f2464",
   "metadata": {},
   "source": [
    "**Оценим процент пропущенных значений:**"
   ]
  },
  {
   "cell_type": "code",
   "execution_count": 53,
   "id": "d31dfeb0",
   "metadata": {
    "ExecuteTime": {
     "end_time": "2024-08-01T17:18:46.621020Z",
     "start_time": "2024-08-01T17:18:46.586204Z"
    }
   },
   "outputs": [
    {
     "name": "stdout",
     "output_type": "stream",
     "text": [
      "2.383307715777536 % данных с пропущенным значением признака.\n"
     ]
    }
   ],
   "source": [
    "print(f\"{df[df['actual_consumption'].isna()].shape[0] / df.shape[0] * 100} % данных с пропущенным значением признака.\")"
   ]
  },
  {
   "cell_type": "markdown",
   "id": "ceca11a4",
   "metadata": {},
   "source": [
    "**Строки со значеним признаков `NaN` можно удалить, так как их относительно немного.**\n",
    "\n",
    "**При наличии времени, возможно, заполнение пропущенных значений: средним, медианой, предыдущим значением, следующим значением, скользящий средней, скользящий медианой, линейной интерполяцией, полиномиальная интерполяция, сплайном.**"
   ]
  },
  {
   "cell_type": "code",
   "execution_count": 54,
   "id": "fb002237",
   "metadata": {
    "ExecuteTime": {
     "end_time": "2024-08-01T17:18:46.849022Z",
     "start_time": "2024-08-01T17:18:46.622435Z"
    }
   },
   "outputs": [],
   "source": [
    "df = df[df[\"actual_consumption\"].notna()]"
   ]
  },
  {
   "cell_type": "markdown",
   "id": "a10ec5a6",
   "metadata": {},
   "source": [
    "**Повторный обзор значений признака dataframe-а:**"
   ]
  },
  {
   "cell_type": "code",
   "execution_count": 55,
   "id": "a7ef793e",
   "metadata": {
    "ExecuteTime": {
     "end_time": "2024-08-01T17:18:46.866998Z",
     "start_time": "2024-08-01T17:18:46.851040Z"
    }
   },
   "outputs": [
    {
     "data": {
      "text/plain": [
       "0"
      ]
     },
     "execution_count": 55,
     "metadata": {},
     "output_type": "execute_result"
    }
   ],
   "source": [
    "df[\"actual_consumption\"].isna().sum()"
   ]
  },
  {
   "cell_type": "markdown",
   "id": "74bed149",
   "metadata": {},
   "source": [
    "---------------------------------------------------------------------------------------------------------------------------"
   ]
  },
  {
   "cell_type": "markdown",
   "id": "6831c62e",
   "metadata": {},
   "source": [
    "**Отсортируем dataframe по столбцам `datetime`, `subject_name`:**"
   ]
  },
  {
   "cell_type": "code",
   "execution_count": 56,
   "id": "acaf733c",
   "metadata": {
    "ExecuteTime": {
     "end_time": "2024-08-01T17:18:49.297200Z",
     "start_time": "2024-08-01T17:18:46.868421Z"
    }
   },
   "outputs": [],
   "source": [
    "df.sort_values(by=[\"datetime\", \"subject_name\"], inplace=True)"
   ]
  },
  {
   "cell_type": "markdown",
   "id": "702e0f77",
   "metadata": {},
   "source": [
    "**Снесём индексы:**"
   ]
  },
  {
   "cell_type": "code",
   "execution_count": 57,
   "id": "627c5e11",
   "metadata": {
    "ExecuteTime": {
     "end_time": "2024-08-01T17:18:49.303571Z",
     "start_time": "2024-08-01T17:18:49.298760Z"
    }
   },
   "outputs": [],
   "source": [
    "df.reset_index(drop=True, inplace=True)"
   ]
  },
  {
   "cell_type": "markdown",
   "id": "08cf5525",
   "metadata": {},
   "source": [
    "**Итоговый dataframe:**"
   ]
  },
  {
   "cell_type": "code",
   "execution_count": 58,
   "id": "aa5aa193",
   "metadata": {
    "ExecuteTime": {
     "end_time": "2024-08-01T17:18:49.315270Z",
     "start_time": "2024-08-01T17:18:49.305361Z"
    }
   },
   "outputs": [
    {
     "data": {
      "text/html": [
       "<div>\n",
       "<style scoped>\n",
       "    .dataframe tbody tr th:only-of-type {\n",
       "        vertical-align: middle;\n",
       "    }\n",
       "\n",
       "    .dataframe tbody tr th {\n",
       "        vertical-align: top;\n",
       "    }\n",
       "\n",
       "    .dataframe thead th {\n",
       "        text-align: right;\n",
       "    }\n",
       "</style>\n",
       "<table border=\"1\" class=\"dataframe\">\n",
       "  <thead>\n",
       "    <tr style=\"text-align: right;\">\n",
       "      <th></th>\n",
       "      <th>subject_name</th>\n",
       "      <th>actual_consumption</th>\n",
       "      <th>datetime</th>\n",
       "    </tr>\n",
       "  </thead>\n",
       "  <tbody>\n",
       "    <tr>\n",
       "      <th>0</th>\n",
       "      <td>Алтайский край</td>\n",
       "      <td>1313.0</td>\n",
       "      <td>2011-01-01 00:00:00</td>\n",
       "    </tr>\n",
       "    <tr>\n",
       "      <th>1</th>\n",
       "      <td>Амурская область</td>\n",
       "      <td>870.0</td>\n",
       "      <td>2011-01-01 00:00:00</td>\n",
       "    </tr>\n",
       "    <tr>\n",
       "      <th>2</th>\n",
       "      <td>Архангельская область</td>\n",
       "      <td>970.0</td>\n",
       "      <td>2011-01-01 00:00:00</td>\n",
       "    </tr>\n",
       "  </tbody>\n",
       "</table>\n",
       "</div>"
      ],
      "text/plain": [
       "            subject_name  actual_consumption             datetime\n",
       "0         Алтайский край              1313.0  2011-01-01 00:00:00\n",
       "1       Амурская область               870.0  2011-01-01 00:00:00\n",
       "2  Архангельская область               970.0  2011-01-01 00:00:00"
      ]
     },
     "execution_count": 58,
     "metadata": {},
     "output_type": "execute_result"
    }
   ],
   "source": [
    "df.head(3)"
   ]
  },
  {
   "cell_type": "markdown",
   "id": "19a5f669",
   "metadata": {},
   "source": [
    "---------------------------------------------------------------------------------------------------------------------------"
   ]
  },
  {
   "cell_type": "markdown",
   "id": "0d01d693",
   "metadata": {
    "ExecuteTime": {
     "end_time": "2024-07-29T10:42:54.805797Z",
     "start_time": "2024-07-29T10:42:54.078772Z"
    }
   },
   "source": [
    "**Установим дату как индекс у dataframe-а:**"
   ]
  },
  {
   "cell_type": "code",
   "execution_count": 59,
   "id": "9cf50b76",
   "metadata": {
    "ExecuteTime": {
     "end_time": "2024-08-01T17:18:49.322784Z",
     "start_time": "2024-08-01T17:18:49.317316Z"
    }
   },
   "outputs": [],
   "source": [
    "df.set_index(\n",
    "             df[\"datetime\"],\n",
    "             drop=True,\n",
    "             inplace=True\n",
    "            )"
   ]
  },
  {
   "cell_type": "markdown",
   "id": "f8b9d822",
   "metadata": {},
   "source": [
    "**Посмотрим на обновлённый dataframe:**"
   ]
  },
  {
   "cell_type": "code",
   "execution_count": 60,
   "id": "2cbaa4cd",
   "metadata": {
    "ExecuteTime": {
     "end_time": "2024-08-01T17:18:49.330878Z",
     "start_time": "2024-08-01T17:18:49.324071Z"
    }
   },
   "outputs": [
    {
     "data": {
      "text/html": [
       "<div>\n",
       "<style scoped>\n",
       "    .dataframe tbody tr th:only-of-type {\n",
       "        vertical-align: middle;\n",
       "    }\n",
       "\n",
       "    .dataframe tbody tr th {\n",
       "        vertical-align: top;\n",
       "    }\n",
       "\n",
       "    .dataframe thead th {\n",
       "        text-align: right;\n",
       "    }\n",
       "</style>\n",
       "<table border=\"1\" class=\"dataframe\">\n",
       "  <thead>\n",
       "    <tr style=\"text-align: right;\">\n",
       "      <th></th>\n",
       "      <th>subject_name</th>\n",
       "      <th>actual_consumption</th>\n",
       "      <th>datetime</th>\n",
       "    </tr>\n",
       "    <tr>\n",
       "      <th>datetime</th>\n",
       "      <th></th>\n",
       "      <th></th>\n",
       "      <th></th>\n",
       "    </tr>\n",
       "  </thead>\n",
       "  <tbody>\n",
       "    <tr>\n",
       "      <th>2011-01-01 00:00:00</th>\n",
       "      <td>Алтайский край</td>\n",
       "      <td>1313.0</td>\n",
       "      <td>2011-01-01 00:00:00</td>\n",
       "    </tr>\n",
       "    <tr>\n",
       "      <th>2011-01-01 00:00:00</th>\n",
       "      <td>Амурская область</td>\n",
       "      <td>870.0</td>\n",
       "      <td>2011-01-01 00:00:00</td>\n",
       "    </tr>\n",
       "    <tr>\n",
       "      <th>2011-01-01 00:00:00</th>\n",
       "      <td>Архангельская область</td>\n",
       "      <td>970.0</td>\n",
       "      <td>2011-01-01 00:00:00</td>\n",
       "    </tr>\n",
       "  </tbody>\n",
       "</table>\n",
       "</div>"
      ],
      "text/plain": [
       "                              subject_name  actual_consumption  \\\n",
       "datetime                                                         \n",
       "2011-01-01 00:00:00         Алтайский край              1313.0   \n",
       "2011-01-01 00:00:00       Амурская область               870.0   \n",
       "2011-01-01 00:00:00  Архангельская область               970.0   \n",
       "\n",
       "                                datetime  \n",
       "datetime                                  \n",
       "2011-01-01 00:00:00  2011-01-01 00:00:00  \n",
       "2011-01-01 00:00:00  2011-01-01 00:00:00  \n",
       "2011-01-01 00:00:00  2011-01-01 00:00:00  "
      ]
     },
     "execution_count": 60,
     "metadata": {},
     "output_type": "execute_result"
    }
   ],
   "source": [
    "df.head(3)"
   ]
  },
  {
   "cell_type": "markdown",
   "id": "abb914e6",
   "metadata": {},
   "source": [
    "---------------------------------------------------------------------------------------------------------------------------"
   ]
  },
  {
   "cell_type": "markdown",
   "id": "51912eb2",
   "metadata": {},
   "source": [
    "**Удалим ненужный временной столбец:**"
   ]
  },
  {
   "cell_type": "code",
   "execution_count": 61,
   "id": "8bb4e776",
   "metadata": {
    "ExecuteTime": {
     "end_time": "2024-08-01T17:18:49.334675Z",
     "start_time": "2024-08-01T17:18:49.331886Z"
    }
   },
   "outputs": [],
   "source": [
    "# df.drop(columns=[\"datetime\"], inplace=True)"
   ]
  },
  {
   "cell_type": "markdown",
   "id": "01c06168",
   "metadata": {},
   "source": [
    "**Посмотрим на обновлённый dataframe:**"
   ]
  },
  {
   "cell_type": "code",
   "execution_count": 62,
   "id": "069098a4",
   "metadata": {
    "ExecuteTime": {
     "end_time": "2024-08-01T17:18:49.342493Z",
     "start_time": "2024-08-01T17:18:49.335681Z"
    }
   },
   "outputs": [
    {
     "data": {
      "text/html": [
       "<div>\n",
       "<style scoped>\n",
       "    .dataframe tbody tr th:only-of-type {\n",
       "        vertical-align: middle;\n",
       "    }\n",
       "\n",
       "    .dataframe tbody tr th {\n",
       "        vertical-align: top;\n",
       "    }\n",
       "\n",
       "    .dataframe thead th {\n",
       "        text-align: right;\n",
       "    }\n",
       "</style>\n",
       "<table border=\"1\" class=\"dataframe\">\n",
       "  <thead>\n",
       "    <tr style=\"text-align: right;\">\n",
       "      <th></th>\n",
       "      <th>subject_name</th>\n",
       "      <th>actual_consumption</th>\n",
       "      <th>datetime</th>\n",
       "    </tr>\n",
       "    <tr>\n",
       "      <th>datetime</th>\n",
       "      <th></th>\n",
       "      <th></th>\n",
       "      <th></th>\n",
       "    </tr>\n",
       "  </thead>\n",
       "  <tbody>\n",
       "    <tr>\n",
       "      <th>2011-01-01 00:00:00</th>\n",
       "      <td>Алтайский край</td>\n",
       "      <td>1313.0</td>\n",
       "      <td>2011-01-01 00:00:00</td>\n",
       "    </tr>\n",
       "    <tr>\n",
       "      <th>2011-01-01 00:00:00</th>\n",
       "      <td>Амурская область</td>\n",
       "      <td>870.0</td>\n",
       "      <td>2011-01-01 00:00:00</td>\n",
       "    </tr>\n",
       "    <tr>\n",
       "      <th>2011-01-01 00:00:00</th>\n",
       "      <td>Архангельская область</td>\n",
       "      <td>970.0</td>\n",
       "      <td>2011-01-01 00:00:00</td>\n",
       "    </tr>\n",
       "  </tbody>\n",
       "</table>\n",
       "</div>"
      ],
      "text/plain": [
       "                              subject_name  actual_consumption  \\\n",
       "datetime                                                         \n",
       "2011-01-01 00:00:00         Алтайский край              1313.0   \n",
       "2011-01-01 00:00:00       Амурская область               870.0   \n",
       "2011-01-01 00:00:00  Архангельская область               970.0   \n",
       "\n",
       "                                datetime  \n",
       "datetime                                  \n",
       "2011-01-01 00:00:00  2011-01-01 00:00:00  \n",
       "2011-01-01 00:00:00  2011-01-01 00:00:00  \n",
       "2011-01-01 00:00:00  2011-01-01 00:00:00  "
      ]
     },
     "execution_count": 62,
     "metadata": {},
     "output_type": "execute_result"
    }
   ],
   "source": [
    "df.head(3)"
   ]
  },
  {
   "cell_type": "markdown",
   "id": "8b27a198",
   "metadata": {},
   "source": [
    "---------------------------------------------------------------------------------------------------------------------------"
   ]
  },
  {
   "cell_type": "markdown",
   "id": "0f7e3ffd",
   "metadata": {},
   "source": [
    "**Переименуем столбец индексов:**"
   ]
  },
  {
   "cell_type": "code",
   "execution_count": 63,
   "id": "6aa33afe",
   "metadata": {
    "ExecuteTime": {
     "end_time": "2024-08-01T17:18:49.347034Z",
     "start_time": "2024-08-01T17:18:49.343986Z"
    }
   },
   "outputs": [],
   "source": [
    "df.index.rename(\"index\", inplace=True)"
   ]
  },
  {
   "cell_type": "markdown",
   "id": "eedd8637",
   "metadata": {},
   "source": [
    "**Посмотрим на обновлённый dataframe:**"
   ]
  },
  {
   "cell_type": "code",
   "execution_count": 64,
   "id": "57cbf27a",
   "metadata": {
    "ExecuteTime": {
     "end_time": "2024-08-01T17:18:49.355270Z",
     "start_time": "2024-08-01T17:18:49.348043Z"
    }
   },
   "outputs": [
    {
     "data": {
      "text/html": [
       "<div>\n",
       "<style scoped>\n",
       "    .dataframe tbody tr th:only-of-type {\n",
       "        vertical-align: middle;\n",
       "    }\n",
       "\n",
       "    .dataframe tbody tr th {\n",
       "        vertical-align: top;\n",
       "    }\n",
       "\n",
       "    .dataframe thead th {\n",
       "        text-align: right;\n",
       "    }\n",
       "</style>\n",
       "<table border=\"1\" class=\"dataframe\">\n",
       "  <thead>\n",
       "    <tr style=\"text-align: right;\">\n",
       "      <th></th>\n",
       "      <th>subject_name</th>\n",
       "      <th>actual_consumption</th>\n",
       "      <th>datetime</th>\n",
       "    </tr>\n",
       "    <tr>\n",
       "      <th>index</th>\n",
       "      <th></th>\n",
       "      <th></th>\n",
       "      <th></th>\n",
       "    </tr>\n",
       "  </thead>\n",
       "  <tbody>\n",
       "    <tr>\n",
       "      <th>2011-01-01 00:00:00</th>\n",
       "      <td>Алтайский край</td>\n",
       "      <td>1313.0</td>\n",
       "      <td>2011-01-01 00:00:00</td>\n",
       "    </tr>\n",
       "    <tr>\n",
       "      <th>2011-01-01 00:00:00</th>\n",
       "      <td>Амурская область</td>\n",
       "      <td>870.0</td>\n",
       "      <td>2011-01-01 00:00:00</td>\n",
       "    </tr>\n",
       "    <tr>\n",
       "      <th>2011-01-01 00:00:00</th>\n",
       "      <td>Архангельская область</td>\n",
       "      <td>970.0</td>\n",
       "      <td>2011-01-01 00:00:00</td>\n",
       "    </tr>\n",
       "  </tbody>\n",
       "</table>\n",
       "</div>"
      ],
      "text/plain": [
       "                              subject_name  actual_consumption  \\\n",
       "index                                                            \n",
       "2011-01-01 00:00:00         Алтайский край              1313.0   \n",
       "2011-01-01 00:00:00       Амурская область               870.0   \n",
       "2011-01-01 00:00:00  Архангельская область               970.0   \n",
       "\n",
       "                                datetime  \n",
       "index                                     \n",
       "2011-01-01 00:00:00  2011-01-01 00:00:00  \n",
       "2011-01-01 00:00:00  2011-01-01 00:00:00  \n",
       "2011-01-01 00:00:00  2011-01-01 00:00:00  "
      ]
     },
     "execution_count": 64,
     "metadata": {},
     "output_type": "execute_result"
    }
   ],
   "source": [
    "df.head(3)"
   ]
  },
  {
   "cell_type": "markdown",
   "id": "8901b0c1",
   "metadata": {},
   "source": [
    "---------------------------------------------------------------------------------------------------------------------------"
   ]
  },
  {
   "cell_type": "markdown",
   "id": "42e3d52f",
   "metadata": {},
   "source": [
    "**Сохраним dataframe в отдельный файл для дальнейший работы:**"
   ]
  },
  {
   "cell_type": "code",
   "execution_count": 65,
   "id": "a4032faf",
   "metadata": {
    "ExecuteTime": {
     "end_time": "2024-08-01T17:18:52.668018Z",
     "start_time": "2024-08-01T17:18:49.356640Z"
    }
   },
   "outputs": [],
   "source": [
    "df.to_parquet(\"prepare_data/data.gzip\")"
   ]
  },
  {
   "cell_type": "markdown",
   "id": "2312f703",
   "metadata": {
    "ExecuteTime": {
     "end_time": "2024-07-29T08:13:04.212125Z",
     "start_time": "2024-07-29T08:13:02.092739Z"
    }
   },
   "source": [
    "---------------------------------------------------------------------------------------------------------------------------"
   ]
  }
 ],
 "metadata": {
  "kernelspec": {
   "display_name": "Python 3 (ipykernel)",
   "language": "python",
   "name": "python3"
  },
  "language_info": {
   "codemirror_mode": {
    "name": "ipython",
    "version": 3
   },
   "file_extension": ".py",
   "mimetype": "text/x-python",
   "name": "python",
   "nbconvert_exporter": "python",
   "pygments_lexer": "ipython3",
   "version": "3.11.5"
  },
  "toc": {
   "base_numbering": 1,
   "nav_menu": {},
   "number_sections": true,
   "sideBar": true,
   "skip_h1_title": false,
   "title_cell": "Table of Contents",
   "title_sidebar": "Contents",
   "toc_cell": false,
   "toc_position": {},
   "toc_section_display": true,
   "toc_window_display": false
  }
 },
 "nbformat": 4,
 "nbformat_minor": 5
}

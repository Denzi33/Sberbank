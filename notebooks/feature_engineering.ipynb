{
 "cells": [
  {
   "cell_type": "markdown",
   "id": "af6e5df8",
   "metadata": {},
   "source": [
    "# Создание признаков"
   ]
  },
  {
   "cell_type": "markdown",
   "id": "86143336",
   "metadata": {},
   "source": [
    "**_______________________________________________________________________________________________________________________________**"
   ]
  },
  {
   "cell_type": "markdown",
   "id": "40a11537",
   "metadata": {},
   "source": [
    "**Загрузим всё необходимое: зависимости, сущности и модули:**"
   ]
  },
  {
   "cell_type": "code",
   "execution_count": null,
   "id": "780b0857",
   "metadata": {
    "ExecuteTime": {
     "start_time": "2024-08-18T13:02:33.444Z"
    }
   },
   "outputs": [],
   "source": [
    "%run ../src/parsing/preset.py"
   ]
  },
  {
   "cell_type": "markdown",
   "id": "f64f032d",
   "metadata": {},
   "source": [
    "___________________________________________________________________________________________________________________________"
   ]
  },
  {
   "cell_type": "markdown",
   "id": "c8a2b505",
   "metadata": {},
   "source": [
    "**Настройка текущий тетрадки (notebook):**"
   ]
  },
  {
   "cell_type": "code",
   "execution_count": null,
   "id": "55a2a75d",
   "metadata": {
    "ExecuteTime": {
     "start_time": "2024-08-18T13:02:33.446Z"
    }
   },
   "outputs": [],
   "source": [
    "# Установка количества отображаемых строк:\n",
    "pd.set_option(\"display.max_rows\", 75)\n",
    "\n",
    "# Установка количества отображаемых столбцов:\n",
    "pd.set_option(\"display.max_columns\", 25)\n",
    "\n",
    "# Установка ограничения на количество отображаемых символов записи:\n",
    "pd.set_option(\"display.max_colwidth\", 45)"
   ]
  },
  {
   "cell_type": "markdown",
   "id": "a525f824",
   "metadata": {},
   "source": [
    "___________________________________________________________________________________________________________________________"
   ]
  },
  {
   "cell_type": "markdown",
   "id": "c6c62576",
   "metadata": {},
   "source": [
    "**Имортируемые данные для дальнейшей работы:**"
   ]
  },
  {
   "cell_type": "code",
   "execution_count": null,
   "id": "a10dba7f",
   "metadata": {
    "ExecuteTime": {
     "start_time": "2024-08-18T13:02:33.448Z"
    }
   },
   "outputs": [],
   "source": [
    "df = pd.read_parquet(\"../data/prep_df.gzip\")"
   ]
  },
  {
   "cell_type": "markdown",
   "id": "c23b39ec",
   "metadata": {},
   "source": [
    "___________________________________________________________________________________________________________________________"
   ]
  },
  {
   "cell_type": "markdown",
   "id": "31d08c3a",
   "metadata": {},
   "source": [
    "**Посмотрим на скаченные данные:**"
   ]
  },
  {
   "cell_type": "code",
   "execution_count": null,
   "id": "3b12972f",
   "metadata": {
    "ExecuteTime": {
     "start_time": "2024-08-18T13:02:33.450Z"
    }
   },
   "outputs": [],
   "source": [
    "print(f\"Количество строк dataframe-а: {df.shape[0]}\\nКоличество столбцов dataframe-а: {df.shape[1]}\")"
   ]
  },
  {
   "cell_type": "code",
   "execution_count": null,
   "id": "1025d336",
   "metadata": {
    "ExecuteTime": {
     "start_time": "2024-08-18T13:02:33.451Z"
    }
   },
   "outputs": [],
   "source": [
    "df.info()"
   ]
  },
  {
   "cell_type": "code",
   "execution_count": null,
   "id": "3bab20c1",
   "metadata": {
    "ExecuteTime": {
     "start_time": "2024-08-18T13:02:33.452Z"
    }
   },
   "outputs": [],
   "source": [
    "df.head(3)"
   ]
  },
  {
   "cell_type": "markdown",
   "id": "f2a2945a",
   "metadata": {},
   "source": [
    "___________________________________________________________________________________________________________________________"
   ]
  },
  {
   "cell_type": "markdown",
   "id": "b4b87443",
   "metadata": {},
   "source": [
    "**Создание time-step (которые можно получить непосредственно из даты и времени) признаков:**"
   ]
  },
  {
   "cell_type": "markdown",
   "id": "612f6277",
   "metadata": {},
   "source": [
    "**Признак `time_dummie` - номер временного шага:**"
   ]
  },
  {
   "cell_type": "code",
   "execution_count": null,
   "id": "df4de0f5",
   "metadata": {
    "ExecuteTime": {
     "start_time": "2024-08-18T13:02:33.453Z"
    },
    "code_folding": []
   },
   "outputs": [],
   "source": [
    "def create_time_dummie_feature(feature: pd.DataFrame) -> pd.Series:\n",
    "    \"\"\"\n",
    "    \n",
    "    \"\"\"\n",
    "    \n",
    "    temp_df = pd.DataFrame()\n",
    "\n",
    "    for subj in df[\"subject_name\"].unique():\n",
    "        subj_df = df[df[\"subject_name\"] == subj].copy()\n",
    "        subj_df[\"time_dummie\"] = range(1, subj_df.shape[0] + 1)\n",
    "        temp_df = temp_df.append(subj_df)\n",
    "        \n",
    "    temp_df.sort_values(by=[\"datetime\", \"subject_name\", \"time_dummie\"], inplace=True)\n",
    "    \n",
    "    return temp_df[\"time_dummie\"]"
   ]
  },
  {
   "cell_type": "code",
   "execution_count": null,
   "id": "37a82a1d",
   "metadata": {
    "ExecuteTime": {
     "start_time": "2024-08-18T13:02:33.455Z"
    }
   },
   "outputs": [],
   "source": [
    "df[\"time_dummie\"] = create_time_dummie_feature(df)"
   ]
  },
  {
   "cell_type": "code",
   "execution_count": null,
   "id": "6f2cfcd1",
   "metadata": {
    "ExecuteTime": {
     "start_time": "2024-08-18T13:02:33.456Z"
    }
   },
   "outputs": [],
   "source": [
    "df[\"year\"] = df[\"datetime\"].apply(get_year)"
   ]
  },
  {
   "cell_type": "code",
   "execution_count": null,
   "id": "2d6ec1cc",
   "metadata": {
    "ExecuteTime": {
     "start_time": "2024-08-18T13:02:33.457Z"
    }
   },
   "outputs": [],
   "source": [
    "df[\"month\"] = df[\"datetime\"].apply(get_month)"
   ]
  },
  {
   "cell_type": "code",
   "execution_count": null,
   "id": "ab4c7036",
   "metadata": {
    "ExecuteTime": {
     "start_time": "2024-08-18T13:02:33.458Z"
    }
   },
   "outputs": [],
   "source": [
    "df[\"day_of_month\"] = df[\"datetime\"].apply(get_day_month)"
   ]
  },
  {
   "cell_type": "code",
   "execution_count": null,
   "id": "a7a2e0f3",
   "metadata": {
    "ExecuteTime": {
     "start_time": "2024-08-18T13:02:33.459Z"
    }
   },
   "outputs": [],
   "source": [
    "df[\"hour\"] = df[\"datetime\"].apply(get_hour)"
   ]
  },
  {
   "cell_type": "code",
   "execution_count": null,
   "id": "d795d768",
   "metadata": {
    "ExecuteTime": {
     "start_time": "2024-08-18T13:02:33.460Z"
    }
   },
   "outputs": [],
   "source": [
    "df[\"day_of_week\"] = df[\"datetime\"].apply(get_day_week)"
   ]
  },
  {
   "cell_type": "code",
   "execution_count": null,
   "id": "6a672584",
   "metadata": {
    "ExecuteTime": {
     "start_time": "2024-08-18T13:02:33.462Z"
    }
   },
   "outputs": [],
   "source": [
    "df[\"day_of_year\"] = df[\"datetime\"].apply(get_day_year)"
   ]
  },
  {
   "cell_type": "code",
   "execution_count": null,
   "id": "e2d67b6a",
   "metadata": {
    "ExecuteTime": {
     "start_time": "2024-08-18T13:02:33.463Z"
    }
   },
   "outputs": [],
   "source": [
    "df[\"week_of_year\"] = df[\"datetime\"].apply(get_week_year)"
   ]
  },
  {
   "cell_type": "code",
   "execution_count": null,
   "id": "b2de5a81",
   "metadata": {
    "ExecuteTime": {
     "start_time": "2024-08-18T13:02:33.464Z"
    }
   },
   "outputs": [],
   "source": [
    "df[\"quarter\"] = df[\"datetime\"].apply(get_quarter)"
   ]
  },
  {
   "cell_type": "code",
   "execution_count": null,
   "id": "84b378f2",
   "metadata": {
    "ExecuteTime": {
     "start_time": "2024-08-18T13:02:33.465Z"
    }
   },
   "outputs": [],
   "source": [
    "df[\"holiday\"] = df[\"datetime\"].apply(is_holiday)"
   ]
  },
  {
   "cell_type": "code",
   "execution_count": null,
   "id": "62d774c9",
   "metadata": {},
   "outputs": [],
   "source": []
  },
  {
   "cell_type": "code",
   "execution_count": null,
   "id": "d1c2d776",
   "metadata": {},
   "outputs": [],
   "source": []
  },
  {
   "cell_type": "markdown",
   "id": "4f133db2",
   "metadata": {},
   "source": [
    "**Создание lag (отложенных по времени) признаков:**"
   ]
  },
  {
   "cell_type": "code",
   "execution_count": null,
   "id": "05fd98b6",
   "metadata": {
    "ExecuteTime": {
     "start_time": "2024-08-18T13:02:33.467Z"
    }
   },
   "outputs": [],
   "source": [
    "def create_lag_feature(feature: pd.DataFrame, step_count: int) -> pd.Series:\n",
    "    \"\"\"\n",
    "    \n",
    "    \"\"\"\n",
    "    \n",
    "    temp_df = pd.DataFrame()\n",
    "\n",
    "    for subj in df[\"subject_name\"].unique():\n",
    "        subj_df = df[df[\"subject_name\"] == subj].copy()\n",
    "        subj_df[\"actual_consumption\"] = subj_df[\"actual_consumption\"].shift(step_count)\n",
    "        temp_df = temp_df.append(subj_df)\n",
    "        \n",
    "    temp_df.sort_values(by=[\"datetime\", \"subject_name\"], inplace=True)\n",
    "    \n",
    "    return temp_df[\"actual_consumption\"]"
   ]
  },
  {
   "cell_type": "code",
   "execution_count": null,
   "id": "8573bf34",
   "metadata": {
    "ExecuteTime": {
     "start_time": "2024-08-18T13:02:33.469Z"
    }
   },
   "outputs": [],
   "source": [
    "df[\"lag_hour\"] = create_lag_feature(df, hour)"
   ]
  },
  {
   "cell_type": "code",
   "execution_count": null,
   "id": "cb72142b",
   "metadata": {
    "ExecuteTime": {
     "start_time": "2024-08-18T13:02:33.470Z"
    }
   },
   "outputs": [],
   "source": [
    "df[\"lag_day\"] = create_lag_feature(df, day)"
   ]
  },
  {
   "cell_type": "code",
   "execution_count": null,
   "id": "8518fac8",
   "metadata": {
    "ExecuteTime": {
     "start_time": "2024-08-18T13:02:33.471Z"
    }
   },
   "outputs": [],
   "source": [
    "df[\"lag_week\"] = create_lag_feature(df, week)"
   ]
  },
  {
   "cell_type": "code",
   "execution_count": null,
   "id": "a9097bea",
   "metadata": {
    "ExecuteTime": {
     "start_time": "2024-08-18T13:02:33.472Z"
    }
   },
   "outputs": [],
   "source": [
    "df[\"lag_month\"] = create_lag_feature(df, month)"
   ]
  },
  {
   "cell_type": "code",
   "execution_count": null,
   "id": "76165c3f",
   "metadata": {
    "ExecuteTime": {
     "start_time": "2024-08-18T13:02:33.473Z"
    }
   },
   "outputs": [],
   "source": [
    "df[\"lag_year\"] = create_lag_feature(df, year)"
   ]
  },
  {
   "cell_type": "code",
   "execution_count": null,
   "id": "ac7f93f2",
   "metadata": {
    "ExecuteTime": {
     "start_time": "2024-08-18T13:02:33.474Z"
    }
   },
   "outputs": [],
   "source": [
    "df.head()"
   ]
  },
  {
   "cell_type": "code",
   "execution_count": null,
   "id": "719f56ad",
   "metadata": {
    "ExecuteTime": {
     "start_time": "2024-08-18T13:02:33.475Z"
    }
   },
   "outputs": [],
   "source": [
    "df = df[df[\"day_of_week\"] < 6]"
   ]
  },
  {
   "cell_type": "code",
   "execution_count": null,
   "id": "f12400eb",
   "metadata": {
    "ExecuteTime": {
     "start_time": "2024-08-18T13:02:33.476Z"
    }
   },
   "outputs": [],
   "source": [
    "subjects = pd.get_dummies(df[\"subject_name\"])"
   ]
  },
  {
   "cell_type": "code",
   "execution_count": null,
   "id": "29ed4f0a",
   "metadata": {
    "ExecuteTime": {
     "start_time": "2024-08-18T13:02:33.477Z"
    }
   },
   "outputs": [],
   "source": [
    "df.drop(columns=[\"subject_name\"], inplace=True)"
   ]
  },
  {
   "cell_type": "code",
   "execution_count": null,
   "id": "865de876",
   "metadata": {
    "ExecuteTime": {
     "start_time": "2024-08-18T13:02:33.478Z"
    }
   },
   "outputs": [],
   "source": [
    "df = pd.concat([df, subjects], axis=1)"
   ]
  },
  {
   "cell_type": "code",
   "execution_count": null,
   "id": "f7600b59",
   "metadata": {
    "ExecuteTime": {
     "start_time": "2024-08-18T13:02:33.479Z"
    }
   },
   "outputs": [],
   "source": [
    "df.head()"
   ]
  },
  {
   "cell_type": "code",
   "execution_count": null,
   "id": "abf77edd",
   "metadata": {
    "ExecuteTime": {
     "start_time": "2024-08-18T13:02:33.480Z"
    }
   },
   "outputs": [],
   "source": [
    "df.drop(columns=[\"datetime\"], inplace=True)"
   ]
  },
  {
   "cell_type": "code",
   "execution_count": null,
   "id": "c5db9ab2",
   "metadata": {
    "ExecuteTime": {
     "start_time": "2024-08-18T13:02:33.481Z"
    }
   },
   "outputs": [],
   "source": [
    "df[\"day_of_week\"].value_counts()"
   ]
  },
  {
   "cell_type": "code",
   "execution_count": null,
   "id": "dabd3d5c",
   "metadata": {
    "ExecuteTime": {
     "start_time": "2024-08-18T13:02:33.482Z"
    }
   },
   "outputs": [],
   "source": [
    "df.dropna(inplace=True)"
   ]
  },
  {
   "cell_type": "code",
   "execution_count": null,
   "id": "53523012",
   "metadata": {
    "ExecuteTime": {
     "start_time": "2024-08-18T13:02:33.483Z"
    }
   },
   "outputs": [],
   "source": [
    "df.info()"
   ]
  },
  {
   "cell_type": "code",
   "execution_count": null,
   "id": "f2a7be56",
   "metadata": {
    "ExecuteTime": {
     "start_time": "2024-08-18T13:02:33.484Z"
    }
   },
   "outputs": [],
   "source": [
    "df.head(3)"
   ]
  },
  {
   "cell_type": "code",
   "execution_count": null,
   "id": "37f69f7f",
   "metadata": {
    "ExecuteTime": {
     "start_time": "2024-08-18T13:02:33.486Z"
    }
   },
   "outputs": [],
   "source": [
    "dsada"
   ]
  },
  {
   "cell_type": "code",
   "execution_count": null,
   "id": "8b2c4ba2",
   "metadata": {
    "ExecuteTime": {
     "start_time": "2024-08-18T13:02:33.487Z"
    }
   },
   "outputs": [],
   "source": [
    "df.to_parquet(\"../prepare_data/feature_data.gzip\")"
   ]
  },
  {
   "cell_type": "code",
   "execution_count": null,
   "id": "63902edc",
   "metadata": {},
   "outputs": [],
   "source": []
  },
  {
   "cell_type": "code",
   "execution_count": null,
   "id": "e793498b",
   "metadata": {},
   "outputs": [],
   "source": []
  },
  {
   "cell_type": "code",
   "execution_count": null,
   "id": "36a029d0",
   "metadata": {},
   "outputs": [],
   "source": []
  },
  {
   "cell_type": "code",
   "execution_count": null,
   "id": "e6ee2759",
   "metadata": {},
   "outputs": [],
   "source": []
  },
  {
   "cell_type": "code",
   "execution_count": null,
   "id": "18a004da",
   "metadata": {
    "ExecuteTime": {
     "start_time": "2024-08-18T13:02:33.491Z"
    }
   },
   "outputs": [],
   "source": [
    "column_indices = {name: i for i, name in enumerate(df.columns)}\n",
    "\n",
    "n = len(df)\n",
    "train_df = df[0:int(n*0.7)]\n",
    "val_df = df[int(n*0.7):int(n*0.9)]\n",
    "test_df = df[int(n*0.9):]\n",
    "\n",
    "num_features = df.shape[1]"
   ]
  },
  {
   "cell_type": "code",
   "execution_count": null,
   "id": "b1cfd55d",
   "metadata": {
    "ExecuteTime": {
     "start_time": "2024-08-18T13:02:33.492Z"
    }
   },
   "outputs": [],
   "source": [
    "train_mean = train_df.mean()\n",
    "train_std = train_df.std()\n",
    "\n",
    "train_df = (train_df - train_mean) / train_std\n",
    "val_df = (val_df - train_mean) / train_std\n",
    "test_df = (test_df - train_mean) / train_std"
   ]
  },
  {
   "cell_type": "code",
   "execution_count": null,
   "id": "0e66a0f4",
   "metadata": {},
   "outputs": [],
   "source": []
  },
  {
   "cell_type": "code",
   "execution_count": null,
   "id": "020226ca",
   "metadata": {},
   "outputs": [],
   "source": []
  },
  {
   "cell_type": "code",
   "execution_count": null,
   "id": "81e1fab1",
   "metadata": {},
   "outputs": [],
   "source": []
  },
  {
   "cell_type": "code",
   "execution_count": null,
   "id": "f8ae9fe0",
   "metadata": {},
   "outputs": [],
   "source": []
  },
  {
   "cell_type": "code",
   "execution_count": null,
   "id": "00cb8cff",
   "metadata": {},
   "outputs": [],
   "source": []
  },
  {
   "cell_type": "code",
   "execution_count": null,
   "id": "66bd15ad",
   "metadata": {},
   "outputs": [],
   "source": []
  },
  {
   "cell_type": "code",
   "execution_count": null,
   "id": "7ae143e1",
   "metadata": {},
   "outputs": [],
   "source": []
  },
  {
   "cell_type": "code",
   "execution_count": null,
   "id": "b5ba7a37",
   "metadata": {},
   "outputs": [],
   "source": []
  },
  {
   "cell_type": "code",
   "execution_count": null,
   "id": "163f44e8",
   "metadata": {},
   "outputs": [],
   "source": []
  },
  {
   "cell_type": "code",
   "execution_count": null,
   "id": "4050aca3",
   "metadata": {},
   "outputs": [],
   "source": []
  },
  {
   "cell_type": "code",
   "execution_count": null,
   "id": "49209477",
   "metadata": {},
   "outputs": [],
   "source": []
  },
  {
   "cell_type": "code",
   "execution_count": null,
   "id": "be55bde2",
   "metadata": {},
   "outputs": [],
   "source": []
  },
  {
   "cell_type": "code",
   "execution_count": null,
   "id": "29cdfc29",
   "metadata": {},
   "outputs": [],
   "source": []
  },
  {
   "cell_type": "code",
   "execution_count": null,
   "id": "7fb4769d",
   "metadata": {},
   "outputs": [],
   "source": []
  },
  {
   "cell_type": "code",
   "execution_count": null,
   "id": "46c9bcd2",
   "metadata": {},
   "outputs": [],
   "source": []
  },
  {
   "cell_type": "code",
   "execution_count": null,
   "id": "4280cd90",
   "metadata": {
    "ExecuteTime": {
     "start_time": "2024-08-18T13:02:33.503Z"
    }
   },
   "outputs": [],
   "source": [
    "# # Предобработка данных\n",
    "# scaler = MinMaxScaler()\n",
    "# df['actual_consumption'] = scaler.fit_transform(df[['actual_consumption']])\n",
    "\n",
    "# y = df['actual_consumption'].values\n",
    "\n",
    "# # Подготовка признаков и целевой переменной\n",
    "# X = df.drop('actual_consumption', axis=1).values\n",
    "# # y = df['actual_consumption'].values\n",
    "\n",
    "# # Разделение на обучающую и тестовую выборки\n",
    "# X_train, X_test, y_train, y_test = train_test_split(X, y, test_size=0.2, shuffle=False)\n",
    "\n",
    "# # Создание генератора данных\n",
    "# class TimeSeriesGenerator(Sequence):\n",
    "#     def __init__(self, X, y, batch_size, sequence_length):\n",
    "#         self.X = X\n",
    "#         self.y = y\n",
    "#         self.batch_size = batch_size\n",
    "#         self.sequence_length = sequence_length\n",
    "        \n",
    "#     def __len__(self):\n",
    "#         return (len(self.X) - self.sequence_length) // self.batch_size\n",
    "    \n",
    "#     def __getitem__(self, idx):\n",
    "#         start_idx = idx * self.batch_size\n",
    "#         end_idx = (idx + 1) * self.batch_size\n",
    "        \n",
    "#         X_batch = np.array([self.X[i:i+self.sequence_length] for i in range(start_idx, end_idx)])\n",
    "#         y_batch = self.y[start_idx+self.sequence_length:end_idx+self.sequence_length]\n",
    "        \n",
    "#         return X_batch, y_batch\n",
    "\n",
    "# # Параметры\n",
    "# sequence_length = 30\n",
    "# batch_size = 256\n",
    "\n",
    "# # Создание генераторов\n",
    "# train_generator = TimeSeriesGenerator(X_train, y_train, batch_size, sequence_length)\n",
    "# test_generator = TimeSeriesGenerator(X_test, y_test, batch_size, sequence_length)\n",
    "\n",
    "# # Создание модели LSTM\n",
    "# model = Sequential([\n",
    "#     LSTM(64, activation='relu', input_shape=(sequence_length, X.shape[1]), return_sequences=True),\n",
    "#     LSTM(32, activation='relu'),\n",
    "#     Dense(16, activation='relu'),\n",
    "#     Dense(1)\n",
    "# ])\n",
    "\n",
    "# # Компиляция модели\n",
    "# model.compile(optimizer=Adam(learning_rate=0.001), loss='mse')\n",
    "\n",
    "# # Обучение модели\n",
    "# early_stopping = EarlyStopping(monitor='val_loss', patience=10, restore_best_weights=True)\n",
    "# history = model.fit(train_generator, epochs=5, validation_data=test_generator, callbacks=[early_stopping])\n",
    "\n",
    "# # Прогнозирование\n",
    "# predictions = model.predict(test_generator)\n",
    "\n",
    "# # Обратное преобразование\n",
    "# predictions = scaler.inverse_transform(predictions)\n",
    "# y_test_original = scaler.inverse_transform(y_test.reshape(-1, 1))"
   ]
  },
  {
   "cell_type": "code",
   "execution_count": null,
   "id": "46088e91",
   "metadata": {
    "ExecuteTime": {
     "start_time": "2024-08-18T13:02:33.504Z"
    }
   },
   "outputs": [],
   "source": [
    "y_test_original - predictions"
   ]
  },
  {
   "cell_type": "code",
   "execution_count": null,
   "id": "5bc9afbc",
   "metadata": {},
   "outputs": [],
   "source": []
  },
  {
   "cell_type": "code",
   "execution_count": null,
   "id": "254fea5f",
   "metadata": {
    "ExecuteTime": {
     "start_time": "2024-08-18T13:02:33.506Z"
    }
   },
   "outputs": [],
   "source": [
    "# # Подготовка данных\n",
    "# def prepare_data(data, target, look_back=1):\n",
    "#     X, y = [], []\n",
    "\n",
    "#     for i in range(len(data) - look_back):\n",
    "#         X.append(data[i:(i + look_back), :])\n",
    "#         y.append(target[i + look_back])\n",
    "    \n",
    "#     return np.array(X), np.array(y)"
   ]
  },
  {
   "cell_type": "code",
   "execution_count": null,
   "id": "c469820f",
   "metadata": {
    "ExecuteTime": {
     "start_time": "2024-08-18T13:02:33.507Z"
    }
   },
   "outputs": [],
   "source": [
    "# # Нормализация данных\n",
    "# scaler = MinMaxScaler(feature_range=(0, 1))\n",
    "# scaled_data = scaler.fit_transform(df)"
   ]
  },
  {
   "cell_type": "code",
   "execution_count": null,
   "id": "8a33db15",
   "metadata": {
    "ExecuteTime": {
     "start_time": "2024-08-18T13:02:33.509Z"
    }
   },
   "outputs": [],
   "source": [
    "# # Выбор целевой переменной\n",
    "# target = scaled_data[:, df.columns.get_loc('actual_consumption')]\n",
    "# # features = scaled_data[:, [i for i in range(scaled_data.shape[1]) if i != df.columns.get_loc('actual_consumption')]]"
   ]
  },
  {
   "cell_type": "code",
   "execution_count": null,
   "id": "c63dbf6f",
   "metadata": {
    "ExecuteTime": {
     "start_time": "2024-08-18T13:02:33.510Z"
    }
   },
   "outputs": [],
   "source": [
    "# # Подготовка данных для LSTM\n",
    "# look_back = 5  # Количество предыдущих временных шагов для использования в прогнозе\n",
    "# X, y = prepare_data(features, target, look_back)\n",
    "\n",
    "# # Разделение на обучающую и тестовую выборки\n",
    "# train_size = int(len(X) * 0.8)\n",
    "# X_train, X_test = X[:train_size], X[train_size:]\n",
    "# y_train, y_test = y[:train_size], y[train_size:]\n",
    "\n",
    "# # Создание модели LSTM\n",
    "# model = Sequential([\n",
    "#     LSTM(50, activation='relu', input_shape=(look_back, features.shape[1]), return_sequences=True),\n",
    "#     LSTM(50, activation='relu'),\n",
    "#     Dense(1)\n",
    "# ])\n",
    "\n",
    "# # Компиляция модели\n",
    "# model.compile(optimizer=Adam(learning_rate=0.001), loss='mse')\n",
    "\n",
    "# # Обучение модели\n",
    "# history = model.fit(X_train, y_train, epochs=100, batch_size=32, validation_split=0.2, verbose=1)\n",
    "\n",
    "# # Прогнозирование\n",
    "# predictions = model.predict(X_test)\n",
    "\n",
    "# # Обратное масштабирование для получения реальных значений\n",
    "# predictions = scaler.inverse_transform(np.concatenate((X_test[:, -1, :], predictions), axis=1))[:, -1]\n",
    "# y_test_inv = scaler.inverse_transform(np.concatenate((X_test[:, -1, :], y_test.reshape(-1, 1)), axis=1))[:, -1]"
   ]
  },
  {
   "cell_type": "code",
   "execution_count": null,
   "id": "3f297c19",
   "metadata": {
    "ExecuteTime": {
     "start_time": "2024-08-18T13:02:33.512Z"
    }
   },
   "outputs": [],
   "source": [
    "# # Оценка модели\n",
    "# mse = np.mean((predictions - y_test_inv) ** 2)\n",
    "# print(f\"Mean Squared Error: {mse}\")"
   ]
  },
  {
   "cell_type": "code",
   "execution_count": null,
   "id": "8dc3e125",
   "metadata": {},
   "outputs": [],
   "source": []
  },
  {
   "cell_type": "code",
   "execution_count": null,
   "id": "b2620206",
   "metadata": {},
   "outputs": [],
   "source": []
  }
 ],
 "metadata": {
  "kernelspec": {
   "display_name": "Python 3 (ipykernel)",
   "language": "python",
   "name": "python3"
  },
  "language_info": {
   "codemirror_mode": {
    "name": "ipython",
    "version": 3
   },
   "file_extension": ".py",
   "mimetype": "text/x-python",
   "name": "python",
   "nbconvert_exporter": "python",
   "pygments_lexer": "ipython3",
   "version": "3.11.5"
  },
  "toc": {
   "base_numbering": 1,
   "nav_menu": {},
   "number_sections": true,
   "sideBar": true,
   "skip_h1_title": false,
   "title_cell": "Table of Contents",
   "title_sidebar": "Contents",
   "toc_cell": false,
   "toc_position": {},
   "toc_section_display": true,
   "toc_window_display": false
  }
 },
 "nbformat": 4,
 "nbformat_minor": 5
}

{
 "cells": [
  {
   "cell_type": "markdown",
   "id": "af6e5df8",
   "metadata": {},
   "source": [
    "# Создание признаков"
   ]
  },
  {
   "cell_type": "markdown",
   "id": "86143336",
   "metadata": {},
   "source": [
    "**_______________________________________________________________________________________________________________________________**"
   ]
  },
  {
   "cell_type": "markdown",
   "id": "40a11537",
   "metadata": {},
   "source": [
    "**Загрузим всё необходимое: зависимости, сущности и модули:**"
   ]
  },
  {
   "cell_type": "code",
   "execution_count": 1,
   "id": "780b0857",
   "metadata": {
    "ExecuteTime": {
     "end_time": "2024-08-08T07:51:37.153335Z",
     "start_time": "2024-08-08T07:51:29.489725Z"
    }
   },
   "outputs": [],
   "source": [
    "%run preset.py"
   ]
  },
  {
   "cell_type": "markdown",
   "id": "f64f032d",
   "metadata": {},
   "source": [
    "___________________________________________________________________________________________________________________________"
   ]
  },
  {
   "cell_type": "markdown",
   "id": "c8a2b505",
   "metadata": {},
   "source": [
    "**Настройка текущий тетрадки (notebook):**"
   ]
  },
  {
   "cell_type": "code",
   "execution_count": 2,
   "id": "55a2a75d",
   "metadata": {
    "ExecuteTime": {
     "end_time": "2024-08-08T07:51:37.158185Z",
     "start_time": "2024-08-08T07:51:37.154771Z"
    }
   },
   "outputs": [],
   "source": [
    "# Установка количества отображаемых строк:\n",
    "pd.set_option(\"display.max_rows\", 75)\n",
    "\n",
    "# Установка количества отображаемых столбцов:\n",
    "pd.set_option(\"display.max_columns\", 25)\n",
    "\n",
    "# Установка ограничения на количество отображаемых символов записи:\n",
    "pd.set_option(\"display.max_colwidth\", 45)"
   ]
  },
  {
   "cell_type": "markdown",
   "id": "a525f824",
   "metadata": {},
   "source": [
    "___________________________________________________________________________________________________________________________"
   ]
  },
  {
   "cell_type": "markdown",
   "id": "c6c62576",
   "metadata": {},
   "source": [
    "**Имортируемые данные для дальнейшей работы:**"
   ]
  },
  {
   "cell_type": "code",
   "execution_count": 3,
   "id": "a10dba7f",
   "metadata": {
    "ExecuteTime": {
     "end_time": "2024-08-08T07:51:39.091660Z",
     "start_time": "2024-08-08T07:51:37.159312Z"
    }
   },
   "outputs": [],
   "source": [
    "df = pd.read_parquet(prep_data_url)"
   ]
  },
  {
   "cell_type": "markdown",
   "id": "c23b39ec",
   "metadata": {},
   "source": [
    "___________________________________________________________________________________________________________________________"
   ]
  },
  {
   "cell_type": "markdown",
   "id": "31d08c3a",
   "metadata": {},
   "source": [
    "**Посмотрим на скаченные данные:**"
   ]
  },
  {
   "cell_type": "code",
   "execution_count": 4,
   "id": "3b12972f",
   "metadata": {
    "ExecuteTime": {
     "end_time": "2024-08-08T07:51:39.096926Z",
     "start_time": "2024-08-08T07:51:39.093044Z"
    }
   },
   "outputs": [
    {
     "name": "stdout",
     "output_type": "stream",
     "text": [
      "Количество строк dataframe-а: 8478449\n",
      "Количество столбцов dataframe-а: 3\n"
     ]
    }
   ],
   "source": [
    "print(f\"Количество строк dataframe-а: {df.shape[0]}\\nКоличество столбцов dataframe-а: {df.shape[1]}\")"
   ]
  },
  {
   "cell_type": "code",
   "execution_count": 5,
   "id": "1025d336",
   "metadata": {
    "ExecuteTime": {
     "end_time": "2024-08-08T07:51:39.116502Z",
     "start_time": "2024-08-08T07:51:39.098278Z"
    }
   },
   "outputs": [
    {
     "name": "stdout",
     "output_type": "stream",
     "text": [
      "<class 'pandas.core.frame.DataFrame'>\n",
      "Index: 8478449 entries, 2011-01-01 00:00:00 to 2024-07-17 00:00:00\n",
      "Data columns (total 3 columns):\n",
      " #   Column              Dtype  \n",
      "---  ------              -----  \n",
      " 0   subject_name        object \n",
      " 1   actual_consumption  float64\n",
      " 2   datetime            object \n",
      "dtypes: float64(1), object(2)\n",
      "memory usage: 258.7+ MB\n"
     ]
    }
   ],
   "source": [
    "df.info()"
   ]
  },
  {
   "cell_type": "code",
   "execution_count": 6,
   "id": "3bab20c1",
   "metadata": {
    "ExecuteTime": {
     "end_time": "2024-08-08T07:51:39.128903Z",
     "start_time": "2024-08-08T07:51:39.117510Z"
    }
   },
   "outputs": [
    {
     "data": {
      "text/html": [
       "<div>\n",
       "<style scoped>\n",
       "    .dataframe tbody tr th:only-of-type {\n",
       "        vertical-align: middle;\n",
       "    }\n",
       "\n",
       "    .dataframe tbody tr th {\n",
       "        vertical-align: top;\n",
       "    }\n",
       "\n",
       "    .dataframe thead th {\n",
       "        text-align: right;\n",
       "    }\n",
       "</style>\n",
       "<table border=\"1\" class=\"dataframe\">\n",
       "  <thead>\n",
       "    <tr style=\"text-align: right;\">\n",
       "      <th></th>\n",
       "      <th>subject_name</th>\n",
       "      <th>actual_consumption</th>\n",
       "      <th>datetime</th>\n",
       "    </tr>\n",
       "    <tr>\n",
       "      <th>index</th>\n",
       "      <th></th>\n",
       "      <th></th>\n",
       "      <th></th>\n",
       "    </tr>\n",
       "  </thead>\n",
       "  <tbody>\n",
       "    <tr>\n",
       "      <th>2011-01-01 00:00:00</th>\n",
       "      <td>Алтайский край</td>\n",
       "      <td>1313.0</td>\n",
       "      <td>2011-01-01 00:00:00</td>\n",
       "    </tr>\n",
       "    <tr>\n",
       "      <th>2011-01-01 00:00:00</th>\n",
       "      <td>Амурская область</td>\n",
       "      <td>870.0</td>\n",
       "      <td>2011-01-01 00:00:00</td>\n",
       "    </tr>\n",
       "    <tr>\n",
       "      <th>2011-01-01 00:00:00</th>\n",
       "      <td>Архангельская область</td>\n",
       "      <td>970.0</td>\n",
       "      <td>2011-01-01 00:00:00</td>\n",
       "    </tr>\n",
       "  </tbody>\n",
       "</table>\n",
       "</div>"
      ],
      "text/plain": [
       "                              subject_name  actual_consumption  \\\n",
       "index                                                            \n",
       "2011-01-01 00:00:00         Алтайский край              1313.0   \n",
       "2011-01-01 00:00:00       Амурская область               870.0   \n",
       "2011-01-01 00:00:00  Архангельская область               970.0   \n",
       "\n",
       "                                datetime  \n",
       "index                                     \n",
       "2011-01-01 00:00:00  2011-01-01 00:00:00  \n",
       "2011-01-01 00:00:00  2011-01-01 00:00:00  \n",
       "2011-01-01 00:00:00  2011-01-01 00:00:00  "
      ]
     },
     "execution_count": 6,
     "metadata": {},
     "output_type": "execute_result"
    }
   ],
   "source": [
    "df.head(3)"
   ]
  },
  {
   "cell_type": "markdown",
   "id": "f2a2945a",
   "metadata": {},
   "source": [
    "___________________________________________________________________________________________________________________________"
   ]
  },
  {
   "cell_type": "markdown",
   "id": "b4b87443",
   "metadata": {},
   "source": [
    "**Создание time-step (которые можно получить непосредственно из даты и времени) признаков:**"
   ]
  },
  {
   "cell_type": "markdown",
   "id": "612f6277",
   "metadata": {},
   "source": [
    "**Признак `time_dummie` - номер временного шага:**"
   ]
  },
  {
   "cell_type": "code",
   "execution_count": 7,
   "id": "df4de0f5",
   "metadata": {
    "ExecuteTime": {
     "end_time": "2024-08-08T07:51:39.134125Z",
     "start_time": "2024-08-08T07:51:39.129911Z"
    },
    "code_folding": []
   },
   "outputs": [],
   "source": [
    "def create_time_dummie_feature(feature: pd.DataFrame) -> pd.Series:\n",
    "    \"\"\"\n",
    "    \n",
    "    \"\"\"\n",
    "    \n",
    "    temp_df = pd.DataFrame()\n",
    "\n",
    "    for subj in df[\"subject_name\"].unique():\n",
    "        subj_df = df[df[\"subject_name\"] == subj].copy()\n",
    "        subj_df[\"time_dummie\"] = range(1, subj_df.shape[0] + 1)\n",
    "        temp_df = temp_df.append(subj_df)\n",
    "        \n",
    "    temp_df.sort_values(by=[\"datetime\", \"subject_name\", \"time_dummie\"], inplace=True)\n",
    "    \n",
    "    return temp_df[\"time_dummie\"]"
   ]
  },
  {
   "cell_type": "code",
   "execution_count": 8,
   "id": "37a82a1d",
   "metadata": {
    "ExecuteTime": {
     "end_time": "2024-08-08T07:52:13.446488Z",
     "start_time": "2024-08-08T07:51:39.136639Z"
    }
   },
   "outputs": [],
   "source": [
    "df[\"time_dummie\"] = create_time_dummie_feature(df)"
   ]
  },
  {
   "cell_type": "code",
   "execution_count": 9,
   "id": "6f2cfcd1",
   "metadata": {
    "ExecuteTime": {
     "end_time": "2024-08-08T07:52:18.228563Z",
     "start_time": "2024-08-08T07:52:13.447905Z"
    }
   },
   "outputs": [],
   "source": [
    "df[\"year\"] = df[\"datetime\"].apply(get_year)"
   ]
  },
  {
   "cell_type": "code",
   "execution_count": 10,
   "id": "2d6ec1cc",
   "metadata": {
    "ExecuteTime": {
     "end_time": "2024-08-08T07:52:22.885637Z",
     "start_time": "2024-08-08T07:52:18.229983Z"
    }
   },
   "outputs": [],
   "source": [
    "df[\"month\"] = df[\"datetime\"].apply(get_month)"
   ]
  },
  {
   "cell_type": "code",
   "execution_count": 11,
   "id": "ab4c7036",
   "metadata": {
    "ExecuteTime": {
     "end_time": "2024-08-08T07:52:27.618259Z",
     "start_time": "2024-08-08T07:52:22.886974Z"
    }
   },
   "outputs": [],
   "source": [
    "df[\"day_of_month\"] = df[\"datetime\"].apply(get_day_month)"
   ]
  },
  {
   "cell_type": "code",
   "execution_count": 12,
   "id": "a7a2e0f3",
   "metadata": {
    "ExecuteTime": {
     "end_time": "2024-08-08T07:52:32.988769Z",
     "start_time": "2024-08-08T07:52:27.619665Z"
    }
   },
   "outputs": [],
   "source": [
    "df[\"hour\"] = df[\"datetime\"].apply(get_hour)"
   ]
  },
  {
   "cell_type": "code",
   "execution_count": 13,
   "id": "d795d768",
   "metadata": {
    "ExecuteTime": {
     "end_time": "2024-08-08T07:52:49.713121Z",
     "start_time": "2024-08-08T07:52:32.990105Z"
    }
   },
   "outputs": [],
   "source": [
    "df[\"day_of_week\"] = df[\"datetime\"].apply(get_day_week)"
   ]
  },
  {
   "cell_type": "code",
   "execution_count": 14,
   "id": "6a672584",
   "metadata": {
    "ExecuteTime": {
     "end_time": "2024-08-08T07:53:13.398932Z",
     "start_time": "2024-08-08T07:52:49.714129Z"
    }
   },
   "outputs": [],
   "source": [
    "df[\"day_of_year\"] = df[\"datetime\"].apply(get_day_year)"
   ]
  },
  {
   "cell_type": "code",
   "execution_count": 15,
   "id": "e2d67b6a",
   "metadata": {
    "ExecuteTime": {
     "end_time": "2024-08-08T07:53:30.894216Z",
     "start_time": "2024-08-08T07:53:13.400217Z"
    }
   },
   "outputs": [],
   "source": [
    "df[\"week_of_year\"] = df[\"datetime\"].apply(get_week_year)"
   ]
  },
  {
   "cell_type": "code",
   "execution_count": 16,
   "id": "b2de5a81",
   "metadata": {
    "ExecuteTime": {
     "end_time": "2024-08-08T07:53:32.995336Z",
     "start_time": "2024-08-08T07:53:30.895224Z"
    }
   },
   "outputs": [],
   "source": [
    "df[\"quarter\"] = df[\"datetime\"].apply(get_quarter)"
   ]
  },
  {
   "cell_type": "code",
   "execution_count": 17,
   "id": "84b378f2",
   "metadata": {
    "ExecuteTime": {
     "end_time": "2024-08-08T07:53:38.589854Z",
     "start_time": "2024-08-08T07:53:32.996705Z"
    }
   },
   "outputs": [],
   "source": [
    "df[\"holiday\"] = df[\"datetime\"].apply(is_holiday)"
   ]
  },
  {
   "cell_type": "code",
   "execution_count": null,
   "id": "62d774c9",
   "metadata": {},
   "outputs": [],
   "source": []
  },
  {
   "cell_type": "code",
   "execution_count": null,
   "id": "d1c2d776",
   "metadata": {},
   "outputs": [],
   "source": []
  },
  {
   "cell_type": "markdown",
   "id": "4f133db2",
   "metadata": {},
   "source": [
    "**Создание lag (отложенных по времени) признаков:**"
   ]
  },
  {
   "cell_type": "code",
   "execution_count": 18,
   "id": "05fd98b6",
   "metadata": {
    "ExecuteTime": {
     "end_time": "2024-08-08T07:53:38.596434Z",
     "start_time": "2024-08-08T07:53:38.591895Z"
    }
   },
   "outputs": [],
   "source": [
    "def create_lag_feature(feature: pd.DataFrame, step_count: int) -> pd.Series:\n",
    "    \"\"\"\n",
    "    \n",
    "    \"\"\"\n",
    "    \n",
    "    temp_df = pd.DataFrame()\n",
    "\n",
    "    for subj in df[\"subject_name\"].unique():\n",
    "        subj_df = df[df[\"subject_name\"] == subj].copy()\n",
    "        subj_df[\"actual_consumption\"] = subj_df[\"actual_consumption\"].shift(step_count)\n",
    "        temp_df = temp_df.append(subj_df)\n",
    "        \n",
    "    temp_df.sort_values(by=[\"datetime\", \"subject_name\"], inplace=True)\n",
    "    \n",
    "    return temp_df[\"actual_consumption\"]"
   ]
  },
  {
   "cell_type": "code",
   "execution_count": 19,
   "id": "8573bf34",
   "metadata": {
    "ExecuteTime": {
     "end_time": "2024-08-08T07:54:19.746303Z",
     "start_time": "2024-08-08T07:53:38.598760Z"
    }
   },
   "outputs": [],
   "source": [
    "df[\"lag_hour\"] = create_lag_feature(df, hour)"
   ]
  },
  {
   "cell_type": "code",
   "execution_count": 20,
   "id": "cb72142b",
   "metadata": {
    "ExecuteTime": {
     "end_time": "2024-08-08T07:54:59.122070Z",
     "start_time": "2024-08-08T07:54:19.747726Z"
    }
   },
   "outputs": [],
   "source": [
    "df[\"lag_day\"] = create_lag_feature(df, day)"
   ]
  },
  {
   "cell_type": "code",
   "execution_count": 21,
   "id": "8518fac8",
   "metadata": {
    "ExecuteTime": {
     "end_time": "2024-08-08T07:55:38.770287Z",
     "start_time": "2024-08-08T07:54:59.124080Z"
    }
   },
   "outputs": [],
   "source": [
    "df[\"lag_week\"] = create_lag_feature(df, week)"
   ]
  },
  {
   "cell_type": "code",
   "execution_count": 22,
   "id": "a9097bea",
   "metadata": {
    "ExecuteTime": {
     "end_time": "2024-08-08T07:56:20.262620Z",
     "start_time": "2024-08-08T07:55:38.771301Z"
    }
   },
   "outputs": [],
   "source": [
    "df[\"lag_month\"] = create_lag_feature(df, month)"
   ]
  },
  {
   "cell_type": "code",
   "execution_count": 23,
   "id": "76165c3f",
   "metadata": {
    "ExecuteTime": {
     "end_time": "2024-08-08T07:57:03.080276Z",
     "start_time": "2024-08-08T07:56:20.264771Z"
    }
   },
   "outputs": [],
   "source": [
    "df[\"lag_year\"] = create_lag_feature(df, year)"
   ]
  },
  {
   "cell_type": "code",
   "execution_count": 24,
   "id": "ac7f93f2",
   "metadata": {
    "ExecuteTime": {
     "end_time": "2024-08-08T07:57:03.094181Z",
     "start_time": "2024-08-08T07:57:03.081675Z"
    }
   },
   "outputs": [
    {
     "data": {
      "text/html": [
       "<div>\n",
       "<style scoped>\n",
       "    .dataframe tbody tr th:only-of-type {\n",
       "        vertical-align: middle;\n",
       "    }\n",
       "\n",
       "    .dataframe tbody tr th {\n",
       "        vertical-align: top;\n",
       "    }\n",
       "\n",
       "    .dataframe thead th {\n",
       "        text-align: right;\n",
       "    }\n",
       "</style>\n",
       "<table border=\"1\" class=\"dataframe\">\n",
       "  <thead>\n",
       "    <tr style=\"text-align: right;\">\n",
       "      <th></th>\n",
       "      <th>subject_name</th>\n",
       "      <th>actual_consumption</th>\n",
       "      <th>datetime</th>\n",
       "      <th>time_dummie</th>\n",
       "      <th>year</th>\n",
       "      <th>month</th>\n",
       "      <th>day_of_month</th>\n",
       "      <th>hour</th>\n",
       "      <th>day_of_week</th>\n",
       "      <th>day_of_year</th>\n",
       "      <th>week_of_year</th>\n",
       "      <th>quarter</th>\n",
       "      <th>holiday</th>\n",
       "      <th>lag_hour</th>\n",
       "      <th>lag_day</th>\n",
       "      <th>lag_week</th>\n",
       "      <th>lag_month</th>\n",
       "      <th>lag_year</th>\n",
       "    </tr>\n",
       "    <tr>\n",
       "      <th>index</th>\n",
       "      <th></th>\n",
       "      <th></th>\n",
       "      <th></th>\n",
       "      <th></th>\n",
       "      <th></th>\n",
       "      <th></th>\n",
       "      <th></th>\n",
       "      <th></th>\n",
       "      <th></th>\n",
       "      <th></th>\n",
       "      <th></th>\n",
       "      <th></th>\n",
       "      <th></th>\n",
       "      <th></th>\n",
       "      <th></th>\n",
       "      <th></th>\n",
       "      <th></th>\n",
       "      <th></th>\n",
       "    </tr>\n",
       "  </thead>\n",
       "  <tbody>\n",
       "    <tr>\n",
       "      <th>2011-01-01 00:00:00</th>\n",
       "      <td>Алтайский край</td>\n",
       "      <td>1313.0</td>\n",
       "      <td>2011-01-01 00:00:00</td>\n",
       "      <td>1</td>\n",
       "      <td>2011</td>\n",
       "      <td>1</td>\n",
       "      <td>1</td>\n",
       "      <td>0</td>\n",
       "      <td>6</td>\n",
       "      <td>1</td>\n",
       "      <td>52</td>\n",
       "      <td>3</td>\n",
       "      <td>1</td>\n",
       "      <td>NaN</td>\n",
       "      <td>NaN</td>\n",
       "      <td>NaN</td>\n",
       "      <td>NaN</td>\n",
       "      <td>NaN</td>\n",
       "    </tr>\n",
       "    <tr>\n",
       "      <th>2011-01-01 00:00:00</th>\n",
       "      <td>Амурская область</td>\n",
       "      <td>870.0</td>\n",
       "      <td>2011-01-01 00:00:00</td>\n",
       "      <td>1</td>\n",
       "      <td>2011</td>\n",
       "      <td>1</td>\n",
       "      <td>1</td>\n",
       "      <td>0</td>\n",
       "      <td>6</td>\n",
       "      <td>1</td>\n",
       "      <td>52</td>\n",
       "      <td>3</td>\n",
       "      <td>1</td>\n",
       "      <td>NaN</td>\n",
       "      <td>NaN</td>\n",
       "      <td>NaN</td>\n",
       "      <td>NaN</td>\n",
       "      <td>NaN</td>\n",
       "    </tr>\n",
       "    <tr>\n",
       "      <th>2011-01-01 00:00:00</th>\n",
       "      <td>Архангельская область</td>\n",
       "      <td>970.0</td>\n",
       "      <td>2011-01-01 00:00:00</td>\n",
       "      <td>1</td>\n",
       "      <td>2011</td>\n",
       "      <td>1</td>\n",
       "      <td>1</td>\n",
       "      <td>0</td>\n",
       "      <td>6</td>\n",
       "      <td>1</td>\n",
       "      <td>52</td>\n",
       "      <td>3</td>\n",
       "      <td>1</td>\n",
       "      <td>NaN</td>\n",
       "      <td>NaN</td>\n",
       "      <td>NaN</td>\n",
       "      <td>NaN</td>\n",
       "      <td>NaN</td>\n",
       "    </tr>\n",
       "    <tr>\n",
       "      <th>2011-01-01 00:00:00</th>\n",
       "      <td>Астраханская область</td>\n",
       "      <td>504.0</td>\n",
       "      <td>2011-01-01 00:00:00</td>\n",
       "      <td>1</td>\n",
       "      <td>2011</td>\n",
       "      <td>1</td>\n",
       "      <td>1</td>\n",
       "      <td>0</td>\n",
       "      <td>6</td>\n",
       "      <td>1</td>\n",
       "      <td>52</td>\n",
       "      <td>3</td>\n",
       "      <td>1</td>\n",
       "      <td>NaN</td>\n",
       "      <td>NaN</td>\n",
       "      <td>NaN</td>\n",
       "      <td>NaN</td>\n",
       "      <td>NaN</td>\n",
       "    </tr>\n",
       "    <tr>\n",
       "      <th>2011-01-01 00:00:00</th>\n",
       "      <td>Белгородская область</td>\n",
       "      <td>1592.0</td>\n",
       "      <td>2011-01-01 00:00:00</td>\n",
       "      <td>1</td>\n",
       "      <td>2011</td>\n",
       "      <td>1</td>\n",
       "      <td>1</td>\n",
       "      <td>0</td>\n",
       "      <td>6</td>\n",
       "      <td>1</td>\n",
       "      <td>52</td>\n",
       "      <td>3</td>\n",
       "      <td>1</td>\n",
       "      <td>NaN</td>\n",
       "      <td>NaN</td>\n",
       "      <td>NaN</td>\n",
       "      <td>NaN</td>\n",
       "      <td>NaN</td>\n",
       "    </tr>\n",
       "  </tbody>\n",
       "</table>\n",
       "</div>"
      ],
      "text/plain": [
       "                              subject_name  actual_consumption  \\\n",
       "index                                                            \n",
       "2011-01-01 00:00:00         Алтайский край              1313.0   \n",
       "2011-01-01 00:00:00       Амурская область               870.0   \n",
       "2011-01-01 00:00:00  Архангельская область               970.0   \n",
       "2011-01-01 00:00:00   Астраханская область               504.0   \n",
       "2011-01-01 00:00:00   Белгородская область              1592.0   \n",
       "\n",
       "                                datetime  time_dummie  year  month  \\\n",
       "index                                                                \n",
       "2011-01-01 00:00:00  2011-01-01 00:00:00            1  2011      1   \n",
       "2011-01-01 00:00:00  2011-01-01 00:00:00            1  2011      1   \n",
       "2011-01-01 00:00:00  2011-01-01 00:00:00            1  2011      1   \n",
       "2011-01-01 00:00:00  2011-01-01 00:00:00            1  2011      1   \n",
       "2011-01-01 00:00:00  2011-01-01 00:00:00            1  2011      1   \n",
       "\n",
       "                     day_of_month  hour  day_of_week  day_of_year  \\\n",
       "index                                                               \n",
       "2011-01-01 00:00:00             1     0            6            1   \n",
       "2011-01-01 00:00:00             1     0            6            1   \n",
       "2011-01-01 00:00:00             1     0            6            1   \n",
       "2011-01-01 00:00:00             1     0            6            1   \n",
       "2011-01-01 00:00:00             1     0            6            1   \n",
       "\n",
       "                     week_of_year  quarter  holiday  lag_hour  lag_day  \\\n",
       "index                                                                    \n",
       "2011-01-01 00:00:00            52        3        1       NaN      NaN   \n",
       "2011-01-01 00:00:00            52        3        1       NaN      NaN   \n",
       "2011-01-01 00:00:00            52        3        1       NaN      NaN   \n",
       "2011-01-01 00:00:00            52        3        1       NaN      NaN   \n",
       "2011-01-01 00:00:00            52        3        1       NaN      NaN   \n",
       "\n",
       "                     lag_week  lag_month  lag_year  \n",
       "index                                               \n",
       "2011-01-01 00:00:00       NaN        NaN       NaN  \n",
       "2011-01-01 00:00:00       NaN        NaN       NaN  \n",
       "2011-01-01 00:00:00       NaN        NaN       NaN  \n",
       "2011-01-01 00:00:00       NaN        NaN       NaN  \n",
       "2011-01-01 00:00:00       NaN        NaN       NaN  "
      ]
     },
     "execution_count": 24,
     "metadata": {},
     "output_type": "execute_result"
    }
   ],
   "source": [
    "df.head()"
   ]
  },
  {
   "cell_type": "code",
   "execution_count": 25,
   "id": "719f56ad",
   "metadata": {
    "ExecuteTime": {
     "end_time": "2024-08-08T07:57:03.714594Z",
     "start_time": "2024-08-08T07:57:03.095611Z"
    }
   },
   "outputs": [],
   "source": [
    "df = df[df[\"day_of_week\"] < 6]"
   ]
  },
  {
   "cell_type": "code",
   "execution_count": 26,
   "id": "f12400eb",
   "metadata": {
    "ExecuteTime": {
     "end_time": "2024-08-08T07:57:05.854522Z",
     "start_time": "2024-08-08T07:57:03.716735Z"
    }
   },
   "outputs": [],
   "source": [
    "subjects = pd.get_dummies(df[\"subject_name\"])"
   ]
  },
  {
   "cell_type": "code",
   "execution_count": 27,
   "id": "29ed4f0a",
   "metadata": {
    "ExecuteTime": {
     "end_time": "2024-08-08T07:57:06.158836Z",
     "start_time": "2024-08-08T07:57:05.855530Z"
    }
   },
   "outputs": [],
   "source": [
    "df.drop(columns=[\"subject_name\"], inplace=True)"
   ]
  },
  {
   "cell_type": "code",
   "execution_count": 28,
   "id": "865de876",
   "metadata": {
    "ExecuteTime": {
     "end_time": "2024-08-08T07:57:06.797939Z",
     "start_time": "2024-08-08T07:57:06.160845Z"
    }
   },
   "outputs": [],
   "source": [
    "df = pd.concat([df, subjects], axis=1)"
   ]
  },
  {
   "cell_type": "code",
   "execution_count": 29,
   "id": "f7600b59",
   "metadata": {
    "ExecuteTime": {
     "end_time": "2024-08-08T07:57:06.812650Z",
     "start_time": "2024-08-08T07:57:06.799950Z"
    }
   },
   "outputs": [
    {
     "data": {
      "text/html": [
       "<div>\n",
       "<style scoped>\n",
       "    .dataframe tbody tr th:only-of-type {\n",
       "        vertical-align: middle;\n",
       "    }\n",
       "\n",
       "    .dataframe tbody tr th {\n",
       "        vertical-align: top;\n",
       "    }\n",
       "\n",
       "    .dataframe thead th {\n",
       "        text-align: right;\n",
       "    }\n",
       "</style>\n",
       "<table border=\"1\" class=\"dataframe\">\n",
       "  <thead>\n",
       "    <tr style=\"text-align: right;\">\n",
       "      <th></th>\n",
       "      <th>actual_consumption</th>\n",
       "      <th>datetime</th>\n",
       "      <th>time_dummie</th>\n",
       "      <th>year</th>\n",
       "      <th>month</th>\n",
       "      <th>day_of_month</th>\n",
       "      <th>hour</th>\n",
       "      <th>day_of_week</th>\n",
       "      <th>day_of_year</th>\n",
       "      <th>week_of_year</th>\n",
       "      <th>quarter</th>\n",
       "      <th>holiday</th>\n",
       "      <th>...</th>\n",
       "      <th>Тверская область</th>\n",
       "      <th>Томская область</th>\n",
       "      <th>Тульская область</th>\n",
       "      <th>Тюменская область</th>\n",
       "      <th>Удмуртская Республика</th>\n",
       "      <th>Ульяновская область</th>\n",
       "      <th>Центральный энергорайон Якутии</th>\n",
       "      <th>Челябинская область</th>\n",
       "      <th>Чеченская Республика</th>\n",
       "      <th>Чувашская Республика - Чувашия</th>\n",
       "      <th>Южно-Якутский энергорайон</th>\n",
       "      <th>Ярославская область</th>\n",
       "    </tr>\n",
       "    <tr>\n",
       "      <th>index</th>\n",
       "      <th></th>\n",
       "      <th></th>\n",
       "      <th></th>\n",
       "      <th></th>\n",
       "      <th></th>\n",
       "      <th></th>\n",
       "      <th></th>\n",
       "      <th></th>\n",
       "      <th></th>\n",
       "      <th></th>\n",
       "      <th></th>\n",
       "      <th></th>\n",
       "      <th></th>\n",
       "      <th></th>\n",
       "      <th></th>\n",
       "      <th></th>\n",
       "      <th></th>\n",
       "      <th></th>\n",
       "      <th></th>\n",
       "      <th></th>\n",
       "      <th></th>\n",
       "      <th></th>\n",
       "      <th></th>\n",
       "      <th></th>\n",
       "      <th></th>\n",
       "    </tr>\n",
       "  </thead>\n",
       "  <tbody>\n",
       "    <tr>\n",
       "      <th>2011-01-03 00:00:00</th>\n",
       "      <td>1230.0</td>\n",
       "      <td>2011-01-03 00:00:00</td>\n",
       "      <td>49</td>\n",
       "      <td>2011</td>\n",
       "      <td>1</td>\n",
       "      <td>3</td>\n",
       "      <td>0</td>\n",
       "      <td>1</td>\n",
       "      <td>3</td>\n",
       "      <td>1</td>\n",
       "      <td>3</td>\n",
       "      <td>1</td>\n",
       "      <td>...</td>\n",
       "      <td>0</td>\n",
       "      <td>0</td>\n",
       "      <td>0</td>\n",
       "      <td>0</td>\n",
       "      <td>0</td>\n",
       "      <td>0</td>\n",
       "      <td>0</td>\n",
       "      <td>0</td>\n",
       "      <td>0</td>\n",
       "      <td>0</td>\n",
       "      <td>0</td>\n",
       "      <td>0</td>\n",
       "    </tr>\n",
       "    <tr>\n",
       "      <th>2011-01-03 00:00:00</th>\n",
       "      <td>995.0</td>\n",
       "      <td>2011-01-03 00:00:00</td>\n",
       "      <td>49</td>\n",
       "      <td>2011</td>\n",
       "      <td>1</td>\n",
       "      <td>3</td>\n",
       "      <td>0</td>\n",
       "      <td>1</td>\n",
       "      <td>3</td>\n",
       "      <td>1</td>\n",
       "      <td>3</td>\n",
       "      <td>1</td>\n",
       "      <td>...</td>\n",
       "      <td>0</td>\n",
       "      <td>0</td>\n",
       "      <td>0</td>\n",
       "      <td>0</td>\n",
       "      <td>0</td>\n",
       "      <td>0</td>\n",
       "      <td>0</td>\n",
       "      <td>0</td>\n",
       "      <td>0</td>\n",
       "      <td>0</td>\n",
       "      <td>0</td>\n",
       "      <td>0</td>\n",
       "    </tr>\n",
       "    <tr>\n",
       "      <th>2011-01-03 00:00:00</th>\n",
       "      <td>923.0</td>\n",
       "      <td>2011-01-03 00:00:00</td>\n",
       "      <td>49</td>\n",
       "      <td>2011</td>\n",
       "      <td>1</td>\n",
       "      <td>3</td>\n",
       "      <td>0</td>\n",
       "      <td>1</td>\n",
       "      <td>3</td>\n",
       "      <td>1</td>\n",
       "      <td>3</td>\n",
       "      <td>1</td>\n",
       "      <td>...</td>\n",
       "      <td>0</td>\n",
       "      <td>0</td>\n",
       "      <td>0</td>\n",
       "      <td>0</td>\n",
       "      <td>0</td>\n",
       "      <td>0</td>\n",
       "      <td>0</td>\n",
       "      <td>0</td>\n",
       "      <td>0</td>\n",
       "      <td>0</td>\n",
       "      <td>0</td>\n",
       "      <td>0</td>\n",
       "    </tr>\n",
       "    <tr>\n",
       "      <th>2011-01-03 00:00:00</th>\n",
       "      <td>451.0</td>\n",
       "      <td>2011-01-03 00:00:00</td>\n",
       "      <td>49</td>\n",
       "      <td>2011</td>\n",
       "      <td>1</td>\n",
       "      <td>3</td>\n",
       "      <td>0</td>\n",
       "      <td>1</td>\n",
       "      <td>3</td>\n",
       "      <td>1</td>\n",
       "      <td>3</td>\n",
       "      <td>1</td>\n",
       "      <td>...</td>\n",
       "      <td>0</td>\n",
       "      <td>0</td>\n",
       "      <td>0</td>\n",
       "      <td>0</td>\n",
       "      <td>0</td>\n",
       "      <td>0</td>\n",
       "      <td>0</td>\n",
       "      <td>0</td>\n",
       "      <td>0</td>\n",
       "      <td>0</td>\n",
       "      <td>0</td>\n",
       "      <td>0</td>\n",
       "    </tr>\n",
       "    <tr>\n",
       "      <th>2011-01-03 00:00:00</th>\n",
       "      <td>1481.0</td>\n",
       "      <td>2011-01-03 00:00:00</td>\n",
       "      <td>49</td>\n",
       "      <td>2011</td>\n",
       "      <td>1</td>\n",
       "      <td>3</td>\n",
       "      <td>0</td>\n",
       "      <td>1</td>\n",
       "      <td>3</td>\n",
       "      <td>1</td>\n",
       "      <td>3</td>\n",
       "      <td>1</td>\n",
       "      <td>...</td>\n",
       "      <td>0</td>\n",
       "      <td>0</td>\n",
       "      <td>0</td>\n",
       "      <td>0</td>\n",
       "      <td>0</td>\n",
       "      <td>0</td>\n",
       "      <td>0</td>\n",
       "      <td>0</td>\n",
       "      <td>0</td>\n",
       "      <td>0</td>\n",
       "      <td>0</td>\n",
       "      <td>0</td>\n",
       "    </tr>\n",
       "  </tbody>\n",
       "</table>\n",
       "<p>5 rows × 92 columns</p>\n",
       "</div>"
      ],
      "text/plain": [
       "                     actual_consumption             datetime  time_dummie  \\\n",
       "index                                                                       \n",
       "2011-01-03 00:00:00              1230.0  2011-01-03 00:00:00           49   \n",
       "2011-01-03 00:00:00               995.0  2011-01-03 00:00:00           49   \n",
       "2011-01-03 00:00:00               923.0  2011-01-03 00:00:00           49   \n",
       "2011-01-03 00:00:00               451.0  2011-01-03 00:00:00           49   \n",
       "2011-01-03 00:00:00              1481.0  2011-01-03 00:00:00           49   \n",
       "\n",
       "                     year  month  day_of_month  hour  day_of_week  \\\n",
       "index                                                               \n",
       "2011-01-03 00:00:00  2011      1             3     0            1   \n",
       "2011-01-03 00:00:00  2011      1             3     0            1   \n",
       "2011-01-03 00:00:00  2011      1             3     0            1   \n",
       "2011-01-03 00:00:00  2011      1             3     0            1   \n",
       "2011-01-03 00:00:00  2011      1             3     0            1   \n",
       "\n",
       "                     day_of_year  week_of_year  quarter  holiday  ...  \\\n",
       "index                                                             ...   \n",
       "2011-01-03 00:00:00            3             1        3        1  ...   \n",
       "2011-01-03 00:00:00            3             1        3        1  ...   \n",
       "2011-01-03 00:00:00            3             1        3        1  ...   \n",
       "2011-01-03 00:00:00            3             1        3        1  ...   \n",
       "2011-01-03 00:00:00            3             1        3        1  ...   \n",
       "\n",
       "                     Тверская область  Томская область  Тульская область  \\\n",
       "index                                                                      \n",
       "2011-01-03 00:00:00                 0                0                 0   \n",
       "2011-01-03 00:00:00                 0                0                 0   \n",
       "2011-01-03 00:00:00                 0                0                 0   \n",
       "2011-01-03 00:00:00                 0                0                 0   \n",
       "2011-01-03 00:00:00                 0                0                 0   \n",
       "\n",
       "                     Тюменская область  Удмуртская Республика  \\\n",
       "index                                                           \n",
       "2011-01-03 00:00:00                  0                      0   \n",
       "2011-01-03 00:00:00                  0                      0   \n",
       "2011-01-03 00:00:00                  0                      0   \n",
       "2011-01-03 00:00:00                  0                      0   \n",
       "2011-01-03 00:00:00                  0                      0   \n",
       "\n",
       "                     Ульяновская область  Центральный энергорайон Якутии  \\\n",
       "index                                                                      \n",
       "2011-01-03 00:00:00                    0                               0   \n",
       "2011-01-03 00:00:00                    0                               0   \n",
       "2011-01-03 00:00:00                    0                               0   \n",
       "2011-01-03 00:00:00                    0                               0   \n",
       "2011-01-03 00:00:00                    0                               0   \n",
       "\n",
       "                     Челябинская область  Чеченская Республика  \\\n",
       "index                                                            \n",
       "2011-01-03 00:00:00                    0                     0   \n",
       "2011-01-03 00:00:00                    0                     0   \n",
       "2011-01-03 00:00:00                    0                     0   \n",
       "2011-01-03 00:00:00                    0                     0   \n",
       "2011-01-03 00:00:00                    0                     0   \n",
       "\n",
       "                     Чувашская Республика - Чувашия  \\\n",
       "index                                                 \n",
       "2011-01-03 00:00:00                               0   \n",
       "2011-01-03 00:00:00                               0   \n",
       "2011-01-03 00:00:00                               0   \n",
       "2011-01-03 00:00:00                               0   \n",
       "2011-01-03 00:00:00                               0   \n",
       "\n",
       "                     Южно-Якутский энергорайон  Ярославская область  \n",
       "index                                                                \n",
       "2011-01-03 00:00:00                          0                    0  \n",
       "2011-01-03 00:00:00                          0                    0  \n",
       "2011-01-03 00:00:00                          0                    0  \n",
       "2011-01-03 00:00:00                          0                    0  \n",
       "2011-01-03 00:00:00                          0                    0  \n",
       "\n",
       "[5 rows x 92 columns]"
      ]
     },
     "execution_count": 29,
     "metadata": {},
     "output_type": "execute_result"
    }
   ],
   "source": [
    "df.head()"
   ]
  },
  {
   "cell_type": "code",
   "execution_count": 30,
   "id": "abf77edd",
   "metadata": {
    "ExecuteTime": {
     "end_time": "2024-08-08T07:57:07.304884Z",
     "start_time": "2024-08-08T07:57:06.813659Z"
    }
   },
   "outputs": [],
   "source": [
    "df.drop(columns=[\"datetime\"], inplace=True)"
   ]
  },
  {
   "cell_type": "code",
   "execution_count": 31,
   "id": "c5db9ab2",
   "metadata": {
    "ExecuteTime": {
     "end_time": "2024-08-08T07:57:07.342899Z",
     "start_time": "2024-08-08T07:57:07.305995Z"
    }
   },
   "outputs": [
    {
     "data": {
      "text/plain": [
       "3    1212274\n",
       "1    1211758\n",
       "2    1211737\n",
       "5    1210970\n",
       "4    1210531\n",
       "Name: day_of_week, dtype: int64"
      ]
     },
     "execution_count": 31,
     "metadata": {},
     "output_type": "execute_result"
    }
   ],
   "source": [
    "df[\"day_of_week\"].value_counts()"
   ]
  },
  {
   "cell_type": "code",
   "execution_count": 32,
   "id": "dabd3d5c",
   "metadata": {
    "ExecuteTime": {
     "end_time": "2024-08-08T07:57:10.412804Z",
     "start_time": "2024-08-08T07:57:07.344289Z"
    }
   },
   "outputs": [],
   "source": [
    "df.dropna(inplace=True)"
   ]
  },
  {
   "cell_type": "code",
   "execution_count": 33,
   "id": "53523012",
   "metadata": {
    "ExecuteTime": {
     "end_time": "2024-08-08T07:57:10.435633Z",
     "start_time": "2024-08-08T07:57:10.414814Z"
    }
   },
   "outputs": [
    {
     "name": "stdout",
     "output_type": "stream",
     "text": [
      "<class 'pandas.core.frame.DataFrame'>\n",
      "Index: 5588845 entries, 2012-02-20 00:00:00 to 2024-07-17 00:00:00\n",
      "Data columns (total 91 columns):\n",
      " #   Column                             Dtype  \n",
      "---  ------                             -----  \n",
      " 0   actual_consumption                 float64\n",
      " 1   time_dummie                        int64  \n",
      " 2   year                               int64  \n",
      " 3   month                              int64  \n",
      " 4   day_of_month                       int64  \n",
      " 5   hour                               int64  \n",
      " 6   day_of_week                        int64  \n",
      " 7   day_of_year                        int64  \n",
      " 8   week_of_year                       int64  \n",
      " 9   quarter                            int64  \n",
      " 10  holiday                            int64  \n",
      " 11  lag_hour                           float64\n",
      " 12  lag_day                            float64\n",
      " 13  lag_week                           float64\n",
      " 14  lag_month                          float64\n",
      " 15  lag_year                           float64\n",
      " 16  Алтайский край                     uint8  \n",
      " 17  Амурская область                   uint8  \n",
      " 18  Архангельская область              uint8  \n",
      " 19  Астраханская область               uint8  \n",
      " 20  Белгородская область               uint8  \n",
      " 21  Брянская область                   uint8  \n",
      " 22  Владимирская область               uint8  \n",
      " 23  Волгоградская область              uint8  \n",
      " 24  Вологодская область                uint8  \n",
      " 25  Воронежская область                uint8  \n",
      " 26  Еврейская автономная область       uint8  \n",
      " 27  Забайкальский край                 uint8  \n",
      " 28  Западный энергорайон Якутии        uint8  \n",
      " 29  Ивановская область                 uint8  \n",
      " 30  Иркутская область                  uint8  \n",
      " 31  Кабардино-Балкарская Республика    uint8  \n",
      " 32  Калининградская область            uint8  \n",
      " 33  Калужская область                  uint8  \n",
      " 34  Карачаево-Черкесская Республика    uint8  \n",
      " 35  Кемеровская область - Кузбасс      uint8  \n",
      " 36  Кировская область                  uint8  \n",
      " 37  Костромская область                uint8  \n",
      " 38  Краснодарский край                 uint8  \n",
      " 39  Красноярский край                  uint8  \n",
      " 40  Курганская область                 uint8  \n",
      " 41  Курская область                    uint8  \n",
      " 42  Ленинградская область              uint8  \n",
      " 43  Липецкая область                   uint8  \n",
      " 44  Московская область                 uint8  \n",
      " 45  Мурманская область                 uint8  \n",
      " 46  Нижегородская область              uint8  \n",
      " 47  Новгородская область               uint8  \n",
      " 48  Новосибирская область              uint8  \n",
      " 49  ОЭР Хабаровского края              uint8  \n",
      " 50  Омская область                     uint8  \n",
      " 51  Оренбургская область               uint8  \n",
      " 52  Орловская область                  uint8  \n",
      " 53  Пензенская область                 uint8  \n",
      " 54  Пермский край                      uint8  \n",
      " 55  Приморский край                    uint8  \n",
      " 56  Псковская область                  uint8  \n",
      " 57  Республика Башкортостан            uint8  \n",
      " 58  Республика Бурятия                 uint8  \n",
      " 59  Республика Дагестан                uint8  \n",
      " 60  Республика Ингушетия               uint8  \n",
      " 61  Республика Калмыкия                uint8  \n",
      " 62  Республика Карелия                 uint8  \n",
      " 63  Республика Коми                    uint8  \n",
      " 64  Республика Крым                    uint8  \n",
      " 65  Республика Марий Эл                uint8  \n",
      " 66  Республика Мордовия                uint8  \n",
      " 67  Республика Северная Осетия-Алания  uint8  \n",
      " 68  Республика Татарстан (Татарстан)   uint8  \n",
      " 69  Республика Тыва                    uint8  \n",
      " 70  Республика Хакасия                 uint8  \n",
      " 71  Ростовская область                 uint8  \n",
      " 72  Рязанская область                  uint8  \n",
      " 73  Самарская область                  uint8  \n",
      " 74  Саратовская область                uint8  \n",
      " 75  Свердловская область               uint8  \n",
      " 76  Смоленская область                 uint8  \n",
      " 77  Ставропольский край                uint8  \n",
      " 78  Тамбовская область                 uint8  \n",
      " 79  Тверская область                   uint8  \n",
      " 80  Томская область                    uint8  \n",
      " 81  Тульская область                   uint8  \n",
      " 82  Тюменская область                  uint8  \n",
      " 83  Удмуртская Республика              uint8  \n",
      " 84  Ульяновская область                uint8  \n",
      " 85  Центральный энергорайон Якутии     uint8  \n",
      " 86  Челябинская область                uint8  \n",
      " 87  Чеченская Республика               uint8  \n",
      " 88  Чувашская Республика - Чувашия     uint8  \n",
      " 89  Южно-Якутский энергорайон          uint8  \n",
      " 90  Ярославская область                uint8  \n",
      "dtypes: float64(6), int64(10), uint8(75)\n",
      "memory usage: 1.1+ GB\n"
     ]
    }
   ],
   "source": [
    "df.info()"
   ]
  },
  {
   "cell_type": "code",
   "execution_count": 34,
   "id": "f2a7be56",
   "metadata": {
    "ExecuteTime": {
     "end_time": "2024-08-08T07:57:10.449689Z",
     "start_time": "2024-08-08T07:57:10.436143Z"
    }
   },
   "outputs": [
    {
     "data": {
      "text/html": [
       "<div>\n",
       "<style scoped>\n",
       "    .dataframe tbody tr th:only-of-type {\n",
       "        vertical-align: middle;\n",
       "    }\n",
       "\n",
       "    .dataframe tbody tr th {\n",
       "        vertical-align: top;\n",
       "    }\n",
       "\n",
       "    .dataframe thead th {\n",
       "        text-align: right;\n",
       "    }\n",
       "</style>\n",
       "<table border=\"1\" class=\"dataframe\">\n",
       "  <thead>\n",
       "    <tr style=\"text-align: right;\">\n",
       "      <th></th>\n",
       "      <th>actual_consumption</th>\n",
       "      <th>time_dummie</th>\n",
       "      <th>year</th>\n",
       "      <th>month</th>\n",
       "      <th>day_of_month</th>\n",
       "      <th>hour</th>\n",
       "      <th>day_of_week</th>\n",
       "      <th>day_of_year</th>\n",
       "      <th>week_of_year</th>\n",
       "      <th>quarter</th>\n",
       "      <th>holiday</th>\n",
       "      <th>lag_hour</th>\n",
       "      <th>...</th>\n",
       "      <th>Тверская область</th>\n",
       "      <th>Томская область</th>\n",
       "      <th>Тульская область</th>\n",
       "      <th>Тюменская область</th>\n",
       "      <th>Удмуртская Республика</th>\n",
       "      <th>Ульяновская область</th>\n",
       "      <th>Центральный энергорайон Якутии</th>\n",
       "      <th>Челябинская область</th>\n",
       "      <th>Чеченская Республика</th>\n",
       "      <th>Чувашская Республика - Чувашия</th>\n",
       "      <th>Южно-Якутский энергорайон</th>\n",
       "      <th>Ярославская область</th>\n",
       "    </tr>\n",
       "    <tr>\n",
       "      <th>index</th>\n",
       "      <th></th>\n",
       "      <th></th>\n",
       "      <th></th>\n",
       "      <th></th>\n",
       "      <th></th>\n",
       "      <th></th>\n",
       "      <th></th>\n",
       "      <th></th>\n",
       "      <th></th>\n",
       "      <th></th>\n",
       "      <th></th>\n",
       "      <th></th>\n",
       "      <th></th>\n",
       "      <th></th>\n",
       "      <th></th>\n",
       "      <th></th>\n",
       "      <th></th>\n",
       "      <th></th>\n",
       "      <th></th>\n",
       "      <th></th>\n",
       "      <th></th>\n",
       "      <th></th>\n",
       "      <th></th>\n",
       "      <th></th>\n",
       "      <th></th>\n",
       "    </tr>\n",
       "  </thead>\n",
       "  <tbody>\n",
       "    <tr>\n",
       "      <th>2012-02-20 00:00:00</th>\n",
       "      <td>1302.0</td>\n",
       "      <td>8783</td>\n",
       "      <td>2012</td>\n",
       "      <td>2</td>\n",
       "      <td>20</td>\n",
       "      <td>0</td>\n",
       "      <td>1</td>\n",
       "      <td>51</td>\n",
       "      <td>8</td>\n",
       "      <td>3</td>\n",
       "      <td>0</td>\n",
       "      <td>1339.0</td>\n",
       "      <td>...</td>\n",
       "      <td>0</td>\n",
       "      <td>0</td>\n",
       "      <td>0</td>\n",
       "      <td>0</td>\n",
       "      <td>0</td>\n",
       "      <td>0</td>\n",
       "      <td>0</td>\n",
       "      <td>0</td>\n",
       "      <td>0</td>\n",
       "      <td>0</td>\n",
       "      <td>0</td>\n",
       "      <td>0</td>\n",
       "    </tr>\n",
       "    <tr>\n",
       "      <th>2012-02-20 00:00:00</th>\n",
       "      <td>1091.0</td>\n",
       "      <td>8783</td>\n",
       "      <td>2012</td>\n",
       "      <td>2</td>\n",
       "      <td>20</td>\n",
       "      <td>0</td>\n",
       "      <td>1</td>\n",
       "      <td>51</td>\n",
       "      <td>8</td>\n",
       "      <td>3</td>\n",
       "      <td>0</td>\n",
       "      <td>1034.0</td>\n",
       "      <td>...</td>\n",
       "      <td>0</td>\n",
       "      <td>0</td>\n",
       "      <td>0</td>\n",
       "      <td>0</td>\n",
       "      <td>0</td>\n",
       "      <td>0</td>\n",
       "      <td>0</td>\n",
       "      <td>0</td>\n",
       "      <td>0</td>\n",
       "      <td>0</td>\n",
       "      <td>0</td>\n",
       "      <td>0</td>\n",
       "    </tr>\n",
       "    <tr>\n",
       "      <th>2012-02-20 00:00:00</th>\n",
       "      <td>946.0</td>\n",
       "      <td>8783</td>\n",
       "      <td>2012</td>\n",
       "      <td>2</td>\n",
       "      <td>20</td>\n",
       "      <td>0</td>\n",
       "      <td>1</td>\n",
       "      <td>51</td>\n",
       "      <td>8</td>\n",
       "      <td>3</td>\n",
       "      <td>0</td>\n",
       "      <td>982.0</td>\n",
       "      <td>...</td>\n",
       "      <td>0</td>\n",
       "      <td>0</td>\n",
       "      <td>0</td>\n",
       "      <td>0</td>\n",
       "      <td>0</td>\n",
       "      <td>0</td>\n",
       "      <td>0</td>\n",
       "      <td>0</td>\n",
       "      <td>0</td>\n",
       "      <td>0</td>\n",
       "      <td>0</td>\n",
       "      <td>0</td>\n",
       "    </tr>\n",
       "  </tbody>\n",
       "</table>\n",
       "<p>3 rows × 91 columns</p>\n",
       "</div>"
      ],
      "text/plain": [
       "                     actual_consumption  time_dummie  year  month  \\\n",
       "index                                                               \n",
       "2012-02-20 00:00:00              1302.0         8783  2012      2   \n",
       "2012-02-20 00:00:00              1091.0         8783  2012      2   \n",
       "2012-02-20 00:00:00               946.0         8783  2012      2   \n",
       "\n",
       "                     day_of_month  hour  day_of_week  day_of_year  \\\n",
       "index                                                               \n",
       "2012-02-20 00:00:00            20     0            1           51   \n",
       "2012-02-20 00:00:00            20     0            1           51   \n",
       "2012-02-20 00:00:00            20     0            1           51   \n",
       "\n",
       "                     week_of_year  quarter  holiday  lag_hour  ...  \\\n",
       "index                                                          ...   \n",
       "2012-02-20 00:00:00             8        3        0    1339.0  ...   \n",
       "2012-02-20 00:00:00             8        3        0    1034.0  ...   \n",
       "2012-02-20 00:00:00             8        3        0     982.0  ...   \n",
       "\n",
       "                     Тверская область  Томская область  Тульская область  \\\n",
       "index                                                                      \n",
       "2012-02-20 00:00:00                 0                0                 0   \n",
       "2012-02-20 00:00:00                 0                0                 0   \n",
       "2012-02-20 00:00:00                 0                0                 0   \n",
       "\n",
       "                     Тюменская область  Удмуртская Республика  \\\n",
       "index                                                           \n",
       "2012-02-20 00:00:00                  0                      0   \n",
       "2012-02-20 00:00:00                  0                      0   \n",
       "2012-02-20 00:00:00                  0                      0   \n",
       "\n",
       "                     Ульяновская область  Центральный энергорайон Якутии  \\\n",
       "index                                                                      \n",
       "2012-02-20 00:00:00                    0                               0   \n",
       "2012-02-20 00:00:00                    0                               0   \n",
       "2012-02-20 00:00:00                    0                               0   \n",
       "\n",
       "                     Челябинская область  Чеченская Республика  \\\n",
       "index                                                            \n",
       "2012-02-20 00:00:00                    0                     0   \n",
       "2012-02-20 00:00:00                    0                     0   \n",
       "2012-02-20 00:00:00                    0                     0   \n",
       "\n",
       "                     Чувашская Республика - Чувашия  \\\n",
       "index                                                 \n",
       "2012-02-20 00:00:00                               0   \n",
       "2012-02-20 00:00:00                               0   \n",
       "2012-02-20 00:00:00                               0   \n",
       "\n",
       "                     Южно-Якутский энергорайон  Ярославская область  \n",
       "index                                                                \n",
       "2012-02-20 00:00:00                          0                    0  \n",
       "2012-02-20 00:00:00                          0                    0  \n",
       "2012-02-20 00:00:00                          0                    0  \n",
       "\n",
       "[3 rows x 91 columns]"
      ]
     },
     "execution_count": 34,
     "metadata": {},
     "output_type": "execute_result"
    }
   ],
   "source": [
    "df.head(3)"
   ]
  },
  {
   "cell_type": "code",
   "execution_count": 37,
   "id": "8b2c4ba2",
   "metadata": {
    "ExecuteTime": {
     "end_time": "2024-08-08T08:17:56.264773Z",
     "start_time": "2024-08-08T08:17:48.667046Z"
    }
   },
   "outputs": [],
   "source": [
    "df.to_parquet(\"../prepare_data/feature_data.gzip\")"
   ]
  },
  {
   "cell_type": "code",
   "execution_count": null,
   "id": "63902edc",
   "metadata": {},
   "outputs": [],
   "source": []
  },
  {
   "cell_type": "code",
   "execution_count": null,
   "id": "e793498b",
   "metadata": {},
   "outputs": [],
   "source": []
  },
  {
   "cell_type": "code",
   "execution_count": null,
   "id": "36a029d0",
   "metadata": {},
   "outputs": [],
   "source": []
  },
  {
   "cell_type": "code",
   "execution_count": null,
   "id": "e6ee2759",
   "metadata": {},
   "outputs": [],
   "source": []
  },
  {
   "cell_type": "code",
   "execution_count": null,
   "id": "18a004da",
   "metadata": {},
   "outputs": [],
   "source": [
    "column_indices = {name: i for i, name in enumerate(df.columns)}\n",
    "\n",
    "n = len(df)\n",
    "train_df = df[0:int(n*0.7)]\n",
    "val_df = df[int(n*0.7):int(n*0.9)]\n",
    "test_df = df[int(n*0.9):]\n",
    "\n",
    "num_features = df.shape[1]"
   ]
  },
  {
   "cell_type": "code",
   "execution_count": null,
   "id": "b1cfd55d",
   "metadata": {},
   "outputs": [],
   "source": [
    "train_mean = train_df.mean()\n",
    "train_std = train_df.std()\n",
    "\n",
    "train_df = (train_df - train_mean) / train_std\n",
    "val_df = (val_df - train_mean) / train_std\n",
    "test_df = (test_df - train_mean) / train_std"
   ]
  },
  {
   "cell_type": "code",
   "execution_count": null,
   "id": "0e66a0f4",
   "metadata": {},
   "outputs": [],
   "source": []
  },
  {
   "cell_type": "code",
   "execution_count": null,
   "id": "020226ca",
   "metadata": {},
   "outputs": [],
   "source": []
  },
  {
   "cell_type": "code",
   "execution_count": null,
   "id": "81e1fab1",
   "metadata": {},
   "outputs": [],
   "source": []
  },
  {
   "cell_type": "code",
   "execution_count": null,
   "id": "f8ae9fe0",
   "metadata": {},
   "outputs": [],
   "source": []
  },
  {
   "cell_type": "code",
   "execution_count": null,
   "id": "00cb8cff",
   "metadata": {},
   "outputs": [],
   "source": []
  },
  {
   "cell_type": "code",
   "execution_count": null,
   "id": "66bd15ad",
   "metadata": {},
   "outputs": [],
   "source": []
  },
  {
   "cell_type": "code",
   "execution_count": null,
   "id": "7ae143e1",
   "metadata": {},
   "outputs": [],
   "source": []
  },
  {
   "cell_type": "code",
   "execution_count": null,
   "id": "b5ba7a37",
   "metadata": {},
   "outputs": [],
   "source": []
  },
  {
   "cell_type": "code",
   "execution_count": null,
   "id": "163f44e8",
   "metadata": {},
   "outputs": [],
   "source": []
  },
  {
   "cell_type": "code",
   "execution_count": null,
   "id": "4050aca3",
   "metadata": {},
   "outputs": [],
   "source": []
  },
  {
   "cell_type": "code",
   "execution_count": null,
   "id": "49209477",
   "metadata": {},
   "outputs": [],
   "source": []
  },
  {
   "cell_type": "code",
   "execution_count": null,
   "id": "be55bde2",
   "metadata": {},
   "outputs": [],
   "source": []
  },
  {
   "cell_type": "code",
   "execution_count": null,
   "id": "29cdfc29",
   "metadata": {},
   "outputs": [],
   "source": []
  },
  {
   "cell_type": "code",
   "execution_count": null,
   "id": "7fb4769d",
   "metadata": {},
   "outputs": [],
   "source": []
  },
  {
   "cell_type": "code",
   "execution_count": null,
   "id": "46c9bcd2",
   "metadata": {},
   "outputs": [],
   "source": []
  },
  {
   "cell_type": "code",
   "execution_count": 35,
   "id": "4280cd90",
   "metadata": {
    "ExecuteTime": {
     "end_time": "2024-08-08T07:57:10.457452Z",
     "start_time": "2024-08-08T07:57:10.451700Z"
    }
   },
   "outputs": [],
   "source": [
    "# # Предобработка данных\n",
    "# scaler = MinMaxScaler()\n",
    "# df['actual_consumption'] = scaler.fit_transform(df[['actual_consumption']])\n",
    "\n",
    "# y = df['actual_consumption'].values\n",
    "\n",
    "# # Подготовка признаков и целевой переменной\n",
    "# X = df.drop('actual_consumption', axis=1).values\n",
    "# # y = df['actual_consumption'].values\n",
    "\n",
    "# # Разделение на обучающую и тестовую выборки\n",
    "# X_train, X_test, y_train, y_test = train_test_split(X, y, test_size=0.2, shuffle=False)\n",
    "\n",
    "# # Создание генератора данных\n",
    "# class TimeSeriesGenerator(Sequence):\n",
    "#     def __init__(self, X, y, batch_size, sequence_length):\n",
    "#         self.X = X\n",
    "#         self.y = y\n",
    "#         self.batch_size = batch_size\n",
    "#         self.sequence_length = sequence_length\n",
    "        \n",
    "#     def __len__(self):\n",
    "#         return (len(self.X) - self.sequence_length) // self.batch_size\n",
    "    \n",
    "#     def __getitem__(self, idx):\n",
    "#         start_idx = idx * self.batch_size\n",
    "#         end_idx = (idx + 1) * self.batch_size\n",
    "        \n",
    "#         X_batch = np.array([self.X[i:i+self.sequence_length] for i in range(start_idx, end_idx)])\n",
    "#         y_batch = self.y[start_idx+self.sequence_length:end_idx+self.sequence_length]\n",
    "        \n",
    "#         return X_batch, y_batch\n",
    "\n",
    "# # Параметры\n",
    "# sequence_length = 30\n",
    "# batch_size = 256\n",
    "\n",
    "# # Создание генераторов\n",
    "# train_generator = TimeSeriesGenerator(X_train, y_train, batch_size, sequence_length)\n",
    "# test_generator = TimeSeriesGenerator(X_test, y_test, batch_size, sequence_length)\n",
    "\n",
    "# # Создание модели LSTM\n",
    "# model = Sequential([\n",
    "#     LSTM(64, activation='relu', input_shape=(sequence_length, X.shape[1]), return_sequences=True),\n",
    "#     LSTM(32, activation='relu'),\n",
    "#     Dense(16, activation='relu'),\n",
    "#     Dense(1)\n",
    "# ])\n",
    "\n",
    "# # Компиляция модели\n",
    "# model.compile(optimizer=Adam(learning_rate=0.001), loss='mse')\n",
    "\n",
    "# # Обучение модели\n",
    "# early_stopping = EarlyStopping(monitor='val_loss', patience=10, restore_best_weights=True)\n",
    "# history = model.fit(train_generator, epochs=5, validation_data=test_generator, callbacks=[early_stopping])\n",
    "\n",
    "# # Прогнозирование\n",
    "# predictions = model.predict(test_generator)\n",
    "\n",
    "# # Обратное преобразование\n",
    "# predictions = scaler.inverse_transform(predictions)\n",
    "# y_test_original = scaler.inverse_transform(y_test.reshape(-1, 1))"
   ]
  },
  {
   "cell_type": "code",
   "execution_count": 36,
   "id": "46088e91",
   "metadata": {
    "ExecuteTime": {
     "end_time": "2024-08-08T07:57:11.816722Z",
     "start_time": "2024-08-08T07:57:10.459209Z"
    }
   },
   "outputs": [
    {
     "ename": "NameError",
     "evalue": "name 'y_test_original' is not defined",
     "output_type": "error",
     "traceback": [
      "\u001b[1;31m---------------------------------------------------------------------------\u001b[0m",
      "\u001b[1;31mNameError\u001b[0m                                 Traceback (most recent call last)",
      "Cell \u001b[1;32mIn[36], line 1\u001b[0m\n\u001b[1;32m----> 1\u001b[0m y_test_original \u001b[38;5;241m-\u001b[39m predictions\n",
      "\u001b[1;31mNameError\u001b[0m: name 'y_test_original' is not defined"
     ]
    }
   ],
   "source": [
    "y_test_original - predictions"
   ]
  },
  {
   "cell_type": "code",
   "execution_count": null,
   "id": "5bc9afbc",
   "metadata": {},
   "outputs": [],
   "source": []
  },
  {
   "cell_type": "code",
   "execution_count": null,
   "id": "254fea5f",
   "metadata": {
    "ExecuteTime": {
     "end_time": "2024-08-08T07:57:11.818730Z",
     "start_time": "2024-08-08T07:57:11.818730Z"
    }
   },
   "outputs": [],
   "source": [
    "# # Подготовка данных\n",
    "# def prepare_data(data, target, look_back=1):\n",
    "#     X, y = [], []\n",
    "\n",
    "#     for i in range(len(data) - look_back):\n",
    "#         X.append(data[i:(i + look_back), :])\n",
    "#         y.append(target[i + look_back])\n",
    "    \n",
    "#     return np.array(X), np.array(y)"
   ]
  },
  {
   "cell_type": "code",
   "execution_count": null,
   "id": "c469820f",
   "metadata": {
    "ExecuteTime": {
     "end_time": "2024-08-08T07:57:11.819769Z",
     "start_time": "2024-08-08T07:57:11.819769Z"
    }
   },
   "outputs": [],
   "source": [
    "# # Нормализация данных\n",
    "# scaler = MinMaxScaler(feature_range=(0, 1))\n",
    "# scaled_data = scaler.fit_transform(df)"
   ]
  },
  {
   "cell_type": "code",
   "execution_count": null,
   "id": "8a33db15",
   "metadata": {
    "ExecuteTime": {
     "end_time": "2024-08-08T07:57:11.820277Z",
     "start_time": "2024-08-08T07:57:11.820277Z"
    }
   },
   "outputs": [],
   "source": [
    "# # Выбор целевой переменной\n",
    "# target = scaled_data[:, df.columns.get_loc('actual_consumption')]\n",
    "# # features = scaled_data[:, [i for i in range(scaled_data.shape[1]) if i != df.columns.get_loc('actual_consumption')]]"
   ]
  },
  {
   "cell_type": "code",
   "execution_count": null,
   "id": "c63dbf6f",
   "metadata": {
    "ExecuteTime": {
     "end_time": "2024-08-08T07:57:11.821287Z",
     "start_time": "2024-08-08T07:57:11.821287Z"
    }
   },
   "outputs": [],
   "source": [
    "# # Подготовка данных для LSTM\n",
    "# look_back = 5  # Количество предыдущих временных шагов для использования в прогнозе\n",
    "# X, y = prepare_data(features, target, look_back)\n",
    "\n",
    "# # Разделение на обучающую и тестовую выборки\n",
    "# train_size = int(len(X) * 0.8)\n",
    "# X_train, X_test = X[:train_size], X[train_size:]\n",
    "# y_train, y_test = y[:train_size], y[train_size:]\n",
    "\n",
    "# # Создание модели LSTM\n",
    "# model = Sequential([\n",
    "#     LSTM(50, activation='relu', input_shape=(look_back, features.shape[1]), return_sequences=True),\n",
    "#     LSTM(50, activation='relu'),\n",
    "#     Dense(1)\n",
    "# ])\n",
    "\n",
    "# # Компиляция модели\n",
    "# model.compile(optimizer=Adam(learning_rate=0.001), loss='mse')\n",
    "\n",
    "# # Обучение модели\n",
    "# history = model.fit(X_train, y_train, epochs=100, batch_size=32, validation_split=0.2, verbose=1)\n",
    "\n",
    "# # Прогнозирование\n",
    "# predictions = model.predict(X_test)\n",
    "\n",
    "# # Обратное масштабирование для получения реальных значений\n",
    "# predictions = scaler.inverse_transform(np.concatenate((X_test[:, -1, :], predictions), axis=1))[:, -1]\n",
    "# y_test_inv = scaler.inverse_transform(np.concatenate((X_test[:, -1, :], y_test.reshape(-1, 1)), axis=1))[:, -1]"
   ]
  },
  {
   "cell_type": "code",
   "execution_count": null,
   "id": "3f297c19",
   "metadata": {
    "ExecuteTime": {
     "end_time": "2024-08-08T07:57:11.822285Z",
     "start_time": "2024-08-08T07:57:11.822285Z"
    }
   },
   "outputs": [],
   "source": [
    "# # Оценка модели\n",
    "# mse = np.mean((predictions - y_test_inv) ** 2)\n",
    "# print(f\"Mean Squared Error: {mse}\")"
   ]
  },
  {
   "cell_type": "code",
   "execution_count": null,
   "id": "8dc3e125",
   "metadata": {},
   "outputs": [],
   "source": []
  },
  {
   "cell_type": "code",
   "execution_count": null,
   "id": "b2620206",
   "metadata": {},
   "outputs": [],
   "source": []
  }
 ],
 "metadata": {
  "kernelspec": {
   "display_name": "Python 3 (ipykernel)",
   "language": "python",
   "name": "python3"
  },
  "language_info": {
   "codemirror_mode": {
    "name": "ipython",
    "version": 3
   },
   "file_extension": ".py",
   "mimetype": "text/x-python",
   "name": "python",
   "nbconvert_exporter": "python",
   "pygments_lexer": "ipython3",
   "version": "3.11.5"
  },
  "toc": {
   "base_numbering": 1,
   "nav_menu": {},
   "number_sections": true,
   "sideBar": true,
   "skip_h1_title": false,
   "title_cell": "Table of Contents",
   "title_sidebar": "Contents",
   "toc_cell": false,
   "toc_position": {},
   "toc_section_display": true,
   "toc_window_display": false
  }
 },
 "nbformat": 4,
 "nbformat_minor": 5
}

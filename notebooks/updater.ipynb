{
 "cells": [
  {
   "cell_type": "code",
   "execution_count": null,
   "id": "473306e4",
   "metadata": {
    "ExecuteTime": {
     "end_time": "2024-08-18T12:19:11.347203Z",
     "start_time": "2024-08-18T12:19:10.869993Z"
    }
   },
   "outputs": [],
   "source": []
  },
  {
   "cell_type": "code",
   "execution_count": 123,
   "id": "9532abef",
   "metadata": {
    "ExecuteTime": {
     "end_time": "2024-08-18T13:22:18.902050Z",
     "start_time": "2024-08-18T13:22:18.893798Z"
    }
   },
   "outputs": [],
   "source": [
    "%run ../src/parsing/preset.py"
   ]
  },
  {
   "cell_type": "code",
   "execution_count": null,
   "id": "edc4b355",
   "metadata": {},
   "outputs": [],
   "source": []
  },
  {
   "cell_type": "code",
   "execution_count": 3,
   "id": "d269dba2",
   "metadata": {
    "ExecuteTime": {
     "end_time": "2024-08-18T12:19:27.228999Z",
     "start_time": "2024-08-18T12:19:25.714044Z"
    }
   },
   "outputs": [],
   "source": [
    "main_df = pd.read_parquet(\"../data/feature_data.gzip\")\n",
    "new_df = pd.read_parquet(\"../data/new_data.gzip\")"
   ]
  },
  {
   "cell_type": "code",
   "execution_count": null,
   "id": "57f4b182",
   "metadata": {},
   "outputs": [],
   "source": []
  },
  {
   "cell_type": "code",
   "execution_count": 8,
   "id": "cf4e9bf6",
   "metadata": {
    "ExecuteTime": {
     "end_time": "2024-08-18T12:20:39.356997Z",
     "start_time": "2024-08-18T12:20:39.345506Z"
    }
   },
   "outputs": [
    {
     "data": {
      "text/html": [
       "<div>\n",
       "<style scoped>\n",
       "    .dataframe tbody tr th:only-of-type {\n",
       "        vertical-align: middle;\n",
       "    }\n",
       "\n",
       "    .dataframe tbody tr th {\n",
       "        vertical-align: top;\n",
       "    }\n",
       "\n",
       "    .dataframe thead th {\n",
       "        text-align: right;\n",
       "    }\n",
       "</style>\n",
       "<table border=\"1\" class=\"dataframe\">\n",
       "  <thead>\n",
       "    <tr style=\"text-align: right;\">\n",
       "      <th></th>\n",
       "      <th>actual_consumption</th>\n",
       "      <th>time_dummie</th>\n",
       "      <th>year</th>\n",
       "      <th>month</th>\n",
       "      <th>day_of_month</th>\n",
       "      <th>hour</th>\n",
       "      <th>day_of_week</th>\n",
       "      <th>day_of_year</th>\n",
       "      <th>week_of_year</th>\n",
       "      <th>quarter</th>\n",
       "      <th>...</th>\n",
       "      <th>Тульская область</th>\n",
       "      <th>Тюменская область</th>\n",
       "      <th>Удмуртская Республика</th>\n",
       "      <th>Ульяновская область</th>\n",
       "      <th>Центральный энергорайон Якутии</th>\n",
       "      <th>Челябинская область</th>\n",
       "      <th>Чеченская Республика</th>\n",
       "      <th>Чувашская Республика - Чувашия</th>\n",
       "      <th>Южно-Якутский энергорайон</th>\n",
       "      <th>Ярославская область</th>\n",
       "    </tr>\n",
       "  </thead>\n",
       "  <tbody>\n",
       "    <tr>\n",
       "      <th>0</th>\n",
       "      <td>1302.0</td>\n",
       "      <td>8783</td>\n",
       "      <td>2012</td>\n",
       "      <td>2</td>\n",
       "      <td>20</td>\n",
       "      <td>0</td>\n",
       "      <td>1</td>\n",
       "      <td>51</td>\n",
       "      <td>8</td>\n",
       "      <td>3</td>\n",
       "      <td>...</td>\n",
       "      <td>0</td>\n",
       "      <td>0</td>\n",
       "      <td>0</td>\n",
       "      <td>0</td>\n",
       "      <td>0</td>\n",
       "      <td>0</td>\n",
       "      <td>0</td>\n",
       "      <td>0</td>\n",
       "      <td>0</td>\n",
       "      <td>0</td>\n",
       "    </tr>\n",
       "    <tr>\n",
       "      <th>1</th>\n",
       "      <td>1091.0</td>\n",
       "      <td>8783</td>\n",
       "      <td>2012</td>\n",
       "      <td>2</td>\n",
       "      <td>20</td>\n",
       "      <td>0</td>\n",
       "      <td>1</td>\n",
       "      <td>51</td>\n",
       "      <td>8</td>\n",
       "      <td>3</td>\n",
       "      <td>...</td>\n",
       "      <td>0</td>\n",
       "      <td>0</td>\n",
       "      <td>0</td>\n",
       "      <td>0</td>\n",
       "      <td>0</td>\n",
       "      <td>0</td>\n",
       "      <td>0</td>\n",
       "      <td>0</td>\n",
       "      <td>0</td>\n",
       "      <td>0</td>\n",
       "    </tr>\n",
       "    <tr>\n",
       "      <th>2</th>\n",
       "      <td>946.0</td>\n",
       "      <td>8783</td>\n",
       "      <td>2012</td>\n",
       "      <td>2</td>\n",
       "      <td>20</td>\n",
       "      <td>0</td>\n",
       "      <td>1</td>\n",
       "      <td>51</td>\n",
       "      <td>8</td>\n",
       "      <td>3</td>\n",
       "      <td>...</td>\n",
       "      <td>0</td>\n",
       "      <td>0</td>\n",
       "      <td>0</td>\n",
       "      <td>0</td>\n",
       "      <td>0</td>\n",
       "      <td>0</td>\n",
       "      <td>0</td>\n",
       "      <td>0</td>\n",
       "      <td>0</td>\n",
       "      <td>0</td>\n",
       "    </tr>\n",
       "  </tbody>\n",
       "</table>\n",
       "<p>3 rows × 91 columns</p>\n",
       "</div>"
      ],
      "text/plain": [
       "   actual_consumption  time_dummie  year  month  day_of_month  hour  \\\n",
       "0              1302.0         8783  2012      2            20     0   \n",
       "1              1091.0         8783  2012      2            20     0   \n",
       "2               946.0         8783  2012      2            20     0   \n",
       "\n",
       "   day_of_week  day_of_year  week_of_year  quarter  ...  Тульская область  \\\n",
       "0            1           51             8        3  ...                 0   \n",
       "1            1           51             8        3  ...                 0   \n",
       "2            1           51             8        3  ...                 0   \n",
       "\n",
       "   Тюменская область  Удмуртская Республика  Ульяновская область  \\\n",
       "0                  0                      0                    0   \n",
       "1                  0                      0                    0   \n",
       "2                  0                      0                    0   \n",
       "\n",
       "   Центральный энергорайон Якутии  Челябинская область  Чеченская Республика  \\\n",
       "0                               0                    0                     0   \n",
       "1                               0                    0                     0   \n",
       "2                               0                    0                     0   \n",
       "\n",
       "   Чувашская Республика - Чувашия  Южно-Якутский энергорайон  \\\n",
       "0                               0                          0   \n",
       "1                               0                          0   \n",
       "2                               0                          0   \n",
       "\n",
       "   Ярославская область  \n",
       "0                    0  \n",
       "1                    0  \n",
       "2                    0  \n",
       "\n",
       "[3 rows x 91 columns]"
      ]
     },
     "execution_count": 8,
     "metadata": {},
     "output_type": "execute_result"
    }
   ],
   "source": [
    "main_df.head(3)"
   ]
  },
  {
   "cell_type": "code",
   "execution_count": null,
   "id": "a9e3d790",
   "metadata": {},
   "outputs": [],
   "source": []
  },
  {
   "cell_type": "code",
   "execution_count": 27,
   "id": "19b3ba67",
   "metadata": {
    "ExecuteTime": {
     "end_time": "2024-08-18T12:23:16.777459Z",
     "start_time": "2024-08-18T12:23:16.727652Z"
    }
   },
   "outputs": [
    {
     "data": {
      "text/html": [
       "<div>\n",
       "<style scoped>\n",
       "    .dataframe tbody tr th:only-of-type {\n",
       "        vertical-align: middle;\n",
       "    }\n",
       "\n",
       "    .dataframe tbody tr th {\n",
       "        vertical-align: top;\n",
       "    }\n",
       "\n",
       "    .dataframe thead th {\n",
       "        text-align: right;\n",
       "    }\n",
       "</style>\n",
       "<table border=\"1\" class=\"dataframe\">\n",
       "  <thead>\n",
       "    <tr style=\"text-align: right;\">\n",
       "      <th></th>\n",
       "      <th>actual_consumption</th>\n",
       "      <th>lag_hour</th>\n",
       "    </tr>\n",
       "  </thead>\n",
       "  <tbody>\n",
       "    <tr>\n",
       "      <th>5611785</th>\n",
       "      <td>1205.0</td>\n",
       "      <td>1222.0</td>\n",
       "    </tr>\n",
       "    <tr>\n",
       "      <th>5611860</th>\n",
       "      <td>1211.0</td>\n",
       "      <td>1205.0</td>\n",
       "    </tr>\n",
       "    <tr>\n",
       "      <th>5611935</th>\n",
       "      <td>1221.0</td>\n",
       "      <td>1211.0</td>\n",
       "    </tr>\n",
       "    <tr>\n",
       "      <th>5612009</th>\n",
       "      <td>1193.0</td>\n",
       "      <td>758.0</td>\n",
       "    </tr>\n",
       "    <tr>\n",
       "      <th>5612084</th>\n",
       "      <td>1145.0</td>\n",
       "      <td>735.0</td>\n",
       "    </tr>\n",
       "    <tr>\n",
       "      <th>...</th>\n",
       "      <td>...</td>\n",
       "      <td>...</td>\n",
       "    </tr>\n",
       "    <tr>\n",
       "      <th>5646958</th>\n",
       "      <td>1081.0</td>\n",
       "      <td>900.0</td>\n",
       "    </tr>\n",
       "    <tr>\n",
       "      <th>5647033</th>\n",
       "      <td>1146.0</td>\n",
       "      <td>927.0</td>\n",
       "    </tr>\n",
       "    <tr>\n",
       "      <th>5647108</th>\n",
       "      <td>1190.0</td>\n",
       "      <td>988.0</td>\n",
       "    </tr>\n",
       "    <tr>\n",
       "      <th>5647183</th>\n",
       "      <td>1205.0</td>\n",
       "      <td>1009.0</td>\n",
       "    </tr>\n",
       "    <tr>\n",
       "      <th>5647258</th>\n",
       "      <td>1218.0</td>\n",
       "      <td>1205.0</td>\n",
       "    </tr>\n",
       "  </tbody>\n",
       "</table>\n",
       "<p>474 rows × 2 columns</p>\n",
       "</div>"
      ],
      "text/plain": [
       "         actual_consumption  lag_hour\n",
       "5611785              1205.0    1222.0\n",
       "5611860              1211.0    1205.0\n",
       "5611935              1221.0    1211.0\n",
       "5612009              1193.0     758.0\n",
       "5612084              1145.0     735.0\n",
       "...                     ...       ...\n",
       "5646958              1081.0     900.0\n",
       "5647033              1146.0     927.0\n",
       "5647108              1190.0     988.0\n",
       "5647183              1205.0    1009.0\n",
       "5647258              1218.0    1205.0\n",
       "\n",
       "[474 rows x 2 columns]"
      ]
     },
     "execution_count": 27,
     "metadata": {},
     "output_type": "execute_result"
    }
   ],
   "source": [
    "main_df[main_df[\"Тульская область\"] == 1].loc[:, [\"actual_consumption\", \"lag_hour\"]].iloc[76796:]"
   ]
  },
  {
   "cell_type": "code",
   "execution_count": null,
   "id": "d97bf6cc",
   "metadata": {},
   "outputs": [],
   "source": []
  },
  {
   "cell_type": "code",
   "execution_count": null,
   "id": "e13e8e93",
   "metadata": {
    "ExecuteTime": {
     "end_time": "2024-08-18T12:19:11.353628Z",
     "start_time": "2024-08-18T12:19:11.353628Z"
    }
   },
   "outputs": [],
   "source": [
    "main_df.sort_index(axis=1, inplace=True)"
   ]
  },
  {
   "cell_type": "code",
   "execution_count": null,
   "id": "5b41de06",
   "metadata": {},
   "outputs": [],
   "source": []
  },
  {
   "cell_type": "code",
   "execution_count": null,
   "id": "50c7fa7d",
   "metadata": {
    "ExecuteTime": {
     "end_time": "2024-08-18T12:19:11.354989Z",
     "start_time": "2024-08-18T12:19:11.354989Z"
    }
   },
   "outputs": [],
   "source": [
    "main_df[main_df[\"Ярославская область\"] == 1].iloc[:, :15]"
   ]
  },
  {
   "cell_type": "code",
   "execution_count": null,
   "id": "b4a18a93",
   "metadata": {},
   "outputs": [],
   "source": []
  },
  {
   "cell_type": "code",
   "execution_count": null,
   "id": "8e5e57ca",
   "metadata": {
    "ExecuteTime": {
     "end_time": "2024-08-18T12:19:11.356000Z",
     "start_time": "2024-08-18T12:19:11.356000Z"
    }
   },
   "outputs": [],
   "source": [
    "new_df.tail(3)"
   ]
  },
  {
   "cell_type": "code",
   "execution_count": null,
   "id": "14c43d36",
   "metadata": {},
   "outputs": [],
   "source": []
  },
  {
   "cell_type": "code",
   "execution_count": null,
   "id": "671bee44",
   "metadata": {
    "ExecuteTime": {
     "end_time": "2024-08-18T12:19:11.357000Z",
     "start_time": "2024-08-18T12:19:11.357000Z"
    }
   },
   "outputs": [],
   "source": [
    "new_df = new_df[main_cols]"
   ]
  },
  {
   "cell_type": "code",
   "execution_count": null,
   "id": "b4a6a9c8",
   "metadata": {},
   "outputs": [],
   "source": []
  },
  {
   "cell_type": "code",
   "execution_count": null,
   "id": "3f876048",
   "metadata": {
    "ExecuteTime": {
     "end_time": "2024-08-18T12:19:11.357996Z",
     "start_time": "2024-08-18T12:19:11.357996Z"
    }
   },
   "outputs": [],
   "source": [
    "new_df.rename(columns={'Datetime': 'datetime', 'IBR_ActualConsumption': 'actual_consumption', 'Name': 'subject_name'}, inplace=True)"
   ]
  },
  {
   "cell_type": "code",
   "execution_count": null,
   "id": "07fc9ba7",
   "metadata": {},
   "outputs": [],
   "source": []
  },
  {
   "cell_type": "code",
   "execution_count": null,
   "id": "35e31c68",
   "metadata": {
    "ExecuteTime": {
     "end_time": "2024-08-18T12:19:11.359046Z",
     "start_time": "2024-08-18T12:19:11.359046Z"
    }
   },
   "outputs": [],
   "source": [
    "new_df.sort_index(axis=1, inplace=True)"
   ]
  },
  {
   "cell_type": "code",
   "execution_count": null,
   "id": "d5d14e8a",
   "metadata": {},
   "outputs": [],
   "source": []
  },
  {
   "cell_type": "code",
   "execution_count": null,
   "id": "674c064c",
   "metadata": {
    "ExecuteTime": {
     "end_time": "2024-08-18T12:19:11.360129Z",
     "start_time": "2024-08-18T12:19:11.360129Z"
    }
   },
   "outputs": [],
   "source": [
    "new_df[\"datetime\"] = pd.to_datetime(new_df[\"datetime\"])"
   ]
  },
  {
   "cell_type": "code",
   "execution_count": null,
   "id": "c6d64643",
   "metadata": {},
   "outputs": [],
   "source": []
  },
  {
   "cell_type": "code",
   "execution_count": null,
   "id": "27c213f7",
   "metadata": {
    "ExecuteTime": {
     "end_time": "2024-08-18T12:19:11.362153Z",
     "start_time": "2024-08-18T12:19:11.362153Z"
    }
   },
   "outputs": [],
   "source": [
    "new_df[\"actual_consumption\"] = new_df[\"actual_consumption\"].apply(prep_target)"
   ]
  },
  {
   "cell_type": "code",
   "execution_count": null,
   "id": "34c335f5",
   "metadata": {},
   "outputs": [],
   "source": []
  },
  {
   "cell_type": "code",
   "execution_count": null,
   "id": "3a9c5983",
   "metadata": {
    "ExecuteTime": {
     "end_time": "2024-08-18T12:19:11.363163Z",
     "start_time": "2024-08-18T12:19:11.363163Z"
    }
   },
   "outputs": [],
   "source": [
    "new_df.sort_values(by=[\"datetime\", \"subject_name\"], inplace=True)"
   ]
  },
  {
   "cell_type": "code",
   "execution_count": null,
   "id": "498802a3",
   "metadata": {},
   "outputs": [],
   "source": []
  },
  {
   "cell_type": "code",
   "execution_count": null,
   "id": "9d19540e",
   "metadata": {
    "ExecuteTime": {
     "end_time": "2024-08-18T12:19:11.364163Z",
     "start_time": "2024-08-18T12:19:11.364163Z"
    }
   },
   "outputs": [],
   "source": [
    "new_df"
   ]
  },
  {
   "cell_type": "code",
   "execution_count": null,
   "id": "9f7d6b89",
   "metadata": {
    "ExecuteTime": {
     "end_time": "2024-08-16T13:41:48.185402Z",
     "start_time": "2024-08-16T13:41:46.959010Z"
    }
   },
   "outputs": [],
   "source": []
  },
  {
   "cell_type": "code",
   "execution_count": null,
   "id": "2782ba85",
   "metadata": {
    "ExecuteTime": {
     "end_time": "2024-08-18T12:19:11.365164Z",
     "start_time": "2024-08-18T12:19:11.365164Z"
    }
   },
   "outputs": [],
   "source": [
    "new_df.dropna(inplace=True)\n",
    "new_df.drop_duplicates(inplace=True)"
   ]
  },
  {
   "cell_type": "code",
   "execution_count": null,
   "id": "caf30d0c",
   "metadata": {},
   "outputs": [],
   "source": []
  },
  {
   "cell_type": "code",
   "execution_count": null,
   "id": "29c05f18",
   "metadata": {
    "ExecuteTime": {
     "end_time": "2024-08-18T12:19:11.367162Z",
     "start_time": "2024-08-18T12:19:11.367162Z"
    }
   },
   "outputs": [],
   "source": [
    "new_df.reset_index(drop=True, inplace=True)"
   ]
  },
  {
   "cell_type": "code",
   "execution_count": null,
   "id": "7534594b",
   "metadata": {},
   "outputs": [],
   "source": []
  },
  {
   "cell_type": "code",
   "execution_count": null,
   "id": "6767c35a",
   "metadata": {
    "ExecuteTime": {
     "end_time": "2024-08-18T12:19:11.368161Z",
     "start_time": "2024-08-18T12:19:11.368161Z"
    }
   },
   "outputs": [],
   "source": [
    "new_df"
   ]
  },
  {
   "cell_type": "code",
   "execution_count": null,
   "id": "b0215921",
   "metadata": {},
   "outputs": [],
   "source": []
  },
  {
   "cell_type": "code",
   "execution_count": null,
   "id": "f5cdde16",
   "metadata": {
    "ExecuteTime": {
     "end_time": "2024-08-18T12:19:11.369161Z",
     "start_time": "2024-08-18T12:19:11.369161Z"
    }
   },
   "outputs": [],
   "source": [
    "new_df[\"datetime\"] = new_df[\"datetime\"].astype(str)\n",
    "new_df = create_time_step_features(new_df, max(main_df[\"time_dummie\"]))  # Check function\n",
    "new_df = pd.concat([new_df, pd.get_dummies(new_df[\"subject_name\"], columns=uniq_subjs)], axis=1)"
   ]
  },
  {
   "cell_type": "code",
   "execution_count": null,
   "id": "ae3d8777",
   "metadata": {},
   "outputs": [],
   "source": []
  },
  {
   "cell_type": "code",
   "execution_count": null,
   "id": "12a9f038",
   "metadata": {
    "ExecuteTime": {
     "end_time": "2024-08-18T12:19:11.370160Z",
     "start_time": "2024-08-18T12:19:11.370160Z"
    }
   },
   "outputs": [],
   "source": [
    "new_df.tail(2)"
   ]
  },
  {
   "cell_type": "code",
   "execution_count": null,
   "id": "39d4bf57",
   "metadata": {},
   "outputs": [],
   "source": []
  },
  {
   "cell_type": "code",
   "execution_count": null,
   "id": "1845ed0c",
   "metadata": {
    "ExecuteTime": {
     "end_time": "2024-08-18T12:19:11.372164Z",
     "start_time": "2024-08-18T12:19:11.372164Z"
    }
   },
   "outputs": [],
   "source": [
    "df_rows_count = new_df.shape[0]"
   ]
  },
  {
   "cell_type": "code",
   "execution_count": null,
   "id": "4cd2f0fe",
   "metadata": {},
   "outputs": [],
   "source": []
  },
  {
   "cell_type": "code",
   "execution_count": null,
   "id": "3ec38810",
   "metadata": {
    "ExecuteTime": {
     "end_time": "2024-08-18T12:19:11.373161Z",
     "start_time": "2024-08-18T12:19:11.373161Z"
    }
   },
   "outputs": [],
   "source": [
    "new_df.sort_index(axis=1, inplace=True)"
   ]
  },
  {
   "cell_type": "code",
   "execution_count": null,
   "id": "1deda34c",
   "metadata": {},
   "outputs": [],
   "source": []
  },
  {
   "cell_type": "code",
   "execution_count": null,
   "id": "1240724d",
   "metadata": {
    "ExecuteTime": {
     "end_time": "2024-08-18T12:19:11.375161Z",
     "start_time": "2024-08-18T12:19:11.375161Z"
    }
   },
   "outputs": [],
   "source": [
    "new_df.tail(3)"
   ]
  },
  {
   "cell_type": "code",
   "execution_count": null,
   "id": "e003f981",
   "metadata": {},
   "outputs": [],
   "source": []
  },
  {
   "cell_type": "code",
   "execution_count": null,
   "id": "6d077c37",
   "metadata": {
    "ExecuteTime": {
     "end_time": "2024-08-18T12:19:11.376162Z",
     "start_time": "2024-08-18T12:19:11.376162Z"
    }
   },
   "outputs": [],
   "source": [
    "new_df[\"subject_name\"] = decoding(new_df[uniq_subjs])"
   ]
  },
  {
   "cell_type": "code",
   "execution_count": null,
   "id": "0a73a2b6",
   "metadata": {},
   "outputs": [],
   "source": []
  },
  {
   "cell_type": "code",
   "execution_count": null,
   "id": "484cd284",
   "metadata": {
    "ExecuteTime": {
     "end_time": "2024-08-18T12:19:11.377163Z",
     "start_time": "2024-08-18T12:19:11.377163Z"
    }
   },
   "outputs": [],
   "source": [
    "main_df[\"subject_name\"] = decoding(main_df[uniq_subjs])"
   ]
  },
  {
   "cell_type": "code",
   "execution_count": null,
   "id": "646c19e7",
   "metadata": {},
   "outputs": [],
   "source": []
  },
  {
   "cell_type": "code",
   "execution_count": null,
   "id": "04c7ce19",
   "metadata": {
    "ExecuteTime": {
     "end_time": "2024-08-18T12:19:11.378161Z",
     "start_time": "2024-08-18T12:19:11.378161Z"
    }
   },
   "outputs": [],
   "source": [
    "main_df.drop(columns=[\"lag_hour\", \"lag_day\", \"lag_week\", \"lag_month\", \"lag_year\"], inplace=True);"
   ]
  },
  {
   "cell_type": "code",
   "execution_count": null,
   "id": "609b3300",
   "metadata": {
    "ExecuteTime": {
     "end_time": "2024-08-18T12:19:11.379163Z",
     "start_time": "2024-08-18T12:19:11.379163Z"
    }
   },
   "outputs": [],
   "source": [
    "new_df.drop(columns=[\"datetime\"], inplace=True);"
   ]
  },
  {
   "cell_type": "code",
   "execution_count": null,
   "id": "dc06bbe8",
   "metadata": {},
   "outputs": [],
   "source": []
  },
  {
   "cell_type": "code",
   "execution_count": null,
   "id": "406b5b6c",
   "metadata": {
    "ExecuteTime": {
     "end_time": "2024-08-18T12:19:11.381163Z",
     "start_time": "2024-08-18T12:19:11.380163Z"
    }
   },
   "outputs": [],
   "source": [
    "main_df.sort_index(axis=1, inplace=True)\n",
    "new_df.sort_index(axis=1, inplace=True)"
   ]
  },
  {
   "cell_type": "code",
   "execution_count": null,
   "id": "f50b0737",
   "metadata": {},
   "outputs": [],
   "source": []
  },
  {
   "cell_type": "code",
   "execution_count": null,
   "id": "4c8c6ecf",
   "metadata": {
    "ExecuteTime": {
     "end_time": "2024-08-18T12:19:11.382163Z",
     "start_time": "2024-08-18T12:19:11.382163Z"
    }
   },
   "outputs": [],
   "source": [
    "lag_df = pd.concat([main_df, new_df], axis=0, ignore_index=True)"
   ]
  },
  {
   "cell_type": "code",
   "execution_count": null,
   "id": "48fbfea5",
   "metadata": {},
   "outputs": [],
   "source": []
  },
  {
   "cell_type": "code",
   "execution_count": null,
   "id": "b0f95b44",
   "metadata": {
    "ExecuteTime": {
     "end_time": "2024-08-18T12:19:11.383163Z",
     "start_time": "2024-08-18T12:19:11.383163Z"
    },
    "scrolled": true
   },
   "outputs": [],
   "source": [
    "new_df[\"lag_hour\"] = create_lag_feature(lag_df, time_steps[\"hour\"], lag_column=\"actual_consumption\", size=df_rows_count)\n",
    "new_df[\"lag_day\"] = create_lag_feature(lag_df, time_steps[\"day\"], lag_column=\"actual_consumption\", size=df_rows_count)\n",
    "new_df[\"lag_week\"] = create_lag_feature(lag_df, time_steps[\"week\"], lag_column=\"actual_consumption\", size=df_rows_count)\n",
    "new_df[\"lag_month\"] = create_lag_feature(lag_df, time_steps[\"month\"], lag_column=\"actual_consumption\", size=df_rows_count)\n",
    "new_df[\"lag_year\"] = create_lag_feature(lag_df, time_steps[\"year\"], lag_column=\"actual_consumption\", size=df_rows_count)"
   ]
  },
  {
   "cell_type": "code",
   "execution_count": null,
   "id": "56700d26",
   "metadata": {
    "ExecuteTime": {
     "end_time": "2024-08-18T09:34:54.932736Z",
     "start_time": "2024-08-18T09:34:54.932736Z"
    }
   },
   "outputs": [],
   "source": []
  },
  {
   "cell_type": "code",
   "execution_count": null,
   "id": "d9a2e553",
   "metadata": {
    "ExecuteTime": {
     "end_time": "2024-08-18T12:19:11.384163Z",
     "start_time": "2024-08-18T12:19:11.384163Z"
    }
   },
   "outputs": [],
   "source": [
    "new_df.tail(3)"
   ]
  },
  {
   "cell_type": "code",
   "execution_count": null,
   "id": "d9c6f3ab",
   "metadata": {},
   "outputs": [],
   "source": []
  },
  {
   "cell_type": "code",
   "execution_count": null,
   "id": "ecf5b70d",
   "metadata": {
    "ExecuteTime": {
     "end_time": "2024-08-18T12:19:11.385162Z",
     "start_time": "2024-08-18T12:19:11.385162Z"
    }
   },
   "outputs": [],
   "source": [
    "new_df.sort_index(axis=1, inplace=True)\n",
    "main_df.sort_index(axis=1, inplace=True)"
   ]
  },
  {
   "cell_type": "code",
   "execution_count": null,
   "id": "fa756ce9",
   "metadata": {},
   "outputs": [],
   "source": []
  },
  {
   "cell_type": "code",
   "execution_count": null,
   "id": "cf8d3190",
   "metadata": {
    "ExecuteTime": {
     "end_time": "2024-08-18T12:19:11.387163Z",
     "start_time": "2024-08-18T12:19:11.387163Z"
    }
   },
   "outputs": [],
   "source": [
    "zxc = pd.read_parquet(\"../data/feature_data.gzip\")"
   ]
  },
  {
   "cell_type": "code",
   "execution_count": null,
   "id": "2d8c9d0a",
   "metadata": {
    "ExecuteTime": {
     "end_time": "2024-08-18T12:19:11.388168Z",
     "start_time": "2024-08-18T12:19:11.388168Z"
    }
   },
   "outputs": [],
   "source": [
    "zxc.sort_index(axis=1, inplace=True)"
   ]
  },
  {
   "cell_type": "code",
   "execution_count": null,
   "id": "6c55bae3",
   "metadata": {
    "ExecuteTime": {
     "end_time": "2024-08-18T12:19:11.389437Z",
     "start_time": "2024-08-18T12:19:11.389437Z"
    }
   },
   "outputs": [],
   "source": [
    "zxc.columns[:20]"
   ]
  },
  {
   "cell_type": "code",
   "execution_count": null,
   "id": "4a280ca4",
   "metadata": {
    "ExecuteTime": {
     "end_time": "2024-08-18T12:19:11.389947Z",
     "start_time": "2024-08-18T12:19:11.389947Z"
    }
   },
   "outputs": [],
   "source": [
    "new_df.drop(columns=[\"subject_name\"], inplace=True)"
   ]
  },
  {
   "cell_type": "code",
   "execution_count": null,
   "id": "dc9b381e",
   "metadata": {
    "ExecuteTime": {
     "end_time": "2024-08-18T12:19:11.392126Z",
     "start_time": "2024-08-18T12:19:11.392126Z"
    }
   },
   "outputs": [],
   "source": [
    "new_df.sort_index(axis=1, inplace=True)\n",
    "new_df.columns[:20]"
   ]
  },
  {
   "cell_type": "code",
   "execution_count": null,
   "id": "bc3cc6fe",
   "metadata": {
    "ExecuteTime": {
     "end_time": "2024-08-18T12:19:11.392640Z",
     "start_time": "2024-08-18T12:19:11.392640Z"
    }
   },
   "outputs": [],
   "source": [
    "# def take_peak_hour(df):\n",
    "#     for i in df[\"actual_consumption\"]:\n",
    "#         curr_row = df.iloc[i]\n",
    "#         curr_df = df.[df[\"\"]]\n",
    "#         curr_df = df[df[]]"
   ]
  },
  {
   "cell_type": "code",
   "execution_count": null,
   "id": "ab871ea1",
   "metadata": {},
   "outputs": [],
   "source": []
  },
  {
   "cell_type": "code",
   "execution_count": null,
   "id": "5178aae4",
   "metadata": {
    "ExecuteTime": {
     "end_time": "2024-08-18T12:19:11.394272Z",
     "start_time": "2024-08-18T12:19:11.394272Z"
    }
   },
   "outputs": [],
   "source": [
    "feature_df = pd.concat([main_df, new_df], axis=0)"
   ]
  },
  {
   "cell_type": "code",
   "execution_count": null,
   "id": "f71fcd3c",
   "metadata": {},
   "outputs": [],
   "source": []
  },
  {
   "cell_type": "code",
   "execution_count": null,
   "id": "a9c87ac1",
   "metadata": {
    "ExecuteTime": {
     "end_time": "2024-08-18T12:19:11.395360Z",
     "start_time": "2024-08-18T12:19:11.395360Z"
    }
   },
   "outputs": [],
   "source": [
    "feature_df.reset_index(inplace=True, drop=True)"
   ]
  },
  {
   "cell_type": "code",
   "execution_count": null,
   "id": "f8b7e9c4",
   "metadata": {},
   "outputs": [],
   "source": []
  },
  {
   "cell_type": "code",
   "execution_count": 28,
   "id": "0cf6358a",
   "metadata": {
    "ExecuteTime": {
     "end_time": "2024-08-18T12:25:01.315412Z",
     "start_time": "2024-08-18T12:25:00.028181Z"
    }
   },
   "outputs": [],
   "source": [
    "global_df = pd.read_parquet(\"../data/feature_data.gzip\")"
   ]
  },
  {
   "cell_type": "code",
   "execution_count": null,
   "id": "9051721f",
   "metadata": {},
   "outputs": [],
   "source": []
  },
  {
   "cell_type": "code",
   "execution_count": 29,
   "id": "ab227ca9",
   "metadata": {
    "ExecuteTime": {
     "end_time": "2024-08-18T12:25:05.221157Z",
     "start_time": "2024-08-18T12:25:01.739862Z"
    }
   },
   "outputs": [],
   "source": [
    "feature_df = pd.concat([global_df, new_df], axis=0, ignore_index=True)"
   ]
  },
  {
   "cell_type": "code",
   "execution_count": null,
   "id": "19919435",
   "metadata": {},
   "outputs": [],
   "source": []
  },
  {
   "cell_type": "code",
   "execution_count": null,
   "id": "dd0b6bc7",
   "metadata": {
    "ExecuteTime": {
     "end_time": "2024-08-18T12:19:11.398812Z",
     "start_time": "2024-08-18T12:19:11.398812Z"
    }
   },
   "outputs": [],
   "source": [
    "feature_df"
   ]
  },
  {
   "cell_type": "code",
   "execution_count": null,
   "id": "a66476f3",
   "metadata": {
    "ExecuteTime": {
     "end_time": "2024-08-18T11:39:57.359630Z",
     "start_time": "2024-08-18T11:39:52.397430Z"
    }
   },
   "outputs": [],
   "source": []
  },
  {
   "cell_type": "code",
   "execution_count": null,
   "id": "4eab5d6e",
   "metadata": {
    "ExecuteTime": {
     "end_time": "2024-08-18T12:19:11.399825Z",
     "start_time": "2024-08-18T12:19:11.399825Z"
    }
   },
   "outputs": [],
   "source": [
    "feature_df.to_parquet(\"../data/feature_data.gzip\")"
   ]
  },
  {
   "cell_type": "code",
   "execution_count": null,
   "id": "fa448b2a",
   "metadata": {},
   "outputs": [],
   "source": []
  },
  {
   "cell_type": "code",
   "execution_count": 41,
   "id": "e8789a30",
   "metadata": {
    "ExecuteTime": {
     "end_time": "2024-08-18T12:35:08.817277Z",
     "start_time": "2024-08-18T12:35:07.709222Z"
    }
   },
   "outputs": [],
   "source": [
    "main_df = pd.read_parquet(\"../data/feature_data.gzip\")"
   ]
  },
  {
   "cell_type": "code",
   "execution_count": null,
   "id": "da94d1e8",
   "metadata": {},
   "outputs": [],
   "source": []
  },
  {
   "cell_type": "code",
   "execution_count": 42,
   "id": "8b358590",
   "metadata": {
    "ExecuteTime": {
     "end_time": "2024-08-18T12:35:11.451255Z",
     "start_time": "2024-08-18T12:35:11.446557Z"
    }
   },
   "outputs": [
    {
     "data": {
      "text/plain": [
       "Index(['actual_consumption', 'time_dummie', 'year', 'month', 'day_of_month',\n",
       "       'hour', 'day_of_week', 'day_of_year', 'week_of_year', 'quarter',\n",
       "       'holiday', 'lag_hour', 'lag_day', 'lag_week', 'lag_month', 'lag_year',\n",
       "       'Алтайский край', 'Амурская область', 'Архангельская область',\n",
       "       'Астраханская область', 'Белгородская область', 'Брянская область',\n",
       "       'Владимирская область', 'Волгоградская область', 'Вологодская область',\n",
       "       'Воронежская область', 'Еврейская автономная область',\n",
       "       'Забайкальский край', 'Западный энергорайон Якутии',\n",
       "       'Ивановская область', 'Иркутская область',\n",
       "       'Кабардино-Балкарская Республика', 'Калининградская область',\n",
       "       'Калужская область', 'Карачаево-Черкесская Республика',\n",
       "       'Кемеровская область - Кузбасс', 'Кировская область',\n",
       "       'Костромская область', 'Краснодарский край', 'Красноярский край',\n",
       "       'Курганская область', 'Курская область', 'Ленинградская область',\n",
       "       'Липецкая область', 'Московская область', 'Мурманская область',\n",
       "       'Нижегородская область', 'Новгородская область',\n",
       "       'Новосибирская область', 'ОЭР Хабаровского края', 'Омская область',\n",
       "       'Оренбургская область', 'Орловская область', 'Пензенская область',\n",
       "       'Пермский край', 'Приморский край', 'Псковская область',\n",
       "       'Республика Башкортостан', 'Республика Бурятия', 'Республика Дагестан',\n",
       "       'Республика Ингушетия', 'Республика Калмыкия', 'Республика Карелия',\n",
       "       'Республика Коми', 'Республика Крым', 'Республика Марий Эл',\n",
       "       'Республика Мордовия', 'Республика Северная Осетия-Алания',\n",
       "       'Республика Татарстан (Татарстан)', 'Республика Тыва',\n",
       "       'Республика Хакасия', 'Ростовская область', 'Рязанская область',\n",
       "       'Самарская область', 'Саратовская область', 'Свердловская область',\n",
       "       'Смоленская область', 'Ставропольский край', 'Тамбовская область',\n",
       "       'Тверская область', 'Томская область', 'Тульская область',\n",
       "       'Тюменская область', 'Удмуртская Республика', 'Ульяновская область',\n",
       "       'Центральный энергорайон Якутии', 'Челябинская область',\n",
       "       'Чеченская Республика', 'Чувашская Республика - Чувашия',\n",
       "       'Южно-Якутский энергорайон', 'Ярославская область'],\n",
       "      dtype='object')"
      ]
     },
     "execution_count": 42,
     "metadata": {},
     "output_type": "execute_result"
    }
   ],
   "source": [
    "main_df.columns"
   ]
  },
  {
   "cell_type": "code",
   "execution_count": null,
   "id": "1fa52d6d",
   "metadata": {},
   "outputs": [],
   "source": []
  },
  {
   "cell_type": "code",
   "execution_count": 43,
   "id": "b029a152",
   "metadata": {
    "ExecuteTime": {
     "end_time": "2024-08-18T12:35:55.087496Z",
     "start_time": "2024-08-18T12:35:14.973483Z"
    }
   },
   "outputs": [],
   "source": [
    "main_df[\"subject_name\"] = decoding(main_df[uniq_subjs])"
   ]
  },
  {
   "cell_type": "code",
   "execution_count": 47,
   "id": "7c98ab0f",
   "metadata": {
    "ExecuteTime": {
     "end_time": "2024-08-18T12:40:44.875493Z",
     "start_time": "2024-08-18T12:37:56.095054Z"
    }
   },
   "outputs": [],
   "source": [
    "main_df[\"lag_hour\"] = create_lag_feature(main_df, \n",
    "                                         time_steps[\"hour\"],\n",
    "                                         lag_column=\"actual_consumption\",\n",
    "                                         size=main_df.shape[0])\n",
    "main_df[\"lag_day\"] = create_lag_feature(main_df, \n",
    "                                         time_steps[\"day\"],\n",
    "                                         lag_column=\"actual_consumption\",\n",
    "                                         size=main_df.shape[0])\n",
    "main_df[\"lag_week\"] = create_lag_feature(main_df, \n",
    "                                         time_steps[\"week\"],\n",
    "                                         lag_column=\"actual_consumption\",\n",
    "                                         size=main_df.shape[0])\n",
    "main_df[\"lag_month\"] = create_lag_feature(main_df, \n",
    "                                         time_steps[\"month\"],\n",
    "                                         lag_column=\"actual_consumption\",\n",
    "                                         size=main_df.shape[0])\n",
    "main_df[\"lag_year\"] = create_lag_feature(main_df, \n",
    "                                         time_steps[\"year\"],\n",
    "                                         lag_column=\"actual_consumption\",\n",
    "                                         size=main_df.shape[0])"
   ]
  },
  {
   "cell_type": "code",
   "execution_count": null,
   "id": "b803a362",
   "metadata": {},
   "outputs": [],
   "source": []
  },
  {
   "cell_type": "code",
   "execution_count": 57,
   "id": "ca504d53",
   "metadata": {
    "ExecuteTime": {
     "end_time": "2024-08-18T12:47:31.785774Z",
     "start_time": "2024-08-18T12:46:57.052280Z"
    }
   },
   "outputs": [],
   "source": [
    "main_df[\"time_dummie\"] = create_time_dummie_feature(main_df)"
   ]
  },
  {
   "cell_type": "code",
   "execution_count": 64,
   "id": "3034d8ab",
   "metadata": {
    "ExecuteTime": {
     "end_time": "2024-08-18T12:52:14.334090Z",
     "start_time": "2024-08-18T12:52:13.601637Z"
    }
   },
   "outputs": [
    {
     "data": {
      "text/html": [
       "<div>\n",
       "<style scoped>\n",
       "    .dataframe tbody tr th:only-of-type {\n",
       "        vertical-align: middle;\n",
       "    }\n",
       "\n",
       "    .dataframe tbody tr th {\n",
       "        vertical-align: top;\n",
       "    }\n",
       "\n",
       "    .dataframe thead th {\n",
       "        text-align: right;\n",
       "    }\n",
       "</style>\n",
       "<table border=\"1\" class=\"dataframe\">\n",
       "  <thead>\n",
       "    <tr style=\"text-align: right;\">\n",
       "      <th></th>\n",
       "      <th>actual_consumption</th>\n",
       "      <th>time_dummie</th>\n",
       "      <th>year</th>\n",
       "      <th>month</th>\n",
       "      <th>day_of_month</th>\n",
       "      <th>hour</th>\n",
       "      <th>day_of_week</th>\n",
       "      <th>day_of_year</th>\n",
       "      <th>week_of_year</th>\n",
       "      <th>quarter</th>\n",
       "      <th>...</th>\n",
       "      <th>Тюменская область</th>\n",
       "      <th>Удмуртская Республика</th>\n",
       "      <th>Ульяновская область</th>\n",
       "      <th>Центральный энергорайон Якутии</th>\n",
       "      <th>Челябинская область</th>\n",
       "      <th>Чеченская Республика</th>\n",
       "      <th>Чувашская Республика - Чувашия</th>\n",
       "      <th>Южно-Якутский энергорайон</th>\n",
       "      <th>Ярославская область</th>\n",
       "      <th>subject_name</th>\n",
       "    </tr>\n",
       "  </thead>\n",
       "  <tbody>\n",
       "    <tr>\n",
       "      <th>0</th>\n",
       "      <td>1302.0</td>\n",
       "      <td>1</td>\n",
       "      <td>2012</td>\n",
       "      <td>2</td>\n",
       "      <td>20</td>\n",
       "      <td>0</td>\n",
       "      <td>1</td>\n",
       "      <td>51</td>\n",
       "      <td>8</td>\n",
       "      <td>3</td>\n",
       "      <td>...</td>\n",
       "      <td>0</td>\n",
       "      <td>0</td>\n",
       "      <td>0</td>\n",
       "      <td>0</td>\n",
       "      <td>0</td>\n",
       "      <td>0</td>\n",
       "      <td>0</td>\n",
       "      <td>0</td>\n",
       "      <td>0</td>\n",
       "      <td>Алтайский край</td>\n",
       "    </tr>\n",
       "    <tr>\n",
       "      <th>1</th>\n",
       "      <td>1091.0</td>\n",
       "      <td>1</td>\n",
       "      <td>2012</td>\n",
       "      <td>2</td>\n",
       "      <td>20</td>\n",
       "      <td>0</td>\n",
       "      <td>1</td>\n",
       "      <td>51</td>\n",
       "      <td>8</td>\n",
       "      <td>3</td>\n",
       "      <td>...</td>\n",
       "      <td>0</td>\n",
       "      <td>0</td>\n",
       "      <td>0</td>\n",
       "      <td>0</td>\n",
       "      <td>0</td>\n",
       "      <td>0</td>\n",
       "      <td>0</td>\n",
       "      <td>0</td>\n",
       "      <td>0</td>\n",
       "      <td>Амурская область</td>\n",
       "    </tr>\n",
       "    <tr>\n",
       "      <th>2</th>\n",
       "      <td>946.0</td>\n",
       "      <td>1</td>\n",
       "      <td>2012</td>\n",
       "      <td>2</td>\n",
       "      <td>20</td>\n",
       "      <td>0</td>\n",
       "      <td>1</td>\n",
       "      <td>51</td>\n",
       "      <td>8</td>\n",
       "      <td>3</td>\n",
       "      <td>...</td>\n",
       "      <td>0</td>\n",
       "      <td>0</td>\n",
       "      <td>0</td>\n",
       "      <td>0</td>\n",
       "      <td>0</td>\n",
       "      <td>0</td>\n",
       "      <td>0</td>\n",
       "      <td>0</td>\n",
       "      <td>0</td>\n",
       "      <td>Архангельская область</td>\n",
       "    </tr>\n",
       "    <tr>\n",
       "      <th>3</th>\n",
       "      <td>615.0</td>\n",
       "      <td>1</td>\n",
       "      <td>2012</td>\n",
       "      <td>2</td>\n",
       "      <td>20</td>\n",
       "      <td>0</td>\n",
       "      <td>1</td>\n",
       "      <td>51</td>\n",
       "      <td>8</td>\n",
       "      <td>3</td>\n",
       "      <td>...</td>\n",
       "      <td>0</td>\n",
       "      <td>0</td>\n",
       "      <td>0</td>\n",
       "      <td>0</td>\n",
       "      <td>0</td>\n",
       "      <td>0</td>\n",
       "      <td>0</td>\n",
       "      <td>0</td>\n",
       "      <td>0</td>\n",
       "      <td>Астраханская область</td>\n",
       "    </tr>\n",
       "    <tr>\n",
       "      <th>4</th>\n",
       "      <td>1679.0</td>\n",
       "      <td>1</td>\n",
       "      <td>2012</td>\n",
       "      <td>2</td>\n",
       "      <td>20</td>\n",
       "      <td>0</td>\n",
       "      <td>1</td>\n",
       "      <td>51</td>\n",
       "      <td>8</td>\n",
       "      <td>3</td>\n",
       "      <td>...</td>\n",
       "      <td>0</td>\n",
       "      <td>0</td>\n",
       "      <td>0</td>\n",
       "      <td>0</td>\n",
       "      <td>0</td>\n",
       "      <td>0</td>\n",
       "      <td>0</td>\n",
       "      <td>0</td>\n",
       "      <td>0</td>\n",
       "      <td>Белгородская область</td>\n",
       "    </tr>\n",
       "    <tr>\n",
       "      <th>...</th>\n",
       "      <td>...</td>\n",
       "      <td>...</td>\n",
       "      <td>...</td>\n",
       "      <td>...</td>\n",
       "      <td>...</td>\n",
       "      <td>...</td>\n",
       "      <td>...</td>\n",
       "      <td>...</td>\n",
       "      <td>...</td>\n",
       "      <td>...</td>\n",
       "      <td>...</td>\n",
       "      <td>...</td>\n",
       "      <td>...</td>\n",
       "      <td>...</td>\n",
       "      <td>...</td>\n",
       "      <td>...</td>\n",
       "      <td>...</td>\n",
       "      <td>...</td>\n",
       "      <td>...</td>\n",
       "      <td>...</td>\n",
       "      <td>...</td>\n",
       "    </tr>\n",
       "    <tr>\n",
       "      <th>5647263</th>\n",
       "      <td>4251.0</td>\n",
       "      <td>77268</td>\n",
       "      <td>2024</td>\n",
       "      <td>8</td>\n",
       "      <td>18</td>\n",
       "      <td>11</td>\n",
       "      <td>7</td>\n",
       "      <td>231</td>\n",
       "      <td>33</td>\n",
       "      <td>3</td>\n",
       "      <td>...</td>\n",
       "      <td>0</td>\n",
       "      <td>0</td>\n",
       "      <td>0</td>\n",
       "      <td>0</td>\n",
       "      <td>1</td>\n",
       "      <td>0</td>\n",
       "      <td>0</td>\n",
       "      <td>0</td>\n",
       "      <td>0</td>\n",
       "      <td>Челябинская область</td>\n",
       "    </tr>\n",
       "    <tr>\n",
       "      <th>5647264</th>\n",
       "      <td>439.0</td>\n",
       "      <td>77264</td>\n",
       "      <td>2024</td>\n",
       "      <td>8</td>\n",
       "      <td>18</td>\n",
       "      <td>11</td>\n",
       "      <td>7</td>\n",
       "      <td>231</td>\n",
       "      <td>33</td>\n",
       "      <td>3</td>\n",
       "      <td>...</td>\n",
       "      <td>0</td>\n",
       "      <td>0</td>\n",
       "      <td>0</td>\n",
       "      <td>0</td>\n",
       "      <td>0</td>\n",
       "      <td>1</td>\n",
       "      <td>0</td>\n",
       "      <td>0</td>\n",
       "      <td>0</td>\n",
       "      <td>Чеченская Республика</td>\n",
       "    </tr>\n",
       "    <tr>\n",
       "      <th>5647265</th>\n",
       "      <td>529.0</td>\n",
       "      <td>77271</td>\n",
       "      <td>2024</td>\n",
       "      <td>8</td>\n",
       "      <td>18</td>\n",
       "      <td>11</td>\n",
       "      <td>7</td>\n",
       "      <td>231</td>\n",
       "      <td>33</td>\n",
       "      <td>3</td>\n",
       "      <td>...</td>\n",
       "      <td>0</td>\n",
       "      <td>0</td>\n",
       "      <td>0</td>\n",
       "      <td>0</td>\n",
       "      <td>0</td>\n",
       "      <td>0</td>\n",
       "      <td>1</td>\n",
       "      <td>0</td>\n",
       "      <td>0</td>\n",
       "      <td>Чувашская Республика - Чувашия</td>\n",
       "    </tr>\n",
       "    <tr>\n",
       "      <th>5647266</th>\n",
       "      <td>366.0</td>\n",
       "      <td>77267</td>\n",
       "      <td>2024</td>\n",
       "      <td>8</td>\n",
       "      <td>18</td>\n",
       "      <td>11</td>\n",
       "      <td>7</td>\n",
       "      <td>231</td>\n",
       "      <td>33</td>\n",
       "      <td>3</td>\n",
       "      <td>...</td>\n",
       "      <td>0</td>\n",
       "      <td>0</td>\n",
       "      <td>0</td>\n",
       "      <td>0</td>\n",
       "      <td>0</td>\n",
       "      <td>0</td>\n",
       "      <td>0</td>\n",
       "      <td>1</td>\n",
       "      <td>0</td>\n",
       "      <td>Южно-Якутский энергорайон</td>\n",
       "    </tr>\n",
       "    <tr>\n",
       "      <th>5647267</th>\n",
       "      <td>850.0</td>\n",
       "      <td>77270</td>\n",
       "      <td>2024</td>\n",
       "      <td>8</td>\n",
       "      <td>18</td>\n",
       "      <td>11</td>\n",
       "      <td>7</td>\n",
       "      <td>231</td>\n",
       "      <td>33</td>\n",
       "      <td>3</td>\n",
       "      <td>...</td>\n",
       "      <td>0</td>\n",
       "      <td>0</td>\n",
       "      <td>0</td>\n",
       "      <td>0</td>\n",
       "      <td>0</td>\n",
       "      <td>0</td>\n",
       "      <td>0</td>\n",
       "      <td>0</td>\n",
       "      <td>1</td>\n",
       "      <td>Ярославская область</td>\n",
       "    </tr>\n",
       "  </tbody>\n",
       "</table>\n",
       "<p>5647268 rows × 92 columns</p>\n",
       "</div>"
      ],
      "text/plain": [
       "         actual_consumption  time_dummie  year  month  day_of_month  hour  \\\n",
       "0                    1302.0            1  2012      2            20     0   \n",
       "1                    1091.0            1  2012      2            20     0   \n",
       "2                     946.0            1  2012      2            20     0   \n",
       "3                     615.0            1  2012      2            20     0   \n",
       "4                    1679.0            1  2012      2            20     0   \n",
       "...                     ...          ...   ...    ...           ...   ...   \n",
       "5647263              4251.0        77268  2024      8            18    11   \n",
       "5647264               439.0        77264  2024      8            18    11   \n",
       "5647265               529.0        77271  2024      8            18    11   \n",
       "5647266               366.0        77267  2024      8            18    11   \n",
       "5647267               850.0        77270  2024      8            18    11   \n",
       "\n",
       "         day_of_week  day_of_year  week_of_year  quarter  ...  \\\n",
       "0                  1           51             8        3  ...   \n",
       "1                  1           51             8        3  ...   \n",
       "2                  1           51             8        3  ...   \n",
       "3                  1           51             8        3  ...   \n",
       "4                  1           51             8        3  ...   \n",
       "...              ...          ...           ...      ...  ...   \n",
       "5647263            7          231            33        3  ...   \n",
       "5647264            7          231            33        3  ...   \n",
       "5647265            7          231            33        3  ...   \n",
       "5647266            7          231            33        3  ...   \n",
       "5647267            7          231            33        3  ...   \n",
       "\n",
       "         Тюменская область  Удмуртская Республика  Ульяновская область  \\\n",
       "0                        0                      0                    0   \n",
       "1                        0                      0                    0   \n",
       "2                        0                      0                    0   \n",
       "3                        0                      0                    0   \n",
       "4                        0                      0                    0   \n",
       "...                    ...                    ...                  ...   \n",
       "5647263                  0                      0                    0   \n",
       "5647264                  0                      0                    0   \n",
       "5647265                  0                      0                    0   \n",
       "5647266                  0                      0                    0   \n",
       "5647267                  0                      0                    0   \n",
       "\n",
       "         Центральный энергорайон Якутии  Челябинская область  \\\n",
       "0                                     0                    0   \n",
       "1                                     0                    0   \n",
       "2                                     0                    0   \n",
       "3                                     0                    0   \n",
       "4                                     0                    0   \n",
       "...                                 ...                  ...   \n",
       "5647263                               0                    1   \n",
       "5647264                               0                    0   \n",
       "5647265                               0                    0   \n",
       "5647266                               0                    0   \n",
       "5647267                               0                    0   \n",
       "\n",
       "         Чеченская Республика  Чувашская Республика - Чувашия  \\\n",
       "0                           0                               0   \n",
       "1                           0                               0   \n",
       "2                           0                               0   \n",
       "3                           0                               0   \n",
       "4                           0                               0   \n",
       "...                       ...                             ...   \n",
       "5647263                     0                               0   \n",
       "5647264                     1                               0   \n",
       "5647265                     0                               1   \n",
       "5647266                     0                               0   \n",
       "5647267                     0                               0   \n",
       "\n",
       "         Южно-Якутский энергорайон  Ярославская область  \\\n",
       "0                                0                    0   \n",
       "1                                0                    0   \n",
       "2                                0                    0   \n",
       "3                                0                    0   \n",
       "4                                0                    0   \n",
       "...                            ...                  ...   \n",
       "5647263                          0                    0   \n",
       "5647264                          0                    0   \n",
       "5647265                          0                    0   \n",
       "5647266                          1                    0   \n",
       "5647267                          0                    1   \n",
       "\n",
       "                           subject_name  \n",
       "0                        Алтайский край  \n",
       "1                      Амурская область  \n",
       "2                 Архангельская область  \n",
       "3                  Астраханская область  \n",
       "4                  Белгородская область  \n",
       "...                                 ...  \n",
       "5647263             Челябинская область  \n",
       "5647264            Чеченская Республика  \n",
       "5647265  Чувашская Республика - Чувашия  \n",
       "5647266       Южно-Якутский энергорайон  \n",
       "5647267             Ярославская область  \n",
       "\n",
       "[5647268 rows x 92 columns]"
      ]
     },
     "execution_count": 64,
     "metadata": {},
     "output_type": "execute_result"
    }
   ],
   "source": [
    "main_df.iloc[:, :]"
   ]
  },
  {
   "cell_type": "code",
   "execution_count": null,
   "id": "7884a025",
   "metadata": {},
   "outputs": [],
   "source": []
  },
  {
   "cell_type": "code",
   "execution_count": 66,
   "id": "feadd599",
   "metadata": {
    "ExecuteTime": {
     "end_time": "2024-08-18T12:54:29.438565Z",
     "start_time": "2024-08-18T12:54:28.927702Z"
    }
   },
   "outputs": [],
   "source": [
    "main_df.drop(columns=[\"subject_name\"], inplace=True)"
   ]
  },
  {
   "cell_type": "code",
   "execution_count": 67,
   "id": "e32b5f6d",
   "metadata": {
    "ExecuteTime": {
     "end_time": "2024-08-18T12:54:37.459912Z",
     "start_time": "2024-08-18T12:54:37.455659Z"
    }
   },
   "outputs": [
    {
     "data": {
      "text/plain": [
       "(5647268, 91)"
      ]
     },
     "execution_count": 67,
     "metadata": {},
     "output_type": "execute_result"
    }
   ],
   "source": [
    "main_df.shape"
   ]
  },
  {
   "cell_type": "code",
   "execution_count": 69,
   "id": "e0a0b3b3",
   "metadata": {
    "ExecuteTime": {
     "end_time": "2024-08-18T12:56:33.854902Z",
     "start_time": "2024-08-18T12:56:33.845182Z"
    }
   },
   "outputs": [
    {
     "data": {
      "text/html": [
       "<div>\n",
       "<style scoped>\n",
       "    .dataframe tbody tr th:only-of-type {\n",
       "        vertical-align: middle;\n",
       "    }\n",
       "\n",
       "    .dataframe tbody tr th {\n",
       "        vertical-align: top;\n",
       "    }\n",
       "\n",
       "    .dataframe thead th {\n",
       "        text-align: right;\n",
       "    }\n",
       "</style>\n",
       "<table border=\"1\" class=\"dataframe\">\n",
       "  <thead>\n",
       "    <tr style=\"text-align: right;\">\n",
       "      <th></th>\n",
       "      <th>actual_consumption</th>\n",
       "      <th>time_dummie</th>\n",
       "      <th>year</th>\n",
       "      <th>month</th>\n",
       "      <th>day_of_month</th>\n",
       "      <th>hour</th>\n",
       "      <th>day_of_week</th>\n",
       "      <th>day_of_year</th>\n",
       "      <th>week_of_year</th>\n",
       "      <th>quarter</th>\n",
       "      <th>holiday</th>\n",
       "      <th>lag_hour</th>\n",
       "      <th>lag_day</th>\n",
       "      <th>lag_week</th>\n",
       "      <th>lag_month</th>\n",
       "    </tr>\n",
       "  </thead>\n",
       "  <tbody>\n",
       "    <tr>\n",
       "      <th>0</th>\n",
       "      <td>1302.0</td>\n",
       "      <td>1</td>\n",
       "      <td>2012</td>\n",
       "      <td>2</td>\n",
       "      <td>20</td>\n",
       "      <td>0</td>\n",
       "      <td>1</td>\n",
       "      <td>51</td>\n",
       "      <td>8</td>\n",
       "      <td>3</td>\n",
       "      <td>0</td>\n",
       "      <td>NaN</td>\n",
       "      <td>NaN</td>\n",
       "      <td>NaN</td>\n",
       "      <td>NaN</td>\n",
       "    </tr>\n",
       "    <tr>\n",
       "      <th>1</th>\n",
       "      <td>1091.0</td>\n",
       "      <td>1</td>\n",
       "      <td>2012</td>\n",
       "      <td>2</td>\n",
       "      <td>20</td>\n",
       "      <td>0</td>\n",
       "      <td>1</td>\n",
       "      <td>51</td>\n",
       "      <td>8</td>\n",
       "      <td>3</td>\n",
       "      <td>0</td>\n",
       "      <td>NaN</td>\n",
       "      <td>NaN</td>\n",
       "      <td>NaN</td>\n",
       "      <td>NaN</td>\n",
       "    </tr>\n",
       "    <tr>\n",
       "      <th>2</th>\n",
       "      <td>946.0</td>\n",
       "      <td>1</td>\n",
       "      <td>2012</td>\n",
       "      <td>2</td>\n",
       "      <td>20</td>\n",
       "      <td>0</td>\n",
       "      <td>1</td>\n",
       "      <td>51</td>\n",
       "      <td>8</td>\n",
       "      <td>3</td>\n",
       "      <td>0</td>\n",
       "      <td>NaN</td>\n",
       "      <td>NaN</td>\n",
       "      <td>NaN</td>\n",
       "      <td>NaN</td>\n",
       "    </tr>\n",
       "  </tbody>\n",
       "</table>\n",
       "</div>"
      ],
      "text/plain": [
       "   actual_consumption  time_dummie  year  month  day_of_month  hour  \\\n",
       "0              1302.0            1  2012      2            20     0   \n",
       "1              1091.0            1  2012      2            20     0   \n",
       "2               946.0            1  2012      2            20     0   \n",
       "\n",
       "   day_of_week  day_of_year  week_of_year  quarter  holiday  lag_hour  \\\n",
       "0            1           51             8        3        0       NaN   \n",
       "1            1           51             8        3        0       NaN   \n",
       "2            1           51             8        3        0       NaN   \n",
       "\n",
       "   lag_day  lag_week  lag_month  \n",
       "0      NaN       NaN        NaN  \n",
       "1      NaN       NaN        NaN  \n",
       "2      NaN       NaN        NaN  "
      ]
     },
     "execution_count": 69,
     "metadata": {},
     "output_type": "execute_result"
    }
   ],
   "source": [
    "main_df.head(3).iloc[:, :15]"
   ]
  },
  {
   "cell_type": "code",
   "execution_count": null,
   "id": "2122340b",
   "metadata": {},
   "outputs": [],
   "source": []
  },
  {
   "cell_type": "code",
   "execution_count": 72,
   "id": "7ccf791b",
   "metadata": {
    "ExecuteTime": {
     "end_time": "2024-08-18T13:03:18.763088Z",
     "start_time": "2024-08-18T13:03:16.981038Z"
    }
   },
   "outputs": [],
   "source": [
    "zxc = pd.read_parquet(\"../data/data.gzip\")"
   ]
  },
  {
   "cell_type": "code",
   "execution_count": 75,
   "id": "22221fe3",
   "metadata": {
    "ExecuteTime": {
     "end_time": "2024-08-18T13:03:35.968911Z",
     "start_time": "2024-08-18T13:03:35.959964Z"
    }
   },
   "outputs": [
    {
     "data": {
      "text/html": [
       "<div>\n",
       "<style scoped>\n",
       "    .dataframe tbody tr th:only-of-type {\n",
       "        vertical-align: middle;\n",
       "    }\n",
       "\n",
       "    .dataframe tbody tr th {\n",
       "        vertical-align: top;\n",
       "    }\n",
       "\n",
       "    .dataframe thead th {\n",
       "        text-align: right;\n",
       "    }\n",
       "</style>\n",
       "<table border=\"1\" class=\"dataframe\">\n",
       "  <thead>\n",
       "    <tr style=\"text-align: right;\">\n",
       "      <th></th>\n",
       "      <th>subject_name</th>\n",
       "      <th>actual_consumption</th>\n",
       "      <th>datetime</th>\n",
       "    </tr>\n",
       "    <tr>\n",
       "      <th>index</th>\n",
       "      <th></th>\n",
       "      <th></th>\n",
       "      <th></th>\n",
       "    </tr>\n",
       "  </thead>\n",
       "  <tbody>\n",
       "    <tr>\n",
       "      <th>2011-01-01 00:00:00</th>\n",
       "      <td>Алтайский край</td>\n",
       "      <td>1313.0</td>\n",
       "      <td>2011-01-01 00:00:00</td>\n",
       "    </tr>\n",
       "    <tr>\n",
       "      <th>2011-01-01 00:00:00</th>\n",
       "      <td>Амурская область</td>\n",
       "      <td>870.0</td>\n",
       "      <td>2011-01-01 00:00:00</td>\n",
       "    </tr>\n",
       "    <tr>\n",
       "      <th>2011-01-01 00:00:00</th>\n",
       "      <td>Архангельская область</td>\n",
       "      <td>970.0</td>\n",
       "      <td>2011-01-01 00:00:00</td>\n",
       "    </tr>\n",
       "    <tr>\n",
       "      <th>2011-01-01 00:00:00</th>\n",
       "      <td>Астраханская область</td>\n",
       "      <td>504.0</td>\n",
       "      <td>2011-01-01 00:00:00</td>\n",
       "    </tr>\n",
       "    <tr>\n",
       "      <th>2011-01-01 00:00:00</th>\n",
       "      <td>Белгородская область</td>\n",
       "      <td>1592.0</td>\n",
       "      <td>2011-01-01 00:00:00</td>\n",
       "    </tr>\n",
       "    <tr>\n",
       "      <th>...</th>\n",
       "      <td>...</td>\n",
       "      <td>...</td>\n",
       "      <td>...</td>\n",
       "    </tr>\n",
       "    <tr>\n",
       "      <th>2024-07-17 00:00:00</th>\n",
       "      <td>Челябинская область</td>\n",
       "      <td>3854.0</td>\n",
       "      <td>2024-07-17 00:00:00</td>\n",
       "    </tr>\n",
       "    <tr>\n",
       "      <th>2024-07-17 00:00:00</th>\n",
       "      <td>Чеченская Республика</td>\n",
       "      <td>412.0</td>\n",
       "      <td>2024-07-17 00:00:00</td>\n",
       "    </tr>\n",
       "    <tr>\n",
       "      <th>2024-07-17 00:00:00</th>\n",
       "      <td>Чувашская Республика - Чувашия</td>\n",
       "      <td>486.0</td>\n",
       "      <td>2024-07-17 00:00:00</td>\n",
       "    </tr>\n",
       "    <tr>\n",
       "      <th>2024-07-17 00:00:00</th>\n",
       "      <td>Южно-Якутский энергорайон</td>\n",
       "      <td>358.0</td>\n",
       "      <td>2024-07-17 00:00:00</td>\n",
       "    </tr>\n",
       "    <tr>\n",
       "      <th>2024-07-17 00:00:00</th>\n",
       "      <td>Ярославская область</td>\n",
       "      <td>766.0</td>\n",
       "      <td>2024-07-17 00:00:00</td>\n",
       "    </tr>\n",
       "  </tbody>\n",
       "</table>\n",
       "<p>8478449 rows × 3 columns</p>\n",
       "</div>"
      ],
      "text/plain": [
       "                                       subject_name  actual_consumption  \\\n",
       "index                                                                     \n",
       "2011-01-01 00:00:00                  Алтайский край              1313.0   \n",
       "2011-01-01 00:00:00                Амурская область               870.0   \n",
       "2011-01-01 00:00:00           Архангельская область               970.0   \n",
       "2011-01-01 00:00:00            Астраханская область               504.0   \n",
       "2011-01-01 00:00:00            Белгородская область              1592.0   \n",
       "...                                             ...                 ...   \n",
       "2024-07-17 00:00:00             Челябинская область              3854.0   \n",
       "2024-07-17 00:00:00            Чеченская Республика               412.0   \n",
       "2024-07-17 00:00:00  Чувашская Республика - Чувашия               486.0   \n",
       "2024-07-17 00:00:00       Южно-Якутский энергорайон               358.0   \n",
       "2024-07-17 00:00:00             Ярославская область               766.0   \n",
       "\n",
       "                                datetime  \n",
       "index                                     \n",
       "2011-01-01 00:00:00  2011-01-01 00:00:00  \n",
       "2011-01-01 00:00:00  2011-01-01 00:00:00  \n",
       "2011-01-01 00:00:00  2011-01-01 00:00:00  \n",
       "2011-01-01 00:00:00  2011-01-01 00:00:00  \n",
       "2011-01-01 00:00:00  2011-01-01 00:00:00  \n",
       "...                                  ...  \n",
       "2024-07-17 00:00:00  2024-07-17 00:00:00  \n",
       "2024-07-17 00:00:00  2024-07-17 00:00:00  \n",
       "2024-07-17 00:00:00  2024-07-17 00:00:00  \n",
       "2024-07-17 00:00:00  2024-07-17 00:00:00  \n",
       "2024-07-17 00:00:00  2024-07-17 00:00:00  \n",
       "\n",
       "[8478449 rows x 3 columns]"
      ]
     },
     "execution_count": 75,
     "metadata": {},
     "output_type": "execute_result"
    }
   ],
   "source": [
    "zxc"
   ]
  },
  {
   "cell_type": "code",
   "execution_count": 76,
   "id": "cd825f93",
   "metadata": {
    "ExecuteTime": {
     "end_time": "2024-08-18T13:03:50.575082Z",
     "start_time": "2024-08-18T13:03:49.176190Z"
    }
   },
   "outputs": [
    {
     "data": {
      "text/html": [
       "<div>\n",
       "<style scoped>\n",
       "    .dataframe tbody tr th:only-of-type {\n",
       "        vertical-align: middle;\n",
       "    }\n",
       "\n",
       "    .dataframe tbody tr th {\n",
       "        vertical-align: top;\n",
       "    }\n",
       "\n",
       "    .dataframe thead th {\n",
       "        text-align: right;\n",
       "    }\n",
       "</style>\n",
       "<table border=\"1\" class=\"dataframe\">\n",
       "  <thead>\n",
       "    <tr style=\"text-align: right;\">\n",
       "      <th></th>\n",
       "      <th>subject_name</th>\n",
       "      <th>actual_consumption</th>\n",
       "      <th>datetime</th>\n",
       "    </tr>\n",
       "    <tr>\n",
       "      <th>index</th>\n",
       "      <th></th>\n",
       "      <th></th>\n",
       "      <th></th>\n",
       "    </tr>\n",
       "  </thead>\n",
       "  <tbody>\n",
       "    <tr>\n",
       "      <th>2011-01-01 00:00:00</th>\n",
       "      <td>Алтайский край</td>\n",
       "      <td>1313.0</td>\n",
       "      <td>2011-01-01 00:00:00</td>\n",
       "    </tr>\n",
       "    <tr>\n",
       "      <th>2011-01-01 00:00:00</th>\n",
       "      <td>Амурская область</td>\n",
       "      <td>870.0</td>\n",
       "      <td>2011-01-01 00:00:00</td>\n",
       "    </tr>\n",
       "    <tr>\n",
       "      <th>2011-01-01 00:00:00</th>\n",
       "      <td>Архангельская область</td>\n",
       "      <td>970.0</td>\n",
       "      <td>2011-01-01 00:00:00</td>\n",
       "    </tr>\n",
       "    <tr>\n",
       "      <th>2011-01-01 00:00:00</th>\n",
       "      <td>Астраханская область</td>\n",
       "      <td>504.0</td>\n",
       "      <td>2011-01-01 00:00:00</td>\n",
       "    </tr>\n",
       "    <tr>\n",
       "      <th>2011-01-01 00:00:00</th>\n",
       "      <td>Белгородская область</td>\n",
       "      <td>1592.0</td>\n",
       "      <td>2011-01-01 00:00:00</td>\n",
       "    </tr>\n",
       "    <tr>\n",
       "      <th>...</th>\n",
       "      <td>...</td>\n",
       "      <td>...</td>\n",
       "      <td>...</td>\n",
       "    </tr>\n",
       "    <tr>\n",
       "      <th>2024-07-17 00:00:00</th>\n",
       "      <td>Челябинская область</td>\n",
       "      <td>3854.0</td>\n",
       "      <td>2024-07-17 00:00:00</td>\n",
       "    </tr>\n",
       "    <tr>\n",
       "      <th>2024-07-17 00:00:00</th>\n",
       "      <td>Чеченская Республика</td>\n",
       "      <td>412.0</td>\n",
       "      <td>2024-07-17 00:00:00</td>\n",
       "    </tr>\n",
       "    <tr>\n",
       "      <th>2024-07-17 00:00:00</th>\n",
       "      <td>Чувашская Республика - Чувашия</td>\n",
       "      <td>486.0</td>\n",
       "      <td>2024-07-17 00:00:00</td>\n",
       "    </tr>\n",
       "    <tr>\n",
       "      <th>2024-07-17 00:00:00</th>\n",
       "      <td>Южно-Якутский энергорайон</td>\n",
       "      <td>358.0</td>\n",
       "      <td>2024-07-17 00:00:00</td>\n",
       "    </tr>\n",
       "    <tr>\n",
       "      <th>2024-07-17 00:00:00</th>\n",
       "      <td>Ярославская область</td>\n",
       "      <td>766.0</td>\n",
       "      <td>2024-07-17 00:00:00</td>\n",
       "    </tr>\n",
       "  </tbody>\n",
       "</table>\n",
       "<p>8478449 rows × 3 columns</p>\n",
       "</div>"
      ],
      "text/plain": [
       "                                       subject_name  actual_consumption  \\\n",
       "index                                                                     \n",
       "2011-01-01 00:00:00                  Алтайский край              1313.0   \n",
       "2011-01-01 00:00:00                Амурская область               870.0   \n",
       "2011-01-01 00:00:00           Архангельская область               970.0   \n",
       "2011-01-01 00:00:00            Астраханская область               504.0   \n",
       "2011-01-01 00:00:00            Белгородская область              1592.0   \n",
       "...                                             ...                 ...   \n",
       "2024-07-17 00:00:00             Челябинская область              3854.0   \n",
       "2024-07-17 00:00:00            Чеченская Республика               412.0   \n",
       "2024-07-17 00:00:00  Чувашская Республика - Чувашия               486.0   \n",
       "2024-07-17 00:00:00       Южно-Якутский энергорайон               358.0   \n",
       "2024-07-17 00:00:00             Ярославская область               766.0   \n",
       "\n",
       "                                datetime  \n",
       "index                                     \n",
       "2011-01-01 00:00:00  2011-01-01 00:00:00  \n",
       "2011-01-01 00:00:00  2011-01-01 00:00:00  \n",
       "2011-01-01 00:00:00  2011-01-01 00:00:00  \n",
       "2011-01-01 00:00:00  2011-01-01 00:00:00  \n",
       "2011-01-01 00:00:00  2011-01-01 00:00:00  \n",
       "...                                  ...  \n",
       "2024-07-17 00:00:00  2024-07-17 00:00:00  \n",
       "2024-07-17 00:00:00  2024-07-17 00:00:00  \n",
       "2024-07-17 00:00:00  2024-07-17 00:00:00  \n",
       "2024-07-17 00:00:00  2024-07-17 00:00:00  \n",
       "2024-07-17 00:00:00  2024-07-17 00:00:00  \n",
       "\n",
       "[8478449 rows x 3 columns]"
      ]
     },
     "execution_count": 76,
     "metadata": {},
     "output_type": "execute_result"
    }
   ],
   "source": [
    "zxc.dropna()"
   ]
  },
  {
   "cell_type": "code",
   "execution_count": 77,
   "id": "71e95065",
   "metadata": {
    "ExecuteTime": {
     "end_time": "2024-08-18T13:05:38.698287Z",
     "start_time": "2024-08-18T13:05:38.548436Z"
    }
   },
   "outputs": [],
   "source": [
    "new_df = pd.read_parquet(\"../data/new_data.gzip\")"
   ]
  },
  {
   "cell_type": "code",
   "execution_count": 80,
   "id": "94e81f4f",
   "metadata": {
    "ExecuteTime": {
     "end_time": "2024-08-18T13:06:40.027870Z",
     "start_time": "2024-08-18T13:06:39.974182Z"
    }
   },
   "outputs": [
    {
     "data": {
      "text/html": [
       "<div>\n",
       "<style scoped>\n",
       "    .dataframe tbody tr th:only-of-type {\n",
       "        vertical-align: middle;\n",
       "    }\n",
       "\n",
       "    .dataframe tbody tr th {\n",
       "        vertical-align: top;\n",
       "    }\n",
       "\n",
       "    .dataframe thead th {\n",
       "        text-align: right;\n",
       "    }\n",
       "</style>\n",
       "<table border=\"1\" class=\"dataframe\">\n",
       "  <thead>\n",
       "    <tr style=\"text-align: right;\">\n",
       "      <th></th>\n",
       "      <th>$id</th>\n",
       "      <th>Id</th>\n",
       "      <th>Name</th>\n",
       "      <th>ParentPowerSystemId</th>\n",
       "      <th>PowerSystemId</th>\n",
       "      <th>SubjectId</th>\n",
       "      <th>Disabled</th>\n",
       "      <th>SvgPaths</th>\n",
       "      <th>Top</th>\n",
       "      <th>Bottom</th>\n",
       "      <th>...</th>\n",
       "      <th>IBR_PlannedConsumption</th>\n",
       "      <th>IBR_ActualConsumption</th>\n",
       "      <th>IBR_PlannedGeneration</th>\n",
       "      <th>IBR_ActualGeneration</th>\n",
       "      <th>IBR_AveragePrice</th>\n",
       "      <th>VSVGO_AveragePrice</th>\n",
       "      <th>VSVGO_Consumption</th>\n",
       "      <th>Selected</th>\n",
       "      <th>InfoCoordinates</th>\n",
       "      <th>Datetime</th>\n",
       "    </tr>\n",
       "  </thead>\n",
       "  <tbody>\n",
       "    <tr>\n",
       "      <th>0</th>\n",
       "      <td>21</td>\n",
       "      <td>530000_14</td>\n",
       "      <td>Белгородская область</td>\n",
       "      <td>530000</td>\n",
       "      <td>530000</td>\n",
       "      <td>14</td>\n",
       "      <td>False</td>\n",
       "      <td>[M0 0 M24 237 L25 236 L24 235 L23 233 L22 234 ...</td>\n",
       "      <td>233</td>\n",
       "      <td>292</td>\n",
       "      <td>...</td>\n",
       "      <td>1 602 МВт*ч</td>\n",
       "      <td>1 715 МВт*ч</td>\n",
       "      <td>54 МВт*ч</td>\n",
       "      <td>54 МВт*ч</td>\n",
       "      <td>1 461 руб./МВт*ч</td>\n",
       "      <td>-</td>\n",
       "      <td>-</td>\n",
       "      <td>False</td>\n",
       "      <td>{'X': 0, 'Y': 0}</td>\n",
       "      <td>2024-07-17 01:00:00</td>\n",
       "    </tr>\n",
       "    <tr>\n",
       "      <th>1</th>\n",
       "      <td>22</td>\n",
       "      <td>530000_15</td>\n",
       "      <td>Брянская область</td>\n",
       "      <td>530000</td>\n",
       "      <td>530000</td>\n",
       "      <td>15</td>\n",
       "      <td>False</td>\n",
       "      <td>[M0 0 M53 154 L52 153 L53 152 L53 152 L53 151 ...</td>\n",
       "      <td>147</td>\n",
       "      <td>205</td>\n",
       "      <td>...</td>\n",
       "      <td>371 МВт*ч</td>\n",
       "      <td>400 МВт*ч</td>\n",
       "      <td>-</td>\n",
       "      <td>-</td>\n",
       "      <td>1 436 руб./МВт*ч</td>\n",
       "      <td>-</td>\n",
       "      <td>-</td>\n",
       "      <td>False</td>\n",
       "      <td>{'X': 0, 'Y': 0}</td>\n",
       "      <td>2024-07-17 01:00:00</td>\n",
       "    </tr>\n",
       "    <tr>\n",
       "      <th>2</th>\n",
       "      <td>23</td>\n",
       "      <td>530000_17</td>\n",
       "      <td>Владимирская область</td>\n",
       "      <td>530000</td>\n",
       "      <td>530000</td>\n",
       "      <td>17</td>\n",
       "      <td>False</td>\n",
       "      <td>[M0 0 M169 141 L167 141 L165 142 L164 140 L163...</td>\n",
       "      <td>123</td>\n",
       "      <td>184</td>\n",
       "      <td>...</td>\n",
       "      <td>717 МВт*ч</td>\n",
       "      <td>716 МВт*ч</td>\n",
       "      <td>262 МВт*ч</td>\n",
       "      <td>262 МВт*ч</td>\n",
       "      <td>1 409 руб./МВт*ч</td>\n",
       "      <td>-</td>\n",
       "      <td>-</td>\n",
       "      <td>False</td>\n",
       "      <td>{'X': 0, 'Y': 0}</td>\n",
       "      <td>2024-07-17 01:00:00</td>\n",
       "    </tr>\n",
       "    <tr>\n",
       "      <th>3</th>\n",
       "      <td>24</td>\n",
       "      <td>530000_19</td>\n",
       "      <td>Вологодская область</td>\n",
       "      <td>530000</td>\n",
       "      <td>530000</td>\n",
       "      <td>19</td>\n",
       "      <td>False</td>\n",
       "      <td>[M0 0 M256 54 L252 54 L247 50 L248 48 L242 46 ...</td>\n",
       "      <td>0</td>\n",
       "      <td>113</td>\n",
       "      <td>...</td>\n",
       "      <td>1 354 МВт*ч</td>\n",
       "      <td>1 365 МВт*ч</td>\n",
       "      <td>1 132 МВт*ч</td>\n",
       "      <td>1 142 МВт*ч</td>\n",
       "      <td>1 307 руб./МВт*ч</td>\n",
       "      <td>-</td>\n",
       "      <td>-</td>\n",
       "      <td>False</td>\n",
       "      <td>{'X': 0, 'Y': 0}</td>\n",
       "      <td>2024-07-17 01:00:00</td>\n",
       "    </tr>\n",
       "    <tr>\n",
       "      <th>4</th>\n",
       "      <td>25</td>\n",
       "      <td>530000_20</td>\n",
       "      <td>Воронежская область</td>\n",
       "      <td>530000</td>\n",
       "      <td>530000</td>\n",
       "      <td>20</td>\n",
       "      <td>False</td>\n",
       "      <td>[M0 0 M103 253 L102 252 L101 251 L100 250 L99 ...</td>\n",
       "      <td>234</td>\n",
       "      <td>309</td>\n",
       "      <td>...</td>\n",
       "      <td>1 354 МВт*ч</td>\n",
       "      <td>1 357 МВт*ч</td>\n",
       "      <td>3 133 МВт*ч</td>\n",
       "      <td>3 156 МВт*ч</td>\n",
       "      <td>1 490 руб./МВт*ч</td>\n",
       "      <td>-</td>\n",
       "      <td>-</td>\n",
       "      <td>False</td>\n",
       "      <td>{'X': 0, 'Y': 0}</td>\n",
       "      <td>2024-07-17 01:00:00</td>\n",
       "    </tr>\n",
       "    <tr>\n",
       "      <th>...</th>\n",
       "      <td>...</td>\n",
       "      <td>...</td>\n",
       "      <td>...</td>\n",
       "      <td>...</td>\n",
       "      <td>...</td>\n",
       "      <td>...</td>\n",
       "      <td>...</td>\n",
       "      <td>...</td>\n",
       "      <td>...</td>\n",
       "      <td>...</td>\n",
       "      <td>...</td>\n",
       "      <td>...</td>\n",
       "      <td>...</td>\n",
       "      <td>...</td>\n",
       "      <td>...</td>\n",
       "      <td>...</td>\n",
       "      <td>...</td>\n",
       "      <td>...</td>\n",
       "      <td>...</td>\n",
       "      <td>...</td>\n",
       "      <td>...</td>\n",
       "    </tr>\n",
       "    <tr>\n",
       "      <th>58420</th>\n",
       "      <td>15</td>\n",
       "      <td>840000_47</td>\n",
       "      <td>Мурманская область</td>\n",
       "      <td>840000</td>\n",
       "      <td>840000</td>\n",
       "      <td>47</td>\n",
       "      <td>False</td>\n",
       "      <td>[M0 0 M222 17 L219 16 L218 16 L218 17 L216 17 ...</td>\n",
       "      <td>0</td>\n",
       "      <td>74</td>\n",
       "      <td>...</td>\n",
       "      <td>1 152 МВт*ч</td>\n",
       "      <td>1 123 МВт*ч</td>\n",
       "      <td>1 900 МВт*ч</td>\n",
       "      <td>1 890 МВт*ч</td>\n",
       "      <td>1 463 руб./МВт*ч</td>\n",
       "      <td>-</td>\n",
       "      <td>-</td>\n",
       "      <td>False</td>\n",
       "      <td>{'X': 0, 'Y': 0}</td>\n",
       "      <td>2024-08-18 11:00:00</td>\n",
       "    </tr>\n",
       "    <tr>\n",
       "      <th>58421</th>\n",
       "      <td>16</td>\n",
       "      <td>840000_49</td>\n",
       "      <td>Новгородская область</td>\n",
       "      <td>840000</td>\n",
       "      <td>840000</td>\n",
       "      <td>49</td>\n",
       "      <td>False</td>\n",
       "      <td>[M0 0 M100 135 L99 135 L98 136 L97 135 L97 135...</td>\n",
       "      <td>130</td>\n",
       "      <td>162</td>\n",
       "      <td>...</td>\n",
       "      <td>506 МВт*ч</td>\n",
       "      <td>508 МВт*ч</td>\n",
       "      <td>243 МВт*ч</td>\n",
       "      <td>257 МВт*ч</td>\n",
       "      <td>1 966 руб./МВт*ч</td>\n",
       "      <td>-</td>\n",
       "      <td>-</td>\n",
       "      <td>False</td>\n",
       "      <td>{'X': 0, 'Y': 0}</td>\n",
       "      <td>2024-08-18 11:00:00</td>\n",
       "    </tr>\n",
       "    <tr>\n",
       "      <th>58422</th>\n",
       "      <td>17</td>\n",
       "      <td>840000_58</td>\n",
       "      <td>Псковская область</td>\n",
       "      <td>840000</td>\n",
       "      <td>840000</td>\n",
       "      <td>58</td>\n",
       "      <td>False</td>\n",
       "      <td>[M0 0 M93 117 L90 118 L90 118 L89 118 L89 118 ...</td>\n",
       "      <td>117</td>\n",
       "      <td>176</td>\n",
       "      <td>...</td>\n",
       "      <td>275 МВт*ч</td>\n",
       "      <td>266 МВт*ч</td>\n",
       "      <td>-</td>\n",
       "      <td>-</td>\n",
       "      <td>2 062 руб./МВт*ч</td>\n",
       "      <td>-</td>\n",
       "      <td>-</td>\n",
       "      <td>False</td>\n",
       "      <td>{'X': 0, 'Y': 0}</td>\n",
       "      <td>2024-08-18 11:00:00</td>\n",
       "    </tr>\n",
       "    <tr>\n",
       "      <th>58423</th>\n",
       "      <td>18</td>\n",
       "      <td>840000_86</td>\n",
       "      <td>Республика Карелия</td>\n",
       "      <td>840000</td>\n",
       "      <td>840000</td>\n",
       "      <td>86</td>\n",
       "      <td>False</td>\n",
       "      <td>[M0 0 M141 90 L140 90 L140 90 L140 90 L139 90 ...</td>\n",
       "      <td>31</td>\n",
       "      <td>127</td>\n",
       "      <td>...</td>\n",
       "      <td>938 МВт*ч</td>\n",
       "      <td>922 МВт*ч</td>\n",
       "      <td>588 МВт*ч</td>\n",
       "      <td>590 МВт*ч</td>\n",
       "      <td>1 734 руб./МВт*ч</td>\n",
       "      <td>-</td>\n",
       "      <td>-</td>\n",
       "      <td>False</td>\n",
       "      <td>{'X': 0, 'Y': 0}</td>\n",
       "      <td>2024-08-18 11:00:00</td>\n",
       "    </tr>\n",
       "    <tr>\n",
       "      <th>58424</th>\n",
       "      <td>19</td>\n",
       "      <td>840000_87</td>\n",
       "      <td>Республика Коми</td>\n",
       "      <td>840000</td>\n",
       "      <td>840000</td>\n",
       "      <td>87</td>\n",
       "      <td>False</td>\n",
       "      <td>[M0 0 M298 98 L292 101 L273 103 L269 112 L268 ...</td>\n",
       "      <td>98</td>\n",
       "      <td>200</td>\n",
       "      <td>...</td>\n",
       "      <td>875 МВт*ч</td>\n",
       "      <td>834 МВт*ч</td>\n",
       "      <td>967 МВт*ч</td>\n",
       "      <td>939 МВт*ч</td>\n",
       "      <td>-</td>\n",
       "      <td>-</td>\n",
       "      <td>-</td>\n",
       "      <td>False</td>\n",
       "      <td>{'X': 0, 'Y': 0}</td>\n",
       "      <td>2024-08-18 11:00:00</td>\n",
       "    </tr>\n",
       "  </tbody>\n",
       "</table>\n",
       "<p>58425 rows × 22 columns</p>\n",
       "</div>"
      ],
      "text/plain": [
       "      $id         Id                  Name  ParentPowerSystemId  \\\n",
       "0      21  530000_14  Белгородская область               530000   \n",
       "1      22  530000_15      Брянская область               530000   \n",
       "2      23  530000_17  Владимирская область               530000   \n",
       "3      24  530000_19   Вологодская область               530000   \n",
       "4      25  530000_20   Воронежская область               530000   \n",
       "...    ..        ...                   ...                  ...   \n",
       "58420  15  840000_47    Мурманская область               840000   \n",
       "58421  16  840000_49  Новгородская область               840000   \n",
       "58422  17  840000_58     Псковская область               840000   \n",
       "58423  18  840000_86    Республика Карелия               840000   \n",
       "58424  19  840000_87       Республика Коми               840000   \n",
       "\n",
       "       PowerSystemId SubjectId  Disabled  \\\n",
       "0             530000        14     False   \n",
       "1             530000        15     False   \n",
       "2             530000        17     False   \n",
       "3             530000        19     False   \n",
       "4             530000        20     False   \n",
       "...              ...       ...       ...   \n",
       "58420         840000        47     False   \n",
       "58421         840000        49     False   \n",
       "58422         840000        58     False   \n",
       "58423         840000        86     False   \n",
       "58424         840000        87     False   \n",
       "\n",
       "                                                SvgPaths  Top  Bottom  ...  \\\n",
       "0      [M0 0 M24 237 L25 236 L24 235 L23 233 L22 234 ...  233     292  ...   \n",
       "1      [M0 0 M53 154 L52 153 L53 152 L53 152 L53 151 ...  147     205  ...   \n",
       "2      [M0 0 M169 141 L167 141 L165 142 L164 140 L163...  123     184  ...   \n",
       "3      [M0 0 M256 54 L252 54 L247 50 L248 48 L242 46 ...    0     113  ...   \n",
       "4      [M0 0 M103 253 L102 252 L101 251 L100 250 L99 ...  234     309  ...   \n",
       "...                                                  ...  ...     ...  ...   \n",
       "58420  [M0 0 M222 17 L219 16 L218 16 L218 17 L216 17 ...    0      74  ...   \n",
       "58421  [M0 0 M100 135 L99 135 L98 136 L97 135 L97 135...  130     162  ...   \n",
       "58422  [M0 0 M93 117 L90 118 L90 118 L89 118 L89 118 ...  117     176  ...   \n",
       "58423  [M0 0 M141 90 L140 90 L140 90 L140 90 L139 90 ...   31     127  ...   \n",
       "58424  [M0 0 M298 98 L292 101 L273 103 L269 112 L268 ...   98     200  ...   \n",
       "\n",
       "       IBR_PlannedConsumption  IBR_ActualConsumption IBR_PlannedGeneration  \\\n",
       "0                 1 602 МВт*ч            1 715 МВт*ч              54 МВт*ч   \n",
       "1                   371 МВт*ч              400 МВт*ч                     -   \n",
       "2                   717 МВт*ч              716 МВт*ч             262 МВт*ч   \n",
       "3                 1 354 МВт*ч            1 365 МВт*ч           1 132 МВт*ч   \n",
       "4                 1 354 МВт*ч            1 357 МВт*ч           3 133 МВт*ч   \n",
       "...                       ...                    ...                   ...   \n",
       "58420             1 152 МВт*ч            1 123 МВт*ч           1 900 МВт*ч   \n",
       "58421               506 МВт*ч              508 МВт*ч             243 МВт*ч   \n",
       "58422               275 МВт*ч              266 МВт*ч                     -   \n",
       "58423               938 МВт*ч              922 МВт*ч             588 МВт*ч   \n",
       "58424               875 МВт*ч              834 МВт*ч             967 МВт*ч   \n",
       "\n",
       "      IBR_ActualGeneration  IBR_AveragePrice VSVGO_AveragePrice  \\\n",
       "0                 54 МВт*ч  1 461 руб./МВт*ч                  -   \n",
       "1                        -  1 436 руб./МВт*ч                  -   \n",
       "2                262 МВт*ч  1 409 руб./МВт*ч                  -   \n",
       "3              1 142 МВт*ч  1 307 руб./МВт*ч                  -   \n",
       "4              3 156 МВт*ч  1 490 руб./МВт*ч                  -   \n",
       "...                    ...               ...                ...   \n",
       "58420          1 890 МВт*ч  1 463 руб./МВт*ч                  -   \n",
       "58421            257 МВт*ч  1 966 руб./МВт*ч                  -   \n",
       "58422                    -  2 062 руб./МВт*ч                  -   \n",
       "58423            590 МВт*ч  1 734 руб./МВт*ч                  -   \n",
       "58424            939 МВт*ч                 -                  -   \n",
       "\n",
       "      VSVGO_Consumption Selected   InfoCoordinates            Datetime  \n",
       "0                     -    False  {'X': 0, 'Y': 0} 2024-07-17 01:00:00  \n",
       "1                     -    False  {'X': 0, 'Y': 0} 2024-07-17 01:00:00  \n",
       "2                     -    False  {'X': 0, 'Y': 0} 2024-07-17 01:00:00  \n",
       "3                     -    False  {'X': 0, 'Y': 0} 2024-07-17 01:00:00  \n",
       "4                     -    False  {'X': 0, 'Y': 0} 2024-07-17 01:00:00  \n",
       "...                 ...      ...               ...                 ...  \n",
       "58420                 -    False  {'X': 0, 'Y': 0} 2024-08-18 11:00:00  \n",
       "58421                 -    False  {'X': 0, 'Y': 0} 2024-08-18 11:00:00  \n",
       "58422                 -    False  {'X': 0, 'Y': 0} 2024-08-18 11:00:00  \n",
       "58423                 -    False  {'X': 0, 'Y': 0} 2024-08-18 11:00:00  \n",
       "58424                 -    False  {'X': 0, 'Y': 0} 2024-08-18 11:00:00  \n",
       "\n",
       "[58425 rows x 22 columns]"
      ]
     },
     "execution_count": 80,
     "metadata": {},
     "output_type": "execute_result"
    }
   ],
   "source": [
    "new_df"
   ]
  },
  {
   "cell_type": "code",
   "execution_count": 81,
   "id": "1bb82f9b",
   "metadata": {
    "ExecuteTime": {
     "end_time": "2024-08-18T13:07:26.156342Z",
     "start_time": "2024-08-18T13:07:26.145343Z"
    }
   },
   "outputs": [],
   "source": [
    "new_df = new_df[main_cols]"
   ]
  },
  {
   "cell_type": "code",
   "execution_count": 82,
   "id": "49a1c928",
   "metadata": {
    "ExecuteTime": {
     "end_time": "2024-08-18T13:07:26.722075Z",
     "start_time": "2024-08-18T13:07:26.711449Z"
    }
   },
   "outputs": [],
   "source": [
    "new_df.rename(columns={'Datetime': 'datetime', 'IBR_ActualConsumption': 'actual_consumption', 'Name': 'subject_name'}, inplace=True)"
   ]
  },
  {
   "cell_type": "code",
   "execution_count": 86,
   "id": "600277ba",
   "metadata": {
    "ExecuteTime": {
     "end_time": "2024-08-18T13:09:51.592329Z",
     "start_time": "2024-08-18T13:09:51.567499Z"
    }
   },
   "outputs": [],
   "source": [
    "new_df[\"datetime\"] = pd.to_datetime(new_df[\"datetime\"])"
   ]
  },
  {
   "cell_type": "code",
   "execution_count": 87,
   "id": "664d6d53",
   "metadata": {
    "ExecuteTime": {
     "end_time": "2024-08-18T13:09:52.068907Z",
     "start_time": "2024-08-18T13:09:52.013893Z"
    }
   },
   "outputs": [],
   "source": [
    "new_df[\"actual_consumption\"] = new_df[\"actual_consumption\"].apply(prep_target)"
   ]
  },
  {
   "cell_type": "code",
   "execution_count": 88,
   "id": "3dc178fe",
   "metadata": {
    "ExecuteTime": {
     "end_time": "2024-08-18T13:09:52.652197Z",
     "start_time": "2024-08-18T13:09:52.645351Z"
    }
   },
   "outputs": [
    {
     "data": {
      "text/html": [
       "<div>\n",
       "<style scoped>\n",
       "    .dataframe tbody tr th:only-of-type {\n",
       "        vertical-align: middle;\n",
       "    }\n",
       "\n",
       "    .dataframe tbody tr th {\n",
       "        vertical-align: top;\n",
       "    }\n",
       "\n",
       "    .dataframe thead th {\n",
       "        text-align: right;\n",
       "    }\n",
       "</style>\n",
       "<table border=\"1\" class=\"dataframe\">\n",
       "  <thead>\n",
       "    <tr style=\"text-align: right;\">\n",
       "      <th></th>\n",
       "      <th>subject_name</th>\n",
       "      <th>actual_consumption</th>\n",
       "      <th>datetime</th>\n",
       "    </tr>\n",
       "    <tr>\n",
       "      <th>index</th>\n",
       "      <th></th>\n",
       "      <th></th>\n",
       "      <th></th>\n",
       "    </tr>\n",
       "  </thead>\n",
       "  <tbody>\n",
       "    <tr>\n",
       "      <th>2011-01-01 00:00:00</th>\n",
       "      <td>Алтайский край</td>\n",
       "      <td>1313.0</td>\n",
       "      <td>2011-01-01 00:00:00</td>\n",
       "    </tr>\n",
       "    <tr>\n",
       "      <th>2011-01-01 00:00:00</th>\n",
       "      <td>Амурская область</td>\n",
       "      <td>870.0</td>\n",
       "      <td>2011-01-01 00:00:00</td>\n",
       "    </tr>\n",
       "    <tr>\n",
       "      <th>2011-01-01 00:00:00</th>\n",
       "      <td>Архангельская область</td>\n",
       "      <td>970.0</td>\n",
       "      <td>2011-01-01 00:00:00</td>\n",
       "    </tr>\n",
       "  </tbody>\n",
       "</table>\n",
       "</div>"
      ],
      "text/plain": [
       "                              subject_name  actual_consumption  \\\n",
       "index                                                            \n",
       "2011-01-01 00:00:00         Алтайский край              1313.0   \n",
       "2011-01-01 00:00:00       Амурская область               870.0   \n",
       "2011-01-01 00:00:00  Архангельская область               970.0   \n",
       "\n",
       "                                datetime  \n",
       "index                                     \n",
       "2011-01-01 00:00:00  2011-01-01 00:00:00  \n",
       "2011-01-01 00:00:00  2011-01-01 00:00:00  \n",
       "2011-01-01 00:00:00  2011-01-01 00:00:00  "
      ]
     },
     "execution_count": 88,
     "metadata": {},
     "output_type": "execute_result"
    }
   ],
   "source": [
    "zxc.head(3)"
   ]
  },
  {
   "cell_type": "code",
   "execution_count": 89,
   "id": "183136ec",
   "metadata": {
    "ExecuteTime": {
     "end_time": "2024-08-18T13:09:53.373186Z",
     "start_time": "2024-08-18T13:09:53.366582Z"
    }
   },
   "outputs": [
    {
     "data": {
      "text/html": [
       "<div>\n",
       "<style scoped>\n",
       "    .dataframe tbody tr th:only-of-type {\n",
       "        vertical-align: middle;\n",
       "    }\n",
       "\n",
       "    .dataframe tbody tr th {\n",
       "        vertical-align: top;\n",
       "    }\n",
       "\n",
       "    .dataframe thead th {\n",
       "        text-align: right;\n",
       "    }\n",
       "</style>\n",
       "<table border=\"1\" class=\"dataframe\">\n",
       "  <thead>\n",
       "    <tr style=\"text-align: right;\">\n",
       "      <th></th>\n",
       "      <th>actual_consumption</th>\n",
       "      <th>subject_name</th>\n",
       "      <th>datetime</th>\n",
       "    </tr>\n",
       "  </thead>\n",
       "  <tbody>\n",
       "    <tr>\n",
       "      <th>0</th>\n",
       "      <td>1715.0</td>\n",
       "      <td>Белгородская область</td>\n",
       "      <td>2024-07-17 01:00:00</td>\n",
       "    </tr>\n",
       "    <tr>\n",
       "      <th>1</th>\n",
       "      <td>400.0</td>\n",
       "      <td>Брянская область</td>\n",
       "      <td>2024-07-17 01:00:00</td>\n",
       "    </tr>\n",
       "    <tr>\n",
       "      <th>2</th>\n",
       "      <td>716.0</td>\n",
       "      <td>Владимирская область</td>\n",
       "      <td>2024-07-17 01:00:00</td>\n",
       "    </tr>\n",
       "  </tbody>\n",
       "</table>\n",
       "</div>"
      ],
      "text/plain": [
       "   actual_consumption          subject_name            datetime\n",
       "0              1715.0  Белгородская область 2024-07-17 01:00:00\n",
       "1               400.0      Брянская область 2024-07-17 01:00:00\n",
       "2               716.0  Владимирская область 2024-07-17 01:00:00"
      ]
     },
     "execution_count": 89,
     "metadata": {},
     "output_type": "execute_result"
    }
   ],
   "source": [
    "new_df.head(3)"
   ]
  },
  {
   "cell_type": "code",
   "execution_count": 90,
   "id": "fb38c3ce",
   "metadata": {
    "ExecuteTime": {
     "end_time": "2024-08-18T13:10:20.437751Z",
     "start_time": "2024-08-18T13:10:20.311809Z"
    }
   },
   "outputs": [],
   "source": [
    "zxc.sort_index(axis=1, inplace=True)\n",
    "new_df.sort_index(axis=1, inplace=True)"
   ]
  },
  {
   "cell_type": "code",
   "execution_count": 95,
   "id": "3c772b7d",
   "metadata": {
    "ExecuteTime": {
     "end_time": "2024-08-18T13:13:13.570610Z",
     "start_time": "2024-08-18T13:13:13.567207Z"
    }
   },
   "outputs": [],
   "source": [
    "zxc.reset_index(inplace=True, drop=True)"
   ]
  },
  {
   "cell_type": "code",
   "execution_count": 101,
   "id": "b2ee0868",
   "metadata": {
    "ExecuteTime": {
     "end_time": "2024-08-18T13:16:47.637950Z",
     "start_time": "2024-08-18T13:16:47.617187Z"
    }
   },
   "outputs": [
    {
     "data": {
      "text/html": [
       "<div>\n",
       "<style scoped>\n",
       "    .dataframe tbody tr th:only-of-type {\n",
       "        vertical-align: middle;\n",
       "    }\n",
       "\n",
       "    .dataframe tbody tr th {\n",
       "        vertical-align: top;\n",
       "    }\n",
       "\n",
       "    .dataframe thead th {\n",
       "        text-align: right;\n",
       "    }\n",
       "</style>\n",
       "<table border=\"1\" class=\"dataframe\">\n",
       "  <thead>\n",
       "    <tr style=\"text-align: right;\">\n",
       "      <th></th>\n",
       "      <th>actual_consumption</th>\n",
       "      <th>datetime</th>\n",
       "      <th>subject_name</th>\n",
       "    </tr>\n",
       "  </thead>\n",
       "  <tbody>\n",
       "    <tr>\n",
       "      <th>47</th>\n",
       "      <td>952.0</td>\n",
       "      <td>2024-07-17 01:00:00</td>\n",
       "      <td>Алтайский край</td>\n",
       "    </tr>\n",
       "    <tr>\n",
       "      <th>18</th>\n",
       "      <td>1054.0</td>\n",
       "      <td>2024-07-17 01:00:00</td>\n",
       "      <td>Амурская область</td>\n",
       "    </tr>\n",
       "    <tr>\n",
       "      <th>67</th>\n",
       "      <td>596.0</td>\n",
       "      <td>2024-07-17 01:00:00</td>\n",
       "      <td>Архангельская область</td>\n",
       "    </tr>\n",
       "  </tbody>\n",
       "</table>\n",
       "</div>"
      ],
      "text/plain": [
       "    actual_consumption            datetime           subject_name\n",
       "47               952.0 2024-07-17 01:00:00         Алтайский край\n",
       "18              1054.0 2024-07-17 01:00:00       Амурская область\n",
       "67               596.0 2024-07-17 01:00:00  Архангельская область"
      ]
     },
     "execution_count": 101,
     "metadata": {},
     "output_type": "execute_result"
    }
   ],
   "source": [
    "new_df.sort_values(by=[\"datetime\", \"subject_name\"]).head(3)"
   ]
  },
  {
   "cell_type": "code",
   "execution_count": 97,
   "id": "659b7820",
   "metadata": {
    "ExecuteTime": {
     "end_time": "2024-08-18T13:13:14.694638Z",
     "start_time": "2024-08-18T13:13:14.685882Z"
    },
    "scrolled": true
   },
   "outputs": [
    {
     "data": {
      "text/html": [
       "<div>\n",
       "<style scoped>\n",
       "    .dataframe tbody tr th:only-of-type {\n",
       "        vertical-align: middle;\n",
       "    }\n",
       "\n",
       "    .dataframe tbody tr th {\n",
       "        vertical-align: top;\n",
       "    }\n",
       "\n",
       "    .dataframe thead th {\n",
       "        text-align: right;\n",
       "    }\n",
       "</style>\n",
       "<table border=\"1\" class=\"dataframe\">\n",
       "  <thead>\n",
       "    <tr style=\"text-align: right;\">\n",
       "      <th></th>\n",
       "      <th>index</th>\n",
       "      <th>actual_consumption</th>\n",
       "      <th>datetime</th>\n",
       "      <th>subject_name</th>\n",
       "    </tr>\n",
       "  </thead>\n",
       "  <tbody>\n",
       "    <tr>\n",
       "      <th>0</th>\n",
       "      <td>2011-01-01 00:00:00</td>\n",
       "      <td>1313.0</td>\n",
       "      <td>2011-01-01 00:00:00</td>\n",
       "      <td>Алтайский край</td>\n",
       "    </tr>\n",
       "    <tr>\n",
       "      <th>1</th>\n",
       "      <td>2011-01-01 00:00:00</td>\n",
       "      <td>870.0</td>\n",
       "      <td>2011-01-01 00:00:00</td>\n",
       "      <td>Амурская область</td>\n",
       "    </tr>\n",
       "    <tr>\n",
       "      <th>2</th>\n",
       "      <td>2011-01-01 00:00:00</td>\n",
       "      <td>970.0</td>\n",
       "      <td>2011-01-01 00:00:00</td>\n",
       "      <td>Архангельская область</td>\n",
       "    </tr>\n",
       "  </tbody>\n",
       "</table>\n",
       "</div>"
      ],
      "text/plain": [
       "                 index  actual_consumption             datetime  \\\n",
       "0  2011-01-01 00:00:00              1313.0  2011-01-01 00:00:00   \n",
       "1  2011-01-01 00:00:00               870.0  2011-01-01 00:00:00   \n",
       "2  2011-01-01 00:00:00               970.0  2011-01-01 00:00:00   \n",
       "\n",
       "            subject_name  \n",
       "0         Алтайский край  \n",
       "1       Амурская область  \n",
       "2  Архангельская область  "
      ]
     },
     "execution_count": 97,
     "metadata": {},
     "output_type": "execute_result"
    }
   ],
   "source": [
    "zxc.head(3)"
   ]
  },
  {
   "cell_type": "code",
   "execution_count": 99,
   "id": "6982a286",
   "metadata": {
    "ExecuteTime": {
     "end_time": "2024-08-18T13:16:08.438288Z",
     "start_time": "2024-08-18T13:16:08.335088Z"
    }
   },
   "outputs": [
    {
     "data": {
      "text/html": [
       "<div>\n",
       "<style scoped>\n",
       "    .dataframe tbody tr th:only-of-type {\n",
       "        vertical-align: middle;\n",
       "    }\n",
       "\n",
       "    .dataframe tbody tr th {\n",
       "        vertical-align: top;\n",
       "    }\n",
       "\n",
       "    .dataframe thead th {\n",
       "        text-align: right;\n",
       "    }\n",
       "</style>\n",
       "<table border=\"1\" class=\"dataframe\">\n",
       "  <thead>\n",
       "    <tr style=\"text-align: right;\">\n",
       "      <th></th>\n",
       "      <th>actual_consumption</th>\n",
       "      <th>datetime</th>\n",
       "      <th>subject_name</th>\n",
       "    </tr>\n",
       "  </thead>\n",
       "  <tbody>\n",
       "    <tr>\n",
       "      <th>0</th>\n",
       "      <td>1313.0</td>\n",
       "      <td>2011-01-01 00:00:00</td>\n",
       "      <td>Алтайский край</td>\n",
       "    </tr>\n",
       "    <tr>\n",
       "      <th>1</th>\n",
       "      <td>870.0</td>\n",
       "      <td>2011-01-01 00:00:00</td>\n",
       "      <td>Амурская область</td>\n",
       "    </tr>\n",
       "    <tr>\n",
       "      <th>2</th>\n",
       "      <td>970.0</td>\n",
       "      <td>2011-01-01 00:00:00</td>\n",
       "      <td>Архангельская область</td>\n",
       "    </tr>\n",
       "  </tbody>\n",
       "</table>\n",
       "</div>"
      ],
      "text/plain": [
       "   actual_consumption             datetime           subject_name\n",
       "0              1313.0  2011-01-01 00:00:00         Алтайский край\n",
       "1               870.0  2011-01-01 00:00:00       Амурская область\n",
       "2               970.0  2011-01-01 00:00:00  Архангельская область"
      ]
     },
     "execution_count": 99,
     "metadata": {},
     "output_type": "execute_result"
    }
   ],
   "source": [
    "zxc.drop(columns=[\"index\"]).head(3)"
   ]
  },
  {
   "cell_type": "code",
   "execution_count": 106,
   "id": "635e6e93",
   "metadata": {
    "ExecuteTime": {
     "end_time": "2024-08-18T13:17:47.876148Z",
     "start_time": "2024-08-18T13:17:47.730421Z"
    }
   },
   "outputs": [],
   "source": [
    "zxc.drop(columns=[\"index\"], inplace=True)"
   ]
  },
  {
   "cell_type": "code",
   "execution_count": null,
   "id": "caf1b62d",
   "metadata": {},
   "outputs": [],
   "source": []
  },
  {
   "cell_type": "code",
   "execution_count": 113,
   "id": "832fc5dd",
   "metadata": {
    "ExecuteTime": {
     "end_time": "2024-08-18T13:19:09.793305Z",
     "start_time": "2024-08-18T13:19:09.686061Z"
    }
   },
   "outputs": [],
   "source": [
    "main_df = pd.concat([zxc, new_df], axis=0, ignore_index=True)"
   ]
  },
  {
   "cell_type": "code",
   "execution_count": 114,
   "id": "55f0b879",
   "metadata": {
    "ExecuteTime": {
     "end_time": "2024-08-18T13:19:10.590495Z",
     "start_time": "2024-08-18T13:19:10.581752Z"
    }
   },
   "outputs": [
    {
     "data": {
      "text/html": [
       "<div>\n",
       "<style scoped>\n",
       "    .dataframe tbody tr th:only-of-type {\n",
       "        vertical-align: middle;\n",
       "    }\n",
       "\n",
       "    .dataframe tbody tr th {\n",
       "        vertical-align: top;\n",
       "    }\n",
       "\n",
       "    .dataframe thead th {\n",
       "        text-align: right;\n",
       "    }\n",
       "</style>\n",
       "<table border=\"1\" class=\"dataframe\">\n",
       "  <thead>\n",
       "    <tr style=\"text-align: right;\">\n",
       "      <th></th>\n",
       "      <th>actual_consumption</th>\n",
       "      <th>datetime</th>\n",
       "      <th>subject_name</th>\n",
       "    </tr>\n",
       "  </thead>\n",
       "  <tbody>\n",
       "    <tr>\n",
       "      <th>0</th>\n",
       "      <td>1313.0</td>\n",
       "      <td>2011-01-01 00:00:00</td>\n",
       "      <td>Алтайский край</td>\n",
       "    </tr>\n",
       "    <tr>\n",
       "      <th>1</th>\n",
       "      <td>870.0</td>\n",
       "      <td>2011-01-01 00:00:00</td>\n",
       "      <td>Амурская область</td>\n",
       "    </tr>\n",
       "    <tr>\n",
       "      <th>2</th>\n",
       "      <td>970.0</td>\n",
       "      <td>2011-01-01 00:00:00</td>\n",
       "      <td>Архангельская область</td>\n",
       "    </tr>\n",
       "    <tr>\n",
       "      <th>3</th>\n",
       "      <td>504.0</td>\n",
       "      <td>2011-01-01 00:00:00</td>\n",
       "      <td>Астраханская область</td>\n",
       "    </tr>\n",
       "    <tr>\n",
       "      <th>4</th>\n",
       "      <td>1592.0</td>\n",
       "      <td>2011-01-01 00:00:00</td>\n",
       "      <td>Белгородская область</td>\n",
       "    </tr>\n",
       "    <tr>\n",
       "      <th>...</th>\n",
       "      <td>...</td>\n",
       "      <td>...</td>\n",
       "      <td>...</td>\n",
       "    </tr>\n",
       "    <tr>\n",
       "      <th>8536869</th>\n",
       "      <td>1123.0</td>\n",
       "      <td>2024-08-18 11:00:00</td>\n",
       "      <td>Мурманская область</td>\n",
       "    </tr>\n",
       "    <tr>\n",
       "      <th>8536870</th>\n",
       "      <td>508.0</td>\n",
       "      <td>2024-08-18 11:00:00</td>\n",
       "      <td>Новгородская область</td>\n",
       "    </tr>\n",
       "    <tr>\n",
       "      <th>8536871</th>\n",
       "      <td>266.0</td>\n",
       "      <td>2024-08-18 11:00:00</td>\n",
       "      <td>Псковская область</td>\n",
       "    </tr>\n",
       "    <tr>\n",
       "      <th>8536872</th>\n",
       "      <td>922.0</td>\n",
       "      <td>2024-08-18 11:00:00</td>\n",
       "      <td>Республика Карелия</td>\n",
       "    </tr>\n",
       "    <tr>\n",
       "      <th>8536873</th>\n",
       "      <td>834.0</td>\n",
       "      <td>2024-08-18 11:00:00</td>\n",
       "      <td>Республика Коми</td>\n",
       "    </tr>\n",
       "  </tbody>\n",
       "</table>\n",
       "<p>8536874 rows × 3 columns</p>\n",
       "</div>"
      ],
      "text/plain": [
       "         actual_consumption             datetime           subject_name\n",
       "0                    1313.0  2011-01-01 00:00:00         Алтайский край\n",
       "1                     870.0  2011-01-01 00:00:00       Амурская область\n",
       "2                     970.0  2011-01-01 00:00:00  Архангельская область\n",
       "3                     504.0  2011-01-01 00:00:00   Астраханская область\n",
       "4                    1592.0  2011-01-01 00:00:00   Белгородская область\n",
       "...                     ...                  ...                    ...\n",
       "8536869              1123.0  2024-08-18 11:00:00     Мурманская область\n",
       "8536870               508.0  2024-08-18 11:00:00   Новгородская область\n",
       "8536871               266.0  2024-08-18 11:00:00      Псковская область\n",
       "8536872               922.0  2024-08-18 11:00:00     Республика Карелия\n",
       "8536873               834.0  2024-08-18 11:00:00        Республика Коми\n",
       "\n",
       "[8536874 rows x 3 columns]"
      ]
     },
     "execution_count": 114,
     "metadata": {},
     "output_type": "execute_result"
    }
   ],
   "source": [
    "main_df"
   ]
  },
  {
   "cell_type": "code",
   "execution_count": 116,
   "id": "bd510a24",
   "metadata": {
    "ExecuteTime": {
     "end_time": "2024-08-18T13:19:45.636306Z",
     "start_time": "2024-08-18T13:19:45.408118Z"
    }
   },
   "outputs": [],
   "source": [
    "main_df[\"datetime\"] = main_df[\"datetime\"].astype(str)"
   ]
  },
  {
   "cell_type": "code",
   "execution_count": 117,
   "id": "9af7c896",
   "metadata": {
    "ExecuteTime": {
     "end_time": "2024-08-18T13:19:52.317239Z",
     "start_time": "2024-08-18T13:19:49.912194Z"
    }
   },
   "outputs": [],
   "source": [
    "main_df.sort_values(by=[\"datetime\", \"subject_name\"], inplace=True)"
   ]
  },
  {
   "cell_type": "code",
   "execution_count": 118,
   "id": "4817bbca",
   "metadata": {
    "ExecuteTime": {
     "end_time": "2024-08-18T13:19:52.328742Z",
     "start_time": "2024-08-18T13:19:52.318637Z"
    }
   },
   "outputs": [
    {
     "data": {
      "text/html": [
       "<div>\n",
       "<style scoped>\n",
       "    .dataframe tbody tr th:only-of-type {\n",
       "        vertical-align: middle;\n",
       "    }\n",
       "\n",
       "    .dataframe tbody tr th {\n",
       "        vertical-align: top;\n",
       "    }\n",
       "\n",
       "    .dataframe thead th {\n",
       "        text-align: right;\n",
       "    }\n",
       "</style>\n",
       "<table border=\"1\" class=\"dataframe\">\n",
       "  <thead>\n",
       "    <tr style=\"text-align: right;\">\n",
       "      <th></th>\n",
       "      <th>actual_consumption</th>\n",
       "      <th>datetime</th>\n",
       "      <th>subject_name</th>\n",
       "    </tr>\n",
       "  </thead>\n",
       "  <tbody>\n",
       "    <tr>\n",
       "      <th>0</th>\n",
       "      <td>1313.0</td>\n",
       "      <td>2011-01-01 00:00:00</td>\n",
       "      <td>Алтайский край</td>\n",
       "    </tr>\n",
       "    <tr>\n",
       "      <th>1</th>\n",
       "      <td>870.0</td>\n",
       "      <td>2011-01-01 00:00:00</td>\n",
       "      <td>Амурская область</td>\n",
       "    </tr>\n",
       "    <tr>\n",
       "      <th>2</th>\n",
       "      <td>970.0</td>\n",
       "      <td>2011-01-01 00:00:00</td>\n",
       "      <td>Архангельская область</td>\n",
       "    </tr>\n",
       "    <tr>\n",
       "      <th>3</th>\n",
       "      <td>504.0</td>\n",
       "      <td>2011-01-01 00:00:00</td>\n",
       "      <td>Астраханская область</td>\n",
       "    </tr>\n",
       "    <tr>\n",
       "      <th>4</th>\n",
       "      <td>1592.0</td>\n",
       "      <td>2011-01-01 00:00:00</td>\n",
       "      <td>Белгородская область</td>\n",
       "    </tr>\n",
       "    <tr>\n",
       "      <th>...</th>\n",
       "      <td>...</td>\n",
       "      <td>...</td>\n",
       "      <td>...</td>\n",
       "    </tr>\n",
       "    <tr>\n",
       "      <th>8536863</th>\n",
       "      <td>4251.0</td>\n",
       "      <td>2024-08-18 11:00:00</td>\n",
       "      <td>Челябинская область</td>\n",
       "    </tr>\n",
       "    <tr>\n",
       "      <th>8536836</th>\n",
       "      <td>439.0</td>\n",
       "      <td>2024-08-18 11:00:00</td>\n",
       "      <td>Чеченская Республика</td>\n",
       "    </tr>\n",
       "    <tr>\n",
       "      <th>8536845</th>\n",
       "      <td>529.0</td>\n",
       "      <td>2024-08-18 11:00:00</td>\n",
       "      <td>Чувашская Республика - Чувашия</td>\n",
       "    </tr>\n",
       "    <tr>\n",
       "      <th>8536822</th>\n",
       "      <td>366.0</td>\n",
       "      <td>2024-08-18 11:00:00</td>\n",
       "      <td>Южно-Якутский энергорайон</td>\n",
       "    </tr>\n",
       "    <tr>\n",
       "      <th>8536816</th>\n",
       "      <td>850.0</td>\n",
       "      <td>2024-08-18 11:00:00</td>\n",
       "      <td>Ярославская область</td>\n",
       "    </tr>\n",
       "  </tbody>\n",
       "</table>\n",
       "<p>8536874 rows × 3 columns</p>\n",
       "</div>"
      ],
      "text/plain": [
       "         actual_consumption             datetime  \\\n",
       "0                    1313.0  2011-01-01 00:00:00   \n",
       "1                     870.0  2011-01-01 00:00:00   \n",
       "2                     970.0  2011-01-01 00:00:00   \n",
       "3                     504.0  2011-01-01 00:00:00   \n",
       "4                    1592.0  2011-01-01 00:00:00   \n",
       "...                     ...                  ...   \n",
       "8536863              4251.0  2024-08-18 11:00:00   \n",
       "8536836               439.0  2024-08-18 11:00:00   \n",
       "8536845               529.0  2024-08-18 11:00:00   \n",
       "8536822               366.0  2024-08-18 11:00:00   \n",
       "8536816               850.0  2024-08-18 11:00:00   \n",
       "\n",
       "                           subject_name  \n",
       "0                        Алтайский край  \n",
       "1                      Амурская область  \n",
       "2                 Архангельская область  \n",
       "3                  Астраханская область  \n",
       "4                  Белгородская область  \n",
       "...                                 ...  \n",
       "8536863             Челябинская область  \n",
       "8536836            Чеченская Республика  \n",
       "8536845  Чувашская Республика - Чувашия  \n",
       "8536822       Южно-Якутский энергорайон  \n",
       "8536816             Ярославская область  \n",
       "\n",
       "[8536874 rows x 3 columns]"
      ]
     },
     "execution_count": 118,
     "metadata": {},
     "output_type": "execute_result"
    }
   ],
   "source": [
    "main_df"
   ]
  },
  {
   "cell_type": "code",
   "execution_count": null,
   "id": "8f44112b",
   "metadata": {},
   "outputs": [],
   "source": []
  },
  {
   "cell_type": "code",
   "execution_count": 119,
   "id": "4fa78525",
   "metadata": {
    "ExecuteTime": {
     "end_time": "2024-08-18T13:20:30.841019Z",
     "start_time": "2024-08-18T13:20:26.370012Z"
    }
   },
   "outputs": [],
   "source": [
    "main_df.dropna(inplace=True)\n",
    "main_df.drop_duplicates(inplace=True)"
   ]
  },
  {
   "cell_type": "code",
   "execution_count": null,
   "id": "8069f885",
   "metadata": {},
   "outputs": [],
   "source": []
  },
  {
   "cell_type": "code",
   "execution_count": 121,
   "id": "bda5dcf1",
   "metadata": {
    "ExecuteTime": {
     "end_time": "2024-08-18T13:20:49.911933Z",
     "start_time": "2024-08-18T13:20:49.906344Z"
    }
   },
   "outputs": [],
   "source": [
    "main_df.reset_index(inplace=True, drop=True)"
   ]
  },
  {
   "cell_type": "code",
   "execution_count": null,
   "id": "15a28c5e",
   "metadata": {},
   "outputs": [],
   "source": []
  },
  {
   "cell_type": "code",
   "execution_count": 122,
   "id": "a8b6c851",
   "metadata": {
    "ExecuteTime": {
     "end_time": "2024-08-18T13:20:53.578765Z",
     "start_time": "2024-08-18T13:20:53.570123Z"
    }
   },
   "outputs": [
    {
     "data": {
      "text/html": [
       "<div>\n",
       "<style scoped>\n",
       "    .dataframe tbody tr th:only-of-type {\n",
       "        vertical-align: middle;\n",
       "    }\n",
       "\n",
       "    .dataframe tbody tr th {\n",
       "        vertical-align: top;\n",
       "    }\n",
       "\n",
       "    .dataframe thead th {\n",
       "        text-align: right;\n",
       "    }\n",
       "</style>\n",
       "<table border=\"1\" class=\"dataframe\">\n",
       "  <thead>\n",
       "    <tr style=\"text-align: right;\">\n",
       "      <th></th>\n",
       "      <th>actual_consumption</th>\n",
       "      <th>datetime</th>\n",
       "      <th>subject_name</th>\n",
       "    </tr>\n",
       "  </thead>\n",
       "  <tbody>\n",
       "    <tr>\n",
       "      <th>0</th>\n",
       "      <td>1313.0</td>\n",
       "      <td>2011-01-01 00:00:00</td>\n",
       "      <td>Алтайский край</td>\n",
       "    </tr>\n",
       "    <tr>\n",
       "      <th>1</th>\n",
       "      <td>870.0</td>\n",
       "      <td>2011-01-01 00:00:00</td>\n",
       "      <td>Амурская область</td>\n",
       "    </tr>\n",
       "    <tr>\n",
       "      <th>2</th>\n",
       "      <td>970.0</td>\n",
       "      <td>2011-01-01 00:00:00</td>\n",
       "      <td>Архангельская область</td>\n",
       "    </tr>\n",
       "    <tr>\n",
       "      <th>3</th>\n",
       "      <td>504.0</td>\n",
       "      <td>2011-01-01 00:00:00</td>\n",
       "      <td>Астраханская область</td>\n",
       "    </tr>\n",
       "    <tr>\n",
       "      <th>4</th>\n",
       "      <td>1592.0</td>\n",
       "      <td>2011-01-01 00:00:00</td>\n",
       "      <td>Белгородская область</td>\n",
       "    </tr>\n",
       "    <tr>\n",
       "      <th>...</th>\n",
       "      <td>...</td>\n",
       "      <td>...</td>\n",
       "      <td>...</td>\n",
       "    </tr>\n",
       "    <tr>\n",
       "      <th>8536867</th>\n",
       "      <td>4251.0</td>\n",
       "      <td>2024-08-18 11:00:00</td>\n",
       "      <td>Челябинская область</td>\n",
       "    </tr>\n",
       "    <tr>\n",
       "      <th>8536868</th>\n",
       "      <td>439.0</td>\n",
       "      <td>2024-08-18 11:00:00</td>\n",
       "      <td>Чеченская Республика</td>\n",
       "    </tr>\n",
       "    <tr>\n",
       "      <th>8536869</th>\n",
       "      <td>529.0</td>\n",
       "      <td>2024-08-18 11:00:00</td>\n",
       "      <td>Чувашская Республика - Чувашия</td>\n",
       "    </tr>\n",
       "    <tr>\n",
       "      <th>8536870</th>\n",
       "      <td>366.0</td>\n",
       "      <td>2024-08-18 11:00:00</td>\n",
       "      <td>Южно-Якутский энергорайон</td>\n",
       "    </tr>\n",
       "    <tr>\n",
       "      <th>8536871</th>\n",
       "      <td>850.0</td>\n",
       "      <td>2024-08-18 11:00:00</td>\n",
       "      <td>Ярославская область</td>\n",
       "    </tr>\n",
       "  </tbody>\n",
       "</table>\n",
       "<p>8536872 rows × 3 columns</p>\n",
       "</div>"
      ],
      "text/plain": [
       "         actual_consumption             datetime  \\\n",
       "0                    1313.0  2011-01-01 00:00:00   \n",
       "1                     870.0  2011-01-01 00:00:00   \n",
       "2                     970.0  2011-01-01 00:00:00   \n",
       "3                     504.0  2011-01-01 00:00:00   \n",
       "4                    1592.0  2011-01-01 00:00:00   \n",
       "...                     ...                  ...   \n",
       "8536867              4251.0  2024-08-18 11:00:00   \n",
       "8536868               439.0  2024-08-18 11:00:00   \n",
       "8536869               529.0  2024-08-18 11:00:00   \n",
       "8536870               366.0  2024-08-18 11:00:00   \n",
       "8536871               850.0  2024-08-18 11:00:00   \n",
       "\n",
       "                           subject_name  \n",
       "0                        Алтайский край  \n",
       "1                      Амурская область  \n",
       "2                 Архангельская область  \n",
       "3                  Астраханская область  \n",
       "4                  Белгородская область  \n",
       "...                                 ...  \n",
       "8536867             Челябинская область  \n",
       "8536868            Чеченская Республика  \n",
       "8536869  Чувашская Республика - Чувашия  \n",
       "8536870       Южно-Якутский энергорайон  \n",
       "8536871             Ярославская область  \n",
       "\n",
       "[8536872 rows x 3 columns]"
      ]
     },
     "execution_count": 122,
     "metadata": {},
     "output_type": "execute_result"
    }
   ],
   "source": [
    "main_df"
   ]
  },
  {
   "cell_type": "code",
   "execution_count": null,
   "id": "77d10df0",
   "metadata": {},
   "outputs": [],
   "source": []
  },
  {
   "cell_type": "code",
   "execution_count": 124,
   "id": "1bc7dd44",
   "metadata": {
    "ExecuteTime": {
     "end_time": "2024-08-18T13:24:32.896942Z",
     "start_time": "2024-08-18T13:22:56.071791Z"
    }
   },
   "outputs": [],
   "source": [
    "main_df = create_time_step_features(main_df)  # Check function\n",
    "main_df = pd.concat([main_df, pd.get_dummies(main_df[\"subject_name\"], columns=uniq_subjs)], axis=1)"
   ]
  },
  {
   "cell_type": "code",
   "execution_count": null,
   "id": "2e026ddb",
   "metadata": {},
   "outputs": [],
   "source": []
  },
  {
   "cell_type": "code",
   "execution_count": 125,
   "id": "c28f83bf",
   "metadata": {
    "ExecuteTime": {
     "end_time": "2024-08-18T13:27:16.309397Z",
     "start_time": "2024-08-18T13:27:13.754750Z"
    }
   },
   "outputs": [
    {
     "data": {
      "text/html": [
       "<div>\n",
       "<style scoped>\n",
       "    .dataframe tbody tr th:only-of-type {\n",
       "        vertical-align: middle;\n",
       "    }\n",
       "\n",
       "    .dataframe tbody tr th {\n",
       "        vertical-align: top;\n",
       "    }\n",
       "\n",
       "    .dataframe thead th {\n",
       "        text-align: right;\n",
       "    }\n",
       "</style>\n",
       "<table border=\"1\" class=\"dataframe\">\n",
       "  <thead>\n",
       "    <tr style=\"text-align: right;\">\n",
       "      <th></th>\n",
       "      <th>actual_consumption</th>\n",
       "      <th>subject_name</th>\n",
       "      <th>year</th>\n",
       "      <th>month</th>\n",
       "      <th>day_of_month</th>\n",
       "      <th>hour</th>\n",
       "      <th>day_of_week</th>\n",
       "      <th>day_of_year</th>\n",
       "      <th>week_of_year</th>\n",
       "      <th>quarter</th>\n",
       "      <th>...</th>\n",
       "      <th>Тульская область</th>\n",
       "      <th>Тюменская область</th>\n",
       "      <th>Удмуртская Республика</th>\n",
       "      <th>Ульяновская область</th>\n",
       "      <th>Центральный энергорайон Якутии</th>\n",
       "      <th>Челябинская область</th>\n",
       "      <th>Чеченская Республика</th>\n",
       "      <th>Чувашская Республика - Чувашия</th>\n",
       "      <th>Южно-Якутский энергорайон</th>\n",
       "      <th>Ярославская область</th>\n",
       "    </tr>\n",
       "  </thead>\n",
       "  <tbody>\n",
       "    <tr>\n",
       "      <th>0</th>\n",
       "      <td>1313.0</td>\n",
       "      <td>Алтайский край</td>\n",
       "      <td>2011</td>\n",
       "      <td>1</td>\n",
       "      <td>1</td>\n",
       "      <td>0</td>\n",
       "      <td>6</td>\n",
       "      <td>1</td>\n",
       "      <td>52</td>\n",
       "      <td>3</td>\n",
       "      <td>...</td>\n",
       "      <td>0</td>\n",
       "      <td>0</td>\n",
       "      <td>0</td>\n",
       "      <td>0</td>\n",
       "      <td>0</td>\n",
       "      <td>0</td>\n",
       "      <td>0</td>\n",
       "      <td>0</td>\n",
       "      <td>0</td>\n",
       "      <td>0</td>\n",
       "    </tr>\n",
       "    <tr>\n",
       "      <th>1</th>\n",
       "      <td>870.0</td>\n",
       "      <td>Амурская область</td>\n",
       "      <td>2011</td>\n",
       "      <td>1</td>\n",
       "      <td>1</td>\n",
       "      <td>0</td>\n",
       "      <td>6</td>\n",
       "      <td>1</td>\n",
       "      <td>52</td>\n",
       "      <td>3</td>\n",
       "      <td>...</td>\n",
       "      <td>0</td>\n",
       "      <td>0</td>\n",
       "      <td>0</td>\n",
       "      <td>0</td>\n",
       "      <td>0</td>\n",
       "      <td>0</td>\n",
       "      <td>0</td>\n",
       "      <td>0</td>\n",
       "      <td>0</td>\n",
       "      <td>0</td>\n",
       "    </tr>\n",
       "    <tr>\n",
       "      <th>2</th>\n",
       "      <td>970.0</td>\n",
       "      <td>Архангельская область</td>\n",
       "      <td>2011</td>\n",
       "      <td>1</td>\n",
       "      <td>1</td>\n",
       "      <td>0</td>\n",
       "      <td>6</td>\n",
       "      <td>1</td>\n",
       "      <td>52</td>\n",
       "      <td>3</td>\n",
       "      <td>...</td>\n",
       "      <td>0</td>\n",
       "      <td>0</td>\n",
       "      <td>0</td>\n",
       "      <td>0</td>\n",
       "      <td>0</td>\n",
       "      <td>0</td>\n",
       "      <td>0</td>\n",
       "      <td>0</td>\n",
       "      <td>0</td>\n",
       "      <td>0</td>\n",
       "    </tr>\n",
       "    <tr>\n",
       "      <th>3</th>\n",
       "      <td>504.0</td>\n",
       "      <td>Астраханская область</td>\n",
       "      <td>2011</td>\n",
       "      <td>1</td>\n",
       "      <td>1</td>\n",
       "      <td>0</td>\n",
       "      <td>6</td>\n",
       "      <td>1</td>\n",
       "      <td>52</td>\n",
       "      <td>3</td>\n",
       "      <td>...</td>\n",
       "      <td>0</td>\n",
       "      <td>0</td>\n",
       "      <td>0</td>\n",
       "      <td>0</td>\n",
       "      <td>0</td>\n",
       "      <td>0</td>\n",
       "      <td>0</td>\n",
       "      <td>0</td>\n",
       "      <td>0</td>\n",
       "      <td>0</td>\n",
       "    </tr>\n",
       "    <tr>\n",
       "      <th>4</th>\n",
       "      <td>1592.0</td>\n",
       "      <td>Белгородская область</td>\n",
       "      <td>2011</td>\n",
       "      <td>1</td>\n",
       "      <td>1</td>\n",
       "      <td>0</td>\n",
       "      <td>6</td>\n",
       "      <td>1</td>\n",
       "      <td>52</td>\n",
       "      <td>3</td>\n",
       "      <td>...</td>\n",
       "      <td>0</td>\n",
       "      <td>0</td>\n",
       "      <td>0</td>\n",
       "      <td>0</td>\n",
       "      <td>0</td>\n",
       "      <td>0</td>\n",
       "      <td>0</td>\n",
       "      <td>0</td>\n",
       "      <td>0</td>\n",
       "      <td>0</td>\n",
       "    </tr>\n",
       "    <tr>\n",
       "      <th>...</th>\n",
       "      <td>...</td>\n",
       "      <td>...</td>\n",
       "      <td>...</td>\n",
       "      <td>...</td>\n",
       "      <td>...</td>\n",
       "      <td>...</td>\n",
       "      <td>...</td>\n",
       "      <td>...</td>\n",
       "      <td>...</td>\n",
       "      <td>...</td>\n",
       "      <td>...</td>\n",
       "      <td>...</td>\n",
       "      <td>...</td>\n",
       "      <td>...</td>\n",
       "      <td>...</td>\n",
       "      <td>...</td>\n",
       "      <td>...</td>\n",
       "      <td>...</td>\n",
       "      <td>...</td>\n",
       "      <td>...</td>\n",
       "      <td>...</td>\n",
       "    </tr>\n",
       "    <tr>\n",
       "      <th>8536867</th>\n",
       "      <td>4251.0</td>\n",
       "      <td>Челябинская область</td>\n",
       "      <td>2024</td>\n",
       "      <td>8</td>\n",
       "      <td>18</td>\n",
       "      <td>11</td>\n",
       "      <td>7</td>\n",
       "      <td>231</td>\n",
       "      <td>33</td>\n",
       "      <td>3</td>\n",
       "      <td>...</td>\n",
       "      <td>0</td>\n",
       "      <td>0</td>\n",
       "      <td>0</td>\n",
       "      <td>0</td>\n",
       "      <td>0</td>\n",
       "      <td>1</td>\n",
       "      <td>0</td>\n",
       "      <td>0</td>\n",
       "      <td>0</td>\n",
       "      <td>0</td>\n",
       "    </tr>\n",
       "    <tr>\n",
       "      <th>8536868</th>\n",
       "      <td>439.0</td>\n",
       "      <td>Чеченская Республика</td>\n",
       "      <td>2024</td>\n",
       "      <td>8</td>\n",
       "      <td>18</td>\n",
       "      <td>11</td>\n",
       "      <td>7</td>\n",
       "      <td>231</td>\n",
       "      <td>33</td>\n",
       "      <td>3</td>\n",
       "      <td>...</td>\n",
       "      <td>0</td>\n",
       "      <td>0</td>\n",
       "      <td>0</td>\n",
       "      <td>0</td>\n",
       "      <td>0</td>\n",
       "      <td>0</td>\n",
       "      <td>1</td>\n",
       "      <td>0</td>\n",
       "      <td>0</td>\n",
       "      <td>0</td>\n",
       "    </tr>\n",
       "    <tr>\n",
       "      <th>8536869</th>\n",
       "      <td>529.0</td>\n",
       "      <td>Чувашская Республика - Чувашия</td>\n",
       "      <td>2024</td>\n",
       "      <td>8</td>\n",
       "      <td>18</td>\n",
       "      <td>11</td>\n",
       "      <td>7</td>\n",
       "      <td>231</td>\n",
       "      <td>33</td>\n",
       "      <td>3</td>\n",
       "      <td>...</td>\n",
       "      <td>0</td>\n",
       "      <td>0</td>\n",
       "      <td>0</td>\n",
       "      <td>0</td>\n",
       "      <td>0</td>\n",
       "      <td>0</td>\n",
       "      <td>0</td>\n",
       "      <td>1</td>\n",
       "      <td>0</td>\n",
       "      <td>0</td>\n",
       "    </tr>\n",
       "    <tr>\n",
       "      <th>8536870</th>\n",
       "      <td>366.0</td>\n",
       "      <td>Южно-Якутский энергорайон</td>\n",
       "      <td>2024</td>\n",
       "      <td>8</td>\n",
       "      <td>18</td>\n",
       "      <td>11</td>\n",
       "      <td>7</td>\n",
       "      <td>231</td>\n",
       "      <td>33</td>\n",
       "      <td>3</td>\n",
       "      <td>...</td>\n",
       "      <td>0</td>\n",
       "      <td>0</td>\n",
       "      <td>0</td>\n",
       "      <td>0</td>\n",
       "      <td>0</td>\n",
       "      <td>0</td>\n",
       "      <td>0</td>\n",
       "      <td>0</td>\n",
       "      <td>1</td>\n",
       "      <td>0</td>\n",
       "    </tr>\n",
       "    <tr>\n",
       "      <th>8536871</th>\n",
       "      <td>850.0</td>\n",
       "      <td>Ярославская область</td>\n",
       "      <td>2024</td>\n",
       "      <td>8</td>\n",
       "      <td>18</td>\n",
       "      <td>11</td>\n",
       "      <td>7</td>\n",
       "      <td>231</td>\n",
       "      <td>33</td>\n",
       "      <td>3</td>\n",
       "      <td>...</td>\n",
       "      <td>0</td>\n",
       "      <td>0</td>\n",
       "      <td>0</td>\n",
       "      <td>0</td>\n",
       "      <td>0</td>\n",
       "      <td>0</td>\n",
       "      <td>0</td>\n",
       "      <td>0</td>\n",
       "      <td>0</td>\n",
       "      <td>1</td>\n",
       "    </tr>\n",
       "  </tbody>\n",
       "</table>\n",
       "<p>8536872 rows × 86 columns</p>\n",
       "</div>"
      ],
      "text/plain": [
       "         actual_consumption                    subject_name  year  month  \\\n",
       "0                    1313.0                  Алтайский край  2011      1   \n",
       "1                     870.0                Амурская область  2011      1   \n",
       "2                     970.0           Архангельская область  2011      1   \n",
       "3                     504.0            Астраханская область  2011      1   \n",
       "4                    1592.0            Белгородская область  2011      1   \n",
       "...                     ...                             ...   ...    ...   \n",
       "8536867              4251.0             Челябинская область  2024      8   \n",
       "8536868               439.0            Чеченская Республика  2024      8   \n",
       "8536869               529.0  Чувашская Республика - Чувашия  2024      8   \n",
       "8536870               366.0       Южно-Якутский энергорайон  2024      8   \n",
       "8536871               850.0             Ярославская область  2024      8   \n",
       "\n",
       "         day_of_month  hour  day_of_week  day_of_year  week_of_year  quarter  \\\n",
       "0                   1     0            6            1            52        3   \n",
       "1                   1     0            6            1            52        3   \n",
       "2                   1     0            6            1            52        3   \n",
       "3                   1     0            6            1            52        3   \n",
       "4                   1     0            6            1            52        3   \n",
       "...               ...   ...          ...          ...           ...      ...   \n",
       "8536867            18    11            7          231            33        3   \n",
       "8536868            18    11            7          231            33        3   \n",
       "8536869            18    11            7          231            33        3   \n",
       "8536870            18    11            7          231            33        3   \n",
       "8536871            18    11            7          231            33        3   \n",
       "\n",
       "         ...  Тульская область  Тюменская область  Удмуртская Республика  \\\n",
       "0        ...                 0                  0                      0   \n",
       "1        ...                 0                  0                      0   \n",
       "2        ...                 0                  0                      0   \n",
       "3        ...                 0                  0                      0   \n",
       "4        ...                 0                  0                      0   \n",
       "...      ...               ...                ...                    ...   \n",
       "8536867  ...                 0                  0                      0   \n",
       "8536868  ...                 0                  0                      0   \n",
       "8536869  ...                 0                  0                      0   \n",
       "8536870  ...                 0                  0                      0   \n",
       "8536871  ...                 0                  0                      0   \n",
       "\n",
       "         Ульяновская область  Центральный энергорайон Якутии  \\\n",
       "0                          0                               0   \n",
       "1                          0                               0   \n",
       "2                          0                               0   \n",
       "3                          0                               0   \n",
       "4                          0                               0   \n",
       "...                      ...                             ...   \n",
       "8536867                    0                               0   \n",
       "8536868                    0                               0   \n",
       "8536869                    0                               0   \n",
       "8536870                    0                               0   \n",
       "8536871                    0                               0   \n",
       "\n",
       "         Челябинская область  Чеченская Республика  \\\n",
       "0                          0                     0   \n",
       "1                          0                     0   \n",
       "2                          0                     0   \n",
       "3                          0                     0   \n",
       "4                          0                     0   \n",
       "...                      ...                   ...   \n",
       "8536867                    1                     0   \n",
       "8536868                    0                     1   \n",
       "8536869                    0                     0   \n",
       "8536870                    0                     0   \n",
       "8536871                    0                     0   \n",
       "\n",
       "         Чувашская Республика - Чувашия  Южно-Якутский энергорайон  \\\n",
       "0                                     0                          0   \n",
       "1                                     0                          0   \n",
       "2                                     0                          0   \n",
       "3                                     0                          0   \n",
       "4                                     0                          0   \n",
       "...                                 ...                        ...   \n",
       "8536867                               0                          0   \n",
       "8536868                               0                          0   \n",
       "8536869                               1                          0   \n",
       "8536870                               0                          1   \n",
       "8536871                               0                          0   \n",
       "\n",
       "         Ярославская область  \n",
       "0                          0  \n",
       "1                          0  \n",
       "2                          0  \n",
       "3                          0  \n",
       "4                          0  \n",
       "...                      ...  \n",
       "8536867                    0  \n",
       "8536868                    0  \n",
       "8536869                    0  \n",
       "8536870                    0  \n",
       "8536871                    1  \n",
       "\n",
       "[8536872 rows x 86 columns]"
      ]
     },
     "execution_count": 125,
     "metadata": {},
     "output_type": "execute_result"
    }
   ],
   "source": [
    "main_df.drop(columns=[\"datetime\"])"
   ]
  },
  {
   "cell_type": "code",
   "execution_count": null,
   "id": "5bcef372",
   "metadata": {},
   "outputs": [],
   "source": []
  },
  {
   "cell_type": "code",
   "execution_count": null,
   "id": "5763b211",
   "metadata": {},
   "outputs": [],
   "source": []
  },
  {
   "cell_type": "code",
   "execution_count": null,
   "id": "b4cb7e3c",
   "metadata": {},
   "outputs": [],
   "source": []
  },
  {
   "cell_type": "code",
   "execution_count": 126,
   "id": "7a1e0184",
   "metadata": {
    "ExecuteTime": {
     "end_time": "2024-08-18T13:32:54.672972Z",
     "start_time": "2024-08-18T13:28:15.006157Z"
    }
   },
   "outputs": [],
   "source": [
    "main_df[\"lag_hour\"] = create_lag_feature(main_df, time_steps[\"hour\"], lag_column=\"actual_consumption\", size=main_df.shape[0])\n",
    "main_df[\"lag_day\"] = create_lag_feature(main_df, time_steps[\"day\"], lag_column=\"actual_consumption\", size=main_df.shape[0])\n",
    "main_df[\"lag_week\"] = create_lag_feature(main_df, time_steps[\"week\"], lag_column=\"actual_consumption\", size=main_df.shape[0])\n",
    "main_df[\"lag_month\"] = create_lag_feature(main_df, time_steps[\"month\"], lag_column=\"actual_consumption\", size=main_df.shape[0])\n",
    "main_df[\"lag_year\"] = create_lag_feature(main_df, time_steps[\"year\"], lag_column=\"actual_consumption\", size=main_df.shape[0])"
   ]
  },
  {
   "cell_type": "code",
   "execution_count": null,
   "id": "72fb63ce",
   "metadata": {},
   "outputs": [],
   "source": []
  },
  {
   "cell_type": "code",
   "execution_count": 128,
   "id": "ae62d612",
   "metadata": {
    "ExecuteTime": {
     "end_time": "2024-08-18T13:34:46.724459Z",
     "start_time": "2024-08-18T13:33:46.659531Z"
    }
   },
   "outputs": [],
   "source": [
    "main_df[\"time_dummi\"] = create_time_dummie_feature(main_df)"
   ]
  },
  {
   "cell_type": "code",
   "execution_count": null,
   "id": "b648e124",
   "metadata": {},
   "outputs": [],
   "source": []
  },
  {
   "cell_type": "code",
   "execution_count": 132,
   "id": "0807e869",
   "metadata": {
    "ExecuteTime": {
     "end_time": "2024-08-18T13:35:36.323324Z",
     "start_time": "2024-08-18T13:35:35.704050Z"
    }
   },
   "outputs": [],
   "source": [
    "main_df.drop(columns=[\"datetime\", \"subject_name\"], inplace=True)"
   ]
  },
  {
   "cell_type": "code",
   "execution_count": null,
   "id": "89918f7f",
   "metadata": {},
   "outputs": [],
   "source": []
  },
  {
   "cell_type": "code",
   "execution_count": 134,
   "id": "7af435b3",
   "metadata": {
    "ExecuteTime": {
     "end_time": "2024-08-18T13:36:18.501517Z",
     "start_time": "2024-08-18T13:36:15.597025Z"
    }
   },
   "outputs": [],
   "source": [
    "main_df.dropna(inplace=True)"
   ]
  },
  {
   "cell_type": "code",
   "execution_count": null,
   "id": "87032938",
   "metadata": {},
   "outputs": [],
   "source": []
  },
  {
   "cell_type": "code",
   "execution_count": 136,
   "id": "99dfb02a",
   "metadata": {
    "ExecuteTime": {
     "end_time": "2024-08-18T13:36:54.953069Z",
     "start_time": "2024-08-18T13:36:35.834226Z"
    }
   },
   "outputs": [],
   "source": [
    "main_df.drop_duplicates(inplace=True)"
   ]
  },
  {
   "cell_type": "code",
   "execution_count": null,
   "id": "40e4965d",
   "metadata": {},
   "outputs": [],
   "source": []
  },
  {
   "cell_type": "code",
   "execution_count": 137,
   "id": "1e29b1bb",
   "metadata": {
    "ExecuteTime": {
     "end_time": "2024-08-18T13:37:02.102536Z",
     "start_time": "2024-08-18T13:37:01.116659Z"
    }
   },
   "outputs": [
    {
     "data": {
      "text/html": [
       "<div>\n",
       "<style scoped>\n",
       "    .dataframe tbody tr th:only-of-type {\n",
       "        vertical-align: middle;\n",
       "    }\n",
       "\n",
       "    .dataframe tbody tr th {\n",
       "        vertical-align: top;\n",
       "    }\n",
       "\n",
       "    .dataframe thead th {\n",
       "        text-align: right;\n",
       "    }\n",
       "</style>\n",
       "<table border=\"1\" class=\"dataframe\">\n",
       "  <thead>\n",
       "    <tr style=\"text-align: right;\">\n",
       "      <th></th>\n",
       "      <th>actual_consumption</th>\n",
       "      <th>year</th>\n",
       "      <th>month</th>\n",
       "      <th>day_of_month</th>\n",
       "      <th>hour</th>\n",
       "      <th>day_of_week</th>\n",
       "      <th>day_of_year</th>\n",
       "      <th>week_of_year</th>\n",
       "      <th>quarter</th>\n",
       "      <th>holiday</th>\n",
       "      <th>...</th>\n",
       "      <th>Чеченская Республика</th>\n",
       "      <th>Чувашская Республика - Чувашия</th>\n",
       "      <th>Южно-Якутский энергорайон</th>\n",
       "      <th>Ярославская область</th>\n",
       "      <th>lag_hour</th>\n",
       "      <th>lag_day</th>\n",
       "      <th>lag_week</th>\n",
       "      <th>lag_month</th>\n",
       "      <th>lag_year</th>\n",
       "      <th>time_dummi</th>\n",
       "    </tr>\n",
       "  </thead>\n",
       "  <tbody>\n",
       "    <tr>\n",
       "      <th>627481</th>\n",
       "      <td>1601.0</td>\n",
       "      <td>2012</td>\n",
       "      <td>2</td>\n",
       "      <td>19</td>\n",
       "      <td>8</td>\n",
       "      <td>7</td>\n",
       "      <td>50</td>\n",
       "      <td>7</td>\n",
       "      <td>3</td>\n",
       "      <td>0</td>\n",
       "      <td>...</td>\n",
       "      <td>0</td>\n",
       "      <td>0</td>\n",
       "      <td>0</td>\n",
       "      <td>0</td>\n",
       "      <td>1638.0</td>\n",
       "      <td>1676.0</td>\n",
       "      <td>1695.0</td>\n",
       "      <td>1375.0</td>\n",
       "      <td>1313.0</td>\n",
       "      <td>8767</td>\n",
       "    </tr>\n",
       "    <tr>\n",
       "      <th>627482</th>\n",
       "      <td>1002.0</td>\n",
       "      <td>2012</td>\n",
       "      <td>2</td>\n",
       "      <td>19</td>\n",
       "      <td>8</td>\n",
       "      <td>7</td>\n",
       "      <td>50</td>\n",
       "      <td>7</td>\n",
       "      <td>3</td>\n",
       "      <td>0</td>\n",
       "      <td>...</td>\n",
       "      <td>0</td>\n",
       "      <td>0</td>\n",
       "      <td>0</td>\n",
       "      <td>0</td>\n",
       "      <td>999.0</td>\n",
       "      <td>1026.0</td>\n",
       "      <td>1121.0</td>\n",
       "      <td>1062.0</td>\n",
       "      <td>870.0</td>\n",
       "      <td>8767</td>\n",
       "    </tr>\n",
       "    <tr>\n",
       "      <th>627483</th>\n",
       "      <td>981.0</td>\n",
       "      <td>2012</td>\n",
       "      <td>2</td>\n",
       "      <td>19</td>\n",
       "      <td>8</td>\n",
       "      <td>7</td>\n",
       "      <td>50</td>\n",
       "      <td>7</td>\n",
       "      <td>3</td>\n",
       "      <td>0</td>\n",
       "      <td>...</td>\n",
       "      <td>0</td>\n",
       "      <td>0</td>\n",
       "      <td>0</td>\n",
       "      <td>0</td>\n",
       "      <td>952.0</td>\n",
       "      <td>1044.0</td>\n",
       "      <td>1030.0</td>\n",
       "      <td>909.0</td>\n",
       "      <td>970.0</td>\n",
       "      <td>8767</td>\n",
       "    </tr>\n",
       "    <tr>\n",
       "      <th>627484</th>\n",
       "      <td>658.0</td>\n",
       "      <td>2012</td>\n",
       "      <td>2</td>\n",
       "      <td>19</td>\n",
       "      <td>8</td>\n",
       "      <td>7</td>\n",
       "      <td>50</td>\n",
       "      <td>7</td>\n",
       "      <td>3</td>\n",
       "      <td>0</td>\n",
       "      <td>...</td>\n",
       "      <td>0</td>\n",
       "      <td>0</td>\n",
       "      <td>0</td>\n",
       "      <td>0</td>\n",
       "      <td>631.0</td>\n",
       "      <td>674.0</td>\n",
       "      <td>731.0</td>\n",
       "      <td>550.0</td>\n",
       "      <td>504.0</td>\n",
       "      <td>8767</td>\n",
       "    </tr>\n",
       "    <tr>\n",
       "      <th>627485</th>\n",
       "      <td>1738.0</td>\n",
       "      <td>2012</td>\n",
       "      <td>2</td>\n",
       "      <td>19</td>\n",
       "      <td>8</td>\n",
       "      <td>7</td>\n",
       "      <td>50</td>\n",
       "      <td>7</td>\n",
       "      <td>3</td>\n",
       "      <td>0</td>\n",
       "      <td>...</td>\n",
       "      <td>0</td>\n",
       "      <td>0</td>\n",
       "      <td>0</td>\n",
       "      <td>0</td>\n",
       "      <td>1669.0</td>\n",
       "      <td>1748.0</td>\n",
       "      <td>1896.0</td>\n",
       "      <td>1873.0</td>\n",
       "      <td>1592.0</td>\n",
       "      <td>8767</td>\n",
       "    </tr>\n",
       "    <tr>\n",
       "      <th>...</th>\n",
       "      <td>...</td>\n",
       "      <td>...</td>\n",
       "      <td>...</td>\n",
       "      <td>...</td>\n",
       "      <td>...</td>\n",
       "      <td>...</td>\n",
       "      <td>...</td>\n",
       "      <td>...</td>\n",
       "      <td>...</td>\n",
       "      <td>...</td>\n",
       "      <td>...</td>\n",
       "      <td>...</td>\n",
       "      <td>...</td>\n",
       "      <td>...</td>\n",
       "      <td>...</td>\n",
       "      <td>...</td>\n",
       "      <td>...</td>\n",
       "      <td>...</td>\n",
       "      <td>...</td>\n",
       "      <td>...</td>\n",
       "      <td>...</td>\n",
       "    </tr>\n",
       "    <tr>\n",
       "      <th>8536867</th>\n",
       "      <td>4251.0</td>\n",
       "      <td>2024</td>\n",
       "      <td>8</td>\n",
       "      <td>18</td>\n",
       "      <td>11</td>\n",
       "      <td>7</td>\n",
       "      <td>231</td>\n",
       "      <td>33</td>\n",
       "      <td>3</td>\n",
       "      <td>0</td>\n",
       "      <td>...</td>\n",
       "      <td>0</td>\n",
       "      <td>0</td>\n",
       "      <td>0</td>\n",
       "      <td>0</td>\n",
       "      <td>4179.0</td>\n",
       "      <td>4186.0</td>\n",
       "      <td>4120.0</td>\n",
       "      <td>3910.0</td>\n",
       "      <td>4377.0</td>\n",
       "      <td>116582</td>\n",
       "    </tr>\n",
       "    <tr>\n",
       "      <th>8536868</th>\n",
       "      <td>439.0</td>\n",
       "      <td>2024</td>\n",
       "      <td>8</td>\n",
       "      <td>18</td>\n",
       "      <td>11</td>\n",
       "      <td>7</td>\n",
       "      <td>231</td>\n",
       "      <td>33</td>\n",
       "      <td>3</td>\n",
       "      <td>0</td>\n",
       "      <td>...</td>\n",
       "      <td>1</td>\n",
       "      <td>0</td>\n",
       "      <td>0</td>\n",
       "      <td>0</td>\n",
       "      <td>422.0</td>\n",
       "      <td>462.0</td>\n",
       "      <td>550.0</td>\n",
       "      <td>360.0</td>\n",
       "      <td>528.0</td>\n",
       "      <td>116576</td>\n",
       "    </tr>\n",
       "    <tr>\n",
       "      <th>8536869</th>\n",
       "      <td>529.0</td>\n",
       "      <td>2024</td>\n",
       "      <td>8</td>\n",
       "      <td>18</td>\n",
       "      <td>11</td>\n",
       "      <td>7</td>\n",
       "      <td>231</td>\n",
       "      <td>33</td>\n",
       "      <td>3</td>\n",
       "      <td>0</td>\n",
       "      <td>...</td>\n",
       "      <td>0</td>\n",
       "      <td>1</td>\n",
       "      <td>0</td>\n",
       "      <td>0</td>\n",
       "      <td>537.0</td>\n",
       "      <td>616.0</td>\n",
       "      <td>520.0</td>\n",
       "      <td>465.0</td>\n",
       "      <td>657.0</td>\n",
       "      <td>116585</td>\n",
       "    </tr>\n",
       "    <tr>\n",
       "      <th>8536870</th>\n",
       "      <td>366.0</td>\n",
       "      <td>2024</td>\n",
       "      <td>8</td>\n",
       "      <td>18</td>\n",
       "      <td>11</td>\n",
       "      <td>7</td>\n",
       "      <td>231</td>\n",
       "      <td>33</td>\n",
       "      <td>3</td>\n",
       "      <td>0</td>\n",
       "      <td>...</td>\n",
       "      <td>0</td>\n",
       "      <td>0</td>\n",
       "      <td>1</td>\n",
       "      <td>0</td>\n",
       "      <td>366.0</td>\n",
       "      <td>354.0</td>\n",
       "      <td>363.0</td>\n",
       "      <td>345.0</td>\n",
       "      <td>325.0</td>\n",
       "      <td>116580</td>\n",
       "    </tr>\n",
       "    <tr>\n",
       "      <th>8536871</th>\n",
       "      <td>850.0</td>\n",
       "      <td>2024</td>\n",
       "      <td>8</td>\n",
       "      <td>18</td>\n",
       "      <td>11</td>\n",
       "      <td>7</td>\n",
       "      <td>231</td>\n",
       "      <td>33</td>\n",
       "      <td>3</td>\n",
       "      <td>0</td>\n",
       "      <td>...</td>\n",
       "      <td>0</td>\n",
       "      <td>0</td>\n",
       "      <td>0</td>\n",
       "      <td>1</td>\n",
       "      <td>864.0</td>\n",
       "      <td>925.0</td>\n",
       "      <td>861.0</td>\n",
       "      <td>714.0</td>\n",
       "      <td>977.0</td>\n",
       "      <td>116583</td>\n",
       "    </tr>\n",
       "  </tbody>\n",
       "</table>\n",
       "<p>7879422 rows × 91 columns</p>\n",
       "</div>"
      ],
      "text/plain": [
       "         actual_consumption  year  month  day_of_month  hour  day_of_week  \\\n",
       "627481               1601.0  2012      2            19     8            7   \n",
       "627482               1002.0  2012      2            19     8            7   \n",
       "627483                981.0  2012      2            19     8            7   \n",
       "627484                658.0  2012      2            19     8            7   \n",
       "627485               1738.0  2012      2            19     8            7   \n",
       "...                     ...   ...    ...           ...   ...          ...   \n",
       "8536867              4251.0  2024      8            18    11            7   \n",
       "8536868               439.0  2024      8            18    11            7   \n",
       "8536869               529.0  2024      8            18    11            7   \n",
       "8536870               366.0  2024      8            18    11            7   \n",
       "8536871               850.0  2024      8            18    11            7   \n",
       "\n",
       "         day_of_year  week_of_year  quarter  holiday  ...  \\\n",
       "627481            50             7        3        0  ...   \n",
       "627482            50             7        3        0  ...   \n",
       "627483            50             7        3        0  ...   \n",
       "627484            50             7        3        0  ...   \n",
       "627485            50             7        3        0  ...   \n",
       "...              ...           ...      ...      ...  ...   \n",
       "8536867          231            33        3        0  ...   \n",
       "8536868          231            33        3        0  ...   \n",
       "8536869          231            33        3        0  ...   \n",
       "8536870          231            33        3        0  ...   \n",
       "8536871          231            33        3        0  ...   \n",
       "\n",
       "         Чеченская Республика  Чувашская Республика - Чувашия  \\\n",
       "627481                      0                               0   \n",
       "627482                      0                               0   \n",
       "627483                      0                               0   \n",
       "627484                      0                               0   \n",
       "627485                      0                               0   \n",
       "...                       ...                             ...   \n",
       "8536867                     0                               0   \n",
       "8536868                     1                               0   \n",
       "8536869                     0                               1   \n",
       "8536870                     0                               0   \n",
       "8536871                     0                               0   \n",
       "\n",
       "         Южно-Якутский энергорайон  Ярославская область  lag_hour  lag_day  \\\n",
       "627481                           0                    0    1638.0   1676.0   \n",
       "627482                           0                    0     999.0   1026.0   \n",
       "627483                           0                    0     952.0   1044.0   \n",
       "627484                           0                    0     631.0    674.0   \n",
       "627485                           0                    0    1669.0   1748.0   \n",
       "...                            ...                  ...       ...      ...   \n",
       "8536867                          0                    0    4179.0   4186.0   \n",
       "8536868                          0                    0     422.0    462.0   \n",
       "8536869                          0                    0     537.0    616.0   \n",
       "8536870                          1                    0     366.0    354.0   \n",
       "8536871                          0                    1     864.0    925.0   \n",
       "\n",
       "         lag_week  lag_month  lag_year  time_dummi  \n",
       "627481     1695.0     1375.0    1313.0        8767  \n",
       "627482     1121.0     1062.0     870.0        8767  \n",
       "627483     1030.0      909.0     970.0        8767  \n",
       "627484      731.0      550.0     504.0        8767  \n",
       "627485     1896.0     1873.0    1592.0        8767  \n",
       "...           ...        ...       ...         ...  \n",
       "8536867    4120.0     3910.0    4377.0      116582  \n",
       "8536868     550.0      360.0     528.0      116576  \n",
       "8536869     520.0      465.0     657.0      116585  \n",
       "8536870     363.0      345.0     325.0      116580  \n",
       "8536871     861.0      714.0     977.0      116583  \n",
       "\n",
       "[7879422 rows x 91 columns]"
      ]
     },
     "execution_count": 137,
     "metadata": {},
     "output_type": "execute_result"
    }
   ],
   "source": [
    "main_df"
   ]
  },
  {
   "cell_type": "code",
   "execution_count": null,
   "id": "81e7ac98",
   "metadata": {},
   "outputs": [],
   "source": []
  },
  {
   "cell_type": "code",
   "execution_count": 141,
   "id": "f1515542",
   "metadata": {
    "ExecuteTime": {
     "end_time": "2024-08-18T13:41:27.574784Z",
     "start_time": "2024-08-18T13:40:24.180367Z"
    }
   },
   "outputs": [],
   "source": [
    "main_df[\"subject_name\"] = decoding(main_df[uniq_subjs])"
   ]
  },
  {
   "cell_type": "code",
   "execution_count": null,
   "id": "25a5de31",
   "metadata": {},
   "outputs": [],
   "source": []
  },
  {
   "cell_type": "code",
   "execution_count": 142,
   "id": "6353b886",
   "metadata": {
    "ExecuteTime": {
     "end_time": "2024-08-18T13:42:24.866576Z",
     "start_time": "2024-08-18T13:41:27.577363Z"
    }
   },
   "outputs": [],
   "source": [
    "main_df[\"time_dummie\"] = create_time_dummie_feature(main_df)"
   ]
  },
  {
   "cell_type": "code",
   "execution_count": null,
   "id": "68d660d6",
   "metadata": {},
   "outputs": [],
   "source": []
  },
  {
   "cell_type": "code",
   "execution_count": 143,
   "id": "a4aa4f48",
   "metadata": {
    "ExecuteTime": {
     "end_time": "2024-08-18T13:42:25.585286Z",
     "start_time": "2024-08-18T13:42:24.869532Z"
    }
   },
   "outputs": [],
   "source": [
    "main_df.drop(columns=[\"subject_name\"], inplace=True)"
   ]
  },
  {
   "cell_type": "code",
   "execution_count": null,
   "id": "e21c7f89",
   "metadata": {},
   "outputs": [],
   "source": []
  },
  {
   "cell_type": "code",
   "execution_count": 146,
   "id": "d1ec6212",
   "metadata": {
    "ExecuteTime": {
     "end_time": "2024-08-18T13:44:01.365012Z",
     "start_time": "2024-08-18T13:44:00.805665Z"
    }
   },
   "outputs": [],
   "source": [
    "main_df.drop([\"time_dummie\"], axis=1, inplace=True)"
   ]
  },
  {
   "cell_type": "code",
   "execution_count": null,
   "id": "520ee94e",
   "metadata": {},
   "outputs": [],
   "source": []
  },
  {
   "cell_type": "code",
   "execution_count": 151,
   "id": "c7dc2142",
   "metadata": {
    "ExecuteTime": {
     "end_time": "2024-08-18T13:44:19.665116Z",
     "start_time": "2024-08-18T13:44:19.150345Z"
    }
   },
   "outputs": [],
   "source": [
    "main_df.drop([\"time_dummi\"], axis=1, inplace=True)"
   ]
  },
  {
   "cell_type": "code",
   "execution_count": null,
   "id": "6751baaa",
   "metadata": {},
   "outputs": [],
   "source": []
  },
  {
   "cell_type": "code",
   "execution_count": 156,
   "id": "929b69ca",
   "metadata": {
    "ExecuteTime": {
     "end_time": "2024-08-18T13:49:15.079380Z",
     "start_time": "2024-08-18T13:48:13.712756Z"
    }
   },
   "outputs": [],
   "source": [
    "main_df[\"subject_name\"] = decoding(main_df[uniq_subjs])"
   ]
  },
  {
   "cell_type": "code",
   "execution_count": null,
   "id": "9da2a2a0",
   "metadata": {},
   "outputs": [],
   "source": []
  },
  {
   "cell_type": "code",
   "execution_count": 161,
   "id": "e7d8f4ca",
   "metadata": {
    "ExecuteTime": {
     "end_time": "2024-08-18T13:51:02.436344Z",
     "start_time": "2024-08-18T13:51:02.431225Z"
    }
   },
   "outputs": [
    {
     "data": {
      "text/plain": [
       "Index(['actual_consumption', 'day_of_month', 'day_of_week', 'day_of_year',\n",
       "       'holiday', 'hour', 'lag_day', 'lag_hour', 'lag_month', 'lag_week',\n",
       "       'lag_year', 'month', 'quarter', 'week_of_year', 'year',\n",
       "       'Алтайский край', 'Амурская область', 'Архангельская область',\n",
       "       'Астраханская область', 'Белгородская область', 'Брянская область',\n",
       "       'Владимирская область', 'Волгоградская область', 'Вологодская область',\n",
       "       'Воронежская область', 'Еврейская автономная область',\n",
       "       'Забайкальский край', 'Западный энергорайон Якутии',\n",
       "       'Ивановская область', 'Иркутская область',\n",
       "       'Кабардино-Балкарская Республика', 'Калининградская область',\n",
       "       'Калужская область', 'Карачаево-Черкесская Республика',\n",
       "       'Кемеровская область - Кузбасс', 'Кировская область',\n",
       "       'Костромская область', 'Краснодарский край', 'Красноярский край',\n",
       "       'Курганская область', 'Курская область', 'Ленинградская область',\n",
       "       'Липецкая область', 'Московская область', 'Мурманская область',\n",
       "       'Нижегородская область', 'Новгородская область',\n",
       "       'Новосибирская область', 'ОЭР Хабаровского края', 'Омская область',\n",
       "       'Оренбургская область', 'Орловская область', 'Пензенская область',\n",
       "       'Пермский край', 'Приморский край', 'Псковская область',\n",
       "       'Республика Башкортостан', 'Республика Бурятия', 'Республика Дагестан',\n",
       "       'Республика Ингушетия', 'Республика Калмыкия', 'Республика Карелия',\n",
       "       'Республика Коми', 'Республика Крым', 'Республика Марий Эл',\n",
       "       'Республика Мордовия', 'Республика Северная Осетия-Алания',\n",
       "       'Республика Татарстан (Татарстан)', 'Республика Тыва',\n",
       "       'Республика Хакасия', 'Ростовская область', 'Рязанская область',\n",
       "       'Самарская область', 'Саратовская область', 'Свердловская область',\n",
       "       'Смоленская область', 'Ставропольский край', 'Тамбовская область',\n",
       "       'Тверская область', 'Томская область', 'Тульская область',\n",
       "       'Тюменская область', 'Удмуртская Республика', 'Ульяновская область',\n",
       "       'Центральный энергорайон Якутии', 'Челябинская область',\n",
       "       'Чеченская Республика', 'Чувашская Республика - Чувашия',\n",
       "       'Южно-Якутский энергорайон', 'Ярославская область', 'subject_name'],\n",
       "      dtype='object')"
      ]
     },
     "execution_count": 161,
     "metadata": {},
     "output_type": "execute_result"
    }
   ],
   "source": [
    "main_df.columns"
   ]
  },
  {
   "cell_type": "code",
   "execution_count": null,
   "id": "69729cda",
   "metadata": {},
   "outputs": [],
   "source": []
  },
  {
   "cell_type": "code",
   "execution_count": 163,
   "id": "c7ad225a",
   "metadata": {
    "ExecuteTime": {
     "end_time": "2024-08-18T13:51:27.858985Z",
     "start_time": "2024-08-18T13:51:26.593077Z"
    }
   },
   "outputs": [
    {
     "data": {
      "text/html": [
       "<div>\n",
       "<style scoped>\n",
       "    .dataframe tbody tr th:only-of-type {\n",
       "        vertical-align: middle;\n",
       "    }\n",
       "\n",
       "    .dataframe tbody tr th {\n",
       "        vertical-align: top;\n",
       "    }\n",
       "\n",
       "    .dataframe thead th {\n",
       "        text-align: right;\n",
       "    }\n",
       "</style>\n",
       "<table border=\"1\" class=\"dataframe\">\n",
       "  <thead>\n",
       "    <tr style=\"text-align: right;\">\n",
       "      <th></th>\n",
       "      <th>actual_consumption</th>\n",
       "      <th>day_of_month</th>\n",
       "      <th>day_of_week</th>\n",
       "      <th>day_of_year</th>\n",
       "      <th>holiday</th>\n",
       "      <th>hour</th>\n",
       "      <th>lag_day</th>\n",
       "      <th>lag_hour</th>\n",
       "      <th>lag_month</th>\n",
       "      <th>lag_week</th>\n",
       "      <th>...</th>\n",
       "      <th>Тульская область</th>\n",
       "      <th>Тюменская область</th>\n",
       "      <th>Удмуртская Республика</th>\n",
       "      <th>Ульяновская область</th>\n",
       "      <th>Центральный энергорайон Якутии</th>\n",
       "      <th>Челябинская область</th>\n",
       "      <th>Чеченская Республика</th>\n",
       "      <th>Чувашская Республика - Чувашия</th>\n",
       "      <th>Южно-Якутский энергорайон</th>\n",
       "      <th>Ярославская область</th>\n",
       "    </tr>\n",
       "  </thead>\n",
       "  <tbody>\n",
       "    <tr>\n",
       "      <th>627481</th>\n",
       "      <td>1601.0</td>\n",
       "      <td>19</td>\n",
       "      <td>7</td>\n",
       "      <td>50</td>\n",
       "      <td>0</td>\n",
       "      <td>8</td>\n",
       "      <td>1676.0</td>\n",
       "      <td>1638.0</td>\n",
       "      <td>1375.0</td>\n",
       "      <td>1695.0</td>\n",
       "      <td>...</td>\n",
       "      <td>0</td>\n",
       "      <td>0</td>\n",
       "      <td>0</td>\n",
       "      <td>0</td>\n",
       "      <td>0</td>\n",
       "      <td>0</td>\n",
       "      <td>0</td>\n",
       "      <td>0</td>\n",
       "      <td>0</td>\n",
       "      <td>0</td>\n",
       "    </tr>\n",
       "    <tr>\n",
       "      <th>627482</th>\n",
       "      <td>1002.0</td>\n",
       "      <td>19</td>\n",
       "      <td>7</td>\n",
       "      <td>50</td>\n",
       "      <td>0</td>\n",
       "      <td>8</td>\n",
       "      <td>1026.0</td>\n",
       "      <td>999.0</td>\n",
       "      <td>1062.0</td>\n",
       "      <td>1121.0</td>\n",
       "      <td>...</td>\n",
       "      <td>0</td>\n",
       "      <td>0</td>\n",
       "      <td>0</td>\n",
       "      <td>0</td>\n",
       "      <td>0</td>\n",
       "      <td>0</td>\n",
       "      <td>0</td>\n",
       "      <td>0</td>\n",
       "      <td>0</td>\n",
       "      <td>0</td>\n",
       "    </tr>\n",
       "    <tr>\n",
       "      <th>627483</th>\n",
       "      <td>981.0</td>\n",
       "      <td>19</td>\n",
       "      <td>7</td>\n",
       "      <td>50</td>\n",
       "      <td>0</td>\n",
       "      <td>8</td>\n",
       "      <td>1044.0</td>\n",
       "      <td>952.0</td>\n",
       "      <td>909.0</td>\n",
       "      <td>1030.0</td>\n",
       "      <td>...</td>\n",
       "      <td>0</td>\n",
       "      <td>0</td>\n",
       "      <td>0</td>\n",
       "      <td>0</td>\n",
       "      <td>0</td>\n",
       "      <td>0</td>\n",
       "      <td>0</td>\n",
       "      <td>0</td>\n",
       "      <td>0</td>\n",
       "      <td>0</td>\n",
       "    </tr>\n",
       "    <tr>\n",
       "      <th>627484</th>\n",
       "      <td>658.0</td>\n",
       "      <td>19</td>\n",
       "      <td>7</td>\n",
       "      <td>50</td>\n",
       "      <td>0</td>\n",
       "      <td>8</td>\n",
       "      <td>674.0</td>\n",
       "      <td>631.0</td>\n",
       "      <td>550.0</td>\n",
       "      <td>731.0</td>\n",
       "      <td>...</td>\n",
       "      <td>0</td>\n",
       "      <td>0</td>\n",
       "      <td>0</td>\n",
       "      <td>0</td>\n",
       "      <td>0</td>\n",
       "      <td>0</td>\n",
       "      <td>0</td>\n",
       "      <td>0</td>\n",
       "      <td>0</td>\n",
       "      <td>0</td>\n",
       "    </tr>\n",
       "    <tr>\n",
       "      <th>627485</th>\n",
       "      <td>1738.0</td>\n",
       "      <td>19</td>\n",
       "      <td>7</td>\n",
       "      <td>50</td>\n",
       "      <td>0</td>\n",
       "      <td>8</td>\n",
       "      <td>1748.0</td>\n",
       "      <td>1669.0</td>\n",
       "      <td>1873.0</td>\n",
       "      <td>1896.0</td>\n",
       "      <td>...</td>\n",
       "      <td>0</td>\n",
       "      <td>0</td>\n",
       "      <td>0</td>\n",
       "      <td>0</td>\n",
       "      <td>0</td>\n",
       "      <td>0</td>\n",
       "      <td>0</td>\n",
       "      <td>0</td>\n",
       "      <td>0</td>\n",
       "      <td>0</td>\n",
       "    </tr>\n",
       "    <tr>\n",
       "      <th>...</th>\n",
       "      <td>...</td>\n",
       "      <td>...</td>\n",
       "      <td>...</td>\n",
       "      <td>...</td>\n",
       "      <td>...</td>\n",
       "      <td>...</td>\n",
       "      <td>...</td>\n",
       "      <td>...</td>\n",
       "      <td>...</td>\n",
       "      <td>...</td>\n",
       "      <td>...</td>\n",
       "      <td>...</td>\n",
       "      <td>...</td>\n",
       "      <td>...</td>\n",
       "      <td>...</td>\n",
       "      <td>...</td>\n",
       "      <td>...</td>\n",
       "      <td>...</td>\n",
       "      <td>...</td>\n",
       "      <td>...</td>\n",
       "      <td>...</td>\n",
       "    </tr>\n",
       "    <tr>\n",
       "      <th>8536867</th>\n",
       "      <td>4251.0</td>\n",
       "      <td>18</td>\n",
       "      <td>7</td>\n",
       "      <td>231</td>\n",
       "      <td>0</td>\n",
       "      <td>11</td>\n",
       "      <td>4186.0</td>\n",
       "      <td>4179.0</td>\n",
       "      <td>3910.0</td>\n",
       "      <td>4120.0</td>\n",
       "      <td>...</td>\n",
       "      <td>0</td>\n",
       "      <td>0</td>\n",
       "      <td>0</td>\n",
       "      <td>0</td>\n",
       "      <td>0</td>\n",
       "      <td>1</td>\n",
       "      <td>0</td>\n",
       "      <td>0</td>\n",
       "      <td>0</td>\n",
       "      <td>0</td>\n",
       "    </tr>\n",
       "    <tr>\n",
       "      <th>8536868</th>\n",
       "      <td>439.0</td>\n",
       "      <td>18</td>\n",
       "      <td>7</td>\n",
       "      <td>231</td>\n",
       "      <td>0</td>\n",
       "      <td>11</td>\n",
       "      <td>462.0</td>\n",
       "      <td>422.0</td>\n",
       "      <td>360.0</td>\n",
       "      <td>550.0</td>\n",
       "      <td>...</td>\n",
       "      <td>0</td>\n",
       "      <td>0</td>\n",
       "      <td>0</td>\n",
       "      <td>0</td>\n",
       "      <td>0</td>\n",
       "      <td>0</td>\n",
       "      <td>1</td>\n",
       "      <td>0</td>\n",
       "      <td>0</td>\n",
       "      <td>0</td>\n",
       "    </tr>\n",
       "    <tr>\n",
       "      <th>8536869</th>\n",
       "      <td>529.0</td>\n",
       "      <td>18</td>\n",
       "      <td>7</td>\n",
       "      <td>231</td>\n",
       "      <td>0</td>\n",
       "      <td>11</td>\n",
       "      <td>616.0</td>\n",
       "      <td>537.0</td>\n",
       "      <td>465.0</td>\n",
       "      <td>520.0</td>\n",
       "      <td>...</td>\n",
       "      <td>0</td>\n",
       "      <td>0</td>\n",
       "      <td>0</td>\n",
       "      <td>0</td>\n",
       "      <td>0</td>\n",
       "      <td>0</td>\n",
       "      <td>0</td>\n",
       "      <td>1</td>\n",
       "      <td>0</td>\n",
       "      <td>0</td>\n",
       "    </tr>\n",
       "    <tr>\n",
       "      <th>8536870</th>\n",
       "      <td>366.0</td>\n",
       "      <td>18</td>\n",
       "      <td>7</td>\n",
       "      <td>231</td>\n",
       "      <td>0</td>\n",
       "      <td>11</td>\n",
       "      <td>354.0</td>\n",
       "      <td>366.0</td>\n",
       "      <td>345.0</td>\n",
       "      <td>363.0</td>\n",
       "      <td>...</td>\n",
       "      <td>0</td>\n",
       "      <td>0</td>\n",
       "      <td>0</td>\n",
       "      <td>0</td>\n",
       "      <td>0</td>\n",
       "      <td>0</td>\n",
       "      <td>0</td>\n",
       "      <td>0</td>\n",
       "      <td>1</td>\n",
       "      <td>0</td>\n",
       "    </tr>\n",
       "    <tr>\n",
       "      <th>8536871</th>\n",
       "      <td>850.0</td>\n",
       "      <td>18</td>\n",
       "      <td>7</td>\n",
       "      <td>231</td>\n",
       "      <td>0</td>\n",
       "      <td>11</td>\n",
       "      <td>925.0</td>\n",
       "      <td>864.0</td>\n",
       "      <td>714.0</td>\n",
       "      <td>861.0</td>\n",
       "      <td>...</td>\n",
       "      <td>0</td>\n",
       "      <td>0</td>\n",
       "      <td>0</td>\n",
       "      <td>0</td>\n",
       "      <td>0</td>\n",
       "      <td>0</td>\n",
       "      <td>0</td>\n",
       "      <td>0</td>\n",
       "      <td>0</td>\n",
       "      <td>1</td>\n",
       "    </tr>\n",
       "  </tbody>\n",
       "</table>\n",
       "<p>7879422 rows × 90 columns</p>\n",
       "</div>"
      ],
      "text/plain": [
       "         actual_consumption  day_of_month  day_of_week  day_of_year  holiday  \\\n",
       "627481               1601.0            19            7           50        0   \n",
       "627482               1002.0            19            7           50        0   \n",
       "627483                981.0            19            7           50        0   \n",
       "627484                658.0            19            7           50        0   \n",
       "627485               1738.0            19            7           50        0   \n",
       "...                     ...           ...          ...          ...      ...   \n",
       "8536867              4251.0            18            7          231        0   \n",
       "8536868               439.0            18            7          231        0   \n",
       "8536869               529.0            18            7          231        0   \n",
       "8536870               366.0            18            7          231        0   \n",
       "8536871               850.0            18            7          231        0   \n",
       "\n",
       "         hour  lag_day  lag_hour  lag_month  lag_week  ...  Тульская область  \\\n",
       "627481      8   1676.0    1638.0     1375.0    1695.0  ...                 0   \n",
       "627482      8   1026.0     999.0     1062.0    1121.0  ...                 0   \n",
       "627483      8   1044.0     952.0      909.0    1030.0  ...                 0   \n",
       "627484      8    674.0     631.0      550.0     731.0  ...                 0   \n",
       "627485      8   1748.0    1669.0     1873.0    1896.0  ...                 0   \n",
       "...       ...      ...       ...        ...       ...  ...               ...   \n",
       "8536867    11   4186.0    4179.0     3910.0    4120.0  ...                 0   \n",
       "8536868    11    462.0     422.0      360.0     550.0  ...                 0   \n",
       "8536869    11    616.0     537.0      465.0     520.0  ...                 0   \n",
       "8536870    11    354.0     366.0      345.0     363.0  ...                 0   \n",
       "8536871    11    925.0     864.0      714.0     861.0  ...                 0   \n",
       "\n",
       "         Тюменская область  Удмуртская Республика  Ульяновская область  \\\n",
       "627481                   0                      0                    0   \n",
       "627482                   0                      0                    0   \n",
       "627483                   0                      0                    0   \n",
       "627484                   0                      0                    0   \n",
       "627485                   0                      0                    0   \n",
       "...                    ...                    ...                  ...   \n",
       "8536867                  0                      0                    0   \n",
       "8536868                  0                      0                    0   \n",
       "8536869                  0                      0                    0   \n",
       "8536870                  0                      0                    0   \n",
       "8536871                  0                      0                    0   \n",
       "\n",
       "         Центральный энергорайон Якутии  Челябинская область  \\\n",
       "627481                                0                    0   \n",
       "627482                                0                    0   \n",
       "627483                                0                    0   \n",
       "627484                                0                    0   \n",
       "627485                                0                    0   \n",
       "...                                 ...                  ...   \n",
       "8536867                               0                    1   \n",
       "8536868                               0                    0   \n",
       "8536869                               0                    0   \n",
       "8536870                               0                    0   \n",
       "8536871                               0                    0   \n",
       "\n",
       "         Чеченская Республика  Чувашская Республика - Чувашия  \\\n",
       "627481                      0                               0   \n",
       "627482                      0                               0   \n",
       "627483                      0                               0   \n",
       "627484                      0                               0   \n",
       "627485                      0                               0   \n",
       "...                       ...                             ...   \n",
       "8536867                     0                               0   \n",
       "8536868                     1                               0   \n",
       "8536869                     0                               1   \n",
       "8536870                     0                               0   \n",
       "8536871                     0                               0   \n",
       "\n",
       "         Южно-Якутский энергорайон  Ярославская область  \n",
       "627481                           0                    0  \n",
       "627482                           0                    0  \n",
       "627483                           0                    0  \n",
       "627484                           0                    0  \n",
       "627485                           0                    0  \n",
       "...                            ...                  ...  \n",
       "8536867                          0                    0  \n",
       "8536868                          0                    0  \n",
       "8536869                          0                    0  \n",
       "8536870                          1                    0  \n",
       "8536871                          0                    1  \n",
       "\n",
       "[7879422 rows x 90 columns]"
      ]
     },
     "execution_count": 163,
     "metadata": {},
     "output_type": "execute_result"
    }
   ],
   "source": [
    "main_df.drop(columns=[\"subject_name\"])"
   ]
  },
  {
   "cell_type": "code",
   "execution_count": null,
   "id": "3566ad72",
   "metadata": {},
   "outputs": [],
   "source": []
  },
  {
   "cell_type": "code",
   "execution_count": 164,
   "id": "98c4a2c5",
   "metadata": {
    "ExecuteTime": {
     "end_time": "2024-08-18T13:51:38.766027Z",
     "start_time": "2024-08-18T13:51:37.729882Z"
    }
   },
   "outputs": [
    {
     "ename": "KeyError",
     "evalue": "'subject_name'",
     "output_type": "error",
     "traceback": [
      "\u001b[1;31m---------------------------------------------------------------------------\u001b[0m",
      "\u001b[1;31mKeyError\u001b[0m                                  Traceback (most recent call last)",
      "File \u001b[1;32m~\\anaconda3\\Lib\\site-packages\\pandas\\core\\indexes\\base.py:3802\u001b[0m, in \u001b[0;36mIndex.get_loc\u001b[1;34m(self, key, method, tolerance)\u001b[0m\n\u001b[0;32m   3801\u001b[0m \u001b[38;5;28;01mtry\u001b[39;00m:\n\u001b[1;32m-> 3802\u001b[0m     \u001b[38;5;28;01mreturn\u001b[39;00m \u001b[38;5;28mself\u001b[39m\u001b[38;5;241m.\u001b[39m_engine\u001b[38;5;241m.\u001b[39mget_loc(casted_key)\n\u001b[0;32m   3803\u001b[0m \u001b[38;5;28;01mexcept\u001b[39;00m \u001b[38;5;167;01mKeyError\u001b[39;00m \u001b[38;5;28;01mas\u001b[39;00m err:\n",
      "File \u001b[1;32m~\\anaconda3\\Lib\\site-packages\\pandas\\_libs\\index.pyx:138\u001b[0m, in \u001b[0;36mpandas._libs.index.IndexEngine.get_loc\u001b[1;34m()\u001b[0m\n",
      "File \u001b[1;32m~\\anaconda3\\Lib\\site-packages\\pandas\\_libs\\index.pyx:165\u001b[0m, in \u001b[0;36mpandas._libs.index.IndexEngine.get_loc\u001b[1;34m()\u001b[0m\n",
      "File \u001b[1;32mpandas\\_libs\\hashtable_class_helper.pxi:5745\u001b[0m, in \u001b[0;36mpandas._libs.hashtable.PyObjectHashTable.get_item\u001b[1;34m()\u001b[0m\n",
      "File \u001b[1;32mpandas\\_libs\\hashtable_class_helper.pxi:5753\u001b[0m, in \u001b[0;36mpandas._libs.hashtable.PyObjectHashTable.get_item\u001b[1;34m()\u001b[0m\n",
      "\u001b[1;31mKeyError\u001b[0m: 'subject_name'",
      "\nThe above exception was the direct cause of the following exception:\n",
      "\u001b[1;31mKeyError\u001b[0m                                  Traceback (most recent call last)",
      "Cell \u001b[1;32mIn[164], line 1\u001b[0m\n\u001b[1;32m----> 1\u001b[0m main_df[\u001b[38;5;124m\"\u001b[39m\u001b[38;5;124mtime_dummie\u001b[39m\u001b[38;5;124m\"\u001b[39m] \u001b[38;5;241m=\u001b[39m create_time_dummie_feature(main_df\u001b[38;5;241m.\u001b[39mdrop(columns\u001b[38;5;241m=\u001b[39m[\u001b[38;5;124m\"\u001b[39m\u001b[38;5;124msubject_name\u001b[39m\u001b[38;5;124m\"\u001b[39m])[uniq_subjs])\n",
      "File \u001b[1;32m~\\Documents\\Jupyter\\ПИКОВЫЕ_ЧАСЫ\\src\\parsing\\preset.py:371\u001b[0m, in \u001b[0;36mcreate_time_dummie_feature\u001b[1;34m(df, start_index)\u001b[0m\n\u001b[0;32m    367\u001b[0m     start_index \u001b[38;5;241m=\u001b[39m \u001b[38;5;241m0\u001b[39m\n\u001b[0;32m    369\u001b[0m temp_df \u001b[38;5;241m=\u001b[39m pd\u001b[38;5;241m.\u001b[39mDataFrame()\n\u001b[1;32m--> 371\u001b[0m \u001b[38;5;28;01mfor\u001b[39;00m subj \u001b[38;5;129;01min\u001b[39;00m df[\u001b[38;5;124m\"\u001b[39m\u001b[38;5;124msubject_name\u001b[39m\u001b[38;5;124m\"\u001b[39m]\u001b[38;5;241m.\u001b[39munique():\n\u001b[0;32m    372\u001b[0m     subj_df \u001b[38;5;241m=\u001b[39m df[df[\u001b[38;5;124m\"\u001b[39m\u001b[38;5;124msubject_name\u001b[39m\u001b[38;5;124m\"\u001b[39m] \u001b[38;5;241m==\u001b[39m subj]\u001b[38;5;241m.\u001b[39mcopy()\n\u001b[0;32m    373\u001b[0m     subj_df[\u001b[38;5;124m\"\u001b[39m\u001b[38;5;124mtime_dummie\u001b[39m\u001b[38;5;124m\"\u001b[39m] \u001b[38;5;241m=\u001b[39m \u001b[38;5;28mrange\u001b[39m(\u001b[38;5;241m1\u001b[39m \u001b[38;5;241m+\u001b[39m start_index, subj_df\u001b[38;5;241m.\u001b[39mshape[\u001b[38;5;241m0\u001b[39m] \u001b[38;5;241m+\u001b[39m \u001b[38;5;241m1\u001b[39m \u001b[38;5;241m+\u001b[39m start_index)\n",
      "File \u001b[1;32m~\\anaconda3\\Lib\\site-packages\\pandas\\core\\frame.py:3807\u001b[0m, in \u001b[0;36mDataFrame.__getitem__\u001b[1;34m(self, key)\u001b[0m\n\u001b[0;32m   3805\u001b[0m \u001b[38;5;28;01mif\u001b[39;00m \u001b[38;5;28mself\u001b[39m\u001b[38;5;241m.\u001b[39mcolumns\u001b[38;5;241m.\u001b[39mnlevels \u001b[38;5;241m>\u001b[39m \u001b[38;5;241m1\u001b[39m:\n\u001b[0;32m   3806\u001b[0m     \u001b[38;5;28;01mreturn\u001b[39;00m \u001b[38;5;28mself\u001b[39m\u001b[38;5;241m.\u001b[39m_getitem_multilevel(key)\n\u001b[1;32m-> 3807\u001b[0m indexer \u001b[38;5;241m=\u001b[39m \u001b[38;5;28mself\u001b[39m\u001b[38;5;241m.\u001b[39mcolumns\u001b[38;5;241m.\u001b[39mget_loc(key)\n\u001b[0;32m   3808\u001b[0m \u001b[38;5;28;01mif\u001b[39;00m is_integer(indexer):\n\u001b[0;32m   3809\u001b[0m     indexer \u001b[38;5;241m=\u001b[39m [indexer]\n",
      "File \u001b[1;32m~\\anaconda3\\Lib\\site-packages\\pandas\\core\\indexes\\base.py:3804\u001b[0m, in \u001b[0;36mIndex.get_loc\u001b[1;34m(self, key, method, tolerance)\u001b[0m\n\u001b[0;32m   3802\u001b[0m     \u001b[38;5;28;01mreturn\u001b[39;00m \u001b[38;5;28mself\u001b[39m\u001b[38;5;241m.\u001b[39m_engine\u001b[38;5;241m.\u001b[39mget_loc(casted_key)\n\u001b[0;32m   3803\u001b[0m \u001b[38;5;28;01mexcept\u001b[39;00m \u001b[38;5;167;01mKeyError\u001b[39;00m \u001b[38;5;28;01mas\u001b[39;00m err:\n\u001b[1;32m-> 3804\u001b[0m     \u001b[38;5;28;01mraise\u001b[39;00m \u001b[38;5;167;01mKeyError\u001b[39;00m(key) \u001b[38;5;28;01mfrom\u001b[39;00m \u001b[38;5;21;01merr\u001b[39;00m\n\u001b[0;32m   3805\u001b[0m \u001b[38;5;28;01mexcept\u001b[39;00m \u001b[38;5;167;01mTypeError\u001b[39;00m:\n\u001b[0;32m   3806\u001b[0m     \u001b[38;5;66;03m# If we have a listlike key, _check_indexing_error will raise\u001b[39;00m\n\u001b[0;32m   3807\u001b[0m     \u001b[38;5;66;03m#  InvalidIndexError. Otherwise we fall through and re-raise\u001b[39;00m\n\u001b[0;32m   3808\u001b[0m     \u001b[38;5;66;03m#  the TypeError.\u001b[39;00m\n\u001b[0;32m   3809\u001b[0m     \u001b[38;5;28mself\u001b[39m\u001b[38;5;241m.\u001b[39m_check_indexing_error(key)\n",
      "\u001b[1;31mKeyError\u001b[0m: 'subject_name'"
     ]
    }
   ],
   "source": [
    "main_df[\"time_dummie\"] = create_time_dummie_feature(main_df.drop(columns=[\"subject_name\"])[uniq_subjs])"
   ]
  },
  {
   "cell_type": "code",
   "execution_count": null,
   "id": "a3bbabfe",
   "metadata": {},
   "outputs": [],
   "source": []
  },
  {
   "cell_type": "code",
   "execution_count": null,
   "id": "79b64b66",
   "metadata": {
    "ExecuteTime": {
     "end_time": "2024-08-18T13:49:15.435408Z",
     "start_time": "2024-08-18T13:49:15.435408Z"
    }
   },
   "outputs": [],
   "source": [
    "main_df.sort_index(axis=1, inplace=True)"
   ]
  },
  {
   "cell_type": "code",
   "execution_count": null,
   "id": "72c3a51b",
   "metadata": {},
   "outputs": [],
   "source": []
  },
  {
   "cell_type": "code",
   "execution_count": null,
   "id": "4679bb42",
   "metadata": {
    "ExecuteTime": {
     "end_time": "2024-08-18T13:49:15.436465Z",
     "start_time": "2024-08-18T13:49:15.436465Z"
    }
   },
   "outputs": [],
   "source": [
    "main_df.drop(columns=[\"subject_name\"], inplace=True)"
   ]
  },
  {
   "cell_type": "code",
   "execution_count": null,
   "id": "72f371b5",
   "metadata": {},
   "outputs": [],
   "source": []
  },
  {
   "cell_type": "code",
   "execution_count": null,
   "id": "468e33e6",
   "metadata": {},
   "outputs": [],
   "source": []
  },
  {
   "cell_type": "code",
   "execution_count": null,
   "id": "f50c47be",
   "metadata": {},
   "outputs": [],
   "source": []
  },
  {
   "cell_type": "code",
   "execution_count": 170,
   "id": "79522f97",
   "metadata": {
    "ExecuteTime": {
     "end_time": "2024-08-18T13:53:48.491950Z",
     "start_time": "2024-08-18T13:53:44.118998Z"
    }
   },
   "outputs": [],
   "source": [
    "main_df.sort_values(by=[\"year\", \"day_of_year\", \"hour\", \"subject_name\"], inplace=True)"
   ]
  },
  {
   "cell_type": "code",
   "execution_count": null,
   "id": "0b2c6709",
   "metadata": {},
   "outputs": [],
   "source": []
  },
  {
   "cell_type": "code",
   "execution_count": 172,
   "id": "2df6a848",
   "metadata": {
    "ExecuteTime": {
     "end_time": "2024-08-18T13:54:13.095131Z",
     "start_time": "2024-08-18T13:54:12.439968Z"
    }
   },
   "outputs": [],
   "source": [
    "main_df.sort_index(axis=1, inplace=True)"
   ]
  },
  {
   "cell_type": "code",
   "execution_count": null,
   "id": "0d9f8b16",
   "metadata": {},
   "outputs": [],
   "source": []
  },
  {
   "cell_type": "code",
   "execution_count": 176,
   "id": "d6e6bc41",
   "metadata": {
    "ExecuteTime": {
     "end_time": "2024-08-18T13:56:15.117095Z",
     "start_time": "2024-08-18T13:55:15.770674Z"
    }
   },
   "outputs": [],
   "source": [
    "main_df[\"subject_name\"] = decoding(main_df[uniq_subjs])"
   ]
  },
  {
   "cell_type": "code",
   "execution_count": null,
   "id": "7797e083",
   "metadata": {},
   "outputs": [],
   "source": []
  },
  {
   "cell_type": "code",
   "execution_count": 177,
   "id": "4428f8f8",
   "metadata": {
    "ExecuteTime": {
     "end_time": "2024-08-18T13:57:10.135414Z",
     "start_time": "2024-08-18T13:56:15.118113Z"
    }
   },
   "outputs": [],
   "source": [
    "main_df[\"time_dummie\"] = create_time_dummie_feature(main_df)"
   ]
  },
  {
   "cell_type": "code",
   "execution_count": null,
   "id": "92f882bf",
   "metadata": {},
   "outputs": [],
   "source": []
  },
  {
   "cell_type": "code",
   "execution_count": 179,
   "id": "d63ffe10",
   "metadata": {
    "ExecuteTime": {
     "end_time": "2024-08-18T13:57:46.264933Z",
     "start_time": "2024-08-18T13:57:45.737528Z"
    }
   },
   "outputs": [],
   "source": [
    "main_df.drop(columns=[\"subject_name\"], inplace=True)"
   ]
  },
  {
   "cell_type": "code",
   "execution_count": 180,
   "id": "e08d700b",
   "metadata": {
    "ExecuteTime": {
     "end_time": "2024-08-18T13:58:01.733860Z",
     "start_time": "2024-08-18T13:58:01.722245Z"
    }
   },
   "outputs": [],
   "source": [
    "main_df.reset_index(inplace=True, drop=True)"
   ]
  },
  {
   "cell_type": "code",
   "execution_count": null,
   "id": "d5c64e6a",
   "metadata": {},
   "outputs": [],
   "source": []
  },
  {
   "cell_type": "code",
   "execution_count": 187,
   "id": "58487cf8",
   "metadata": {
    "ExecuteTime": {
     "end_time": "2024-08-18T13:59:24.557504Z",
     "start_time": "2024-08-18T13:59:24.403565Z"
    }
   },
   "outputs": [],
   "source": [
    "model = open_model(\"../models/XGBoost\")"
   ]
  },
  {
   "cell_type": "code",
   "execution_count": null,
   "id": "1331562c",
   "metadata": {},
   "outputs": [],
   "source": []
  },
  {
   "cell_type": "code",
   "execution_count": 183,
   "id": "963f060f",
   "metadata": {
    "ExecuteTime": {
     "end_time": "2024-08-18T13:59:00.241529Z",
     "start_time": "2024-08-18T13:58:59.708374Z"
    }
   },
   "outputs": [],
   "source": [
    "x = main_df.drop(columns=[\"actual_consumption\"])"
   ]
  },
  {
   "cell_type": "code",
   "execution_count": 184,
   "id": "33694bac",
   "metadata": {
    "ExecuteTime": {
     "end_time": "2024-08-18T13:59:02.805697Z",
     "start_time": "2024-08-18T13:59:02.795821Z"
    }
   },
   "outputs": [],
   "source": [
    "y=main_df[\"actual_consumption\"]"
   ]
  },
  {
   "cell_type": "code",
   "execution_count": null,
   "id": "4751da1d",
   "metadata": {},
   "outputs": [],
   "source": []
  },
  {
   "cell_type": "code",
   "execution_count": 188,
   "id": "b0499128",
   "metadata": {
    "ExecuteTime": {
     "end_time": "2024-08-18T14:04:10.483501Z",
     "start_time": "2024-08-18T13:59:26.692034Z"
    }
   },
   "outputs": [
    {
     "data": {
      "text/html": [
       "<style>#sk-container-id-1 {color: black;}#sk-container-id-1 pre{padding: 0;}#sk-container-id-1 div.sk-toggleable {background-color: white;}#sk-container-id-1 label.sk-toggleable__label {cursor: pointer;display: block;width: 100%;margin-bottom: 0;padding: 0.3em;box-sizing: border-box;text-align: center;}#sk-container-id-1 label.sk-toggleable__label-arrow:before {content: \"▸\";float: left;margin-right: 0.25em;color: #696969;}#sk-container-id-1 label.sk-toggleable__label-arrow:hover:before {color: black;}#sk-container-id-1 div.sk-estimator:hover label.sk-toggleable__label-arrow:before {color: black;}#sk-container-id-1 div.sk-toggleable__content {max-height: 0;max-width: 0;overflow: hidden;text-align: left;background-color: #f0f8ff;}#sk-container-id-1 div.sk-toggleable__content pre {margin: 0.2em;color: black;border-radius: 0.25em;background-color: #f0f8ff;}#sk-container-id-1 input.sk-toggleable__control:checked~div.sk-toggleable__content {max-height: 200px;max-width: 100%;overflow: auto;}#sk-container-id-1 input.sk-toggleable__control:checked~label.sk-toggleable__label-arrow:before {content: \"▾\";}#sk-container-id-1 div.sk-estimator input.sk-toggleable__control:checked~label.sk-toggleable__label {background-color: #d4ebff;}#sk-container-id-1 div.sk-label input.sk-toggleable__control:checked~label.sk-toggleable__label {background-color: #d4ebff;}#sk-container-id-1 input.sk-hidden--visually {border: 0;clip: rect(1px 1px 1px 1px);clip: rect(1px, 1px, 1px, 1px);height: 1px;margin: -1px;overflow: hidden;padding: 0;position: absolute;width: 1px;}#sk-container-id-1 div.sk-estimator {font-family: monospace;background-color: #f0f8ff;border: 1px dotted black;border-radius: 0.25em;box-sizing: border-box;margin-bottom: 0.5em;}#sk-container-id-1 div.sk-estimator:hover {background-color: #d4ebff;}#sk-container-id-1 div.sk-parallel-item::after {content: \"\";width: 100%;border-bottom: 1px solid gray;flex-grow: 1;}#sk-container-id-1 div.sk-label:hover label.sk-toggleable__label {background-color: #d4ebff;}#sk-container-id-1 div.sk-serial::before {content: \"\";position: absolute;border-left: 1px solid gray;box-sizing: border-box;top: 0;bottom: 0;left: 50%;z-index: 0;}#sk-container-id-1 div.sk-serial {display: flex;flex-direction: column;align-items: center;background-color: white;padding-right: 0.2em;padding-left: 0.2em;position: relative;}#sk-container-id-1 div.sk-item {position: relative;z-index: 1;}#sk-container-id-1 div.sk-parallel {display: flex;align-items: stretch;justify-content: center;background-color: white;position: relative;}#sk-container-id-1 div.sk-item::before, #sk-container-id-1 div.sk-parallel-item::before {content: \"\";position: absolute;border-left: 1px solid gray;box-sizing: border-box;top: 0;bottom: 0;left: 50%;z-index: -1;}#sk-container-id-1 div.sk-parallel-item {display: flex;flex-direction: column;z-index: 1;position: relative;background-color: white;}#sk-container-id-1 div.sk-parallel-item:first-child::after {align-self: flex-end;width: 50%;}#sk-container-id-1 div.sk-parallel-item:last-child::after {align-self: flex-start;width: 50%;}#sk-container-id-1 div.sk-parallel-item:only-child::after {width: 0;}#sk-container-id-1 div.sk-dashed-wrapped {border: 1px dashed gray;margin: 0 0.4em 0.5em 0.4em;box-sizing: border-box;padding-bottom: 0.4em;background-color: white;}#sk-container-id-1 div.sk-label label {font-family: monospace;font-weight: bold;display: inline-block;line-height: 1.2em;}#sk-container-id-1 div.sk-label-container {text-align: center;}#sk-container-id-1 div.sk-container {/* jupyter's `normalize.less` sets `[hidden] { display: none; }` but bootstrap.min.css set `[hidden] { display: none !important; }` so we also need the `!important` here to be able to override the default hidden behavior on the sphinx rendered scikit-learn.org. See: https://github.com/scikit-learn/scikit-learn/issues/21755 */display: inline-block !important;position: relative;}#sk-container-id-1 div.sk-text-repr-fallback {display: none;}</style><div id=\"sk-container-id-1\" class=\"sk-top-container\"><div class=\"sk-text-repr-fallback\"><pre>XGBRegressor(base_score=None, booster=None, callbacks=None,\n",
       "             colsample_bylevel=None, colsample_bynode=None,\n",
       "             colsample_bytree=None, device=None, early_stopping_rounds=None,\n",
       "             enable_categorical=False, eval_metric=None, feature_types=None,\n",
       "             gamma=None, grow_policy=None, importance_type=None,\n",
       "             interaction_constraints=None, learning_rate=0.075, max_bin=None,\n",
       "             max_cat_threshold=None, max_cat_to_onehot=None,\n",
       "             max_delta_step=None, max_depth=None, max_leaves=None,\n",
       "             min_child_weight=None, missing=nan, monotone_constraints=None,\n",
       "             multi_strategy=None, n_estimators=500, n_jobs=None,\n",
       "             num_parallel_tree=None, random_state=None, ...)</pre><b>In a Jupyter environment, please rerun this cell to show the HTML representation or trust the notebook. <br />On GitHub, the HTML representation is unable to render, please try loading this page with nbviewer.org.</b></div><div class=\"sk-container\" hidden><div class=\"sk-item\"><div class=\"sk-estimator sk-toggleable\"><input class=\"sk-toggleable__control sk-hidden--visually\" id=\"sk-estimator-id-1\" type=\"checkbox\" checked><label for=\"sk-estimator-id-1\" class=\"sk-toggleable__label sk-toggleable__label-arrow\">XGBRegressor</label><div class=\"sk-toggleable__content\"><pre>XGBRegressor(base_score=None, booster=None, callbacks=None,\n",
       "             colsample_bylevel=None, colsample_bynode=None,\n",
       "             colsample_bytree=None, device=None, early_stopping_rounds=None,\n",
       "             enable_categorical=False, eval_metric=None, feature_types=None,\n",
       "             gamma=None, grow_policy=None, importance_type=None,\n",
       "             interaction_constraints=None, learning_rate=0.075, max_bin=None,\n",
       "             max_cat_threshold=None, max_cat_to_onehot=None,\n",
       "             max_delta_step=None, max_depth=None, max_leaves=None,\n",
       "             min_child_weight=None, missing=nan, monotone_constraints=None,\n",
       "             multi_strategy=None, n_estimators=500, n_jobs=None,\n",
       "             num_parallel_tree=None, random_state=None, ...)</pre></div></div></div></div></div>"
      ],
      "text/plain": [
       "XGBRegressor(base_score=None, booster=None, callbacks=None,\n",
       "             colsample_bylevel=None, colsample_bynode=None,\n",
       "             colsample_bytree=None, device=None, early_stopping_rounds=None,\n",
       "             enable_categorical=False, eval_metric=None, feature_types=None,\n",
       "             gamma=None, grow_policy=None, importance_type=None,\n",
       "             interaction_constraints=None, learning_rate=0.075, max_bin=None,\n",
       "             max_cat_threshold=None, max_cat_to_onehot=None,\n",
       "             max_delta_step=None, max_depth=None, max_leaves=None,\n",
       "             min_child_weight=None, missing=nan, monotone_constraints=None,\n",
       "             multi_strategy=None, n_estimators=500, n_jobs=None,\n",
       "             num_parallel_tree=None, random_state=None, ...)"
      ]
     },
     "execution_count": 188,
     "metadata": {},
     "output_type": "execute_result"
    }
   ],
   "source": [
    "model.fit(x, y)"
   ]
  },
  {
   "cell_type": "code",
   "execution_count": null,
   "id": "fa532b42",
   "metadata": {},
   "outputs": [],
   "source": []
  },
  {
   "cell_type": "code",
   "execution_count": 189,
   "id": "5e4eebdf",
   "metadata": {
    "ExecuteTime": {
     "end_time": "2024-08-18T14:04:10.519255Z",
     "start_time": "2024-08-18T14:04:10.487601Z"
    }
   },
   "outputs": [],
   "source": [
    "save_model(model, \"XGBoost\", \"../models/\")"
   ]
  },
  {
   "cell_type": "code",
   "execution_count": null,
   "id": "fb32a59b",
   "metadata": {},
   "outputs": [],
   "source": []
  },
  {
   "cell_type": "code",
   "execution_count": null,
   "id": "da9e71bc",
   "metadata": {},
   "outputs": [],
   "source": []
  },
  {
   "cell_type": "code",
   "execution_count": null,
   "id": "c4b308d4",
   "metadata": {},
   "outputs": [],
   "source": []
  },
  {
   "cell_type": "code",
   "execution_count": null,
   "id": "48883eb1",
   "metadata": {},
   "outputs": [],
   "source": []
  },
  {
   "cell_type": "code",
   "execution_count": null,
   "id": "d3088ae2",
   "metadata": {},
   "outputs": [],
   "source": []
  },
  {
   "cell_type": "code",
   "execution_count": null,
   "id": "d4743ac4",
   "metadata": {},
   "outputs": [],
   "source": []
  },
  {
   "cell_type": "code",
   "execution_count": null,
   "id": "b01dbb17",
   "metadata": {},
   "outputs": [],
   "source": []
  },
  {
   "cell_type": "code",
   "execution_count": null,
   "id": "5b3cf227",
   "metadata": {},
   "outputs": [],
   "source": []
  },
  {
   "cell_type": "code",
   "execution_count": null,
   "id": "e4b0b507",
   "metadata": {},
   "outputs": [],
   "source": []
  },
  {
   "cell_type": "code",
   "execution_count": null,
   "id": "feab940a",
   "metadata": {},
   "outputs": [],
   "source": []
  },
  {
   "cell_type": "code",
   "execution_count": null,
   "id": "11e8584e",
   "metadata": {},
   "outputs": [],
   "source": []
  },
  {
   "cell_type": "code",
   "execution_count": null,
   "id": "ea175caf",
   "metadata": {},
   "outputs": [],
   "source": []
  }
 ],
 "metadata": {
  "kernelspec": {
   "display_name": "Python 3 (ipykernel)",
   "language": "python",
   "name": "python3"
  },
  "language_info": {
   "codemirror_mode": {
    "name": "ipython",
    "version": 3
   },
   "file_extension": ".py",
   "mimetype": "text/x-python",
   "name": "python",
   "nbconvert_exporter": "python",
   "pygments_lexer": "ipython3",
   "version": "3.11.5"
  },
  "toc": {
   "base_numbering": 1,
   "nav_menu": {},
   "number_sections": true,
   "sideBar": true,
   "skip_h1_title": false,
   "title_cell": "Table of Contents",
   "title_sidebar": "Contents",
   "toc_cell": false,
   "toc_position": {},
   "toc_section_display": true,
   "toc_window_display": false
  }
 },
 "nbformat": 4,
 "nbformat_minor": 5
}

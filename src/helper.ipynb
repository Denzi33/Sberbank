{
 "cells": [
  {
   "cell_type": "markdown",
   "id": "b7a7b5fe",
   "metadata": {},
   "source": [
    "# Файл с промежуточными вычислениями"
   ]
  },
  {
   "cell_type": "markdown",
   "id": "bb2cd108",
   "metadata": {},
   "source": [
    "**_______________________________________________________________________________________________________________________________**"
   ]
  },
  {
   "cell_type": "markdown",
   "id": "765789d0",
   "metadata": {},
   "source": [
    "**Загрузим всё необходимое: зависимости, сущности и модули:**"
   ]
  },
  {
   "cell_type": "code",
   "execution_count": 1,
   "id": "11c65d69",
   "metadata": {
    "ExecuteTime": {
     "end_time": "2024-08-02T11:06:30.818969Z",
     "start_time": "2024-08-02T11:06:27.788848Z"
    }
   },
   "outputs": [],
   "source": [
    "%run preset.py"
   ]
  },
  {
   "cell_type": "markdown",
   "id": "7458cadd",
   "metadata": {},
   "source": [
    "**Преобразуем `.csv` файлы в `.gzip` для облегчения:**"
   ]
  },
  {
   "cell_type": "code",
   "execution_count": 2,
   "id": "52df6cfd",
   "metadata": {
    "ExecuteTime": {
     "end_time": "2024-08-02T11:09:33.176901Z",
     "start_time": "2024-08-02T11:06:30.821732Z"
    }
   },
   "outputs": [],
   "source": [
    "[pd.read_csv(data_url + f\"{year}.csv\").to_parquet(data_url + f\"{year}.gzip\") for year in range(2011, 2025)];"
   ]
  },
  {
   "cell_type": "markdown",
   "id": "bba04ed7",
   "metadata": {
    "ExecuteTime": {
     "start_time": "2024-08-02T11:05:34.356Z"
    }
   },
   "source": [
    " "
   ]
  }
 ],
 "metadata": {
  "kernelspec": {
   "display_name": "Python 3 (ipykernel)",
   "language": "python",
   "name": "python3"
  },
  "language_info": {
   "codemirror_mode": {
    "name": "ipython",
    "version": 3
   },
   "file_extension": ".py",
   "mimetype": "text/x-python",
   "name": "python",
   "nbconvert_exporter": "python",
   "pygments_lexer": "ipython3",
   "version": "3.11.5"
  },
  "toc": {
   "base_numbering": 1,
   "nav_menu": {},
   "number_sections": true,
   "sideBar": true,
   "skip_h1_title": false,
   "title_cell": "Table of Contents",
   "title_sidebar": "Contents",
   "toc_cell": false,
   "toc_position": {},
   "toc_section_display": true,
   "toc_window_display": false
  }
 },
 "nbformat": 4,
 "nbformat_minor": 5
}
